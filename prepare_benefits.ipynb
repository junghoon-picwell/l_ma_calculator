{
 "cells": [
  {
   "cell_type": "code",
   "execution_count": 1,
   "metadata": {
    "collapsed": true
   },
   "outputs": [],
   "source": [
    "%load_ext autotime"
   ]
  },
  {
   "cell_type": "code",
   "execution_count": 2,
   "metadata": {
    "collapsed": false
   },
   "outputs": [
    {
     "name": "stdout",
     "output_type": "stream",
     "text": [
      "time: 557 ms\n"
     ]
    }
   ],
   "source": [
    "import json\n",
    "import os\n",
    "\n",
    "from etltools import s3"
   ]
  },
  {
   "cell_type": "code",
   "execution_count": 3,
   "metadata": {
    "collapsed": false
   },
   "outputs": [
    {
     "name": "stdout",
     "output_type": "stream",
     "text": [
      "time: 1.18 ms\n"
     ]
    }
   ],
   "source": [
    "benefit_file = 's3://picwell.sandbox.medicare/ma_benefits/cms_2018_pbps_20171005.json'\n",
    "# benefit_dir = 's3://picwell.sandbox.analytics/junghoon/lambda_calculator_benefits'\n",
    "benefit_dir = '/Users/junghoonlee/code/TEMP/EMP/lambda_calculator_benefits'"
   ]
  },
  {
   "cell_type": "code",
   "execution_count": 4,
   "metadata": {
    "collapsed": false
   },
   "outputs": [
    {
     "name": "stdout",
     "output_type": "stream",
     "text": [
      "3558 plans read\n",
      "time: 3.11 s\n"
     ]
    }
   ],
   "source": [
    "plans = s3.read_json(benefit_file)\n",
    "\n",
    "print '{} plans read'.format(len(plans))"
   ]
  },
  {
   "cell_type": "code",
   "execution_count": 5,
   "metadata": {
    "collapsed": false
   },
   "outputs": [
    {
     "name": "stdout",
     "output_type": "stream",
     "text": [
      "51 states identified\n",
      "time: 10 ms\n"
     ]
    }
   ],
   "source": [
    "# Identify all the FIPS codes used:\n",
    "states = set(str(plan['picwell_id'])[-2:] for plan in plans)\n",
    "\n",
    "print '{} states identified'.format(len(states))\n",
    "# states"
   ]
  },
  {
   "cell_type": "code",
   "execution_count": 6,
   "metadata": {
    "collapsed": false
   },
   "outputs": [
    {
     "name": "stdout",
     "output_type": "stream",
     "text": [
      "total 3558 plans\n",
      "time: 156 ms\n"
     ]
    }
   ],
   "source": [
    "# Break up the plans by state and save:\n",
    "plans_by_state = {}\n",
    "for state in states:\n",
    "    filtered_plans = filter(lambda plan: str(plan['picwell_id'])[-2:] == state, plans)\n",
    "    plans_by_state[state] = filtered_plans\n",
    "    \n",
    "print 'total {} plans'.format(sum(len(v) for v in plans_by_state.itervalues()))"
   ]
  },
  {
   "cell_type": "code",
   "execution_count": 7,
   "metadata": {
    "collapsed": false
   },
   "outputs": [
    {
     "name": "stdout",
     "output_type": "stream",
     "text": [
      "09: 30 plans\n",
      "28: 27 plans\n",
      "36: 222 plans\n",
      "49: 23 plans\n",
      "32: 36 plans\n",
      "53: 108 plans\n",
      "24: 40 plans\n",
      "25: 99 plans\n",
      "26: 127 plans\n",
      "01: 47 plans\n",
      "06: 268 plans\n",
      "21: 56 plans\n",
      "22: 54 plans\n",
      "23: 47 plans\n",
      "46: 21 plans\n",
      "47: 59 plans\n",
      "44: 17 plans\n",
      "45: 55 plans\n",
      "42: 220 plans\n",
      "29: 68 plans\n",
      "40: 35 plans\n",
      "41: 90 plans\n",
      "18: 80 plans\n",
      "51: 105 plans\n",
      "56: 3 plans\n",
      "33: 24 plans\n",
      "13: 71 plans\n",
      "27: 64 plans\n",
      "72: 46 plans\n",
      "30: 14 plans\n",
      "20: 46 plans\n",
      "11: 25 plans\n",
      "10: 15 plans\n",
      "39: 139 plans\n",
      "38: 17 plans\n",
      "15: 20 plans\n",
      "04: 75 plans\n",
      "17: 91 plans\n",
      "16: 43 plans\n",
      "55: 101 plans\n",
      "54: 31 plans\n",
      "31: 19 plans\n",
      "05: 54 plans\n",
      "37: 68 plans\n",
      "50: 8 plans\n",
      "35: 30 plans\n",
      "34: 46 plans\n",
      "19: 35 plans\n",
      "48: 188 plans\n",
      "12: 295 plans\n",
      "08: 56 plans\n",
      "time: 1.56 ms\n"
     ]
    }
   ],
   "source": [
    "for state, filtered_plans in plans_by_state.iteritems():\n",
    "    print '{}: {} plans'.format(state, len(filtered_plans))"
   ]
  },
  {
   "cell_type": "code",
   "execution_count": 8,
   "metadata": {
    "collapsed": false
   },
   "outputs": [
    {
     "name": "stdout",
     "output_type": "stream",
     "text": [
      "time: 3.69 s\n"
     ]
    }
   ],
   "source": [
    "# Write to s3:\n",
    "for state, filtered_plans in plans_by_state.iteritems():\n",
    "    file_name = os.path.join(benefit_dir, '{}.json'.format(state))\n",
    "    s3.write_json(filtered_plans, file_name)"
   ]
  },
  {
   "cell_type": "code",
   "execution_count": null,
   "metadata": {
    "collapsed": true
   },
   "outputs": [],
   "source": []
  }
 ],
 "metadata": {
  "kernelspec": {
   "display_name": "Python 2",
   "language": "python",
   "name": "python2"
  },
  "language_info": {
   "codemirror_mode": {
    "name": "ipython",
    "version": 2
   },
   "file_extension": ".py",
   "mimetype": "text/x-python",
   "name": "python",
   "nbconvert_exporter": "python",
   "pygments_lexer": "ipython2",
   "version": "2.7.10"
  }
 },
 "nbformat": 4,
 "nbformat_minor": 0
}
