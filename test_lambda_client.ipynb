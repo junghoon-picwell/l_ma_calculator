{
 "cells": [
  {
   "cell_type": "code",
   "execution_count": 1,
   "metadata": {
    "collapsed": false
   },
   "outputs": [],
   "source": [
    "%load_ext autotime"
   ]
  },
  {
   "cell_type": "code",
   "execution_count": 2,
   "metadata": {
    "collapsed": false
   },
   "outputs": [
    {
     "data": {
      "text/plain": [
       "<module 'logging' from '/Library/Frameworks/Python.framework/Versions/2.7/lib/python2.7/logging/__init__.pyc'>"
      ]
     },
     "execution_count": 2,
     "metadata": {},
     "output_type": "execute_result"
    },
    {
     "name": "stdout",
     "output_type": "stream",
     "text": [
      "time: 1 s\n"
     ]
    }
   ],
   "source": [
    "import boto3\n",
    "import datetime\n",
    "import logging\n",
    "import json\n",
    "import pickle\n",
    "import pytest\n",
    "import sys\n",
    "import time\n",
    "\n",
    "from etltools import s3\n",
    "\n",
    "from lambda_client import (\n",
    "    ClaimsClient,\n",
    "    BenefitsClient,\n",
    "    CalculatorClient,\n",
    ")\n",
    "\n",
    "reload(logging)  # get around notebook problem"
   ]
  },
  {
   "cell_type": "code",
   "execution_count": 3,
   "metadata": {
    "collapsed": false
   },
   "outputs": [
    {
     "name": "stdout",
     "output_type": "stream",
     "text": [
      "time: 1.55 ms\n"
     ]
    }
   ],
   "source": [
    "logging.basicConfig(\n",
    "    level=logging.INFO, \n",
    "    format='[%(asctime)s] {%(filename)s:%(lineno)d} %(levelname)s - %(message)s',\n",
    "#     handlers=[\n",
    "#         logging.FileHandler(filename='mylog.log', mode='w'),\n",
    "#         logging.StreamHandler(sys.stdout),\n",
    "#     ]\n",
    ")"
   ]
  },
  {
   "cell_type": "code",
   "execution_count": 4,
   "metadata": {
    "collapsed": false
   },
   "outputs": [
    {
     "name": "stderr",
     "output_type": "stream",
     "text": [
      "[2018-01-18 11:33:50,039] {<ipython-input-4-efd2929c73d3>:3} INFO - TEST INFO\n"
     ]
    },
    {
     "name": "stdout",
     "output_type": "stream",
     "text": [
      "time: 1.48 ms\n"
     ]
    }
   ],
   "source": [
    "# Test whether logging works:\n",
    "logger = logging.getLogger()\n",
    "logger.info('TEST INFO')"
   ]
  },
  {
   "cell_type": "code",
   "execution_count": 5,
   "metadata": {
    "collapsed": false
   },
   "outputs": [
    {
     "name": "stdout",
     "output_type": "stream",
     "text": [
      "time: 291 ms\n"
     ]
    }
   ],
   "source": [
    "aws_info = {\n",
    "    'profile_name': 'sandbox',\n",
    "}\n",
    "\n",
    "uids = s3.read_json('s3://picwell.sandbox.medicare/samples/philadelphia-2015-1k-sample')\n",
    "pids = ['2820028008119', '2820088001036']"
   ]
  },
  {
   "cell_type": "markdown",
   "metadata": {},
   "source": [
    "# Test ConfigInfo"
   ]
  },
  {
   "cell_type": "code",
   "execution_count": 6,
   "metadata": {
    "collapsed": false
   },
   "outputs": [
    {
     "name": "stdout",
     "output_type": "stream",
     "text": [
      "picwell.sandbox.analytics\n",
      "junghoon/lambda_calculator\n",
      "\n",
      "picwell.sandbox.analytics\n",
      "junghoon/lambda_calculator_benefits\n",
      "\n",
      "ma_claims\n",
      "time: 4.48 ms\n"
     ]
    }
   ],
   "source": [
    "from lambda_client.config_info import ConfigInfo\n",
    "\n",
    "configs = ConfigInfo('lambda_client/lambda.cfg')\n",
    "\n",
    "print configs.claims_bucket\n",
    "print configs.claims_path\n",
    "print\n",
    "print configs.benefits_bucket\n",
    "print configs.benefits_path\n",
    "print\n",
    "print configs.claims_table"
   ]
  },
  {
   "cell_type": "code",
   "execution_count": 7,
   "metadata": {
    "collapsed": false
   },
   "outputs": [
    {
     "name": "stdout",
     "output_type": "stream",
     "text": [
      "51 states\n",
      "['01', '04', '05', '06', '08', '09', '10', '11', '12', '13', '15', '16', '17', '18', '19', '20', '21', '22', '23', '24', '25', '26', '27', '28', '29', '30', '31', '32', '33', '34', '35', '36', '37', '38', '39', '40', '41', '42', '44', '45', '46', '47', '48', '49', '50', '51', '53', '54', '55', '56', '72']\n",
      "time: 4.36 ms\n"
     ]
    }
   ],
   "source": [
    "all_states = configs.all_states\n",
    "\n",
    "print '{} states'.format(len(all_states))\n",
    "print all_states"
   ]
  },
  {
   "cell_type": "markdown",
   "metadata": {},
   "source": [
    "# Test ClaimsClient"
   ]
  },
  {
   "cell_type": "code",
   "execution_count": 8,
   "metadata": {
    "collapsed": false
   },
   "outputs": [
    {
     "name": "stdout",
     "output_type": "stream",
     "text": [
      "claims of 1 people retrieved\n",
      "time: 216 ms\n"
     ]
    }
   ],
   "source": [
    "# Test S3:\n",
    "client = ClaimsClient(aws_info, \n",
    "                      s3_bucket=configs.claims_bucket,\n",
    "                      s3_path=configs.claims_path)\n",
    "\n",
    "people = client.get(uids[:1])\n",
    "print 'claims of {} people retrieved'.format(len(people))"
   ]
  },
  {
   "cell_type": "code",
   "execution_count": 9,
   "metadata": {
    "collapsed": false
   },
   "outputs": [
    {
     "name": "stdout",
     "output_type": "stream",
     "text": [
      "['medical_claims', 'uid']\n"
     ]
    },
    {
     "data": {
      "text/plain": [
       "{'medical_claims': [{'admitted': '2014-04-03',\n",
       "   'benefit_category': 16,\n",
       "   'cost': 148.0,\n",
       "   'discharged': '2014-04-03',\n",
       "   'length_of_stay': 1},\n",
       "  {'admitted': '2014-05-02',\n",
       "   'benefit_category': 16,\n",
       "   'cost': 74.55,\n",
       "   'discharged': '2014-05-02',\n",
       "   'length_of_stay': 1},\n",
       "  {'admitted': '2014-05-05',\n",
       "   'benefit_category': 16,\n",
       "   'cost': 104.39,\n",
       "   'discharged': '2014-05-05',\n",
       "   'length_of_stay': 1},\n",
       "  {'admitted': '2014-05-13',\n",
       "   'benefit_category': 16,\n",
       "   'cost': 210.12,\n",
       "   'discharged': '2014-05-13',\n",
       "   'length_of_stay': 1},\n",
       "  {'admitted': '2014-05-19',\n",
       "   'benefit_category': 11,\n",
       "   'cost': 442.2,\n",
       "   'discharged': '2014-05-19',\n",
       "   'length_of_stay': 1}],\n",
       " 'uid': '1302895801'}"
      ]
     },
     "execution_count": 9,
     "metadata": {},
     "output_type": "execute_result"
    },
    {
     "name": "stdout",
     "output_type": "stream",
     "text": [
      "time: 4.85 ms\n"
     ]
    }
   ],
   "source": [
    "person = people[0]\n",
    "print person.keys()\n",
    "{\n",
    "    'uid': person['uid'],\n",
    "    'medical_claims': person['medical_claims'][:5]\n",
    "}"
   ]
  },
  {
   "cell_type": "code",
   "execution_count": 10,
   "metadata": {
    "collapsed": false
   },
   "outputs": [
    {
     "name": "stdout",
     "output_type": "stream",
     "text": [
      "claims of 1000 people retrieved\n",
      "time: 2min 28s\n"
     ]
    }
   ],
   "source": [
    "# Let's try something larger:\n",
    "people = client.get(uids)\n",
    "print 'claims of {} people retrieved'.format(len(people))"
   ]
  },
  {
   "cell_type": "code",
   "execution_count": 11,
   "metadata": {
    "collapsed": false
   },
   "outputs": [
    {
     "name": "stdout",
     "output_type": "stream",
     "text": [
      "claims of 1 people retrieved\n",
      "time: 184 ms\n"
     ]
    }
   ],
   "source": [
    "# Test DynamoDB:\n",
    "client = ClaimsClient(aws_info,\n",
    "                      table_name=configs.claims_table)\n",
    "\n",
    "people = client.get(uids[:1])\n",
    "print 'claims of {} people retrieved'.format(len(people))"
   ]
  },
  {
   "cell_type": "code",
   "execution_count": 12,
   "metadata": {
    "collapsed": false
   },
   "outputs": [
    {
     "name": "stdout",
     "output_type": "stream",
     "text": [
      "['medical_claims', 'uid']\n"
     ]
    },
    {
     "data": {
      "text/plain": [
       "{'medical_claims': [{'admitted': '2014-04-03',\n",
       "   'benefit_category': 16,\n",
       "   'cost': 148.0,\n",
       "   'discharged': '2014-04-03',\n",
       "   'length_of_stay': 1},\n",
       "  {'admitted': '2014-05-02',\n",
       "   'benefit_category': 16,\n",
       "   'cost': 74.55,\n",
       "   'discharged': '2014-05-02',\n",
       "   'length_of_stay': 1},\n",
       "  {'admitted': '2014-05-05',\n",
       "   'benefit_category': 16,\n",
       "   'cost': 104.39,\n",
       "   'discharged': '2014-05-05',\n",
       "   'length_of_stay': 1},\n",
       "  {'admitted': '2014-05-13',\n",
       "   'benefit_category': 16,\n",
       "   'cost': 210.12,\n",
       "   'discharged': '2014-05-13',\n",
       "   'length_of_stay': 1},\n",
       "  {'admitted': '2014-05-19',\n",
       "   'benefit_category': 11,\n",
       "   'cost': 442.2,\n",
       "   'discharged': '2014-05-19',\n",
       "   'length_of_stay': 1}],\n",
       " 'uid': '1302895801'}"
      ]
     },
     "execution_count": 12,
     "metadata": {},
     "output_type": "execute_result"
    },
    {
     "name": "stdout",
     "output_type": "stream",
     "text": [
      "time: 4.94 ms\n"
     ]
    }
   ],
   "source": [
    "person = people[0]\n",
    "print person.keys()\n",
    "{\n",
    "    'uid': person['uid'],\n",
    "    'medical_claims': person['medical_claims'][:5]\n",
    "}"
   ]
  },
  {
   "cell_type": "code",
   "execution_count": 13,
   "metadata": {
    "collapsed": false
   },
   "outputs": [
    {
     "name": "stdout",
     "output_type": "stream",
     "text": [
      "claims of 1000 people retrieved\n",
      "time: 9.06 s\n"
     ]
    }
   ],
   "source": [
    "# Let's try something larger:\n",
    "people = client.get(uids)\n",
    "print 'claims of {} people retrieved'.format(len(people))"
   ]
  },
  {
   "cell_type": "code",
   "execution_count": 14,
   "metadata": {
    "collapsed": false
   },
   "outputs": [
    {
     "name": "stdout",
     "output_type": "stream",
     "text": [
      "claims of 5 people retrieved\n",
      "time: 755 ms\n"
     ]
    }
   ],
   "source": [
    "# Test configuration file and retrieving multiple people:\n",
    "client = ClaimsClient(aws_info)\n",
    "\n",
    "people = client.get(uids[:5])\n",
    "print 'claims of {} people retrieved'.format(len(people))"
   ]
  },
  {
   "cell_type": "code",
   "execution_count": 15,
   "metadata": {
    "collapsed": false
   },
   "outputs": [
    {
     "name": "stdout",
     "output_type": "stream",
     "text": [
      "time: 1.41 ms\n"
     ]
    }
   ],
   "source": [
    "# The object should not be pickled.\n",
    "with pytest.raises(Exception, match='ClaimsClient object cannot be pickled.'):\n",
    "    pickle.dumps(client)"
   ]
  },
  {
   "cell_type": "markdown",
   "metadata": {},
   "source": [
    "# Test BenefitsClient"
   ]
  },
  {
   "cell_type": "code",
   "execution_count": 16,
   "metadata": {
    "collapsed": false
   },
   "outputs": [
    {
     "name": "stdout",
     "output_type": "stream",
     "text": [
      "['01', '04', '05', '06', '08', '09', '10', '11', '12', '13', '15', '16', '17', '18', '19', '20', '21', '22', '23', '24', '25', '26', '27', '28', '29', '30', '31', '32', '33', '34', '35', '36', '37', '38', '39', '40', '41', '42', '44', '45', '46', '47', '48', '49', '50', '51', '53', '54', '55', '56', '72']\n",
      "time: 1.62 ms\n"
     ]
    }
   ],
   "source": [
    "client = BenefitsClient(aws_info)\n",
    "\n",
    "print client.all_states"
   ]
  },
  {
   "cell_type": "code",
   "execution_count": 17,
   "metadata": {
    "collapsed": false
   },
   "outputs": [
    {
     "name": "stdout",
     "output_type": "stream",
     "text": [
      "47 plans read for state 01\n",
      "75 plans read for state 04\n",
      "time: 654 ms\n"
     ]
    }
   ],
   "source": [
    "plans = client._get_one_state('01')\n",
    "print '{} plans read for state 01'.format(len(plans))\n",
    "\n",
    "plans = client._get_one_state('04')\n",
    "print '{} plans read for state 04'.format(len(plans))"
   ]
  },
  {
   "cell_type": "code",
   "execution_count": 18,
   "metadata": {
    "collapsed": false
   },
   "outputs": [
    {
     "name": "stdout",
     "output_type": "stream",
     "text": [
      "122 plans read\n",
      "time: 354 ms\n"
     ]
    }
   ],
   "source": [
    "plans = client.get_by_state(['01', '04'])\n",
    "print '{} plans read'.format(len(plans))"
   ]
  },
  {
   "cell_type": "code",
   "execution_count": 19,
   "metadata": {
    "collapsed": false
   },
   "outputs": [
    {
     "name": "stdout",
     "output_type": "stream",
     "text": [
      "3558 plans read\n",
      "time: 9.16 s\n"
     ]
    }
   ],
   "source": [
    "plans = client.get_all()\n",
    "print '{} plans read'.format(len(plans))"
   ]
  },
  {
   "cell_type": "code",
   "execution_count": 20,
   "metadata": {
    "collapsed": false
   },
   "outputs": [
    {
     "name": "stdout",
     "output_type": "stream",
     "text": [
      "time: 58.2 ms\n"
     ]
    }
   ],
   "source": [
    "# Compare the timing against reading the entire file:\n",
    "from lambda_client.shared_utils import _read_json\n",
    "\n",
    "session = boto3.Session(**aws_info)\n",
    "resource = session.resource('s3')"
   ]
  },
  {
   "cell_type": "code",
   "execution_count": 21,
   "metadata": {
    "collapsed": false
   },
   "outputs": [
    {
     "name": "stdout",
     "output_type": "stream",
     "text": [
      "3558 plans read\n",
      "time: 3.21 s\n"
     ]
    }
   ],
   "source": [
    "all_plans = _read_json('picwell.sandbox.medicare', 'ma_benefits/cms_2018_pbps_20171005.json', resource)\n",
    "\n",
    "print '{} plans read'.format(len(plans))"
   ]
  },
  {
   "cell_type": "code",
   "execution_count": 22,
   "metadata": {
    "collapsed": false
   },
   "outputs": [
    {
     "name": "stdout",
     "output_type": "stream",
     "text": [
      "time: 143 ms\n"
     ]
    }
   ],
   "source": [
    "# Ensure that the same plans are read:\n",
    "sort_key = lambda plan: plan['picwell_id']\n",
    "assert sorted(all_plans, key=sort_key) == sorted(plans, key=sort_key)"
   ]
  },
  {
   "cell_type": "code",
   "execution_count": 23,
   "metadata": {
    "collapsed": false
   },
   "outputs": [
    {
     "name": "stdout",
     "output_type": "stream",
     "text": [
      "time: 1.46 ms\n"
     ]
    }
   ],
   "source": [
    "# The object should not be pickled.\n",
    "with pytest.raises(Exception, match='BenefitsClient object cannot be pickled.'):\n",
    "    pickle.dumps(client)"
   ]
  },
  {
   "cell_type": "markdown",
   "metadata": {},
   "source": [
    "# Test Cost Breakdown"
   ]
  },
  {
   "cell_type": "code",
   "execution_count": 24,
   "metadata": {
    "collapsed": false
   },
   "outputs": [
    {
     "name": "stdout",
     "output_type": "stream",
     "text": [
      "time: 585 µs\n"
     ]
    }
   ],
   "source": [
    "client = CalculatorClient(aws_info)"
   ]
  },
  {
   "cell_type": "code",
   "execution_count": 25,
   "metadata": {
    "collapsed": false
   },
   "outputs": [
    {
     "name": "stdout",
     "output_type": "stream",
     "text": [
      "START RequestId: c3f24a24-fc6d-11e7-9492-17a3b961c02e Version: $LATEST\n",
      "[INFO]\t2018-01-18T16:36:43.37Z\tc3f24a24-fc6d-11e7-9492-17a3b961c02e\tClock started at 2018-01-18 16:36:43.036975.\n",
      "[INFO]\t2018-01-18T16:36:43.40Z\tc3f24a24-fc6d-11e7-9492-17a3b961c02e\tThread initialization took 0.002904 seconds.\n",
      "[INFO]\t2018-01-18T16:36:43.260Z\tc3f24a24-fc6d-11e7-9492-17a3b961c02e\tFound credentials in environment variables.\n",
      "[INFO]\t2018-01-18T16:36:43.788Z\tc3f24a24-fc6d-11e7-9492-17a3b961c02e\tStarting new HTTPS connection (1): s3.amazonaws.com\n",
      "[INFO]\t2018-01-18T16:36:43.942Z\tc3f24a24-fc6d-11e7-9492-17a3b961c02e\tJoining all threads took 0.902083 seconds.\n",
      "[INFO]\t2018-01-18T16:36:43.942Z\tc3f24a24-fc6d-11e7-9492-17a3b961c02e\tCombining all results took 3.7e-05 seconds.\n",
      "[INFO]\t2018-01-18T16:36:43.943Z\tc3f24a24-fc6d-11e7-9492-17a3b961c02e\tClaim retrieval for [u'1302895801'] took 0.905493 seconds.\n",
      "[INFO]\t2018-01-18T16:36:43.981Z\tc3f24a24-fc6d-11e7-9492-17a3b961c02e\tThread initialization took 0.037822 seconds.\n",
      "[INFO]\t2018-01-18T16:36:44.183Z\tc3f24a24-fc6d-11e7-9492-17a3b961c02e\tFound credentials in environment variables.\n",
      "[INFO]\t2018-01-18T16:36:44.341Z\tc3f24a24-fc6d-11e7-9492-17a3b961c02e\tFound credentials in environment variables.\n",
      "[INFO]\t2018-01-18T16:36:45.761Z\tc3f24a24-fc6d-11e7-9492-17a3b961c02e\tStarting new HTTPS connection (1): s3.amazonaws.com\n",
      "[INFO]\t2018-01-18T16:36:45.781Z\tc3f24a24-fc6d-11e7-9492-17a3b961c02e\tStarting new HTTPS connection (1): s3.amazonaws.com\n",
      "[INFO]\t2018-01-18T16:36:46.962Z\tc3f24a24-fc6d-11e7-9492-17a3b961c02e\tJoining all threads took 2.981748 seconds.\n",
      "[INFO]\t2018-01-18T16:36:46.963Z\tc3f24a24-fc6d-11e7-9492-17a3b961c02e\tCombining all results took 3.1e-05 seconds.\n",
      "[INFO]\t2018-01-18T16:36:47.23Z\tc3f24a24-fc6d-11e7-9492-17a3b961c02e\tBenefit retrieval took 3.080466 seconds.\n",
      "[INFO]\t2018-01-18T16:36:47.63Z\tc3f24a24-fc6d-11e7-9492-17a3b961c02e\tCalculation took 0.039882 seconds.\n",
      "[INFO]\t2018-01-18T16:36:47.63Z\tc3f24a24-fc6d-11e7-9492-17a3b961c02e\tClock stopped at 2018-01-18 16:36:47.063874 (elapsed: 4.026904 seconds)\n",
      "END RequestId: c3f24a24-fc6d-11e7-9492-17a3b961c02e\n",
      "REPORT RequestId: c3f24a24-fc6d-11e7-9492-17a3b961c02e\tDuration: 4027.81 ms\tBilled Duration: 4100 ms \tMemory Size: 256 MB\tMax Memory Used: 73 MB\t\n",
      "\n",
      "2 responses returned\n"
     ]
    },
    {
     "data": {
      "text/plain": [
       "{u'allowed': 26376.640000000003,\n",
       " u'covered_breakdown': {u'categories': {u'0': 0.0,\n",
       "   u'11': 186.33999999999997,\n",
       "   u'13': 13.23,\n",
       "   u'15': 30.79,\n",
       "   u'16': 0.0,\n",
       "   u'19': 80.0,\n",
       "   u'25': 1750.0,\n",
       "   u'30': 719.1700000000001,\n",
       "   u'31': 300.0,\n",
       "   u'44': 0.0,\n",
       "   u'49': 118.48800000000001,\n",
       "   u'7': 479.558},\n",
       "  u'composite': 3677.5759999999996,\n",
       "  u'in_network': 3677.5759999999996,\n",
       "  u'out_network': 0.0},\n",
       " u'deductible_breakdown': {u'categories': {u'0': 0.0,\n",
       "   u'11': 0.0,\n",
       "   u'13': 0.0,\n",
       "   u'15': 0.0,\n",
       "   u'16': 0.0,\n",
       "   u'19': 0.0,\n",
       "   u'25': 0.0,\n",
       "   u'30': 0.0,\n",
       "   u'31': 0.0,\n",
       "   u'44': 0.0,\n",
       "   u'49': 0.0,\n",
       "   u'7': 0.0},\n",
       "  u'composite': 0.0,\n",
       "  u'in_network': 0.0,\n",
       "  u'out_network': 0.0},\n",
       " u'oop': 3677.5759999999996,\n",
       " u'picwell_id': u'2820028008119',\n",
       " u'uid': u'1302895801',\n",
       " u'uncovered': 0.0,\n",
       " u'uncovered_breakdown': {u'categories': {u'0': 0.0,\n",
       "   u'11': 0.0,\n",
       "   u'13': 0.0,\n",
       "   u'15': 0.0,\n",
       "   u'16': 0.0,\n",
       "   u'19': 0.0,\n",
       "   u'25': 0.0,\n",
       "   u'30': 0.0,\n",
       "   u'31': 0.0,\n",
       "   u'44': 0.0,\n",
       "   u'49': 0.0,\n",
       "   u'7': 0.0},\n",
       "  u'composite': 0.0,\n",
       "  u'in_network': 0.0,\n",
       "  u'out_network': 0.0}}"
      ]
     },
     "execution_count": 25,
     "metadata": {},
     "output_type": "execute_result"
    },
    {
     "name": "stdout",
     "output_type": "stream",
     "text": [
      "time: 4.68 s\n"
     ]
    }
   ],
   "source": [
    "responses = client.get_breakdown(uids[:1], pids, verbose=True)\n",
    "\n",
    "print '{} responses returned'.format(len(responses))\n",
    "responses[0]"
   ]
  },
  {
   "cell_type": "code",
   "execution_count": 26,
   "metadata": {
    "collapsed": false
   },
   "outputs": [
    {
     "name": "stdout",
     "output_type": "stream",
     "text": [
      "20 responses returned\n",
      "time: 14.7 s\n"
     ]
    }
   ],
   "source": [
    "# Test recursive call:\n",
    "responses = client.get_breakdown(uids[:10], pids, max_calculated_uids=10)\n",
    "\n",
    "print '{} responses returned'.format(len(responses))"
   ]
  },
  {
   "cell_type": "code",
   "execution_count": 27,
   "metadata": {
    "collapsed": false
   },
   "outputs": [
    {
     "name": "stdout",
     "output_type": "stream",
     "text": [
      "20 responses returned\n",
      "time: 13.1 s\n"
     ]
    }
   ],
   "source": [
    "responses = client.get_breakdown(uids[:10], pids, max_lambda_calls=2)\n",
    "\n",
    "print '{} responses returned'.format(len(responses))"
   ]
  },
  {
   "cell_type": "code",
   "execution_count": 28,
   "metadata": {
    "collapsed": false
   },
   "outputs": [
    {
     "name": "stdout",
     "output_type": "stream",
     "text": [
      "20 responses returned\n",
      "time: 8.42 s\n"
     ]
    }
   ],
   "source": [
    "responses = client.get_breakdown(uids[:10], pids)\n",
    "\n",
    "print '{} responses returned'.format(len(responses))"
   ]
  },
  {
   "cell_type": "code",
   "execution_count": 29,
   "metadata": {
    "collapsed": false,
    "scrolled": true
   },
   "outputs": [
    {
     "name": "stdout",
     "output_type": "stream",
     "text": [
      "2000 responses returned\n",
      "time: 26.3 s\n"
     ]
    }
   ],
   "source": [
    "# Let's try something larger:\n",
    "responses = client.get_breakdown(uids, pids)\n",
    "\n",
    "print '{} responses returned'.format(len(responses))"
   ]
  },
  {
   "cell_type": "code",
   "execution_count": 30,
   "metadata": {
    "collapsed": false
   },
   "outputs": [
    {
     "name": "stdout",
     "output_type": "stream",
     "text": [
      "2000 costs calculated\n",
      "time: 11 s\n"
     ]
    }
   ],
   "source": [
    "# Run calculcations locally for comparison:\n",
    "from lambda_package.calc.calculator import calculate_oop\n",
    "\n",
    "# claims_client = ClaimsClient(aws_info, \n",
    "#                              s3_bucket=configs.claims_bucket,\n",
    "#                              s3_path=configs.claims_path)\n",
    "claims_client = ClaimsClient(aws_info, \n",
    "                             table_name=configs.claims_table)\n",
    "people = claims_client.get(uids)\n",
    "\n",
    "benefits_client = BenefitsClient(aws_info)\n",
    "plans = benefits_client.get_by_pid(pids)\n",
    "\n",
    "costs = []\n",
    "for person in people:\n",
    "    claims = person['medical_claims']\n",
    "    \n",
    "    for plan in plans:\n",
    "        \n",
    "        cost = calculate_oop(claims, plan)\n",
    "        cost.update({\n",
    "            'uid': person['uid'],\n",
    "            'picwell_id': str(plan['picwell_id']),\n",
    "        })\n",
    "        \n",
    "        costs.append(cost)\n",
    "        \n",
    "print '{} costs calculated'.format(len(costs))"
   ]
  },
  {
   "cell_type": "code",
   "execution_count": 31,
   "metadata": {
    "collapsed": false
   },
   "outputs": [
    {
     "name": "stdout",
     "output_type": "stream",
     "text": [
      "268 plans identified\n",
      "time: 689 ms\n"
     ]
    }
   ],
   "source": [
    "# benefits_client = BenefitsClient()\n",
    "benefits_client = BenefitsClient(aws_info)\n",
    "plans_CA = benefits_client.get_by_state(['06'])\n",
    "pids_CA = [plan['picwell_id'] for plan in plans_CA]\n",
    "\n",
    "print '{} plans identified'.format(len(pids_CA))"
   ]
  },
  {
   "cell_type": "code",
   "execution_count": 32,
   "metadata": {
    "collapsed": false
   },
   "outputs": [
    {
     "name": "stdout",
     "output_type": "stream",
     "text": [
      "80400 responses returned\n",
      "time: 20 s\n"
     ]
    }
   ],
   "source": [
    "# Try a sample size more relevant to commercial:\n",
    "responses = client.get_oop(uids[:300], pids_CA)\n",
    "\n",
    "print '{} responses returned'.format(len(responses))"
   ]
  },
  {
   "cell_type": "markdown",
   "metadata": {},
   "source": [
    "# Test Batch Calculation"
   ]
  },
  {
   "cell_type": "code",
   "execution_count": 33,
   "metadata": {
    "collapsed": false
   },
   "outputs": [
    {
     "name": "stdout",
     "output_type": "stream",
     "text": [
      "time: 707 µs\n"
     ]
    }
   ],
   "source": [
    "# uids = s3.read_json('s3n://picwell.sandbox.medicare/samples/philadelphia-2015')\n",
    "\n",
    "# print '{} uids read'.format(len(uids))"
   ]
  },
  {
   "cell_type": "code",
   "execution_count": 34,
   "metadata": {
    "collapsed": false
   },
   "outputs": [
    {
     "name": "stdout",
     "output_type": "stream",
     "text": [
      "time: 882 µs\n"
     ]
    }
   ],
   "source": [
    "# uids[:10]"
   ]
  },
  {
   "cell_type": "code",
   "execution_count": 35,
   "metadata": {
    "collapsed": false
   },
   "outputs": [
    {
     "name": "stdout",
     "output_type": "stream",
     "text": [
      "time: 767 µs\n"
     ]
    }
   ],
   "source": [
    "# requests_per_second = 100\n",
    "\n",
    "# for uid in uids:\n",
    "# #     client.calculate_async(uid, months=['01'])\n",
    "#     client.calculate_async(uid)\n",
    "#     time.sleep(1.0/requests_per_second)  "
   ]
  },
  {
   "cell_type": "code",
   "execution_count": null,
   "metadata": {
    "collapsed": true
   },
   "outputs": [],
   "source": []
  }
 ],
 "metadata": {
  "kernelspec": {
   "display_name": "Python 2",
   "language": "python",
   "name": "python2"
  },
  "language_info": {
   "codemirror_mode": {
    "name": "ipython",
    "version": 2
   },
   "file_extension": ".py",
   "mimetype": "text/x-python",
   "name": "python",
   "nbconvert_exporter": "python",
   "pygments_lexer": "ipython2",
   "version": "2.7.10"
  }
 },
 "nbformat": 4,
 "nbformat_minor": 0
}
