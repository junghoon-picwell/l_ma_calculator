{
 "cells": [
  {
   "cell_type": "code",
   "execution_count": 1,
   "metadata": {
    "collapsed": false
   },
   "outputs": [],
   "source": [
    "%load_ext autotime"
   ]
  },
  {
   "cell_type": "code",
   "execution_count": 2,
   "metadata": {
    "collapsed": false
   },
   "outputs": [
    {
     "data": {
      "text/plain": [
       "<module 'logging' from '/Library/Frameworks/Python.framework/Versions/2.7/lib/python2.7/logging/__init__.pyc'>"
      ]
     },
     "execution_count": 2,
     "metadata": {},
     "output_type": "execute_result"
    },
    {
     "name": "stdout",
     "output_type": "stream",
     "text": [
      "time: 1.1 s\n"
     ]
    }
   ],
   "source": [
    "import boto3\n",
    "import datetime\n",
    "import logging\n",
    "import json\n",
    "import pickle\n",
    "import pytest\n",
    "import sys\n",
    "import time\n",
    "\n",
    "from etltools import s3\n",
    "\n",
    "reload(logging)  # get around notebook problem"
   ]
  },
  {
   "cell_type": "code",
   "execution_count": 3,
   "metadata": {
    "collapsed": false
   },
   "outputs": [
    {
     "name": "stdout",
     "output_type": "stream",
     "text": [
      "time: 1.35 ms\n"
     ]
    }
   ],
   "source": [
    "logging.basicConfig(\n",
    "    level=logging.INFO, \n",
    "    format='[%(asctime)s] {%(filename)s:%(lineno)d} %(levelname)s - %(message)s',\n",
    "#     handlers=[\n",
    "#         logging.FileHandler(filename='mylog.log', mode='w'),\n",
    "#         logging.StreamHandler(sys.stdout),\n",
    "#     ]\n",
    ")"
   ]
  },
  {
   "cell_type": "code",
   "execution_count": 4,
   "metadata": {
    "collapsed": false
   },
   "outputs": [
    {
     "name": "stderr",
     "output_type": "stream",
     "text": [
      "[2018-01-11 15:05:45,611] {<ipython-input-4-efd2929c73d3>:3} INFO - TEST INFO\n"
     ]
    },
    {
     "name": "stdout",
     "output_type": "stream",
     "text": [
      "time: 2.02 ms\n"
     ]
    }
   ],
   "source": [
    "# Test whether logging works:\n",
    "logger = logging.getLogger()\n",
    "logger.info('TEST INFO')"
   ]
  },
  {
   "cell_type": "code",
   "execution_count": 5,
   "metadata": {
    "collapsed": false
   },
   "outputs": [
    {
     "name": "stdout",
     "output_type": "stream",
     "text": [
      "time: 303 ms\n"
     ]
    }
   ],
   "source": [
    "aws_info = {\n",
    "    'profile_name': 'sandbox',\n",
    "}\n",
    "\n",
    "uids = s3.read_json('s3://picwell.sandbox.medicare/samples/philadelphia-2015-1k-sample')\n",
    "pids = ['2820028008119', '2820088001036']"
   ]
  },
  {
   "cell_type": "markdown",
   "metadata": {},
   "source": [
    "# Test ConfigInfo"
   ]
  },
  {
   "cell_type": "code",
   "execution_count": 6,
   "metadata": {
    "collapsed": false
   },
   "outputs": [
    {
     "name": "stdout",
     "output_type": "stream",
     "text": [
      "picwell.sandbox.analytics\n",
      "junghoon/lambda_calculator\n",
      "\n",
      "picwell.sandbox.analytics\n",
      "junghoon/lambda_calculator_benefits\n",
      "\n",
      "ma_claims\n",
      "time: 17.2 ms\n"
     ]
    }
   ],
   "source": [
    "from lambda_client.config_info import ConfigInfo\n",
    "\n",
    "configs = ConfigInfo('lambda_client/lambda.cfg')\n",
    "\n",
    "print configs.claims_bucket\n",
    "print configs.claims_path\n",
    "print\n",
    "print configs.benefits_bucket\n",
    "print configs.benefits_path\n",
    "print\n",
    "print configs.claims_table"
   ]
  },
  {
   "cell_type": "code",
   "execution_count": 7,
   "metadata": {
    "collapsed": false
   },
   "outputs": [
    {
     "name": "stdout",
     "output_type": "stream",
     "text": [
      "51 states\n",
      "['01', '04', '05', '06', '08', '09', '10', '11', '12', '13', '15', '16', '17', '18', '19', '20', '21', '22', '23', '24', '25', '26', '27', '28', '29', '30', '31', '32', '33', '34', '35', '36', '37', '38', '39', '40', '41', '42', '44', '45', '46', '47', '48', '49', '50', '51', '53', '54', '55', '56', '72']\n",
      "time: 1.16 ms\n"
     ]
    }
   ],
   "source": [
    "all_states = configs.all_states\n",
    "\n",
    "print '{} states'.format(len(all_states))\n",
    "print all_states"
   ]
  },
  {
   "cell_type": "markdown",
   "metadata": {},
   "source": [
    "# Test ClaimsClient"
   ]
  },
  {
   "cell_type": "code",
   "execution_count": 8,
   "metadata": {
    "collapsed": false
   },
   "outputs": [
    {
     "name": "stdout",
     "output_type": "stream",
     "text": [
      "time: 770 µs\n"
     ]
    }
   ],
   "source": [
    "from lambda_client import ClaimsClient"
   ]
  },
  {
   "cell_type": "code",
   "execution_count": 9,
   "metadata": {
    "collapsed": false
   },
   "outputs": [
    {
     "name": "stderr",
     "output_type": "stream",
     "text": [
      "[2018-01-11 15:05:45,961] {shared_utils.py:64} INFO - Thread initialization took 0.003543 seconds.\n",
      "[2018-01-11 15:05:46,249] {shared_utils.py:64} INFO - Joining all threads took 0.283701 seconds.\n",
      "[2018-01-11 15:05:46,250] {shared_utils.py:64} INFO - Combining all results took 2.2e-05 seconds.\n"
     ]
    },
    {
     "name": "stdout",
     "output_type": "stream",
     "text": [
      "claims of 1 people retrieved\n",
      "time: 299 ms\n"
     ]
    }
   ],
   "source": [
    "# Test S3:\n",
    "client = ClaimsClient(aws_info, \n",
    "                      s3_bucket=configs.claims_bucket,\n",
    "                      s3_path=configs.claims_path)\n",
    "\n",
    "people = client.get(uids[:1])\n",
    "print 'claims of {} people retrieved'.format(len(people))"
   ]
  },
  {
   "cell_type": "code",
   "execution_count": 10,
   "metadata": {
    "collapsed": false
   },
   "outputs": [
    {
     "name": "stdout",
     "output_type": "stream",
     "text": [
      "[u'medical_claims', u'uid']\n"
     ]
    },
    {
     "data": {
      "text/plain": [
       "{'medical_claims': [{u'admitted': u'2014-04-03',\n",
       "   u'benefit_category': 16,\n",
       "   u'cost': u'148.0',\n",
       "   u'discharged': u'2014-04-03',\n",
       "   u'length_of_stay': 1},\n",
       "  {u'admitted': u'2014-05-02',\n",
       "   u'benefit_category': 16,\n",
       "   u'cost': u'74.55',\n",
       "   u'discharged': u'2014-05-02',\n",
       "   u'length_of_stay': 1},\n",
       "  {u'admitted': u'2014-05-05',\n",
       "   u'benefit_category': 16,\n",
       "   u'cost': u'104.39',\n",
       "   u'discharged': u'2014-05-05',\n",
       "   u'length_of_stay': 1},\n",
       "  {u'admitted': u'2014-05-13',\n",
       "   u'benefit_category': 16,\n",
       "   u'cost': u'210.12',\n",
       "   u'discharged': u'2014-05-13',\n",
       "   u'length_of_stay': 1},\n",
       "  {u'admitted': u'2014-05-19',\n",
       "   u'benefit_category': 11,\n",
       "   u'cost': u'442.2',\n",
       "   u'discharged': u'2014-05-19',\n",
       "   u'length_of_stay': 1}],\n",
       " 'uid': u'1302895801'}"
      ]
     },
     "execution_count": 10,
     "metadata": {},
     "output_type": "execute_result"
    },
    {
     "name": "stdout",
     "output_type": "stream",
     "text": [
      "time: 5.87 ms\n"
     ]
    }
   ],
   "source": [
    "person = people[0]\n",
    "print person.keys()\n",
    "{\n",
    "    'uid': person['uid'],\n",
    "    'medical_claims': person['medical_claims'][:5]\n",
    "}"
   ]
  },
  {
   "cell_type": "code",
   "execution_count": 11,
   "metadata": {
    "collapsed": false
   },
   "outputs": [
    {
     "name": "stderr",
     "output_type": "stream",
     "text": [
      "[2018-01-11 15:05:46,265] {shared_utils.py:64} INFO - Thread initialization took 0.000574 seconds.\n",
      "[2018-01-11 15:05:46,516] {shared_utils.py:64} INFO - Joining all threads took 0.247355 seconds.\n",
      "[2018-01-11 15:05:46,517] {shared_utils.py:64} INFO - Combining all results took 2.4e-05 seconds.\n"
     ]
    },
    {
     "name": "stdout",
     "output_type": "stream",
     "text": [
      "claims of 1 people retrieved\n",
      "time: 255 ms\n"
     ]
    }
   ],
   "source": [
    "# Test DynamoDB:\n",
    "client = ClaimsClient(aws_info,\n",
    "                      table_name=configs.claims_table)\n",
    "\n",
    "people = client.get(uids[:1])\n",
    "print 'claims of {} people retrieved'.format(len(people))"
   ]
  },
  {
   "cell_type": "code",
   "execution_count": 12,
   "metadata": {
    "collapsed": false
   },
   "outputs": [
    {
     "name": "stderr",
     "output_type": "stream",
     "text": [
      "[2018-01-11 15:05:46,540] {shared_utils.py:64} INFO - Thread initialization took 0.016502 seconds.\n",
      "[2018-01-11 15:05:47,370] {shared_utils.py:64} INFO - Joining all threads took 0.825435 seconds.\n",
      "[2018-01-11 15:05:47,371] {shared_utils.py:64} INFO - Combining all results took 5.7e-05 seconds.\n"
     ]
    },
    {
     "name": "stdout",
     "output_type": "stream",
     "text": [
      "claims of 5 people retrieved\n",
      "time: 850 ms\n"
     ]
    }
   ],
   "source": [
    "# Test configuration file and retrieving multiple people:\n",
    "client = ClaimsClient(aws_info)\n",
    "\n",
    "people = client.get(uids[:5])\n",
    "print 'claims of {} people retrieved'.format(len(people))"
   ]
  },
  {
   "cell_type": "code",
   "execution_count": 13,
   "metadata": {
    "collapsed": false
   },
   "outputs": [
    {
     "name": "stderr",
     "output_type": "stream",
     "text": [
      "[2018-01-11 15:08:32,637] {shared_utils.py:64} INFO - Thread initialization took 165.26082 seconds.\n",
      "[2018-01-11 15:08:45,694] {shared_utils.py:64} INFO - Joining all threads took 13.023948 seconds.\n",
      "[2018-01-11 15:08:45,699] {shared_utils.py:64} INFO - Combining all results took 0.004113 seconds.\n"
     ]
    },
    {
     "name": "stdout",
     "output_type": "stream",
     "text": [
      "claims of 1000 people retrieved\n",
      "time: 2min 58s\n"
     ]
    }
   ],
   "source": [
    "# Let's try something larger:\n",
    "people = client.get(uids)\n",
    "print 'claims of {} people retrieved'.format(len(people))"
   ]
  },
  {
   "cell_type": "code",
   "execution_count": 14,
   "metadata": {
    "collapsed": false
   },
   "outputs": [
    {
     "name": "stdout",
     "output_type": "stream",
     "text": [
      "time: 1.47 ms\n"
     ]
    }
   ],
   "source": [
    "# The object should not be pickled.\n",
    "with pytest.raises(Exception, match='ClaimsClient object cannot be pickled.'):\n",
    "    pickle.dumps(client)"
   ]
  },
  {
   "cell_type": "markdown",
   "metadata": {},
   "source": [
    "# Test BenefitsClient"
   ]
  },
  {
   "cell_type": "code",
   "execution_count": 15,
   "metadata": {
    "collapsed": false
   },
   "outputs": [
    {
     "name": "stdout",
     "output_type": "stream",
     "text": [
      "time: 1.14 ms\n"
     ]
    }
   ],
   "source": [
    "from lambda_client import BenefitsClient"
   ]
  },
  {
   "cell_type": "code",
   "execution_count": 16,
   "metadata": {
    "collapsed": false
   },
   "outputs": [
    {
     "name": "stdout",
     "output_type": "stream",
     "text": [
      "['01', '04', '05', '06', '08', '09', '10', '11', '12', '13', '15', '16', '17', '18', '19', '20', '21', '22', '23', '24', '25', '26', '27', '28', '29', '30', '31', '32', '33', '34', '35', '36', '37', '38', '39', '40', '41', '42', '44', '45', '46', '47', '48', '49', '50', '51', '53', '54', '55', '56', '72']\n",
      "time: 1.85 ms\n"
     ]
    }
   ],
   "source": [
    "client = BenefitsClient(aws_info)\n",
    "\n",
    "print client.all_states"
   ]
  },
  {
   "cell_type": "code",
   "execution_count": 17,
   "metadata": {
    "collapsed": false
   },
   "outputs": [
    {
     "name": "stdout",
     "output_type": "stream",
     "text": [
      "47 plans read for state 01\n",
      "75 plans read for state 04\n",
      "time: 1.11 s\n"
     ]
    }
   ],
   "source": [
    "plans = client._get_one_state('01')\n",
    "print '{} plans read for state 01'.format(len(plans))\n",
    "\n",
    "plans = client._get_one_state('04')\n",
    "print '{} plans read for state 04'.format(len(plans))"
   ]
  },
  {
   "cell_type": "code",
   "execution_count": 18,
   "metadata": {
    "collapsed": false
   },
   "outputs": [
    {
     "name": "stderr",
     "output_type": "stream",
     "text": [
      "[2018-01-11 15:08:46,842] {shared_utils.py:64} INFO - Thread initialization took 0.001461 seconds.\n",
      "[2018-01-11 15:08:47,508] {shared_utils.py:64} INFO - Joining all threads took 0.662049 seconds.\n",
      "[2018-01-11 15:08:47,509] {shared_utils.py:64} INFO - Combining all results took 2.6e-05 seconds.\n"
     ]
    },
    {
     "name": "stdout",
     "output_type": "stream",
     "text": [
      "122 plans read\n",
      "time: 671 ms\n"
     ]
    }
   ],
   "source": [
    "plans = client.get_by_state(['01', '04'])\n",
    "print '{} plans read'.format(len(plans))"
   ]
  },
  {
   "cell_type": "code",
   "execution_count": 19,
   "metadata": {
    "collapsed": false
   },
   "outputs": [
    {
     "name": "stderr",
     "output_type": "stream",
     "text": [
      "[2018-01-11 15:08:47,729] {shared_utils.py:64} INFO - Thread initialization took 0.212862 seconds.\n",
      "[2018-01-11 15:08:59,798] {shared_utils.py:64} INFO - Joining all threads took 12.061444 seconds.\n",
      "[2018-01-11 15:08:59,799] {shared_utils.py:64} INFO - Combining all results took 0.000267 seconds.\n"
     ]
    },
    {
     "name": "stdout",
     "output_type": "stream",
     "text": [
      "3558 plans read\n",
      "time: 12.3 s\n"
     ]
    }
   ],
   "source": [
    "plans = client.get_all()\n",
    "print '{} plans read'.format(len(plans))"
   ]
  },
  {
   "cell_type": "code",
   "execution_count": 20,
   "metadata": {
    "collapsed": false
   },
   "outputs": [
    {
     "name": "stdout",
     "output_type": "stream",
     "text": [
      "time: 81.6 ms\n"
     ]
    }
   ],
   "source": [
    "# Compare the timing against reading the entire file:\n",
    "from lambda_client.shared_utils import _read_json\n",
    "\n",
    "session = boto3.Session(**aws_info)\n",
    "resource = session.resource('s3')"
   ]
  },
  {
   "cell_type": "code",
   "execution_count": 21,
   "metadata": {
    "collapsed": false
   },
   "outputs": [
    {
     "name": "stdout",
     "output_type": "stream",
     "text": [
      "3558 plans read\n",
      "time: 3.72 s\n"
     ]
    }
   ],
   "source": [
    "all_plans = _read_json('picwell.sandbox.medicare', 'ma_benefits/cms_2018_pbps_20171005.json', resource)\n",
    "\n",
    "print '{} plans read'.format(len(plans))"
   ]
  },
  {
   "cell_type": "code",
   "execution_count": 22,
   "metadata": {
    "collapsed": false
   },
   "outputs": [
    {
     "name": "stdout",
     "output_type": "stream",
     "text": [
      "time: 179 ms\n"
     ]
    }
   ],
   "source": [
    "# Ensure that the same plans are read:\n",
    "sort_key = lambda plan: plan['picwell_id']\n",
    "assert sorted(all_plans, key=sort_key) == sorted(plans, key=sort_key)"
   ]
  },
  {
   "cell_type": "code",
   "execution_count": 23,
   "metadata": {
    "collapsed": false
   },
   "outputs": [
    {
     "name": "stdout",
     "output_type": "stream",
     "text": [
      "time: 1.72 ms\n"
     ]
    }
   ],
   "source": [
    "# The object should not be pickled.\n",
    "with pytest.raises(Exception, match='BenefitsClient object cannot be pickled.'):\n",
    "    pickle.dumps(client)"
   ]
  },
  {
   "cell_type": "markdown",
   "metadata": {},
   "source": [
    "# Test Cost Breakdown"
   ]
  },
  {
   "cell_type": "code",
   "execution_count": 24,
   "metadata": {
    "collapsed": false
   },
   "outputs": [
    {
     "name": "stdout",
     "output_type": "stream",
     "text": [
      "time: 902 µs\n"
     ]
    }
   ],
   "source": [
    "from lambda_client import CalculatorClient\n",
    "\n",
    "client = CalculatorClient(aws_info)"
   ]
  },
  {
   "cell_type": "code",
   "execution_count": 25,
   "metadata": {
    "collapsed": false
   },
   "outputs": [
    {
     "name": "stdout",
     "output_type": "stream",
     "text": [
      "Cost breakdown complete (elapsed: 6.02472 seconds).\n",
      "2 responses returned\n"
     ]
    },
    {
     "data": {
      "text/plain": [
       "{u'allowed': 26376.640000000003,\n",
       " u'covered_breakdown': {u'categories': {u'0': 0.0,\n",
       "   u'11': 186.33999999999997,\n",
       "   u'13': 13.23,\n",
       "   u'15': 30.79,\n",
       "   u'16': 0.0,\n",
       "   u'19': 80.0,\n",
       "   u'25': 1750.0,\n",
       "   u'30': 719.1700000000001,\n",
       "   u'31': 300.0,\n",
       "   u'44': 0.0,\n",
       "   u'49': 118.48800000000001,\n",
       "   u'7': 479.558},\n",
       "  u'composite': 3677.5759999999996,\n",
       "  u'in_network': 3677.5759999999996,\n",
       "  u'out_network': 0.0},\n",
       " u'deductible_breakdown': {u'categories': {u'0': 0.0,\n",
       "   u'11': 0.0,\n",
       "   u'13': 0.0,\n",
       "   u'15': 0.0,\n",
       "   u'16': 0.0,\n",
       "   u'19': 0.0,\n",
       "   u'25': 0.0,\n",
       "   u'30': 0.0,\n",
       "   u'31': 0.0,\n",
       "   u'44': 0.0,\n",
       "   u'49': 0.0,\n",
       "   u'7': 0.0},\n",
       "  u'composite': 0.0,\n",
       "  u'in_network': 0.0,\n",
       "  u'out_network': 0.0},\n",
       " u'oop': 3677.5759999999996,\n",
       " u'picwell_id': u'2820028008119',\n",
       " u'uid': u'1302895801',\n",
       " u'uncovered': 0.0,\n",
       " u'uncovered_breakdown': {u'categories': {u'0': 0.0,\n",
       "   u'11': 0.0,\n",
       "   u'13': 0.0,\n",
       "   u'15': 0.0,\n",
       "   u'16': 0.0,\n",
       "   u'19': 0.0,\n",
       "   u'25': 0.0,\n",
       "   u'30': 0.0,\n",
       "   u'31': 0.0,\n",
       "   u'44': 0.0,\n",
       "   u'49': 0.0,\n",
       "   u'7': 0.0},\n",
       "  u'composite': 0.0,\n",
       "  u'in_network': 0.0,\n",
       "  u'out_network': 0.0}}"
      ]
     },
     "execution_count": 25,
     "metadata": {},
     "output_type": "execute_result"
    },
    {
     "name": "stdout",
     "output_type": "stream",
     "text": [
      "time: 6.56 s\n"
     ]
    }
   ],
   "source": [
    "responses = client._get_one_breakdown(uids[0], pids, '01', True)\n",
    "\n",
    "print '{} responses returned'.format(len(responses))\n",
    "responses[0]"
   ]
  },
  {
   "cell_type": "code",
   "execution_count": 26,
   "metadata": {
    "collapsed": false
   },
   "outputs": [
    {
     "name": "stderr",
     "output_type": "stream",
     "text": [
      "[2018-01-11 15:09:10,382] {shared_utils.py:64} INFO - Thread initialization took 0.000595 seconds.\n",
      "[2018-01-11 15:09:16,713] {shared_utils.py:64} INFO - Joining all threads took 6.329885 seconds.\n",
      "[2018-01-11 15:09:16,714] {shared_utils.py:64} INFO - Combining all results took 2.4e-05 seconds.\n"
     ]
    },
    {
     "name": "stdout",
     "output_type": "stream",
     "text": [
      "Cost breakdown complete (elapsed: 6.193842 seconds).\n",
      "2 responses returned\n",
      "time: 6.33 s\n"
     ]
    }
   ],
   "source": [
    "responses = client.get_breakdown(uids[:1], pids, verbose=True)\n",
    "\n",
    "print '{} responses returned'.format(len(responses))"
   ]
  },
  {
   "cell_type": "code",
   "execution_count": 27,
   "metadata": {
    "collapsed": false
   },
   "outputs": [
    {
     "name": "stderr",
     "output_type": "stream",
     "text": [
      "[2018-01-11 15:09:16,723] {shared_utils.py:64} INFO - Thread initialization took 0.001867 seconds.\n",
      "[2018-01-11 15:09:23,753] {shared_utils.py:64} INFO - Joining all threads took 7.025948 seconds.\n",
      "[2018-01-11 15:09:23,754] {shared_utils.py:64} INFO - Combining all results took 3e-05 seconds.\n",
      "[2018-01-11 15:09:23,758] {shared_utils.py:64} INFO - Thread initialization took 0.003336 seconds.\n",
      "[2018-01-11 15:09:30,216] {shared_utils.py:64} INFO - Joining all threads took 6.454736 seconds.\n",
      "[2018-01-11 15:09:30,217] {shared_utils.py:64} INFO - Combining all results took 3e-05 seconds.\n"
     ]
    },
    {
     "name": "stdout",
     "output_type": "stream",
     "text": [
      "4 responses returned (7.033753 seconds)\n",
      "6 responses returned (6.462928 seconds)"
     ]
    },
    {
     "name": "stderr",
     "output_type": "stream",
     "text": [
      "[2018-01-11 15:09:30,224] {shared_utils.py:64} INFO - Thread initialization took 0.005772 seconds.\n",
      "[2018-01-11 15:09:37,196] {shared_utils.py:64} INFO - Joining all threads took 6.968006 seconds.\n",
      "[2018-01-11 15:09:37,196] {shared_utils.py:64} INFO - Combining all results took 4.1e-05 seconds.\n"
     ]
    },
    {
     "name": "stdout",
     "output_type": "stream",
     "text": [
      "\n",
      "8 responses returned (6.978946 seconds)"
     ]
    },
    {
     "name": "stderr",
     "output_type": "stream",
     "text": [
      "[2018-01-11 15:09:37,205] {shared_utils.py:64} INFO - Thread initialization took 0.008165 seconds.\n",
      "[2018-01-11 15:09:44,362] {shared_utils.py:64} INFO - Joining all threads took 7.150705 seconds.\n",
      "[2018-01-11 15:09:44,363] {shared_utils.py:64} INFO - Combining all results took 6.7e-05 seconds.\n"
     ]
    },
    {
     "name": "stdout",
     "output_type": "stream",
     "text": [
      "\n",
      "10 responses returned (7.166267 seconds)"
     ]
    },
    {
     "name": "stderr",
     "output_type": "stream",
     "text": [
      "[2018-01-11 15:09:44,385] {shared_utils.py:64} INFO - Thread initialization took 0.021407 seconds.\n",
      "[2018-01-11 15:09:52,232] {shared_utils.py:64} INFO - Joining all threads took 7.822416 seconds.\n",
      "[2018-01-11 15:09:52,233] {shared_utils.py:64} INFO - Combining all results took 4.4e-05 seconds.\n"
     ]
    },
    {
     "name": "stdout",
     "output_type": "stream",
     "text": [
      "\n",
      "12 responses returned (7.869492 seconds)"
     ]
    },
    {
     "name": "stderr",
     "output_type": "stream",
     "text": [
      "[2018-01-11 15:09:52,255] {shared_utils.py:64} INFO - Thread initialization took 0.021646 seconds.\n",
      "[2018-01-11 15:09:59,608] {shared_utils.py:64} INFO - Joining all threads took 7.342184 seconds.\n",
      "[2018-01-11 15:09:59,608] {shared_utils.py:64} INFO - Combining all results took 5.6e-05 seconds.\n"
     ]
    },
    {
     "name": "stdout",
     "output_type": "stream",
     "text": [
      "\n",
      "14 responses returned (7.375199 seconds)"
     ]
    },
    {
     "name": "stderr",
     "output_type": "stream",
     "text": [
      "[2018-01-11 15:09:59,632] {shared_utils.py:64} INFO - Thread initialization took 0.023209 seconds.\n",
      "[2018-01-11 15:10:06,877] {shared_utils.py:64} INFO - Joining all threads took 7.240341 seconds.\n",
      "[2018-01-11 15:10:06,877] {shared_utils.py:64} INFO - Combining all results took 5.1e-05 seconds.\n"
     ]
    },
    {
     "name": "stdout",
     "output_type": "stream",
     "text": [
      "\n",
      "16 responses returned (7.268749 seconds)"
     ]
    },
    {
     "name": "stderr",
     "output_type": "stream",
     "text": [
      "[2018-01-11 15:10:06,928] {shared_utils.py:64} INFO - Thread initialization took 0.049979 seconds.\n",
      "[2018-01-11 15:10:14,764] {shared_utils.py:64} INFO - Joining all threads took 7.812054 seconds.\n",
      "[2018-01-11 15:10:14,765] {shared_utils.py:64} INFO - Combining all results took 5.1e-05 seconds.\n"
     ]
    },
    {
     "name": "stdout",
     "output_type": "stream",
     "text": [
      "\n",
      "18 responses returned (7.886861 seconds)"
     ]
    },
    {
     "name": "stderr",
     "output_type": "stream",
     "text": [
      "[2018-01-11 15:10:14,814] {shared_utils.py:64} INFO - Thread initialization took 0.048278 seconds.\n",
      "[2018-01-11 15:10:22,034] {shared_utils.py:64} INFO - Joining all threads took 7.209487 seconds.\n",
      "[2018-01-11 15:10:22,035] {shared_utils.py:64} INFO - Combining all results took 5.5e-05 seconds.\n"
     ]
    },
    {
     "name": "stdout",
     "output_type": "stream",
     "text": [
      "\n",
      "20 responses returned (7.269895 seconds)"
     ]
    },
    {
     "name": "stderr",
     "output_type": "stream",
     "text": [
      "[2018-01-11 15:10:22,715] {shared_utils.py:64} INFO - Thread initialization took 0.678975 seconds.\n",
      "[2018-01-11 15:10:29,737] {shared_utils.py:64} INFO - Joining all threads took 7.016358 seconds.\n",
      "[2018-01-11 15:10:29,738] {shared_utils.py:64} INFO - Combining all results took 5.5e-05 seconds.\n"
     ]
    },
    {
     "name": "stdout",
     "output_type": "stream",
     "text": [
      "\n",
      "22 responses returned (7.702418 seconds)"
     ]
    },
    {
     "name": "stderr",
     "output_type": "stream",
     "text": [
      "[2018-01-11 15:10:29,817] {shared_utils.py:64} INFO - Thread initialization took 0.078742 seconds.\n",
      "[2018-01-11 15:10:37,435] {shared_utils.py:64} INFO - Joining all threads took 7.578508 seconds.\n",
      "[2018-01-11 15:10:37,436] {shared_utils.py:64} INFO - Combining all results took 6e-05 seconds.\n"
     ]
    },
    {
     "name": "stdout",
     "output_type": "stream",
     "text": [
      "\n",
      "24 responses returned (7.697395 seconds)"
     ]
    },
    {
     "name": "stderr",
     "output_type": "stream",
     "text": [
      "[2018-01-11 15:10:37,570] {shared_utils.py:64} INFO - Thread initialization took 0.133602 seconds.\n",
      "[2018-01-11 15:10:45,168] {shared_utils.py:64} INFO - Joining all threads took 7.584413 seconds.\n",
      "[2018-01-11 15:10:45,168] {shared_utils.py:64} INFO - Combining all results took 6.9e-05 seconds.\n"
     ]
    },
    {
     "name": "stdout",
     "output_type": "stream",
     "text": [
      "\n",
      "26 responses returned (7.732669 seconds)"
     ]
    },
    {
     "name": "stderr",
     "output_type": "stream",
     "text": [
      "[2018-01-11 15:10:45,266] {shared_utils.py:64} INFO - Thread initialization took 0.096293 seconds.\n",
      "[2018-01-11 15:10:52,238] {shared_utils.py:64} INFO - Joining all threads took 6.869489 seconds.\n",
      "[2018-01-11 15:10:52,239] {shared_utils.py:64} INFO - Combining all results took 7e-05 seconds.\n"
     ]
    },
    {
     "name": "stdout",
     "output_type": "stream",
     "text": [
      "\n",
      "28 responses returned (7.069777 seconds)\n",
      "time: 1min 35s\n"
     ]
    }
   ],
   "source": [
    "# It seems like\n",
    "#\n",
    "# (a) the time it takes to issue threads increases linearly; and\n",
    "# (b) the time it takes for the last thread to finish is about 5 seconds all the time. \n",
    "for num_people in range(2, 15):\n",
    "    start = datetime.datetime.now()\n",
    "    responses = client.get_breakdown(uids[:num_people], pids)\n",
    "    elapsed = (datetime.datetime.now() - start).total_seconds()\n",
    "\n",
    "    print '{} responses returned ({} seconds)'.format(len(responses), elapsed)"
   ]
  },
  {
   "cell_type": "code",
   "execution_count": 28,
   "metadata": {
    "collapsed": false,
    "scrolled": true
   },
   "outputs": [
    {
     "name": "stderr",
     "output_type": "stream",
     "text": [
      "[2018-01-11 15:12:40,158] {shared_utils.py:64} INFO - Thread initialization took 107.913674 seconds.\n",
      "[2018-01-11 15:12:51,014] {shared_utils.py:64} INFO - Joining all threads took 9.761013 seconds.\n",
      "[2018-01-11 15:12:51,019] {shared_utils.py:64} INFO - Combining all results took 0.004265 seconds.\n"
     ]
    },
    {
     "name": "stdout",
     "output_type": "stream",
     "text": [
      "2000 responses returned\n",
      "time: 1min 58s\n"
     ]
    }
   ],
   "source": [
    "# Let's try something larger:\n",
    "responses = client.get_breakdown(uids, pids)\n",
    "\n",
    "print '{} responses returned'.format(len(responses))"
   ]
  },
  {
   "cell_type": "code",
   "execution_count": 29,
   "metadata": {
    "collapsed": false
   },
   "outputs": [
    {
     "name": "stderr",
     "output_type": "stream",
     "text": [
      "[2018-01-11 15:16:08,403] {shared_utils.py:64} INFO - Thread initialization took 197.320774 seconds.\n",
      "[2018-01-11 15:16:23,670] {shared_utils.py:64} INFO - Joining all threads took 15.158315 seconds.\n",
      "[2018-01-11 15:16:23,677] {shared_utils.py:64} INFO - Combining all results took 0.005958 seconds.\n",
      "[2018-01-11 15:16:23,714] {shared_utils.py:64} INFO - Thread initialization took 0.0032 seconds.\n",
      "[2018-01-11 15:16:25,531] {shared_utils.py:64} INFO - Joining all threads took 1.811888 seconds.\n",
      "[2018-01-11 15:16:25,532] {shared_utils.py:64} INFO - Combining all results took 3.2e-05 seconds.\n"
     ]
    },
    {
     "name": "stdout",
     "output_type": "stream",
     "text": [
      "2000 costs calculated\n",
      "time: 3min 36s\n"
     ]
    }
   ],
   "source": [
    "# Run calculcations locally for comparison:\n",
    "from lambda_package.calc.calculator import calculate_oop\n",
    "\n",
    "claims_client = ClaimsClient(aws_info)\n",
    "people = claims_client.get(uids)\n",
    "\n",
    "benefits_client = BenefitsClient(aws_info)\n",
    "plans = benefits_client.get_by_pid(pids)\n",
    "\n",
    "costs = []\n",
    "for person in people:\n",
    "    claims = person['medical_claims']\n",
    "    \n",
    "    for plan in plans:\n",
    "        cost = calculate_oop(claims, plan)\n",
    "        cost.update({\n",
    "            'uid': person['uid'],\n",
    "            'picwell_id': str(plan['picwell_id']),\n",
    "        })\n",
    "        \n",
    "        costs.append(cost)\n",
    "        \n",
    "print '{} costs calculated'.format(len(costs))"
   ]
  },
  {
   "cell_type": "markdown",
   "metadata": {},
   "source": [
    "# Test Batch Calculation"
   ]
  },
  {
   "cell_type": "code",
   "execution_count": 30,
   "metadata": {
    "collapsed": false
   },
   "outputs": [
    {
     "name": "stdout",
     "output_type": "stream",
     "text": [
      "time: 967 µs\n"
     ]
    }
   ],
   "source": [
    "# uids = s3.read_json('s3n://picwell.sandbox.medicare/samples/philadelphia-2015')\n",
    "\n",
    "# print '{} uids read'.format(len(uids))"
   ]
  },
  {
   "cell_type": "code",
   "execution_count": 31,
   "metadata": {
    "collapsed": false
   },
   "outputs": [
    {
     "name": "stdout",
     "output_type": "stream",
     "text": [
      "time: 791 µs\n"
     ]
    }
   ],
   "source": [
    "# uids[:10]"
   ]
  },
  {
   "cell_type": "code",
   "execution_count": 32,
   "metadata": {
    "collapsed": false
   },
   "outputs": [
    {
     "name": "stdout",
     "output_type": "stream",
     "text": [
      "time: 1.04 ms\n"
     ]
    }
   ],
   "source": [
    "# requests_per_second = 100\n",
    "\n",
    "# for uid in uids:\n",
    "# #     client.calculate_async(uid, months=['01'])\n",
    "#     client.calculate_async(uid)\n",
    "#     time.sleep(1.0/requests_per_second)  "
   ]
  },
  {
   "cell_type": "code",
   "execution_count": null,
   "metadata": {
    "collapsed": true
   },
   "outputs": [],
   "source": []
  }
 ],
 "metadata": {
  "kernelspec": {
   "display_name": "Python 2",
   "language": "python",
   "name": "python2"
  },
  "language_info": {
   "codemirror_mode": {
    "name": "ipython",
    "version": 2
   },
   "file_extension": ".py",
   "mimetype": "text/x-python",
   "name": "python",
   "nbconvert_exporter": "python",
   "pygments_lexer": "ipython2",
   "version": "2.7.10"
  }
 },
 "nbformat": 4,
 "nbformat_minor": 0
}
