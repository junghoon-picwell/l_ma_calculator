{
 "cells": [
  {
   "cell_type": "code",
   "execution_count": 1,
   "metadata": {
    "collapsed": false
   },
   "outputs": [],
   "source": [
    "%load_ext autotime"
   ]
  },
  {
   "cell_type": "code",
   "execution_count": 2,
   "metadata": {
    "collapsed": false
   },
   "outputs": [
    {
     "data": {
      "text/plain": [
       "<module 'logging' from '/Library/Frameworks/Python.framework/Versions/2.7/lib/python2.7/logging/__init__.pyc'>"
      ]
     },
     "execution_count": 2,
     "metadata": {},
     "output_type": "execute_result"
    },
    {
     "name": "stdout",
     "output_type": "stream",
     "text": [
      "time: 556 ms\n"
     ]
    }
   ],
   "source": [
    "import boto3\n",
    "import datetime\n",
    "import logging\n",
    "import json\n",
    "import pickle\n",
    "import pytest\n",
    "import sys\n",
    "import time\n",
    "\n",
    "from etltools import s3\n",
    "\n",
    "from lambda_client import (\n",
    "    ClaimsClient,\n",
    "    BenefitsClient,\n",
    "    CalculatorClient,\n",
    ")\n",
    "\n",
    "reload(logging)  # get around notebook problem"
   ]
  },
  {
   "cell_type": "code",
   "execution_count": 3,
   "metadata": {
    "collapsed": false
   },
   "outputs": [
    {
     "name": "stdout",
     "output_type": "stream",
     "text": [
      "time: 1.33 ms\n"
     ]
    }
   ],
   "source": [
    "logging.basicConfig(\n",
    "    level=logging.INFO, \n",
    "    format='[%(asctime)s] {%(filename)s:%(lineno)d} %(levelname)s - %(message)s',\n",
    "#     handlers=[\n",
    "#         logging.FileHandler(filename='mylog.log', mode='w'),\n",
    "#         logging.StreamHandler(sys.stdout),\n",
    "#     ]\n",
    ")"
   ]
  },
  {
   "cell_type": "code",
   "execution_count": 4,
   "metadata": {
    "collapsed": false
   },
   "outputs": [
    {
     "name": "stderr",
     "output_type": "stream",
     "text": [
      "[2018-01-18 22:09:55,520] {<ipython-input-4-efd2929c73d3>:3} INFO - TEST INFO\n"
     ]
    },
    {
     "name": "stdout",
     "output_type": "stream",
     "text": [
      "time: 2.04 ms\n"
     ]
    }
   ],
   "source": [
    "# Test whether logging works:\n",
    "logger = logging.getLogger()\n",
    "logger.info('TEST INFO')"
   ]
  },
  {
   "cell_type": "code",
   "execution_count": 5,
   "metadata": {
    "collapsed": false
   },
   "outputs": [
    {
     "name": "stdout",
     "output_type": "stream",
     "text": [
      "time: 307 ms\n"
     ]
    }
   ],
   "source": [
    "aws_info = {\n",
    "    'profile_name': 'sandbox',\n",
    "}\n",
    "\n",
    "uids = s3.read_json('s3://picwell.sandbox.medicare/samples/philadelphia-2015-1k-sample')\n",
    "pids = ['2820028008119', '2820088001036']"
   ]
  },
  {
   "cell_type": "markdown",
   "metadata": {},
   "source": [
    "# Test ConfigInfo"
   ]
  },
  {
   "cell_type": "code",
   "execution_count": null,
   "metadata": {
    "collapsed": false
   },
   "outputs": [],
   "source": [
    "from lambda_client.config_info import ConfigInfo\n",
    "\n",
    "configs = ConfigInfo('lambda_client/lambda.cfg')\n",
    "\n",
    "print configs.claims_bucket\n",
    "print configs.claims_path\n",
    "print\n",
    "print configs.benefits_bucket\n",
    "print configs.benefits_path\n",
    "print\n",
    "print configs.claims_table"
   ]
  },
  {
   "cell_type": "code",
   "execution_count": null,
   "metadata": {
    "collapsed": false
   },
   "outputs": [],
   "source": [
    "all_states = configs.all_states\n",
    "\n",
    "print '{} states'.format(len(all_states))\n",
    "print all_states"
   ]
  },
  {
   "cell_type": "markdown",
   "metadata": {},
   "source": [
    "# Test ClaimsClient"
   ]
  },
  {
   "cell_type": "code",
   "execution_count": null,
   "metadata": {
    "collapsed": false
   },
   "outputs": [],
   "source": [
    "# Test S3:\n",
    "client = ClaimsClient(aws_info, \n",
    "                      s3_bucket=configs.claims_bucket,\n",
    "                      s3_path=configs.claims_path)\n",
    "\n",
    "people = client.get(uids[:1])\n",
    "print 'claims of {} people retrieved'.format(len(people))"
   ]
  },
  {
   "cell_type": "code",
   "execution_count": null,
   "metadata": {
    "collapsed": false
   },
   "outputs": [],
   "source": [
    "person = people[0]\n",
    "print person.keys()\n",
    "{\n",
    "    'uid': person['uid'],\n",
    "    'medical_claims': person['medical_claims'][:5]\n",
    "}"
   ]
  },
  {
   "cell_type": "code",
   "execution_count": null,
   "metadata": {
    "collapsed": false
   },
   "outputs": [],
   "source": [
    "# Let's try something larger:\n",
    "people = client.get(uids)\n",
    "print 'claims of {} people retrieved'.format(len(people))"
   ]
  },
  {
   "cell_type": "code",
   "execution_count": null,
   "metadata": {
    "collapsed": false
   },
   "outputs": [],
   "source": [
    "# Test DynamoDB:\n",
    "client = ClaimsClient(aws_info,\n",
    "                      table_name=configs.claims_table)\n",
    "\n",
    "people = client.get(uids[:1])\n",
    "print 'claims of {} people retrieved'.format(len(people))"
   ]
  },
  {
   "cell_type": "code",
   "execution_count": null,
   "metadata": {
    "collapsed": false
   },
   "outputs": [],
   "source": [
    "person = people[0]\n",
    "print person.keys()\n",
    "{\n",
    "    'uid': person['uid'],\n",
    "    'medical_claims': person['medical_claims'][:5]\n",
    "}"
   ]
  },
  {
   "cell_type": "code",
   "execution_count": null,
   "metadata": {
    "collapsed": false
   },
   "outputs": [],
   "source": [
    "# Let's try something larger:\n",
    "people = client.get(uids)\n",
    "print 'claims of {} people retrieved'.format(len(people))"
   ]
  },
  {
   "cell_type": "code",
   "execution_count": null,
   "metadata": {
    "collapsed": false
   },
   "outputs": [],
   "source": [
    "# Test configuration file and retrieving multiple people:\n",
    "client = ClaimsClient(aws_info)\n",
    "\n",
    "people = client.get(uids[:5])\n",
    "print 'claims of {} people retrieved'.format(len(people))"
   ]
  },
  {
   "cell_type": "code",
   "execution_count": null,
   "metadata": {
    "collapsed": false
   },
   "outputs": [],
   "source": [
    "# The object should not be pickled.\n",
    "with pytest.raises(Exception, match='ClaimsClient object cannot be pickled.'):\n",
    "    pickle.dumps(client)"
   ]
  },
  {
   "cell_type": "markdown",
   "metadata": {},
   "source": [
    "# Test BenefitsClient"
   ]
  },
  {
   "cell_type": "code",
   "execution_count": null,
   "metadata": {
    "collapsed": false
   },
   "outputs": [],
   "source": [
    "client = BenefitsClient(aws_info)\n",
    "\n",
    "print client.all_states"
   ]
  },
  {
   "cell_type": "code",
   "execution_count": null,
   "metadata": {
    "collapsed": false
   },
   "outputs": [],
   "source": [
    "plans = client._get_one_state('01')\n",
    "print '{} plans read for state 01'.format(len(plans))\n",
    "\n",
    "plans = client._get_one_state('04')\n",
    "print '{} plans read for state 04'.format(len(plans))"
   ]
  },
  {
   "cell_type": "code",
   "execution_count": null,
   "metadata": {
    "collapsed": false
   },
   "outputs": [],
   "source": [
    "plans = client.get_by_state(['01', '04'])\n",
    "print '{} plans read'.format(len(plans))"
   ]
  },
  {
   "cell_type": "code",
   "execution_count": null,
   "metadata": {
    "collapsed": false
   },
   "outputs": [],
   "source": [
    "plans = client.get_all()\n",
    "print '{} plans read'.format(len(plans))"
   ]
  },
  {
   "cell_type": "code",
   "execution_count": null,
   "metadata": {
    "collapsed": false
   },
   "outputs": [],
   "source": [
    "# Compare the timing against reading the entire file:\n",
    "from lambda_client.shared_utils import _read_json\n",
    "\n",
    "session = boto3.Session(**aws_info)\n",
    "resource = session.resource('s3')"
   ]
  },
  {
   "cell_type": "code",
   "execution_count": null,
   "metadata": {
    "collapsed": false
   },
   "outputs": [],
   "source": [
    "all_plans = _read_json('picwell.sandbox.medicare', 'ma_benefits/cms_2018_pbps_20171005.json', resource)\n",
    "\n",
    "print '{} plans read'.format(len(plans))"
   ]
  },
  {
   "cell_type": "code",
   "execution_count": null,
   "metadata": {
    "collapsed": false
   },
   "outputs": [],
   "source": [
    "# Ensure that the same plans are read:\n",
    "sort_key = lambda plan: plan['picwell_id']\n",
    "assert sorted(all_plans, key=sort_key) == sorted(plans, key=sort_key)"
   ]
  },
  {
   "cell_type": "code",
   "execution_count": null,
   "metadata": {
    "collapsed": false
   },
   "outputs": [],
   "source": [
    "# The object should not be pickled.\n",
    "with pytest.raises(Exception, match='BenefitsClient object cannot be pickled.'):\n",
    "    pickle.dumps(client)"
   ]
  },
  {
   "cell_type": "markdown",
   "metadata": {},
   "source": [
    "# Test Cost Breakdown"
   ]
  },
  {
   "cell_type": "code",
   "execution_count": null,
   "metadata": {
    "collapsed": false
   },
   "outputs": [],
   "source": [
    "client = CalculatorClient(aws_info)"
   ]
  },
  {
   "cell_type": "code",
   "execution_count": null,
   "metadata": {
    "collapsed": false
   },
   "outputs": [],
   "source": [
    "responses = client.get_breakdown(uids[:1], pids, verbose=True)\n",
    "\n",
    "print '{} responses returned'.format(len(responses))\n",
    "responses[0]"
   ]
  },
  {
   "cell_type": "code",
   "execution_count": null,
   "metadata": {
    "collapsed": false
   },
   "outputs": [],
   "source": [
    "responses = client.get_breakdown(uids[:1], pids, use_s3_for_claims=False, verbose=True)\n",
    "\n",
    "print '{} responses returned'.format(len(responses))"
   ]
  },
  {
   "cell_type": "code",
   "execution_count": null,
   "metadata": {
    "collapsed": false
   },
   "outputs": [],
   "source": [
    "# Test recursive call:\n",
    "responses = client.get_breakdown(uids[:10], pids, max_calculated_uids=10)\n",
    "\n",
    "print '{} responses returned'.format(len(responses))"
   ]
  },
  {
   "cell_type": "code",
   "execution_count": null,
   "metadata": {
    "collapsed": false
   },
   "outputs": [],
   "source": [
    "responses = client.get_breakdown(uids[:10], pids, max_lambda_calls=2)\n",
    "\n",
    "print '{} responses returned'.format(len(responses))"
   ]
  },
  {
   "cell_type": "code",
   "execution_count": null,
   "metadata": {
    "collapsed": false
   },
   "outputs": [],
   "source": [
    "responses = client.get_breakdown(uids[:10], pids)\n",
    "\n",
    "print '{} responses returned'.format(len(responses))"
   ]
  },
  {
   "cell_type": "code",
   "execution_count": null,
   "metadata": {
    "collapsed": false
   },
   "outputs": [],
   "source": [
    "# Check whether DynamoDB reduces latency:\n",
    "responses = client.get_breakdown(uids[:10], pids, use_s3_for_claims=False, max_calculated_uids=10)\n",
    "\n",
    "print '{} responses returned'.format(len(responses))"
   ]
  },
  {
   "cell_type": "code",
   "execution_count": null,
   "metadata": {
    "collapsed": false,
    "scrolled": true
   },
   "outputs": [],
   "source": [
    "# Let's try something larger:\n",
    "responses = client.get_breakdown(uids, pids)\n",
    "\n",
    "print '{} responses returned'.format(len(responses))"
   ]
  },
  {
   "cell_type": "code",
   "execution_count": null,
   "metadata": {
    "collapsed": false
   },
   "outputs": [],
   "source": [
    "responses = client.get_breakdown(uids, pids, use_s3_for_claims=False)\n",
    "\n",
    "print '{} responses returned'.format(len(responses))"
   ]
  },
  {
   "cell_type": "code",
   "execution_count": null,
   "metadata": {
    "collapsed": false
   },
   "outputs": [],
   "source": [
    "# Runs into memory issue if all 1000 people are calculated once:\n",
    "responses = client.get_breakdown(uids, pids, use_s3_for_claims=False, max_calculated_uids=100, max_lambda_calls=10)\n",
    "\n",
    "print '{} responses returned'.format(len(responses))"
   ]
  },
  {
   "cell_type": "code",
   "execution_count": null,
   "metadata": {
    "collapsed": false
   },
   "outputs": [],
   "source": [
    "from lambda_package.calc.calculator import calculate_oop\n",
    "\n",
    "def run_locally(people, plans, oop_only):\n",
    "    costs = []\n",
    "    \n",
    "    for person in people:\n",
    "        claims = person['medical_claims']\n",
    "    \n",
    "        for plan in plans:\n",
    "\n",
    "            cost = calculate_oop(claims, plan)\n",
    "            if oop_only:\n",
    "                cost = {\n",
    "                    'oop': cost['oop']\n",
    "                }\n",
    "\n",
    "            cost.update({\n",
    "                'uid': person['uid'],\n",
    "                'picwell_id': str(plan['picwell_id']),\n",
    "            })\n",
    "\n",
    "            costs.append(cost)\n",
    "    \n",
    "    return costs"
   ]
  },
  {
   "cell_type": "code",
   "execution_count": null,
   "metadata": {
    "collapsed": false
   },
   "outputs": [],
   "source": [
    "# Run calculcations locally for comparison:\n",
    "# claims_client = ClaimsClient(aws_info, \n",
    "#                              s3_bucket=configs.claims_bucket,\n",
    "#                              s3_path=configs.claims_path)\n",
    "claims_client = ClaimsClient(aws_info, \n",
    "                             table_name=configs.claims_table)\n",
    "people = claims_client.get(uids)\n",
    "\n",
    "benefits_client = BenefitsClient(aws_info)\n",
    "plans = benefits_client.get_by_pid(pids)\n",
    "\n",
    "costs = run_locally(people, plans, False)\n",
    "\n",
    "print '{} costs calculated'.format(len(costs))"
   ]
  },
  {
   "cell_type": "code",
   "execution_count": null,
   "metadata": {
    "collapsed": false
   },
   "outputs": [],
   "source": [
    "# benefits_client = BenefitsClient()\n",
    "benefits_client = BenefitsClient(aws_info)\n",
    "plans_CA = benefits_client.get_by_state(['06'])\n",
    "pids_CA = [plan['picwell_id'] for plan in plans_CA]\n",
    "\n",
    "print '{} plans identified'.format(len(pids_CA))"
   ]
  },
  {
   "cell_type": "code",
   "execution_count": null,
   "metadata": {
    "collapsed": false
   },
   "outputs": [],
   "source": [
    "# Try a sample size more relevant to commercial:\n",
    "responses = client.get_oop(uids[:300], pids_CA)\n",
    "\n",
    "print '{} responses returned'.format(len(responses))"
   ]
  },
  {
   "cell_type": "code",
   "execution_count": null,
   "metadata": {
    "collapsed": false
   },
   "outputs": [],
   "source": [
    "responses = client.get_oop(uids[:300], pids_CA, use_s3_for_claims=False)\n",
    "\n",
    "print '{} responses returned'.format(len(responses))"
   ]
  },
  {
   "cell_type": "code",
   "execution_count": null,
   "metadata": {
    "collapsed": false
   },
   "outputs": [],
   "source": [
    "# Increasing the amount of computation at the terminal nodes increases the time. This is probably\n",
    "# because there are many plans.\n",
    "responses = client.get_oop(uids[:300], pids_CA, use_s3_for_claims=False, max_calculated_uids=3)\n",
    "\n",
    "print '{} responses returned'.format(len(responses))"
   ]
  },
  {
   "cell_type": "code",
   "execution_count": null,
   "metadata": {
    "collapsed": false
   },
   "outputs": [],
   "source": [
    "claims_client = ClaimsClient(aws_info, \n",
    "                             table_name=configs.claims_table)\n",
    "people = claims_client.get(uids[:300])\n",
    "\n",
    "benefits_client = BenefitsClient(aws_info)\n",
    "plans = benefits_client.get_by_pid(pids_CA)\n",
    "\n",
    "costs = run_locally(people, plans, True)\n",
    "\n",
    "print '{} costs calculated'.format(len(costs))"
   ]
  },
  {
   "cell_type": "markdown",
   "metadata": {},
   "source": [
    "# Test Batch Calculation"
   ]
  },
  {
   "cell_type": "code",
   "execution_count": 6,
   "metadata": {
    "collapsed": false
   },
   "outputs": [
    {
     "name": "stdout",
     "output_type": "stream",
     "text": [
      "1352473 uids read\n",
      "time: 6.04 s\n"
     ]
    }
   ],
   "source": [
    "uids = s3.read_json('s3n://picwell.sandbox.medicare/samples/philadelphia-2015')\n",
    "\n",
    "print '{} uids read'.format(len(uids))"
   ]
  },
  {
   "cell_type": "code",
   "execution_count": 7,
   "metadata": {
    "collapsed": false
   },
   "outputs": [
    {
     "name": "stdout",
     "output_type": "stream",
     "text": [
      "time: 760 µs\n"
     ]
    }
   ],
   "source": [
    "client = CalculatorClient(aws_info)"
   ]
  },
  {
   "cell_type": "code",
   "execution_count": 8,
   "metadata": {
    "collapsed": false
   },
   "outputs": [
    {
     "name": "stdout",
     "output_type": "stream",
     "text": [
      "START RequestId: 4023eddb-fcc6-11e7-8d83-67d313b0b20e Version: $LATEST\n",
      "[INFO]\t2018-01-19T03:10:06.809Z\t4023eddb-fcc6-11e7-8d83-67d313b0b20e\tClock started at 2018-01-19 03:10:06.809577.\n",
      "[INFO]\t2018-01-19T03:10:06.822Z\t4023eddb-fcc6-11e7-8d83-67d313b0b20e\tThread initialization took 0.00018 seconds.\n",
      "[INFO]\t2018-01-19T03:10:06.983Z\t4023eddb-fcc6-11e7-8d83-67d313b0b20e\tFound credentials in environment variables.\n",
      "[INFO]\t2018-01-19T03:10:07.384Z\t4023eddb-fcc6-11e7-8d83-67d313b0b20e\tStarting new HTTPS connection (1): s3.amazonaws.com\n",
      "[INFO]\t2018-01-19T03:10:07.540Z\t4023eddb-fcc6-11e7-8d83-67d313b0b20e\tJoining all threads took 0.717462 seconds.\n",
      "[INFO]\t2018-01-19T03:10:07.540Z\t4023eddb-fcc6-11e7-8d83-67d313b0b20e\tCombining all results in order took 2.4e-05 seconds.\n",
      "[INFO]\t2018-01-19T03:10:07.540Z\t4023eddb-fcc6-11e7-8d83-67d313b0b20e\tClaim retrieval for [u'31970436701'] took 0.718297 seconds.\n",
      "[INFO]\t2018-01-19T03:10:07.540Z\t4023eddb-fcc6-11e7-8d83-67d313b0b20e\tProcessing state 01:\n",
      "[INFO]\t2018-01-19T03:10:07.582Z\t4023eddb-fcc6-11e7-8d83-67d313b0b20e\tThread initialization took 0.041511 seconds.\n",
      "[INFO]\t2018-01-19T03:10:07.644Z\t4023eddb-fcc6-11e7-8d83-67d313b0b20e\tFound credentials in environment variables.\n",
      "[INFO]\t2018-01-19T03:10:08.43Z\t4023eddb-fcc6-11e7-8d83-67d313b0b20e\tStarting new HTTPS connection (1): s3.amazonaws.com\n",
      "[INFO]\t2018-01-19T03:10:08.304Z\t4023eddb-fcc6-11e7-8d83-67d313b0b20e\tJoining all threads took 0.721576 seconds.\n",
      "[INFO]\t2018-01-19T03:10:08.304Z\t4023eddb-fcc6-11e7-8d83-67d313b0b20e\tCombining all results in order took 2.6e-05 seconds.\n",
      "[INFO]\t2018-01-19T03:10:08.304Z\t4023eddb-fcc6-11e7-8d83-67d313b0b20e\tBenefit retrieval for 01 took 0.763566 seconds.\n",
      "[INFO]\t2018-01-19T03:10:09.383Z\t4023eddb-fcc6-11e7-8d83-67d313b0b20e\tCalculation for 01 took 1.079216 seconds.\n",
      "[INFO]\t2018-01-19T03:10:09.383Z\t4023eddb-fcc6-11e7-8d83-67d313b0b20e\tProcessing state 06:\n",
      "[INFO]\t2018-01-19T03:10:09.422Z\t4023eddb-fcc6-11e7-8d83-67d313b0b20e\tThread initialization took 0.038391 seconds.\n",
      "[INFO]\t2018-01-19T03:10:09.482Z\t4023eddb-fcc6-11e7-8d83-67d313b0b20e\tFound credentials in environment variables.\n",
      "[INFO]\t2018-01-19T03:10:10.324Z\t4023eddb-fcc6-11e7-8d83-67d313b0b20e\tStarting new HTTPS connection (1): s3.amazonaws.com\n",
      "[INFO]\t2018-01-19T03:10:10.983Z\t4023eddb-fcc6-11e7-8d83-67d313b0b20e\tJoining all threads took 1.540259 seconds.\n",
      "[INFO]\t2018-01-19T03:10:10.984Z\t4023eddb-fcc6-11e7-8d83-67d313b0b20e\tCombining all results in order took 3.4e-05 seconds.\n",
      "[INFO]\t2018-01-19T03:10:10.985Z\t4023eddb-fcc6-11e7-8d83-67d313b0b20e\tBenefit retrieval for 06 took 1.60193 seconds.\n",
      "[INFO]\t2018-01-19T03:10:17.184Z\t4023eddb-fcc6-11e7-8d83-67d313b0b20e\tCalculation for 06 took 6.198799 seconds.\n",
      "[INFO]\t2018-01-19T03:10:17.285Z\t4023eddb-fcc6-11e7-8d83-67d313b0b20e\tFound credentials in environment variables.\n",
      "[INFO]\t2018-01-19T03:10:17.744Z\t4023eddb-fcc6-11e7-8d83-67d313b0b20e\tStarting new HTTPS connection (1): dynamodb.us-east-1.amazonaws.com\n",
      "[INFO]\t2018-01-19T03:10:17.957Z\t4023eddb-fcc6-11e7-8d83-67d313b0b20e\tWrite to DynamoDB took 0.713745 seconds.\n",
      "[INFO]\t2018-01-19T03:10:17.957Z\t4023eddb-fcc6-11e7-8d83-67d313b0b20e\tClock stopped at 2018-01-19 03:10:17.957587 (elapsed: 11.148015 seconds)\n",
      "END RequestId: 4023eddb-fcc6-11e7-8d83-67d313b0b20e\n",
      "REPORT RequestId: 4023eddb-fcc6-11e7-8d83-67d313b0b20e\tDuration: 11150.70 ms\tBilled Duration: 11200 ms \tMemory Size: 256 MB\tMax Memory Used: 89 MB\t\n",
      "\n",
      "[[u'31970436701', 6]]\n",
      "time: 11.5 s\n"
     ]
    }
   ],
   "source": [
    "response = client.run_batch(uids[:1], months=['01', '02', '03'], states=['01', '06'], verbose=True)\n",
    "\n",
    "print response"
   ]
  },
  {
   "cell_type": "code",
   "execution_count": 17,
   "metadata": {
    "collapsed": false
   },
   "outputs": [
    {
     "name": "stdout",
     "output_type": "stream",
     "text": [
      "[[u'31970436701', 36], [u'1674435601', 36]]\n",
      "time: 41.4 s\n"
     ]
    }
   ],
   "source": [
    "response = client.run_batch(uids[:2], states=['01', '06', '36'], max_calculated_uids=2)\n",
    "\n",
    "print response"
   ]
  },
  {
   "cell_type": "code",
   "execution_count": 24,
   "metadata": {
    "collapsed": false
   },
   "outputs": [
    {
     "name": "stdout",
     "output_type": "stream",
     "text": [
      "[[u'1674435601', 36], [u'31970436701', 36]]\n",
      "time: 38.7 s\n"
     ]
    }
   ],
   "source": [
    "# Test recursive call:\n",
    "response = client.run_batch(uids[:2], states=['01', '06', '36'])\n",
    "\n",
    "print response"
   ]
  },
  {
   "cell_type": "code",
   "execution_count": 29,
   "metadata": {
    "collapsed": false
   },
   "outputs": [
    {
     "name": "stdout",
     "output_type": "stream",
     "text": [
      "[[u'31970436701', 3], [u'1784327003', 3], [u'387247001', 3], [u'600970101', 3], [u'31035001601', 3], [u'291790001', 3], [u'1356374201', 3], [u'1261262001', 3], [u'617277001', 3], [u'3133478301', 3], [u'1674435601', 3], [u'246540301', 3], [u'3625817901', 3], [u'1522346501', 3], [u'31576592001', 3], [u'2038500102', 3], [u'1626625702', 3], [u'615957501', 3], [u'1565379401', 3], [u'608721802', 3], [u'204451602', 3], [u'3154052701', 3], [u'1550622501', 3], [u'1903260402', 3], [u'246223201', 3], [u'1341381501', 3], [u'652143501', 3], [u'1332096401', 3], [u'3177265701', 3], [u'3175398301', 3], [u'3158762201', 3], [u'31917048601', 3], [u'628001201', 3], [u'1305811101', 3], [u'3627934702', 3], [u'1565383201', 3], [u'3164462801', 3], [u'3130762002', 3], [u'68296201', 3], [u'1300582601', 3], [u'595989402', 3], [u'617921001', 3], [u'368519101', 3], [u'3145195601', 3], [u'3138548401', 3], [u'1284553402', 3], [u'2029497801', 3], [u'387418101', 3], [u'635086301', 3], [u'2216424101', 3], [u'894536502', 3], [u'3170818001', 3], [u'3007176901', 3], [u'1897562301', 3], [u'28478071002', 3], [u'1085861601', 3], [u'1775821302', 3], [u'32005314601', 3], [u'3158661301', 3], [u'743296902', 3], [u'30498125901', 3], [u'3182854701', 3], [u'3132408401', 3], [u'745638102', 3], [u'3211075501', 3], [u'3155856501', 3], [u'26992644701', 3], [u'893795502', 3], [u'1303609801', 3], [u'1234134401', 3], [u'2225890201', 3], [u'3173810801', 3], [u'740270202', 3], [u'1724674701', 3], [u'889536201', 3], [u'1483783102', 3], [u'872724801', 3], [u'1265577001', 3], [u'3175974801', 3], [u'3133687501', 3], [u'1789308302', 3], [u'946101001', 3], [u'599531301', 3], [u'879163601', 3], [u'1265187601', 3], [u'31384905101', 3], [u'3158063601', 3], [u'3134032001', 3], [u'1522499001', 3], [u'243699502', 3], [u'986282601', 3], [u'763956001', 3], [u'3138501301', 3], [u'1775872502', 3], [u'2291796701', 3], [u'2647252701', 3], [u'3481192301', 3], [u'605375802', 3], [u'31361676301', 3], [u'597432501', 3]]\n",
      "time: 33.5 s\n"
     ]
    }
   ],
   "source": [
    "# This only runs for large enough Lambda, e.g. 512 MB, and fails for 256 MB Lambda. \n",
    "# Memory determines how fast one can run.\n",
    "response = client.run_batch(uids[:100], months=['01'], states=['01', '06', '36'])\n",
    "\n",
    "print response"
   ]
  },
  {
   "cell_type": "code",
   "execution_count": null,
   "metadata": {
    "collapsed": true
   },
   "outputs": [],
   "source": []
  }
 ],
 "metadata": {
  "kernelspec": {
   "display_name": "Python 2",
   "language": "python",
   "name": "python2"
  },
  "language_info": {
   "codemirror_mode": {
    "name": "ipython",
    "version": 2
   },
   "file_extension": ".py",
   "mimetype": "text/x-python",
   "name": "python",
   "nbconvert_exporter": "python",
   "pygments_lexer": "ipython2",
   "version": "2.7.10"
  }
 },
 "nbformat": 4,
 "nbformat_minor": 0
}
