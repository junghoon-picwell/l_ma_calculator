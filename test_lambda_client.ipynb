{
 "cells": [
  {
   "cell_type": "code",
   "execution_count": 1,
   "metadata": {
    "collapsed": false
   },
   "outputs": [],
   "source": [
    "%load_ext autotime"
   ]
  },
  {
   "cell_type": "code",
   "execution_count": 2,
   "metadata": {
    "collapsed": false
   },
   "outputs": [
    {
     "data": {
      "text/plain": [
       "<module 'logging' from '/Library/Frameworks/Python.framework/Versions/2.7/lib/python2.7/logging/__init__.pyc'>"
      ]
     },
     "execution_count": 2,
     "metadata": {},
     "output_type": "execute_result"
    },
    {
     "name": "stdout",
     "output_type": "stream",
     "text": [
      "time: 1.55 s\n"
     ]
    }
   ],
   "source": [
    "import boto3\n",
    "import datetime\n",
    "import logging\n",
    "import json\n",
    "import pickle\n",
    "import pytest\n",
    "import sys\n",
    "import time\n",
    "\n",
    "from etltools import s3\n",
    "\n",
    "from lambda_client import (\n",
    "    ClaimsClient,\n",
    "    BenefitsClient,\n",
    "    CalculatorClient,\n",
    ")\n",
    "\n",
    "reload(logging)  # get around notebook problem"
   ]
  },
  {
   "cell_type": "code",
   "execution_count": 3,
   "metadata": {
    "collapsed": false
   },
   "outputs": [
    {
     "name": "stdout",
     "output_type": "stream",
     "text": [
      "time: 2.27 ms\n"
     ]
    }
   ],
   "source": [
    "logging.basicConfig(\n",
    "    level=logging.INFO, \n",
    "    format='[%(asctime)s] {%(filename)s:%(lineno)d} %(levelname)s - %(message)s',\n",
    "#     handlers=[\n",
    "#         logging.FileHandler(filename='mylog.log', mode='w'),\n",
    "#         logging.StreamHandler(sys.stdout),\n",
    "#     ]\n",
    ")"
   ]
  },
  {
   "cell_type": "code",
   "execution_count": 4,
   "metadata": {
    "collapsed": false
   },
   "outputs": [
    {
     "name": "stderr",
     "output_type": "stream",
     "text": [
      "[2018-01-18 17:27:37,369] {<ipython-input-4-efd2929c73d3>:3} INFO - TEST INFO\n"
     ]
    },
    {
     "name": "stdout",
     "output_type": "stream",
     "text": [
      "time: 2.05 ms\n"
     ]
    }
   ],
   "source": [
    "# Test whether logging works:\n",
    "logger = logging.getLogger()\n",
    "logger.info('TEST INFO')"
   ]
  },
  {
   "cell_type": "code",
   "execution_count": 5,
   "metadata": {
    "collapsed": false
   },
   "outputs": [
    {
     "name": "stdout",
     "output_type": "stream",
     "text": [
      "time: 790 ms\n"
     ]
    }
   ],
   "source": [
    "aws_info = {\n",
    "    'profile_name': 'sandbox',\n",
    "}\n",
    "\n",
    "uids = s3.read_json('s3://picwell.sandbox.medicare/samples/philadelphia-2015-1k-sample')\n",
    "pids = ['2820028008119', '2820088001036']"
   ]
  },
  {
   "cell_type": "markdown",
   "metadata": {},
   "source": [
    "# Test ConfigInfo"
   ]
  },
  {
   "cell_type": "code",
   "execution_count": 6,
   "metadata": {
    "collapsed": false
   },
   "outputs": [
    {
     "name": "stdout",
     "output_type": "stream",
     "text": [
      "picwell.sandbox.analytics\n",
      "junghoon/lambda_calculator\n",
      "\n",
      "picwell.sandbox.analytics\n",
      "junghoon/lambda_calculator_benefits\n",
      "\n",
      "ma_claims\n",
      "time: 3.76 ms\n"
     ]
    }
   ],
   "source": [
    "from lambda_client.config_info import ConfigInfo\n",
    "\n",
    "configs = ConfigInfo('lambda_client/lambda.cfg')\n",
    "\n",
    "print configs.claims_bucket\n",
    "print configs.claims_path\n",
    "print\n",
    "print configs.benefits_bucket\n",
    "print configs.benefits_path\n",
    "print\n",
    "print configs.claims_table"
   ]
  },
  {
   "cell_type": "code",
   "execution_count": 7,
   "metadata": {
    "collapsed": false
   },
   "outputs": [
    {
     "name": "stdout",
     "output_type": "stream",
     "text": [
      "51 states\n",
      "['01', '04', '05', '06', '08', '09', '10', '11', '12', '13', '15', '16', '17', '18', '19', '20', '21', '22', '23', '24', '25', '26', '27', '28', '29', '30', '31', '32', '33', '34', '35', '36', '37', '38', '39', '40', '41', '42', '44', '45', '46', '47', '48', '49', '50', '51', '53', '54', '55', '56', '72']\n",
      "time: 1.3 ms\n"
     ]
    }
   ],
   "source": [
    "all_states = configs.all_states\n",
    "\n",
    "print '{} states'.format(len(all_states))\n",
    "print all_states"
   ]
  },
  {
   "cell_type": "markdown",
   "metadata": {},
   "source": [
    "# Test ClaimsClient"
   ]
  },
  {
   "cell_type": "code",
   "execution_count": 8,
   "metadata": {
    "collapsed": false
   },
   "outputs": [
    {
     "name": "stdout",
     "output_type": "stream",
     "text": [
      "claims of 1 people retrieved\n",
      "time: 242 ms\n"
     ]
    }
   ],
   "source": [
    "# Test S3:\n",
    "client = ClaimsClient(aws_info, \n",
    "                      s3_bucket=configs.claims_bucket,\n",
    "                      s3_path=configs.claims_path)\n",
    "\n",
    "people = client.get(uids[:1])\n",
    "print 'claims of {} people retrieved'.format(len(people))"
   ]
  },
  {
   "cell_type": "code",
   "execution_count": 9,
   "metadata": {
    "collapsed": false
   },
   "outputs": [
    {
     "name": "stdout",
     "output_type": "stream",
     "text": [
      "['medical_claims', 'uid']\n"
     ]
    },
    {
     "data": {
      "text/plain": [
       "{'medical_claims': [{'admitted': '2014-04-03',\n",
       "   'benefit_category': 16,\n",
       "   'cost': 148.0,\n",
       "   'discharged': '2014-04-03',\n",
       "   'length_of_stay': 1},\n",
       "  {'admitted': '2014-05-02',\n",
       "   'benefit_category': 16,\n",
       "   'cost': 74.55,\n",
       "   'discharged': '2014-05-02',\n",
       "   'length_of_stay': 1},\n",
       "  {'admitted': '2014-05-05',\n",
       "   'benefit_category': 16,\n",
       "   'cost': 104.39,\n",
       "   'discharged': '2014-05-05',\n",
       "   'length_of_stay': 1},\n",
       "  {'admitted': '2014-05-13',\n",
       "   'benefit_category': 16,\n",
       "   'cost': 210.12,\n",
       "   'discharged': '2014-05-13',\n",
       "   'length_of_stay': 1},\n",
       "  {'admitted': '2014-05-19',\n",
       "   'benefit_category': 11,\n",
       "   'cost': 442.2,\n",
       "   'discharged': '2014-05-19',\n",
       "   'length_of_stay': 1}],\n",
       " 'uid': '1302895801'}"
      ]
     },
     "execution_count": 9,
     "metadata": {},
     "output_type": "execute_result"
    },
    {
     "name": "stdout",
     "output_type": "stream",
     "text": [
      "time: 5.3 ms\n"
     ]
    }
   ],
   "source": [
    "person = people[0]\n",
    "print person.keys()\n",
    "{\n",
    "    'uid': person['uid'],\n",
    "    'medical_claims': person['medical_claims'][:5]\n",
    "}"
   ]
  },
  {
   "cell_type": "code",
   "execution_count": 10,
   "metadata": {
    "collapsed": false
   },
   "outputs": [
    {
     "name": "stdout",
     "output_type": "stream",
     "text": [
      "claims of 1000 people retrieved\n",
      "time: 2min 28s\n"
     ]
    }
   ],
   "source": [
    "# Let's try something larger:\n",
    "people = client.get(uids)\n",
    "print 'claims of {} people retrieved'.format(len(people))"
   ]
  },
  {
   "cell_type": "code",
   "execution_count": 11,
   "metadata": {
    "collapsed": false
   },
   "outputs": [
    {
     "name": "stdout",
     "output_type": "stream",
     "text": [
      "claims of 1 people retrieved\n",
      "time: 184 ms\n"
     ]
    }
   ],
   "source": [
    "# Test DynamoDB:\n",
    "client = ClaimsClient(aws_info,\n",
    "                      table_name=configs.claims_table)\n",
    "\n",
    "people = client.get(uids[:1])\n",
    "print 'claims of {} people retrieved'.format(len(people))"
   ]
  },
  {
   "cell_type": "code",
   "execution_count": 12,
   "metadata": {
    "collapsed": false
   },
   "outputs": [
    {
     "name": "stdout",
     "output_type": "stream",
     "text": [
      "['medical_claims', 'uid']\n"
     ]
    },
    {
     "data": {
      "text/plain": [
       "{'medical_claims': [{'admitted': '2014-04-03',\n",
       "   'benefit_category': 16,\n",
       "   'cost': 148.0,\n",
       "   'discharged': '2014-04-03',\n",
       "   'length_of_stay': 1},\n",
       "  {'admitted': '2014-05-02',\n",
       "   'benefit_category': 16,\n",
       "   'cost': 74.55,\n",
       "   'discharged': '2014-05-02',\n",
       "   'length_of_stay': 1},\n",
       "  {'admitted': '2014-05-05',\n",
       "   'benefit_category': 16,\n",
       "   'cost': 104.39,\n",
       "   'discharged': '2014-05-05',\n",
       "   'length_of_stay': 1},\n",
       "  {'admitted': '2014-05-13',\n",
       "   'benefit_category': 16,\n",
       "   'cost': 210.12,\n",
       "   'discharged': '2014-05-13',\n",
       "   'length_of_stay': 1},\n",
       "  {'admitted': '2014-05-19',\n",
       "   'benefit_category': 11,\n",
       "   'cost': 442.2,\n",
       "   'discharged': '2014-05-19',\n",
       "   'length_of_stay': 1}],\n",
       " 'uid': '1302895801'}"
      ]
     },
     "execution_count": 12,
     "metadata": {},
     "output_type": "execute_result"
    },
    {
     "name": "stdout",
     "output_type": "stream",
     "text": [
      "time: 4.72 ms\n"
     ]
    }
   ],
   "source": [
    "person = people[0]\n",
    "print person.keys()\n",
    "{\n",
    "    'uid': person['uid'],\n",
    "    'medical_claims': person['medical_claims'][:5]\n",
    "}"
   ]
  },
  {
   "cell_type": "code",
   "execution_count": 13,
   "metadata": {
    "collapsed": false
   },
   "outputs": [
    {
     "name": "stdout",
     "output_type": "stream",
     "text": [
      "claims of 1000 people retrieved\n",
      "time: 8.71 s\n"
     ]
    }
   ],
   "source": [
    "# Let's try something larger:\n",
    "people = client.get(uids)\n",
    "print 'claims of {} people retrieved'.format(len(people))"
   ]
  },
  {
   "cell_type": "code",
   "execution_count": 14,
   "metadata": {
    "collapsed": false
   },
   "outputs": [
    {
     "name": "stdout",
     "output_type": "stream",
     "text": [
      "claims of 5 people retrieved\n",
      "time: 714 ms\n"
     ]
    }
   ],
   "source": [
    "# Test configuration file and retrieving multiple people:\n",
    "client = ClaimsClient(aws_info)\n",
    "\n",
    "people = client.get(uids[:5])\n",
    "print 'claims of {} people retrieved'.format(len(people))"
   ]
  },
  {
   "cell_type": "code",
   "execution_count": 15,
   "metadata": {
    "collapsed": false
   },
   "outputs": [
    {
     "name": "stdout",
     "output_type": "stream",
     "text": [
      "time: 1.32 ms\n"
     ]
    }
   ],
   "source": [
    "# The object should not be pickled.\n",
    "with pytest.raises(Exception, match='ClaimsClient object cannot be pickled.'):\n",
    "    pickle.dumps(client)"
   ]
  },
  {
   "cell_type": "markdown",
   "metadata": {},
   "source": [
    "# Test BenefitsClient"
   ]
  },
  {
   "cell_type": "code",
   "execution_count": 16,
   "metadata": {
    "collapsed": false
   },
   "outputs": [
    {
     "name": "stdout",
     "output_type": "stream",
     "text": [
      "['01', '04', '05', '06', '08', '09', '10', '11', '12', '13', '15', '16', '17', '18', '19', '20', '21', '22', '23', '24', '25', '26', '27', '28', '29', '30', '31', '32', '33', '34', '35', '36', '37', '38', '39', '40', '41', '42', '44', '45', '46', '47', '48', '49', '50', '51', '53', '54', '55', '56', '72']\n",
      "time: 1.4 ms\n"
     ]
    }
   ],
   "source": [
    "client = BenefitsClient(aws_info)\n",
    "\n",
    "print client.all_states"
   ]
  },
  {
   "cell_type": "code",
   "execution_count": 17,
   "metadata": {
    "collapsed": false
   },
   "outputs": [
    {
     "name": "stdout",
     "output_type": "stream",
     "text": [
      "47 plans read for state 01\n",
      "75 plans read for state 04\n",
      "time: 708 ms\n"
     ]
    }
   ],
   "source": [
    "plans = client._get_one_state('01')\n",
    "print '{} plans read for state 01'.format(len(plans))\n",
    "\n",
    "plans = client._get_one_state('04')\n",
    "print '{} plans read for state 04'.format(len(plans))"
   ]
  },
  {
   "cell_type": "code",
   "execution_count": 18,
   "metadata": {
    "collapsed": false
   },
   "outputs": [
    {
     "name": "stdout",
     "output_type": "stream",
     "text": [
      "122 plans read\n",
      "time: 481 ms\n"
     ]
    }
   ],
   "source": [
    "plans = client.get_by_state(['01', '04'])\n",
    "print '{} plans read'.format(len(plans))"
   ]
  },
  {
   "cell_type": "code",
   "execution_count": 19,
   "metadata": {
    "collapsed": false
   },
   "outputs": [
    {
     "name": "stdout",
     "output_type": "stream",
     "text": [
      "3558 plans read\n",
      "time: 8.82 s\n"
     ]
    }
   ],
   "source": [
    "plans = client.get_all()\n",
    "print '{} plans read'.format(len(plans))"
   ]
  },
  {
   "cell_type": "code",
   "execution_count": 20,
   "metadata": {
    "collapsed": false
   },
   "outputs": [
    {
     "name": "stdout",
     "output_type": "stream",
     "text": [
      "time: 60.9 ms\n"
     ]
    }
   ],
   "source": [
    "# Compare the timing against reading the entire file:\n",
    "from lambda_client.shared_utils import _read_json\n",
    "\n",
    "session = boto3.Session(**aws_info)\n",
    "resource = session.resource('s3')"
   ]
  },
  {
   "cell_type": "code",
   "execution_count": 21,
   "metadata": {
    "collapsed": false
   },
   "outputs": [
    {
     "name": "stdout",
     "output_type": "stream",
     "text": [
      "3558 plans read\n",
      "time: 2.99 s\n"
     ]
    }
   ],
   "source": [
    "all_plans = _read_json('picwell.sandbox.medicare', 'ma_benefits/cms_2018_pbps_20171005.json', resource)\n",
    "\n",
    "print '{} plans read'.format(len(plans))"
   ]
  },
  {
   "cell_type": "code",
   "execution_count": 22,
   "metadata": {
    "collapsed": false
   },
   "outputs": [
    {
     "name": "stdout",
     "output_type": "stream",
     "text": [
      "time: 141 ms\n"
     ]
    }
   ],
   "source": [
    "# Ensure that the same plans are read:\n",
    "sort_key = lambda plan: plan['picwell_id']\n",
    "assert sorted(all_plans, key=sort_key) == sorted(plans, key=sort_key)"
   ]
  },
  {
   "cell_type": "code",
   "execution_count": 23,
   "metadata": {
    "collapsed": false
   },
   "outputs": [
    {
     "name": "stdout",
     "output_type": "stream",
     "text": [
      "time: 1.41 ms\n"
     ]
    }
   ],
   "source": [
    "# The object should not be pickled.\n",
    "with pytest.raises(Exception, match='BenefitsClient object cannot be pickled.'):\n",
    "    pickle.dumps(client)"
   ]
  },
  {
   "cell_type": "markdown",
   "metadata": {},
   "source": [
    "# Test Cost Breakdown"
   ]
  },
  {
   "cell_type": "code",
   "execution_count": 24,
   "metadata": {
    "collapsed": false
   },
   "outputs": [
    {
     "name": "stdout",
     "output_type": "stream",
     "text": [
      "time: 599 µs\n"
     ]
    }
   ],
   "source": [
    "client = CalculatorClient(aws_info)"
   ]
  },
  {
   "cell_type": "code",
   "execution_count": 25,
   "metadata": {
    "collapsed": false
   },
   "outputs": [
    {
     "name": "stdout",
     "output_type": "stream",
     "text": [
      "START RequestId: 36d8d96c-fc9f-11e7-9e99-9f968b194494 Version: $LATEST\n",
      "[INFO]\t2018-01-18T22:30:41.106Z\t36d8d96c-fc9f-11e7-9e99-9f968b194494\tClock started at 2018-01-18 22:30:41.106150.\n",
      "[INFO]\t2018-01-18T22:30:41.131Z\t36d8d96c-fc9f-11e7-9e99-9f968b194494\tThread initialization took 0.024793 seconds.\n",
      "[INFO]\t2018-01-18T22:30:41.212Z\t36d8d96c-fc9f-11e7-9e99-9f968b194494\tFound credentials in environment variables.\n",
      "[INFO]\t2018-01-18T22:30:41.672Z\t36d8d96c-fc9f-11e7-9e99-9f968b194494\tStarting new HTTPS connection (1): s3.amazonaws.com\n",
      "[INFO]\t2018-01-18T22:30:41.783Z\t36d8d96c-fc9f-11e7-9e99-9f968b194494\tJoining all threads took 0.651865 seconds.\n",
      "[INFO]\t2018-01-18T22:30:41.783Z\t36d8d96c-fc9f-11e7-9e99-9f968b194494\tCombining all results in order took 2.6e-05 seconds.\n",
      "[INFO]\t2018-01-18T22:30:41.783Z\t36d8d96c-fc9f-11e7-9e99-9f968b194494\tClaim retrieval for [u'1302895801'] took 0.677302 seconds.\n",
      "[INFO]\t2018-01-18T22:30:41.851Z\t36d8d96c-fc9f-11e7-9e99-9f968b194494\tThread initialization took 0.067441 seconds.\n",
      "[INFO]\t2018-01-18T22:30:41.953Z\t36d8d96c-fc9f-11e7-9e99-9f968b194494\tFound credentials in environment variables.\n",
      "[INFO]\t2018-01-18T22:30:42.155Z\t36d8d96c-fc9f-11e7-9e99-9f968b194494\tFound credentials in environment variables.\n",
      "[INFO]\t2018-01-18T22:30:43.354Z\t36d8d96c-fc9f-11e7-9e99-9f968b194494\tStarting new HTTPS connection (1): s3.amazonaws.com\n",
      "[INFO]\t2018-01-18T22:30:43.694Z\t36d8d96c-fc9f-11e7-9e99-9f968b194494\tStarting new HTTPS connection (1): s3.amazonaws.com\n",
      "[INFO]\t2018-01-18T22:30:44.431Z\t36d8d96c-fc9f-11e7-9e99-9f968b194494\tJoining all threads took 2.579823 seconds.\n",
      "[INFO]\t2018-01-18T22:30:44.431Z\t36d8d96c-fc9f-11e7-9e99-9f968b194494\tCombining all results in order took 3.5e-05 seconds.\n",
      "[INFO]\t2018-01-18T22:30:44.454Z\t36d8d96c-fc9f-11e7-9e99-9f968b194494\tBenefit retrieval took 2.670964 seconds.\n",
      "[INFO]\t2018-01-18T22:30:44.494Z\t36d8d96c-fc9f-11e7-9e99-9f968b194494\tCalculation took 0.039883 seconds.\n",
      "[INFO]\t2018-01-18T22:30:44.495Z\t36d8d96c-fc9f-11e7-9e99-9f968b194494\tClock stopped at 2018-01-18 22:30:44.495106 (elapsed: 3.388961 seconds)\n",
      "END RequestId: 36d8d96c-fc9f-11e7-9e99-9f968b194494\n",
      "REPORT RequestId: 36d8d96c-fc9f-11e7-9e99-9f968b194494\tDuration: 3405.78 ms\tBilled Duration: 3500 ms \tMemory Size: 256 MB\tMax Memory Used: 69 MB\t\n",
      "\n",
      "2 responses returned\n"
     ]
    },
    {
     "data": {
      "text/plain": [
       "{u'allowed': 26376.640000000003,\n",
       " u'covered_breakdown': {u'categories': {u'0': 0.0,\n",
       "   u'11': 186.33999999999997,\n",
       "   u'13': 13.23,\n",
       "   u'15': 30.79,\n",
       "   u'16': 0.0,\n",
       "   u'19': 80.0,\n",
       "   u'25': 1750.0,\n",
       "   u'30': 719.1700000000001,\n",
       "   u'31': 300.0,\n",
       "   u'44': 0.0,\n",
       "   u'49': 118.48800000000001,\n",
       "   u'7': 479.558},\n",
       "  u'composite': 3677.5759999999996,\n",
       "  u'in_network': 3677.5759999999996,\n",
       "  u'out_network': 0.0},\n",
       " u'deductible_breakdown': {u'categories': {u'0': 0.0,\n",
       "   u'11': 0.0,\n",
       "   u'13': 0.0,\n",
       "   u'15': 0.0,\n",
       "   u'16': 0.0,\n",
       "   u'19': 0.0,\n",
       "   u'25': 0.0,\n",
       "   u'30': 0.0,\n",
       "   u'31': 0.0,\n",
       "   u'44': 0.0,\n",
       "   u'49': 0.0,\n",
       "   u'7': 0.0},\n",
       "  u'composite': 0.0,\n",
       "  u'in_network': 0.0,\n",
       "  u'out_network': 0.0},\n",
       " u'oop': 3677.5759999999996,\n",
       " u'picwell_id': u'2820028008119',\n",
       " u'uid': u'1302895801',\n",
       " u'uncovered': 0.0,\n",
       " u'uncovered_breakdown': {u'categories': {u'0': 0.0,\n",
       "   u'11': 0.0,\n",
       "   u'13': 0.0,\n",
       "   u'15': 0.0,\n",
       "   u'16': 0.0,\n",
       "   u'19': 0.0,\n",
       "   u'25': 0.0,\n",
       "   u'30': 0.0,\n",
       "   u'31': 0.0,\n",
       "   u'44': 0.0,\n",
       "   u'49': 0.0,\n",
       "   u'7': 0.0},\n",
       "  u'composite': 0.0,\n",
       "  u'in_network': 0.0,\n",
       "  u'out_network': 0.0}}"
      ]
     },
     "execution_count": 25,
     "metadata": {},
     "output_type": "execute_result"
    },
    {
     "name": "stdout",
     "output_type": "stream",
     "text": [
      "time: 3.99 s\n"
     ]
    }
   ],
   "source": [
    "responses = client.get_breakdown(uids[:1], pids, verbose=True)\n",
    "\n",
    "print '{} responses returned'.format(len(responses))\n",
    "responses[0]"
   ]
  },
  {
   "cell_type": "code",
   "execution_count": 26,
   "metadata": {
    "collapsed": false
   },
   "outputs": [
    {
     "name": "stdout",
     "output_type": "stream",
     "text": [
      "START RequestId: 392dc58a-fc9f-11e7-8487-bb60a367ee6d Version: $LATEST\n",
      "[INFO]\t2018-01-18T22:30:44.751Z\t392dc58a-fc9f-11e7-8487-bb60a367ee6d\tClock started at 2018-01-18 22:30:44.751086.\n",
      "[INFO]\t2018-01-18T22:30:44.791Z\t392dc58a-fc9f-11e7-8487-bb60a367ee6d\tThread initialization took 0.039802 seconds.\n",
      "[INFO]\t2018-01-18T22:30:44.793Z\t392dc58a-fc9f-11e7-8487-bb60a367ee6d\tFound credentials in environment variables.\n",
      "[INFO]\t2018-01-18T22:30:45.72Z\t392dc58a-fc9f-11e7-8487-bb60a367ee6d\tStarting new HTTPS connection (1): dynamodb.us-east-1.amazonaws.com\n",
      "[INFO]\t2018-01-18T22:30:45.474Z\t392dc58a-fc9f-11e7-8487-bb60a367ee6d\tJoining all threads took 0.68263 seconds.\n",
      "[INFO]\t2018-01-18T22:30:45.474Z\t392dc58a-fc9f-11e7-8487-bb60a367ee6d\tCombining all results in order took 2.3e-05 seconds.\n",
      "[INFO]\t2018-01-18T22:30:45.474Z\t392dc58a-fc9f-11e7-8487-bb60a367ee6d\tClaim retrieval for [u'1302895801'] took 0.723349 seconds.\n",
      "[INFO]\t2018-01-18T22:30:45.512Z\t392dc58a-fc9f-11e7-8487-bb60a367ee6d\tThread initialization took 0.037919 seconds.\n",
      "[INFO]\t2018-01-18T22:30:45.772Z\t392dc58a-fc9f-11e7-8487-bb60a367ee6d\tFound credentials in environment variables.\n",
      "[INFO]\t2018-01-18T22:30:46.14Z\t392dc58a-fc9f-11e7-8487-bb60a367ee6d\tFound credentials in environment variables.\n",
      "[INFO]\t2018-01-18T22:30:47.35Z\t392dc58a-fc9f-11e7-8487-bb60a367ee6d\tStarting new HTTPS connection (1): s3.amazonaws.com\n",
      "[INFO]\t2018-01-18T22:30:47.234Z\t392dc58a-fc9f-11e7-8487-bb60a367ee6d\tStarting new HTTPS connection (1): s3.amazonaws.com\n",
      "[INFO]\t2018-01-18T22:30:48.292Z\t392dc58a-fc9f-11e7-8487-bb60a367ee6d\tJoining all threads took 2.779484 seconds.\n",
      "[INFO]\t2018-01-18T22:30:48.292Z\t392dc58a-fc9f-11e7-8487-bb60a367ee6d\tCombining all results in order took 2.7e-05 seconds.\n",
      "[INFO]\t2018-01-18T22:30:48.351Z\t392dc58a-fc9f-11e7-8487-bb60a367ee6d\tBenefit retrieval took 2.876793 seconds.\n",
      "[INFO]\t2018-01-18T22:30:48.353Z\t392dc58a-fc9f-11e7-8487-bb60a367ee6d\tCalculation took 0.001821 seconds.\n",
      "[INFO]\t2018-01-18T22:30:48.353Z\t392dc58a-fc9f-11e7-8487-bb60a367ee6d\tClock stopped at 2018-01-18 22:30:48.353849 (elapsed: 3.602767 seconds)\n",
      "END RequestId: 392dc58a-fc9f-11e7-8487-bb60a367ee6d\n",
      "REPORT RequestId: 392dc58a-fc9f-11e7-8487-bb60a367ee6d\tDuration: 3603.52 ms\tBilled Duration: 3700 ms \tMemory Size: 256 MB\tMax Memory Used: 75 MB\t\n",
      "\n",
      "2 responses returned\n",
      "time: 3.71 s\n"
     ]
    }
   ],
   "source": [
    "responses = client.get_breakdown(uids[:1], pids, use_s3_for_claims=False, verbose=True)\n",
    "\n",
    "print '{} responses returned'.format(len(responses))"
   ]
  },
  {
   "cell_type": "code",
   "execution_count": 27,
   "metadata": {
    "collapsed": false
   },
   "outputs": [
    {
     "name": "stdout",
     "output_type": "stream",
     "text": [
      "20 responses returned\n",
      "time: 24.7 s\n"
     ]
    }
   ],
   "source": [
    "# Test recursive call:\n",
    "responses = client.get_breakdown(uids[:10], pids, max_calculated_uids=10)\n",
    "\n",
    "print '{} responses returned'.format(len(responses))"
   ]
  },
  {
   "cell_type": "code",
   "execution_count": 28,
   "metadata": {
    "collapsed": false
   },
   "outputs": [
    {
     "name": "stdout",
     "output_type": "stream",
     "text": [
      "20 responses returned\n",
      "time: 10.7 s\n"
     ]
    }
   ],
   "source": [
    "responses = client.get_breakdown(uids[:10], pids, max_lambda_calls=2)\n",
    "\n",
    "print '{} responses returned'.format(len(responses))"
   ]
  },
  {
   "cell_type": "code",
   "execution_count": 29,
   "metadata": {
    "collapsed": false
   },
   "outputs": [
    {
     "name": "stdout",
     "output_type": "stream",
     "text": [
      "20 responses returned\n",
      "time: 6.45 s\n"
     ]
    }
   ],
   "source": [
    "responses = client.get_breakdown(uids[:10], pids)\n",
    "\n",
    "print '{} responses returned'.format(len(responses))"
   ]
  },
  {
   "cell_type": "code",
   "execution_count": 30,
   "metadata": {
    "collapsed": false
   },
   "outputs": [
    {
     "name": "stdout",
     "output_type": "stream",
     "text": [
      "20 responses returned\n",
      "time: 3.99 s\n"
     ]
    }
   ],
   "source": [
    "# Check whether DynamoDB reduces latency:\n",
    "responses = client.get_breakdown(uids[:10], pids, use_s3_for_claims=False, max_calculated_uids=10)\n",
    "\n",
    "print '{} responses returned'.format(len(responses))"
   ]
  },
  {
   "cell_type": "code",
   "execution_count": 31,
   "metadata": {
    "collapsed": false,
    "scrolled": true
   },
   "outputs": [
    {
     "name": "stdout",
     "output_type": "stream",
     "text": [
      "2000 responses returned\n",
      "time: 24.9 s\n"
     ]
    }
   ],
   "source": [
    "# Let's try something larger:\n",
    "responses = client.get_breakdown(uids, pids)\n",
    "\n",
    "print '{} responses returned'.format(len(responses))"
   ]
  },
  {
   "cell_type": "code",
   "execution_count": 32,
   "metadata": {
    "collapsed": false
   },
   "outputs": [
    {
     "name": "stdout",
     "output_type": "stream",
     "text": [
      "2000 responses returned\n",
      "time: 20.1 s\n"
     ]
    }
   ],
   "source": [
    "responses = client.get_breakdown(uids, pids, use_s3_for_claims=False)\n",
    "\n",
    "print '{} responses returned'.format(len(responses))"
   ]
  },
  {
   "cell_type": "code",
   "execution_count": 33,
   "metadata": {
    "collapsed": false
   },
   "outputs": [
    {
     "name": "stdout",
     "output_type": "stream",
     "text": [
      "2000 responses returned\n",
      "time: 15.3 s\n"
     ]
    }
   ],
   "source": [
    "# Runs into memory issue if all 1000 people are calculated once:\n",
    "responses = client.get_breakdown(uids, pids, use_s3_for_claims=False, max_calculated_uids=100, max_lambda_calls=10)\n",
    "\n",
    "print '{} responses returned'.format(len(responses))"
   ]
  },
  {
   "cell_type": "code",
   "execution_count": 45,
   "metadata": {
    "collapsed": false
   },
   "outputs": [
    {
     "name": "stdout",
     "output_type": "stream",
     "text": [
      "time: 6.28 ms\n"
     ]
    }
   ],
   "source": [
    "from lambda_package.calc.calculator import calculate_oop\n",
    "\n",
    "def run_locally(people, plans, oop_only):\n",
    "    costs = []\n",
    "    \n",
    "    for person in people:\n",
    "        claims = person['medical_claims']\n",
    "    \n",
    "        for plan in plans:\n",
    "\n",
    "            cost = calculate_oop(claims, plan)\n",
    "            if oop_only:\n",
    "                cost = {\n",
    "                    'oop': cost['oop']\n",
    "                }\n",
    "\n",
    "            cost.update({\n",
    "                'uid': person['uid'],\n",
    "                'picwell_id': str(plan['picwell_id']),\n",
    "            })\n",
    "\n",
    "            costs.append(cost)\n",
    "    \n",
    "    return costs"
   ]
  },
  {
   "cell_type": "code",
   "execution_count": 46,
   "metadata": {
    "collapsed": false
   },
   "outputs": [
    {
     "name": "stdout",
     "output_type": "stream",
     "text": [
      "2000 costs calculated\n",
      "time: 11.2 s\n"
     ]
    }
   ],
   "source": [
    "# Run calculcations locally for comparison:\n",
    "# claims_client = ClaimsClient(aws_info, \n",
    "#                              s3_bucket=configs.claims_bucket,\n",
    "#                              s3_path=configs.claims_path)\n",
    "claims_client = ClaimsClient(aws_info, \n",
    "                             table_name=configs.claims_table)\n",
    "people = claims_client.get(uids)\n",
    "\n",
    "benefits_client = BenefitsClient(aws_info)\n",
    "plans = benefits_client.get_by_pid(pids)\n",
    "\n",
    "costs = run_locally(people, plans, False)\n",
    "\n",
    "print '{} costs calculated'.format(len(costs))"
   ]
  },
  {
   "cell_type": "code",
   "execution_count": 35,
   "metadata": {
    "collapsed": false
   },
   "outputs": [
    {
     "name": "stdout",
     "output_type": "stream",
     "text": [
      "268 plans identified\n",
      "time: 353 ms\n"
     ]
    }
   ],
   "source": [
    "# benefits_client = BenefitsClient()\n",
    "benefits_client = BenefitsClient(aws_info)\n",
    "plans_CA = benefits_client.get_by_state(['06'])\n",
    "pids_CA = [plan['picwell_id'] for plan in plans_CA]\n",
    "\n",
    "print '{} plans identified'.format(len(pids_CA))"
   ]
  },
  {
   "cell_type": "code",
   "execution_count": 36,
   "metadata": {
    "collapsed": false
   },
   "outputs": [
    {
     "name": "stdout",
     "output_type": "stream",
     "text": [
      "80400 responses returned\n",
      "time: 19.4 s\n"
     ]
    }
   ],
   "source": [
    "# Try a sample size more relevant to commercial:\n",
    "responses = client.get_oop(uids[:300], pids_CA)\n",
    "\n",
    "print '{} responses returned'.format(len(responses))"
   ]
  },
  {
   "cell_type": "code",
   "execution_count": 37,
   "metadata": {
    "collapsed": false
   },
   "outputs": [
    {
     "name": "stdout",
     "output_type": "stream",
     "text": [
      "80400 responses returned\n",
      "time: 17.5 s\n"
     ]
    }
   ],
   "source": [
    "responses = client.get_oop(uids[:300], pids_CA, use_s3_for_claims=False)\n",
    "\n",
    "print '{} responses returned'.format(len(responses))"
   ]
  },
  {
   "cell_type": "code",
   "execution_count": 42,
   "metadata": {
    "collapsed": false
   },
   "outputs": [
    {
     "name": "stdout",
     "output_type": "stream",
     "text": [
      "80400 responses returned\n",
      "time: 23.8 s\n"
     ]
    }
   ],
   "source": [
    "# Increasing the amount of computation at the terminal nodes increases the time. This is probably\n",
    "# because there are many plans.\n",
    "responses = client.get_oop(uids[:300], pids_CA, use_s3_for_claims=False, max_calculated_uids=3)\n",
    "\n",
    "print '{} responses returned'.format(len(responses))"
   ]
  },
  {
   "cell_type": "code",
   "execution_count": 47,
   "metadata": {
    "collapsed": false
   },
   "outputs": [
    {
     "name": "stdout",
     "output_type": "stream",
     "text": [
      "80400 costs calculated\n",
      "time: 1min 4s\n"
     ]
    }
   ],
   "source": [
    "claims_client = ClaimsClient(aws_info, \n",
    "                             table_name=configs.claims_table)\n",
    "people = claims_client.get(uids[:300])\n",
    "\n",
    "benefits_client = BenefitsClient(aws_info)\n",
    "plans = benefits_client.get_by_pid(pids_CA)\n",
    "\n",
    "costs = run_locally(people, plans, True)\n",
    "\n",
    "print '{} costs calculated'.format(len(costs))"
   ]
  },
  {
   "cell_type": "markdown",
   "metadata": {},
   "source": [
    "# Test Batch Calculation"
   ]
  },
  {
   "cell_type": "code",
   "execution_count": 39,
   "metadata": {
    "collapsed": false
   },
   "outputs": [
    {
     "name": "stdout",
     "output_type": "stream",
     "text": [
      "time: 640 µs\n"
     ]
    }
   ],
   "source": [
    "# uids = s3.read_json('s3n://picwell.sandbox.medicare/samples/philadelphia-2015')\n",
    "\n",
    "# print '{} uids read'.format(len(uids))"
   ]
  },
  {
   "cell_type": "code",
   "execution_count": 40,
   "metadata": {
    "collapsed": false
   },
   "outputs": [
    {
     "name": "stdout",
     "output_type": "stream",
     "text": [
      "time: 847 µs\n"
     ]
    }
   ],
   "source": [
    "# uids[:10]"
   ]
  },
  {
   "cell_type": "code",
   "execution_count": 41,
   "metadata": {
    "collapsed": false
   },
   "outputs": [
    {
     "name": "stdout",
     "output_type": "stream",
     "text": [
      "time: 837 µs\n"
     ]
    }
   ],
   "source": [
    "# requests_per_second = 100\n",
    "\n",
    "# for uid in uids:\n",
    "# #     client.calculate_async(uid, months=['01'])\n",
    "#     client.calculate_async(uid)\n",
    "#     time.sleep(1.0/requests_per_second)  "
   ]
  },
  {
   "cell_type": "code",
   "execution_count": null,
   "metadata": {
    "collapsed": true
   },
   "outputs": [],
   "source": []
  }
 ],
 "metadata": {
  "kernelspec": {
   "display_name": "Python 2",
   "language": "python",
   "name": "python2"
  },
  "language_info": {
   "codemirror_mode": {
    "name": "ipython",
    "version": 2
   },
   "file_extension": ".py",
   "mimetype": "text/x-python",
   "name": "python",
   "nbconvert_exporter": "python",
   "pygments_lexer": "ipython2",
   "version": "2.7.10"
  }
 },
 "nbformat": 4,
 "nbformat_minor": 0
}
