{
 "cells": [
  {
   "cell_type": "code",
   "execution_count": 1,
   "metadata": {
    "collapsed": true
   },
   "outputs": [],
   "source": [
    "%load_ext autotime"
   ]
  },
  {
   "cell_type": "code",
   "execution_count": 2,
   "metadata": {
    "collapsed": false
   },
   "outputs": [
    {
     "name": "stdout",
     "output_type": "stream",
     "text": [
      "time: 347 ms\n"
     ]
    }
   ],
   "source": [
    "import json\n",
    "import time\n",
    "\n",
    "from etltools import s3\n",
    "from test_client import LambdaCalculatorTestClient"
   ]
  },
  {
   "cell_type": "code",
   "execution_count": 3,
   "metadata": {
    "collapsed": false
   },
   "outputs": [
    {
     "name": "stdout",
     "output_type": "stream",
     "text": [
      "time: 68.3 ms\n"
     ]
    }
   ],
   "source": [
    "client = LambdaCalculatorTestClient({'profile_name': 'sandbox'})"
   ]
  },
  {
   "cell_type": "markdown",
   "metadata": {},
   "source": [
    "# Test Cost Breakdown"
   ]
  },
  {
   "cell_type": "code",
   "execution_count": 4,
   "metadata": {
    "collapsed": false
   },
   "outputs": [
    {
     "data": {
      "text/plain": [
       "u'[{\"picwell_id\": \"2820028008119\", \"uid\": \"1000101\", \"covered_breakdown\": {\"composite\": 2730.6020000000003, \"in_network\": 2730.6020000000003, \"categories\": {\"25\": 350.0, \"13\": 106.19, \"12\": 721.0799999999999, \"15\": 179.73000000000002, \"17\": 680.0, \"49\": 12.794, \"19\": 80.0, \"32\": 0.0, \"16\": 0.0, \"41\": 0.0, \"0\": 0.0, \"7\": 520.8080000000001, \"30\": 80.0}, \"out_network\": 0.0}, \"uncovered\": 0.0, \"deductible_breakdown\": {\"composite\": 0.0, \"in_network\": 0.0, \"categories\": {\"25\": 0.0, \"13\": 0.0, \"12\": 0.0, \"15\": 0.0, \"17\": 0.0, \"49\": 0.0, \"19\": 0.0, \"32\": 0.0, \"16\": 0.0, \"41\": 0.0, \"0\": 0.0, \"7\": 0.0, \"30\": 0.0}, \"out_network\": 0.0}, \"oop\": 2730.6020000000003, \"allowed\": 14459.270000000004, \"uncovered_breakdown\": {\"composite\": 0.0, \"in_network\": 0.0, \"categories\": {\"25\": 0.0, \"13\": 0.0, \"12\": 0.0, \"15\": 0.0, \"17\": 0.0, \"49\": 0.0, \"19\": 0.0, \"32\": 0.0, \"16\": 0.0, \"41\": 0.0, \"0\": 0.0, \"7\": 0.0, \"30\": 0.0}, \"out_network\": 0.0}}, {\"picwell_id\": \"2820088001036\", \"uid\": \"1000101\", \"covered_breakdown\": {\"composite\": 2994.2419999999997, \"in_network\": 2994.2419999999997, \"categories\": {\"25\": 300.0, \"13\": 392.26, \"12\": 521.0799999999999, \"15\": 137.3, \"17\": 850.0, \"49\": 12.794, \"19\": 80.0, \"32\": 0.0, \"16\": 100.0, \"41\": 0.0, \"0\": 0.0, \"7\": 520.8080000000001, \"30\": 80.0}, \"out_network\": 0.0}, \"uncovered\": 0.0, \"deductible_breakdown\": {\"composite\": 0.0, \"in_network\": 0.0, \"categories\": {\"25\": 0.0, \"13\": 0.0, \"12\": 0.0, \"15\": 0.0, \"17\": 0.0, \"49\": 0.0, \"19\": 0.0, \"32\": 0.0, \"16\": 0.0, \"41\": 0.0, \"0\": 0.0, \"7\": 0.0, \"30\": 0.0}, \"out_network\": 0.0}, \"oop\": 2994.2419999999997, \"allowed\": 14459.270000000004, \"uncovered_breakdown\": {\"composite\": 0.0, \"in_network\": 0.0, \"categories\": {\"25\": 0.0, \"13\": 0.0, \"12\": 0.0, \"15\": 0.0, \"17\": 0.0, \"49\": 0.0, \"19\": 0.0, \"32\": 0.0, \"16\": 0.0, \"41\": 0.0, \"0\": 0.0, \"7\": 0.0, \"30\": 0.0}, \"out_network\": 0.0}}]'"
      ]
     },
     "execution_count": 4,
     "metadata": {},
     "output_type": "execute_result"
    },
    {
     "name": "stdout",
     "output_type": "stream",
     "text": [
      "time: 595 ms\n"
     ]
    }
   ],
   "source": [
    "uid = '1000101'\n",
    "pids = ['2820028008119', '2820088001036']\n",
    "\n",
    "client.calculate_breakdown(uid, pids)"
   ]
  },
  {
   "cell_type": "markdown",
   "metadata": {},
   "source": [
    "# Test Batch Calculation"
   ]
  },
  {
   "cell_type": "code",
   "execution_count": 5,
   "metadata": {
    "collapsed": false
   },
   "outputs": [
    {
     "name": "stdout",
     "output_type": "stream",
     "text": [
      "1352473 uids read\n",
      "time: 7.36 s\n"
     ]
    }
   ],
   "source": [
    "uids = s3.read_json('s3n://picwell.sandbox.medicare/samples/philadelphia-2015')\n",
    "\n",
    "print '{} uids read'.format(len(uids))"
   ]
  },
  {
   "cell_type": "code",
   "execution_count": 6,
   "metadata": {
    "collapsed": false
   },
   "outputs": [
    {
     "data": {
      "text/plain": [
       "[u'31970436701',\n",
       " u'1674435601',\n",
       " u'204451602',\n",
       " u'3158762201',\n",
       " u'595989402',\n",
       " u'894536502',\n",
       " u'30498125901',\n",
       " u'3173810801',\n",
       " u'1789308302',\n",
       " u'986282601']"
      ]
     },
     "execution_count": 6,
     "metadata": {},
     "output_type": "execute_result"
    },
    {
     "name": "stdout",
     "output_type": "stream",
     "text": [
      "time: 2.62 ms\n"
     ]
    }
   ],
   "source": [
    "uids[:10]"
   ]
  },
  {
   "cell_type": "code",
   "execution_count": null,
   "metadata": {
    "collapsed": false
   },
   "outputs": [],
   "source": [
    "for uid in uids:\n",
    "    client.calculate_async(uid, months=['01'])\n",
    "    time.sleep(1.0/40)  # 40 requests for second"
   ]
  },
  {
   "cell_type": "code",
   "execution_count": null,
   "metadata": {
    "collapsed": true
   },
   "outputs": [],
   "source": []
  }
 ],
 "metadata": {
  "kernelspec": {
   "display_name": "Python 2",
   "language": "python",
   "name": "python2"
  },
  "language_info": {
   "codemirror_mode": {
    "name": "ipython",
    "version": 2
   },
   "file_extension": ".py",
   "mimetype": "text/x-python",
   "name": "python",
   "nbconvert_exporter": "python",
   "pygments_lexer": "ipython2",
   "version": "2.7.10"
  }
 },
 "nbformat": 4,
 "nbformat_minor": 0
}
