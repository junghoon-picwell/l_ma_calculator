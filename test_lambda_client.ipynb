{
 "cells": [
  {
   "cell_type": "code",
   "execution_count": 1,
   "metadata": {
    "collapsed": false
   },
   "outputs": [],
   "source": [
    "%load_ext autotime"
   ]
  },
  {
   "cell_type": "code",
   "execution_count": 2,
   "metadata": {
    "collapsed": false
   },
   "outputs": [
    {
     "name": "stdout",
     "output_type": "stream",
     "text": [
      "time: 351 ms\n"
     ]
    }
   ],
   "source": [
    "import boto3\n",
    "import json\n",
    "import time\n",
    "\n",
    "from etltools import s3"
   ]
  },
  {
   "cell_type": "code",
   "execution_count": 3,
   "metadata": {
    "collapsed": false
   },
   "outputs": [
    {
     "name": "stdout",
     "output_type": "stream",
     "text": [
      "time: 1.26 ms\n"
     ]
    }
   ],
   "source": [
    "aws_info = {\n",
    "    'profile_name': 'sandbox',\n",
    "}\n",
    "\n",
    "uid = '1000101'"
   ]
  },
  {
   "cell_type": "markdown",
   "metadata": {},
   "source": [
    "# Test ConfigInfo"
   ]
  },
  {
   "cell_type": "code",
   "execution_count": 11,
   "metadata": {
    "collapsed": false
   },
   "outputs": [
    {
     "name": "stdout",
     "output_type": "stream",
     "text": [
      "picwell.sandbox.analytics\n",
      "junghoon/lambda_calculator\n",
      "\n",
      "picwell.sandbox.analytics\n",
      "junghoon/lambda_calculator_benefits\n",
      "\n",
      "ma_claims\n",
      "time: 3.33 ms\n"
     ]
    }
   ],
   "source": [
    "from lambda_client.config_info import ConfigInfo\n",
    "\n",
    "configs = ConfigInfo('lambda_client/lambda.cfg')\n",
    "\n",
    "print configs.claims_bucket\n",
    "print configs.claims_path\n",
    "print\n",
    "print configs.benefits_bucket\n",
    "print configs.benefits_path\n",
    "print\n",
    "print configs.claims_table"
   ]
  },
  {
   "cell_type": "code",
   "execution_count": 12,
   "metadata": {
    "collapsed": false
   },
   "outputs": [
    {
     "name": "stdout",
     "output_type": "stream",
     "text": [
      "51 states\n",
      "['01', '04', '05', '06', '08', '09', '10', '11', '12', '13', '15', '16', '17', '18', '19', '20', '21', '22', '23', '24', '25', '26', '27', '28', '29', '30', '31', '32', '33', '34', '35', '36', '37', '38', '39', '40', '41', '42', '44', '45', '46', '47', '48', '49', '50', '51', '53', '54', '55', '56', '72']\n",
      "time: 1.48 ms\n"
     ]
    }
   ],
   "source": [
    "all_states = configs.all_states\n",
    "\n",
    "print '{} states'.format(len(all_states))\n",
    "print all_states"
   ]
  },
  {
   "cell_type": "markdown",
   "metadata": {},
   "source": [
    "# Test ClaimsClient"
   ]
  },
  {
   "cell_type": "code",
   "execution_count": null,
   "metadata": {
    "collapsed": false
   },
   "outputs": [],
   "source": [
    "from lambda_client import ClaimsClient"
   ]
  },
  {
   "cell_type": "code",
   "execution_count": null,
   "metadata": {
    "collapsed": false
   },
   "outputs": [],
   "source": [
    "# Test S3:\n",
    "client = ClaimsClient(aws_info, \n",
    "                      s3_bucket=configs.claims_bucket,\n",
    "                      s3_path=configs.claims_path)\n",
    "\n",
    "client.get(uid)"
   ]
  },
  {
   "cell_type": "code",
   "execution_count": null,
   "metadata": {
    "collapsed": false
   },
   "outputs": [],
   "source": [
    "# Test DynamoDB:\n",
    "client = ClaimsClient(aws_info,\n",
    "                      table_name=configs.claims_table)\n",
    "\n",
    "client.get(uid)"
   ]
  },
  {
   "cell_type": "code",
   "execution_count": null,
   "metadata": {
    "collapsed": false
   },
   "outputs": [],
   "source": [
    "# Test configuration file:\n",
    "client = ClaimsClient(aws_info)\n",
    "\n",
    "client.get(uid)"
   ]
  },
  {
   "cell_type": "markdown",
   "metadata": {},
   "source": [
    "# Test BenefitsClient"
   ]
  },
  {
   "cell_type": "code",
   "execution_count": 13,
   "metadata": {
    "collapsed": false
   },
   "outputs": [
    {
     "name": "stdout",
     "output_type": "stream",
     "text": [
      "time: 897 µs\n"
     ]
    }
   ],
   "source": [
    "from lambda_client import BenefitsClient"
   ]
  },
  {
   "cell_type": "code",
   "execution_count": 14,
   "metadata": {
    "collapsed": false
   },
   "outputs": [
    {
     "name": "stdout",
     "output_type": "stream",
     "text": [
      "['01', '04', '05', '06', '08', '09', '10', '11', '12', '13', '15', '16', '17', '18', '19', '20', '21', '22', '23', '24', '25', '26', '27', '28', '29', '30', '31', '32', '33', '34', '35', '36', '37', '38', '39', '40', '41', '42', '44', '45', '46', '47', '48', '49', '50', '51', '53', '54', '55', '56', '72']\n",
      "time: 78.2 ms\n"
     ]
    }
   ],
   "source": [
    "client = BenefitsClient(aws_info)\n",
    "\n",
    "print client.all_states"
   ]
  },
  {
   "cell_type": "code",
   "execution_count": 5,
   "metadata": {
    "collapsed": false
   },
   "outputs": [
    {
     "name": "stdout",
     "output_type": "stream",
     "text": [
      "47 plans read for state 01\n",
      "75 plans read for state 04\n",
      "time: 577 ms\n"
     ]
    }
   ],
   "source": [
    "plans = client._get_one_state('01')\n",
    "print '{} plans read for state 01'.format(len(plans))\n",
    "\n",
    "plans = client._get_one_state('04')\n",
    "print '{} plans read for state 04'.format(len(plans))"
   ]
  },
  {
   "cell_type": "code",
   "execution_count": 6,
   "metadata": {
    "collapsed": false
   },
   "outputs": [
    {
     "name": "stdout",
     "output_type": "stream",
     "text": [
      "122 plans read\n",
      "time: 306 ms\n"
     ]
    }
   ],
   "source": [
    "plans = client.get_by_state(['01', '04'])\n",
    "print '{} plans read'.format(len(plans))"
   ]
  },
  {
   "cell_type": "code",
   "execution_count": 7,
   "metadata": {
    "collapsed": false
   },
   "outputs": [
    {
     "name": "stdout",
     "output_type": "stream",
     "text": [
      "3558 plans read\n",
      "time: 2.88 s\n"
     ]
    },
    {
     "name": "stderr",
     "output_type": "stream",
     "text": [
      "WARNING:botocore.vendored.requests.packages.urllib3.connectionpool:Connection pool is full, discarding connection: s3.amazonaws.com\n",
      "WARNING:botocore.vendored.requests.packages.urllib3.connectionpool:Connection pool is full, discarding connection: s3.amazonaws.com\n",
      "WARNING:botocore.vendored.requests.packages.urllib3.connectionpool:Connection pool is full, discarding connection: s3.amazonaws.com\n",
      "WARNING:botocore.vendored.requests.packages.urllib3.connectionpool:Connection pool is full, discarding connection: s3.amazonaws.com\n",
      "WARNING:botocore.vendored.requests.packages.urllib3.connectionpool:Connection pool is full, discarding connection: s3.amazonaws.com\n",
      "WARNING:botocore.vendored.requests.packages.urllib3.connectionpool:Connection pool is full, discarding connection: s3.amazonaws.com\n",
      "WARNING:botocore.vendored.requests.packages.urllib3.connectionpool:Connection pool is full, discarding connection: s3.amazonaws.com\n",
      "WARNING:botocore.vendored.requests.packages.urllib3.connectionpool:Connection pool is full, discarding connection: s3.amazonaws.com\n",
      "WARNING:botocore.vendored.requests.packages.urllib3.connectionpool:Connection pool is full, discarding connection: s3.amazonaws.com\n",
      "WARNING:botocore.vendored.requests.packages.urllib3.connectionpool:Connection pool is full, discarding connection: s3.amazonaws.com\n",
      "WARNING:botocore.vendored.requests.packages.urllib3.connectionpool:Connection pool is full, discarding connection: s3.amazonaws.com\n",
      "WARNING:botocore.vendored.requests.packages.urllib3.connectionpool:Connection pool is full, discarding connection: s3.amazonaws.com\n",
      "WARNING:botocore.vendored.requests.packages.urllib3.connectionpool:Connection pool is full, discarding connection: s3.amazonaws.com\n",
      "WARNING:botocore.vendored.requests.packages.urllib3.connectionpool:Connection pool is full, discarding connection: s3.amazonaws.com\n",
      "WARNING:botocore.vendored.requests.packages.urllib3.connectionpool:Connection pool is full, discarding connection: s3.amazonaws.com\n",
      "WARNING:botocore.vendored.requests.packages.urllib3.connectionpool:Connection pool is full, discarding connection: s3.amazonaws.com\n",
      "WARNING:botocore.vendored.requests.packages.urllib3.connectionpool:Connection pool is full, discarding connection: s3.amazonaws.com\n",
      "WARNING:botocore.vendored.requests.packages.urllib3.connectionpool:Connection pool is full, discarding connection: s3.amazonaws.com\n",
      "WARNING:botocore.vendored.requests.packages.urllib3.connectionpool:Connection pool is full, discarding connection: s3.amazonaws.com\n",
      "WARNING:botocore.vendored.requests.packages.urllib3.connectionpool:Connection pool is full, discarding connection: s3.amazonaws.com\n",
      "WARNING:botocore.vendored.requests.packages.urllib3.connectionpool:Connection pool is full, discarding connection: s3.amazonaws.com\n",
      "WARNING:botocore.vendored.requests.packages.urllib3.connectionpool:Connection pool is full, discarding connection: s3.amazonaws.com\n",
      "WARNING:botocore.vendored.requests.packages.urllib3.connectionpool:Connection pool is full, discarding connection: s3.amazonaws.com\n",
      "WARNING:botocore.vendored.requests.packages.urllib3.connectionpool:Connection pool is full, discarding connection: s3.amazonaws.com\n",
      "WARNING:botocore.vendored.requests.packages.urllib3.connectionpool:Connection pool is full, discarding connection: s3.amazonaws.com\n",
      "WARNING:botocore.vendored.requests.packages.urllib3.connectionpool:Connection pool is full, discarding connection: s3.amazonaws.com\n",
      "WARNING:botocore.vendored.requests.packages.urllib3.connectionpool:Connection pool is full, discarding connection: s3.amazonaws.com\n",
      "WARNING:botocore.vendored.requests.packages.urllib3.connectionpool:Connection pool is full, discarding connection: s3.amazonaws.com\n",
      "WARNING:botocore.vendored.requests.packages.urllib3.connectionpool:Connection pool is full, discarding connection: s3.amazonaws.com\n",
      "WARNING:botocore.vendored.requests.packages.urllib3.connectionpool:Connection pool is full, discarding connection: s3.amazonaws.com\n",
      "WARNING:botocore.vendored.requests.packages.urllib3.connectionpool:Connection pool is full, discarding connection: s3.amazonaws.com\n",
      "WARNING:botocore.vendored.requests.packages.urllib3.connectionpool:Connection pool is full, discarding connection: s3.amazonaws.com\n",
      "WARNING:botocore.vendored.requests.packages.urllib3.connectionpool:Connection pool is full, discarding connection: s3.amazonaws.com\n",
      "WARNING:botocore.vendored.requests.packages.urllib3.connectionpool:Connection pool is full, discarding connection: s3.amazonaws.com\n",
      "WARNING:botocore.vendored.requests.packages.urllib3.connectionpool:Connection pool is full, discarding connection: s3.amazonaws.com\n",
      "WARNING:botocore.vendored.requests.packages.urllib3.connectionpool:Connection pool is full, discarding connection: s3.amazonaws.com\n",
      "WARNING:botocore.vendored.requests.packages.urllib3.connectionpool:Connection pool is full, discarding connection: s3.amazonaws.com\n",
      "WARNING:botocore.vendored.requests.packages.urllib3.connectionpool:Connection pool is full, discarding connection: s3.amazonaws.com\n",
      "WARNING:botocore.vendored.requests.packages.urllib3.connectionpool:Connection pool is full, discarding connection: s3.amazonaws.com\n",
      "WARNING:botocore.vendored.requests.packages.urllib3.connectionpool:Connection pool is full, discarding connection: s3.amazonaws.com\n",
      "WARNING:botocore.vendored.requests.packages.urllib3.connectionpool:Connection pool is full, discarding connection: s3.amazonaws.com\n"
     ]
    }
   ],
   "source": [
    "plans = client.get_all()\n",
    "print '{} plans read'.format(len(plans))"
   ]
  },
  {
   "cell_type": "code",
   "execution_count": 8,
   "metadata": {
    "collapsed": false
   },
   "outputs": [
    {
     "name": "stdout",
     "output_type": "stream",
     "text": [
      "time: 57.5 ms\n"
     ]
    }
   ],
   "source": [
    "# Compare the timing against reading the entire file:\n",
    "from lambda_client.storage_utils import _read_json\n",
    "\n",
    "session = boto3.Session(**aws_info)\n",
    "resource = session.resource('s3')"
   ]
  },
  {
   "cell_type": "code",
   "execution_count": 9,
   "metadata": {
    "collapsed": false
   },
   "outputs": [
    {
     "name": "stdout",
     "output_type": "stream",
     "text": [
      "3558 plans read\n",
      "time: 4.37 s\n"
     ]
    }
   ],
   "source": [
    "all_plans = _read_json('picwell.sandbox.medicare', 'ma_benefits/cms_2018_pbps_20171005.json', resource)\n",
    "\n",
    "print '{} plans read'.format(len(plans))"
   ]
  },
  {
   "cell_type": "code",
   "execution_count": 10,
   "metadata": {
    "collapsed": false
   },
   "outputs": [
    {
     "name": "stdout",
     "output_type": "stream",
     "text": [
      "time: 131 ms\n"
     ]
    }
   ],
   "source": [
    "# Ensure that the same plans are read:\n",
    "sort_key = lambda plan: plan['picwell_id']\n",
    "assert sorted(all_plans, key=sort_key) == sorted(plans, key=sort_key)"
   ]
  },
  {
   "cell_type": "markdown",
   "metadata": {},
   "source": [
    "# Test Cost Breakdown"
   ]
  },
  {
   "cell_type": "code",
   "execution_count": null,
   "metadata": {
    "collapsed": false
   },
   "outputs": [],
   "source": [
    "from test_client import LambdaCalculatorTestClient\n",
    "\n",
    "client = LambdaCalculatorTestClient(aws_info)"
   ]
  },
  {
   "cell_type": "code",
   "execution_count": null,
   "metadata": {
    "collapsed": false
   },
   "outputs": [],
   "source": [
    "pids = ['2820028008119', '2820088001036']\n",
    "\n",
    "client.calculate_breakdown(uid, pids)"
   ]
  },
  {
   "cell_type": "markdown",
   "metadata": {},
   "source": [
    "# Test Batch Calculation"
   ]
  },
  {
   "cell_type": "code",
   "execution_count": null,
   "metadata": {
    "collapsed": false
   },
   "outputs": [],
   "source": [
    "uids = s3.read_json('s3n://picwell.sandbox.medicare/samples/philadelphia-2015')\n",
    "\n",
    "print '{} uids read'.format(len(uids))"
   ]
  },
  {
   "cell_type": "code",
   "execution_count": null,
   "metadata": {
    "collapsed": false
   },
   "outputs": [],
   "source": [
    "uids[:10]"
   ]
  },
  {
   "cell_type": "code",
   "execution_count": null,
   "metadata": {
    "collapsed": false
   },
   "outputs": [],
   "source": [
    "requests_per_second = 100\n",
    "\n",
    "for uid in uids:\n",
    "#     client.calculate_async(uid, months=['01'])\n",
    "    client.calculate_async(uid)\n",
    "    time.sleep(1.0/requests_per_second)  "
   ]
  },
  {
   "cell_type": "code",
   "execution_count": null,
   "metadata": {
    "collapsed": true
   },
   "outputs": [],
   "source": []
  }
 ],
 "metadata": {
  "kernelspec": {
   "display_name": "Python 2",
   "language": "python",
   "name": "python2"
  },
  "language_info": {
   "codemirror_mode": {
    "name": "ipython",
    "version": 2
   },
   "file_extension": ".py",
   "mimetype": "text/x-python",
   "name": "python",
   "nbconvert_exporter": "python",
   "pygments_lexer": "ipython2",
   "version": "2.7.10"
  }
 },
 "nbformat": 4,
 "nbformat_minor": 0
}
