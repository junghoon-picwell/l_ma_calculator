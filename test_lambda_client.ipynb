{
 "cells": [
  {
   "cell_type": "code",
   "execution_count": 1,
   "metadata": {
    "collapsed": false
   },
   "outputs": [],
   "source": [
    "%load_ext autotime"
   ]
  },
  {
   "cell_type": "code",
   "execution_count": 2,
   "metadata": {
    "collapsed": false
   },
   "outputs": [
    {
     "data": {
      "text/plain": [
       "<module 'logging' from '/Library/Frameworks/Python.framework/Versions/2.7/lib/python2.7/logging/__init__.pyc'>"
      ]
     },
     "execution_count": 2,
     "metadata": {},
     "output_type": "execute_result"
    },
    {
     "name": "stdout",
     "output_type": "stream",
     "text": [
      "time: 523 ms\n"
     ]
    }
   ],
   "source": [
    "import boto3\n",
    "import datetime\n",
    "import logging\n",
    "import json\n",
    "import pickle\n",
    "import pytest\n",
    "import sys\n",
    "import time\n",
    "\n",
    "from etltools import s3\n",
    "\n",
    "reload(logging)  # get around notebook problem"
   ]
  },
  {
   "cell_type": "code",
   "execution_count": 3,
   "metadata": {
    "collapsed": false
   },
   "outputs": [
    {
     "name": "stdout",
     "output_type": "stream",
     "text": [
      "time: 1.42 ms\n"
     ]
    }
   ],
   "source": [
    "logging.basicConfig(\n",
    "    level=logging.INFO, \n",
    "    format='[%(asctime)s] {%(filename)s:%(lineno)d} %(levelname)s - %(message)s',\n",
    "#     handlers=[\n",
    "#         logging.FileHandler(filename='mylog.log', mode='w'),\n",
    "#         logging.StreamHandler(sys.stdout),\n",
    "#     ]\n",
    ")"
   ]
  },
  {
   "cell_type": "code",
   "execution_count": 4,
   "metadata": {
    "collapsed": false
   },
   "outputs": [
    {
     "name": "stderr",
     "output_type": "stream",
     "text": [
      "[2018-01-08 23:10:14,544] {<ipython-input-4-efd2929c73d3>:3} INFO - TEST INFO\n"
     ]
    },
    {
     "name": "stdout",
     "output_type": "stream",
     "text": [
      "time: 1.81 ms\n"
     ]
    }
   ],
   "source": [
    "# Test whether logging works:\n",
    "logger = logging.getLogger()\n",
    "logger.info('TEST INFO')"
   ]
  },
  {
   "cell_type": "code",
   "execution_count": 5,
   "metadata": {
    "collapsed": false
   },
   "outputs": [
    {
     "name": "stdout",
     "output_type": "stream",
     "text": [
      "time: 274 ms\n"
     ]
    }
   ],
   "source": [
    "aws_info = {\n",
    "    'profile_name': 'sandbox',\n",
    "}\n",
    "\n",
    "uids = s3.read_json('s3://picwell.sandbox.medicare/samples/philadelphia-2015-1k-sample')\n",
    "pids = ['2820028008119', '2820088001036']"
   ]
  },
  {
   "cell_type": "markdown",
   "metadata": {},
   "source": [
    "# Test ConfigInfo"
   ]
  },
  {
   "cell_type": "code",
   "execution_count": 6,
   "metadata": {
    "collapsed": false
   },
   "outputs": [
    {
     "name": "stdout",
     "output_type": "stream",
     "text": [
      "picwell.sandbox.analytics\n",
      "junghoon/lambda_calculator\n",
      "\n",
      "picwell.sandbox.analytics\n",
      "junghoon/lambda_calculator_benefits\n",
      "\n",
      "ma_claims\n",
      "time: 5.51 ms\n"
     ]
    }
   ],
   "source": [
    "from lambda_client.config_info import ConfigInfo\n",
    "\n",
    "configs = ConfigInfo('lambda_client/lambda.cfg')\n",
    "\n",
    "print configs.claims_bucket\n",
    "print configs.claims_path\n",
    "print\n",
    "print configs.benefits_bucket\n",
    "print configs.benefits_path\n",
    "print\n",
    "print configs.claims_table"
   ]
  },
  {
   "cell_type": "code",
   "execution_count": 7,
   "metadata": {
    "collapsed": false
   },
   "outputs": [
    {
     "name": "stdout",
     "output_type": "stream",
     "text": [
      "51 states\n",
      "['01', '04', '05', '06', '08', '09', '10', '11', '12', '13', '15', '16', '17', '18', '19', '20', '21', '22', '23', '24', '25', '26', '27', '28', '29', '30', '31', '32', '33', '34', '35', '36', '37', '38', '39', '40', '41', '42', '44', '45', '46', '47', '48', '49', '50', '51', '53', '54', '55', '56', '72']\n",
      "time: 1.03 ms\n"
     ]
    }
   ],
   "source": [
    "all_states = configs.all_states\n",
    "\n",
    "print '{} states'.format(len(all_states))\n",
    "print all_states"
   ]
  },
  {
   "cell_type": "markdown",
   "metadata": {},
   "source": [
    "# Test ClaimsClient"
   ]
  },
  {
   "cell_type": "code",
   "execution_count": 8,
   "metadata": {
    "collapsed": false
   },
   "outputs": [
    {
     "name": "stdout",
     "output_type": "stream",
     "text": [
      "time: 561 µs\n"
     ]
    }
   ],
   "source": [
    "from lambda_client import ClaimsClient"
   ]
  },
  {
   "cell_type": "code",
   "execution_count": 9,
   "metadata": {
    "collapsed": false
   },
   "outputs": [
    {
     "name": "stdout",
     "output_type": "stream",
     "text": [
      "claims of 1 people retrieved\n",
      "time: 259 ms\n"
     ]
    }
   ],
   "source": [
    "# Test S3:\n",
    "client = ClaimsClient(aws_info, \n",
    "                      s3_bucket=configs.claims_bucket,\n",
    "                      s3_path=configs.claims_path)\n",
    "\n",
    "people = client.get(uids[:1])\n",
    "print 'claims of {} people retrieved'.format(len(people))"
   ]
  },
  {
   "cell_type": "code",
   "execution_count": 10,
   "metadata": {
    "collapsed": false
   },
   "outputs": [
    {
     "name": "stdout",
     "output_type": "stream",
     "text": [
      "[u'medical_claims', u'uid']\n"
     ]
    },
    {
     "data": {
      "text/plain": [
       "{'medical_claims': [{u'admitted': u'2014-04-03',\n",
       "   u'benefit_category': 16,\n",
       "   u'cost': u'148.0',\n",
       "   u'discharged': u'2014-04-03',\n",
       "   u'length_of_stay': 1},\n",
       "  {u'admitted': u'2014-05-02',\n",
       "   u'benefit_category': 16,\n",
       "   u'cost': u'74.55',\n",
       "   u'discharged': u'2014-05-02',\n",
       "   u'length_of_stay': 1},\n",
       "  {u'admitted': u'2014-05-05',\n",
       "   u'benefit_category': 16,\n",
       "   u'cost': u'104.39',\n",
       "   u'discharged': u'2014-05-05',\n",
       "   u'length_of_stay': 1},\n",
       "  {u'admitted': u'2014-05-13',\n",
       "   u'benefit_category': 16,\n",
       "   u'cost': u'210.12',\n",
       "   u'discharged': u'2014-05-13',\n",
       "   u'length_of_stay': 1},\n",
       "  {u'admitted': u'2014-05-19',\n",
       "   u'benefit_category': 11,\n",
       "   u'cost': u'442.2',\n",
       "   u'discharged': u'2014-05-19',\n",
       "   u'length_of_stay': 1}],\n",
       " 'uid': u'1302895801'}"
      ]
     },
     "execution_count": 10,
     "metadata": {},
     "output_type": "execute_result"
    },
    {
     "name": "stdout",
     "output_type": "stream",
     "text": [
      "time: 5.02 ms\n"
     ]
    }
   ],
   "source": [
    "person = people[0]\n",
    "print person.keys()\n",
    "{\n",
    "    'uid': person['uid'],\n",
    "    'medical_claims': person['medical_claims'][:5]\n",
    "}"
   ]
  },
  {
   "cell_type": "code",
   "execution_count": 11,
   "metadata": {
    "collapsed": false
   },
   "outputs": [
    {
     "name": "stdout",
     "output_type": "stream",
     "text": [
      "claims of 1 people retrieved\n",
      "time: 248 ms\n"
     ]
    }
   ],
   "source": [
    "# Test DynamoDB:\n",
    "client = ClaimsClient(aws_info,\n",
    "                      table_name=configs.claims_table)\n",
    "\n",
    "people = client.get(uids[:1])\n",
    "print 'claims of {} people retrieved'.format(len(people))"
   ]
  },
  {
   "cell_type": "code",
   "execution_count": 12,
   "metadata": {
    "collapsed": false
   },
   "outputs": [
    {
     "name": "stdout",
     "output_type": "stream",
     "text": [
      "claims of 5 people retrieved\n",
      "time: 717 ms\n"
     ]
    }
   ],
   "source": [
    "# Test configuration file and retrieving multiple people:\n",
    "client = ClaimsClient(aws_info)\n",
    "\n",
    "people = client.get(uids[:5])\n",
    "print 'claims of {} people retrieved'.format(len(people))"
   ]
  },
  {
   "cell_type": "code",
   "execution_count": 13,
   "metadata": {
    "collapsed": false
   },
   "outputs": [
    {
     "name": "stdout",
     "output_type": "stream",
     "text": [
      "time: 1.27 ms\n"
     ]
    }
   ],
   "source": [
    "# The object should not be pickled.\n",
    "with pytest.raises(Exception, match='ClaimsClient object cannot be pickled.'):\n",
    "    pickle.dumps(client)"
   ]
  },
  {
   "cell_type": "markdown",
   "metadata": {},
   "source": [
    "# Test BenefitsClient"
   ]
  },
  {
   "cell_type": "code",
   "execution_count": 14,
   "metadata": {
    "collapsed": false
   },
   "outputs": [
    {
     "name": "stdout",
     "output_type": "stream",
     "text": [
      "time: 720 µs\n"
     ]
    }
   ],
   "source": [
    "from lambda_client import BenefitsClient"
   ]
  },
  {
   "cell_type": "code",
   "execution_count": 15,
   "metadata": {
    "collapsed": false
   },
   "outputs": [
    {
     "name": "stdout",
     "output_type": "stream",
     "text": [
      "['01', '04', '05', '06', '08', '09', '10', '11', '12', '13', '15', '16', '17', '18', '19', '20', '21', '22', '23', '24', '25', '26', '27', '28', '29', '30', '31', '32', '33', '34', '35', '36', '37', '38', '39', '40', '41', '42', '44', '45', '46', '47', '48', '49', '50', '51', '53', '54', '55', '56', '72']\n",
      "time: 1.83 ms\n"
     ]
    }
   ],
   "source": [
    "client = BenefitsClient(aws_info)\n",
    "\n",
    "print client.all_states"
   ]
  },
  {
   "cell_type": "code",
   "execution_count": 16,
   "metadata": {
    "collapsed": false
   },
   "outputs": [
    {
     "name": "stdout",
     "output_type": "stream",
     "text": [
      "47 plans read for state 01\n",
      "75 plans read for state 04\n",
      "time: 903 ms\n"
     ]
    }
   ],
   "source": [
    "plans = client._get_one_state('01')\n",
    "print '{} plans read for state 01'.format(len(plans))\n",
    "\n",
    "plans = client._get_one_state('04')\n",
    "print '{} plans read for state 04'.format(len(plans))"
   ]
  },
  {
   "cell_type": "code",
   "execution_count": 17,
   "metadata": {
    "collapsed": false
   },
   "outputs": [
    {
     "name": "stdout",
     "output_type": "stream",
     "text": [
      "122 plans read\n",
      "time: 593 ms\n"
     ]
    }
   ],
   "source": [
    "plans = client.get_by_state(['01', '04'])\n",
    "print '{} plans read'.format(len(plans))"
   ]
  },
  {
   "cell_type": "code",
   "execution_count": 18,
   "metadata": {
    "collapsed": false
   },
   "outputs": [
    {
     "name": "stdout",
     "output_type": "stream",
     "text": [
      "3558 plans read\n",
      "time: 9.45 s\n"
     ]
    }
   ],
   "source": [
    "plans = client.get_all()\n",
    "print '{} plans read'.format(len(plans))"
   ]
  },
  {
   "cell_type": "code",
   "execution_count": 19,
   "metadata": {
    "collapsed": false
   },
   "outputs": [
    {
     "name": "stdout",
     "output_type": "stream",
     "text": [
      "time: 67.1 ms\n"
     ]
    }
   ],
   "source": [
    "# Compare the timing against reading the entire file:\n",
    "from lambda_client.storage_utils import _read_json\n",
    "\n",
    "session = boto3.Session(**aws_info)\n",
    "resource = session.resource('s3')"
   ]
  },
  {
   "cell_type": "code",
   "execution_count": 20,
   "metadata": {
    "collapsed": false
   },
   "outputs": [
    {
     "name": "stdout",
     "output_type": "stream",
     "text": [
      "3558 plans read\n",
      "time: 4.25 s\n"
     ]
    }
   ],
   "source": [
    "all_plans = _read_json('picwell.sandbox.medicare', 'ma_benefits/cms_2018_pbps_20171005.json', resource)\n",
    "\n",
    "print '{} plans read'.format(len(plans))"
   ]
  },
  {
   "cell_type": "code",
   "execution_count": 21,
   "metadata": {
    "collapsed": false
   },
   "outputs": [
    {
     "name": "stdout",
     "output_type": "stream",
     "text": [
      "time: 151 ms\n"
     ]
    }
   ],
   "source": [
    "# Ensure that the same plans are read:\n",
    "sort_key = lambda plan: plan['picwell_id']\n",
    "assert sorted(all_plans, key=sort_key) == sorted(plans, key=sort_key)"
   ]
  },
  {
   "cell_type": "code",
   "execution_count": 22,
   "metadata": {
    "collapsed": false
   },
   "outputs": [
    {
     "name": "stdout",
     "output_type": "stream",
     "text": [
      "time: 1.83 ms\n"
     ]
    }
   ],
   "source": [
    "# The object should not be pickled.\n",
    "with pytest.raises(Exception, match='BenefitsClient object cannot be pickled.'):\n",
    "    pickle.dumps(client)"
   ]
  },
  {
   "cell_type": "markdown",
   "metadata": {},
   "source": [
    "# Test Cost Breakdown"
   ]
  },
  {
   "cell_type": "code",
   "execution_count": 23,
   "metadata": {
    "collapsed": false
   },
   "outputs": [
    {
     "name": "stdout",
     "output_type": "stream",
     "text": [
      "time: 952 µs\n"
     ]
    }
   ],
   "source": [
    "from lambda_client import CalculatorClient\n",
    "\n",
    "client = CalculatorClient(aws_info)"
   ]
  },
  {
   "cell_type": "code",
   "execution_count": 24,
   "metadata": {
    "collapsed": false
   },
   "outputs": [
    {
     "name": "stdout",
     "output_type": "stream",
     "text": [
      "2 responses returned\n"
     ]
    },
    {
     "data": {
      "text/plain": [
       "{u'allowed': 26376.640000000003,\n",
       " u'covered_breakdown': {u'categories': {u'0': 0.0,\n",
       "   u'11': 186.33999999999997,\n",
       "   u'13': 13.23,\n",
       "   u'15': 30.79,\n",
       "   u'16': 0.0,\n",
       "   u'19': 80.0,\n",
       "   u'25': 1750.0,\n",
       "   u'30': 719.1700000000001,\n",
       "   u'31': 300.0,\n",
       "   u'44': 0.0,\n",
       "   u'49': 118.48800000000001,\n",
       "   u'7': 479.558},\n",
       "  u'composite': 3677.5759999999996,\n",
       "  u'in_network': 3677.5759999999996,\n",
       "  u'out_network': 0.0},\n",
       " u'deductible_breakdown': {u'categories': {u'0': 0.0,\n",
       "   u'11': 0.0,\n",
       "   u'13': 0.0,\n",
       "   u'15': 0.0,\n",
       "   u'16': 0.0,\n",
       "   u'19': 0.0,\n",
       "   u'25': 0.0,\n",
       "   u'30': 0.0,\n",
       "   u'31': 0.0,\n",
       "   u'44': 0.0,\n",
       "   u'49': 0.0,\n",
       "   u'7': 0.0},\n",
       "  u'composite': 0.0,\n",
       "  u'in_network': 0.0,\n",
       "  u'out_network': 0.0},\n",
       " u'oop': 3677.5759999999996,\n",
       " u'picwell_id': u'2820028008119',\n",
       " u'uid': u'1302895801',\n",
       " u'uncovered': 0.0,\n",
       " u'uncovered_breakdown': {u'categories': {u'0': 0.0,\n",
       "   u'11': 0.0,\n",
       "   u'13': 0.0,\n",
       "   u'15': 0.0,\n",
       "   u'16': 0.0,\n",
       "   u'19': 0.0,\n",
       "   u'25': 0.0,\n",
       "   u'30': 0.0,\n",
       "   u'31': 0.0,\n",
       "   u'44': 0.0,\n",
       "   u'49': 0.0,\n",
       "   u'7': 0.0},\n",
       "  u'composite': 0.0,\n",
       "  u'in_network': 0.0,\n",
       "  u'out_network': 0.0}}"
      ]
     },
     "execution_count": 24,
     "metadata": {},
     "output_type": "execute_result"
    },
    {
     "name": "stdout",
     "output_type": "stream",
     "text": [
      "time: 3.91 s\n"
     ]
    }
   ],
   "source": [
    "responses = client._get_one_breakdown(uids[0], pids, '01')\n",
    "\n",
    "print '{} responses returned'.format(len(responses))\n",
    "responses[0]"
   ]
  },
  {
   "cell_type": "code",
   "execution_count": 25,
   "metadata": {
    "collapsed": false
   },
   "outputs": [
    {
     "name": "stdout",
     "output_type": "stream",
     "text": [
      "2 responses returned\n",
      "time: 3.58 s\n"
     ]
    }
   ],
   "source": [
    "responses = client.get_breakdown(uids[:1], pids)\n",
    "\n",
    "print '{} responses returned'.format(len(responses))"
   ]
  },
  {
   "cell_type": "code",
   "execution_count": 27,
   "metadata": {
    "collapsed": false
   },
   "outputs": [
    {
     "name": "stdout",
     "output_type": "stream",
     "text": [
      "4 responses returned (4.475258 seconds)\n"
     ]
    },
    {
     "ename": "KeyError",
     "evalue": "'StatusCode'",
     "output_type": "error",
     "traceback": [
      "\u001b[0;31m---------------------------------------------------------------------------\u001b[0m",
      "\u001b[0;31mKeyError\u001b[0m                                  Traceback (most recent call last)",
      "\u001b[0;32m<ipython-input-27-155719f4453d>\u001b[0m in \u001b[0;36m<module>\u001b[0;34m()\u001b[0m\n\u001b[1;32m      5\u001b[0m \u001b[0;32mfor\u001b[0m \u001b[0mnum_people\u001b[0m \u001b[0;32min\u001b[0m \u001b[0mrange\u001b[0m\u001b[0;34m(\u001b[0m\u001b[0;36m2\u001b[0m\u001b[0;34m,\u001b[0m \u001b[0;36m15\u001b[0m\u001b[0;34m)\u001b[0m\u001b[0;34m:\u001b[0m\u001b[0;34m\u001b[0m\u001b[0m\n\u001b[1;32m      6\u001b[0m     \u001b[0mstart\u001b[0m \u001b[0;34m=\u001b[0m \u001b[0mdatetime\u001b[0m\u001b[0;34m.\u001b[0m\u001b[0mdatetime\u001b[0m\u001b[0;34m.\u001b[0m\u001b[0mnow\u001b[0m\u001b[0;34m(\u001b[0m\u001b[0;34m)\u001b[0m\u001b[0;34m\u001b[0m\u001b[0m\n\u001b[0;32m----> 7\u001b[0;31m     \u001b[0mresponses\u001b[0m \u001b[0;34m=\u001b[0m \u001b[0mclient\u001b[0m\u001b[0;34m.\u001b[0m\u001b[0mget_breakdown\u001b[0m\u001b[0;34m(\u001b[0m\u001b[0muids\u001b[0m\u001b[0;34m[\u001b[0m\u001b[0;34m:\u001b[0m\u001b[0mnum_people\u001b[0m\u001b[0;34m]\u001b[0m\u001b[0;34m,\u001b[0m \u001b[0mpids\u001b[0m\u001b[0;34m)\u001b[0m\u001b[0;34m\u001b[0m\u001b[0m\n\u001b[0m\u001b[1;32m      8\u001b[0m     \u001b[0melapsed\u001b[0m \u001b[0;34m=\u001b[0m \u001b[0;34m(\u001b[0m\u001b[0mdatetime\u001b[0m\u001b[0;34m.\u001b[0m\u001b[0mdatetime\u001b[0m\u001b[0;34m.\u001b[0m\u001b[0mnow\u001b[0m\u001b[0;34m(\u001b[0m\u001b[0;34m)\u001b[0m \u001b[0;34m-\u001b[0m \u001b[0mstart\u001b[0m\u001b[0;34m)\u001b[0m\u001b[0;34m.\u001b[0m\u001b[0mtotal_seconds\u001b[0m\u001b[0;34m(\u001b[0m\u001b[0;34m)\u001b[0m\u001b[0;34m\u001b[0m\u001b[0m\n\u001b[1;32m      9\u001b[0m \u001b[0;34m\u001b[0m\u001b[0m\n",
      "\u001b[0;32m/Users/junghoonlee/code/l_ma_calculator/lambda_client/calculator_client.py\u001b[0m in \u001b[0;36mget_breakdown\u001b[0;34m(self, uids, pids, month)\u001b[0m\n\u001b[1;32m     67\u001b[0m \u001b[0;34m\u001b[0m\u001b[0m\n\u001b[1;32m     68\u001b[0m         \u001b[0;31m# Each call can return costs for multiple plans:\u001b[0m\u001b[0;34m\u001b[0m\u001b[0;34m\u001b[0m\u001b[0m\n\u001b[0;32m---> 69\u001b[0;31m         \u001b[0mcosts\u001b[0m \u001b[0;34m=\u001b[0m \u001b[0mpool\u001b[0m\u001b[0;34m.\u001b[0m\u001b[0mmap\u001b[0m\u001b[0;34m(\u001b[0m\u001b[0;32mlambda\u001b[0m \u001b[0muid\u001b[0m\u001b[0;34m:\u001b[0m \u001b[0mself\u001b[0m\u001b[0;34m.\u001b[0m\u001b[0m_get_one_breakdown\u001b[0m\u001b[0;34m(\u001b[0m\u001b[0muid\u001b[0m\u001b[0;34m,\u001b[0m \u001b[0mpids\u001b[0m\u001b[0;34m,\u001b[0m \u001b[0mmonth\u001b[0m\u001b[0;34m)\u001b[0m\u001b[0;34m,\u001b[0m \u001b[0muids\u001b[0m\u001b[0;34m)\u001b[0m\u001b[0;34m\u001b[0m\u001b[0m\n\u001b[0m\u001b[1;32m     70\u001b[0m \u001b[0;34m\u001b[0m\u001b[0m\n\u001b[1;32m     71\u001b[0m         \u001b[0;31m# Combine all costs and return:\u001b[0m\u001b[0;34m\u001b[0m\u001b[0;34m\u001b[0m\u001b[0m\n",
      "\u001b[0;32m/Library/Frameworks/Python.framework/Versions/2.7/lib/python2.7/multiprocessing/pool.pyc\u001b[0m in \u001b[0;36mmap\u001b[0;34m(self, func, iterable, chunksize)\u001b[0m\n\u001b[1;32m    249\u001b[0m         '''\n\u001b[1;32m    250\u001b[0m         \u001b[0;32massert\u001b[0m \u001b[0mself\u001b[0m\u001b[0;34m.\u001b[0m\u001b[0m_state\u001b[0m \u001b[0;34m==\u001b[0m \u001b[0mRUN\u001b[0m\u001b[0;34m\u001b[0m\u001b[0m\n\u001b[0;32m--> 251\u001b[0;31m         \u001b[0;32mreturn\u001b[0m \u001b[0mself\u001b[0m\u001b[0;34m.\u001b[0m\u001b[0mmap_async\u001b[0m\u001b[0;34m(\u001b[0m\u001b[0mfunc\u001b[0m\u001b[0;34m,\u001b[0m \u001b[0miterable\u001b[0m\u001b[0;34m,\u001b[0m \u001b[0mchunksize\u001b[0m\u001b[0;34m)\u001b[0m\u001b[0;34m.\u001b[0m\u001b[0mget\u001b[0m\u001b[0;34m(\u001b[0m\u001b[0;34m)\u001b[0m\u001b[0;34m\u001b[0m\u001b[0m\n\u001b[0m\u001b[1;32m    252\u001b[0m \u001b[0;34m\u001b[0m\u001b[0m\n\u001b[1;32m    253\u001b[0m     \u001b[0;32mdef\u001b[0m \u001b[0mimap\u001b[0m\u001b[0;34m(\u001b[0m\u001b[0mself\u001b[0m\u001b[0;34m,\u001b[0m \u001b[0mfunc\u001b[0m\u001b[0;34m,\u001b[0m \u001b[0miterable\u001b[0m\u001b[0;34m,\u001b[0m \u001b[0mchunksize\u001b[0m\u001b[0;34m=\u001b[0m\u001b[0;36m1\u001b[0m\u001b[0;34m)\u001b[0m\u001b[0;34m:\u001b[0m\u001b[0;34m\u001b[0m\u001b[0m\n",
      "\u001b[0;32m/Library/Frameworks/Python.framework/Versions/2.7/lib/python2.7/multiprocessing/pool.pyc\u001b[0m in \u001b[0;36mget\u001b[0;34m(self, timeout)\u001b[0m\n\u001b[1;32m    565\u001b[0m             \u001b[0;32mreturn\u001b[0m \u001b[0mself\u001b[0m\u001b[0;34m.\u001b[0m\u001b[0m_value\u001b[0m\u001b[0;34m\u001b[0m\u001b[0m\n\u001b[1;32m    566\u001b[0m         \u001b[0;32melse\u001b[0m\u001b[0;34m:\u001b[0m\u001b[0;34m\u001b[0m\u001b[0m\n\u001b[0;32m--> 567\u001b[0;31m             \u001b[0;32mraise\u001b[0m \u001b[0mself\u001b[0m\u001b[0;34m.\u001b[0m\u001b[0m_value\u001b[0m\u001b[0;34m\u001b[0m\u001b[0m\n\u001b[0m\u001b[1;32m    568\u001b[0m \u001b[0;34m\u001b[0m\u001b[0m\n\u001b[1;32m    569\u001b[0m     \u001b[0;32mdef\u001b[0m \u001b[0m_set\u001b[0m\u001b[0;34m(\u001b[0m\u001b[0mself\u001b[0m\u001b[0;34m,\u001b[0m \u001b[0mi\u001b[0m\u001b[0;34m,\u001b[0m \u001b[0mobj\u001b[0m\u001b[0;34m)\u001b[0m\u001b[0;34m:\u001b[0m\u001b[0;34m\u001b[0m\u001b[0m\n",
      "\u001b[0;31mKeyError\u001b[0m: 'StatusCode'"
     ]
    },
    {
     "name": "stdout",
     "output_type": "stream",
     "text": [
      "time: 14.1 s\n"
     ]
    }
   ],
   "source": [
    "# It seems like\n",
    "#\n",
    "# (a) the time it takes to issue threads increases linearly; and\n",
    "# (b) the time it takes for the last thread to finish is about 5 seconds all the time. \n",
    "for num_people in range(2, 15):\n",
    "    start = datetime.datetime.now()\n",
    "    responses = client.get_breakdown(uids[:num_people], pids)\n",
    "    elapsed = (datetime.datetime.now() - start).total_seconds()\n",
    "\n",
    "    print '{} responses returned ({} seconds)'.format(len(responses), elapsed)"
   ]
  },
  {
   "cell_type": "code",
   "execution_count": 28,
   "metadata": {
    "collapsed": false,
    "scrolled": true
   },
   "outputs": [
    {
     "ename": "KeyError",
     "evalue": "'StatusCode'",
     "output_type": "error",
     "traceback": [
      "\u001b[0;31m---------------------------------------------------------------------------\u001b[0m",
      "\u001b[0;31mKeyError\u001b[0m                                  Traceback (most recent call last)",
      "\u001b[0;32m<ipython-input-28-c14192bf02b1>\u001b[0m in \u001b[0;36m<module>\u001b[0;34m()\u001b[0m\n\u001b[1;32m      1\u001b[0m \u001b[0;31m# Let's try something larger:\u001b[0m\u001b[0;34m\u001b[0m\u001b[0;34m\u001b[0m\u001b[0m\n\u001b[0;32m----> 2\u001b[0;31m \u001b[0mresponses\u001b[0m \u001b[0;34m=\u001b[0m \u001b[0mclient\u001b[0m\u001b[0;34m.\u001b[0m\u001b[0mget_breakdown\u001b[0m\u001b[0;34m(\u001b[0m\u001b[0muids\u001b[0m\u001b[0;34m,\u001b[0m \u001b[0mpids\u001b[0m\u001b[0;34m)\u001b[0m\u001b[0;34m\u001b[0m\u001b[0m\n\u001b[0m\u001b[1;32m      3\u001b[0m \u001b[0;34m\u001b[0m\u001b[0m\n\u001b[1;32m      4\u001b[0m \u001b[0;32mprint\u001b[0m \u001b[0;34m'{} responses returned'\u001b[0m\u001b[0;34m.\u001b[0m\u001b[0mformat\u001b[0m\u001b[0;34m(\u001b[0m\u001b[0mlen\u001b[0m\u001b[0;34m(\u001b[0m\u001b[0mresponses\u001b[0m\u001b[0;34m)\u001b[0m\u001b[0;34m)\u001b[0m\u001b[0;34m\u001b[0m\u001b[0m\n",
      "\u001b[0;32m/Users/junghoonlee/code/l_ma_calculator/lambda_client/calculator_client.py\u001b[0m in \u001b[0;36mget_breakdown\u001b[0;34m(self, uids, pids, month)\u001b[0m\n\u001b[1;32m     67\u001b[0m \u001b[0;34m\u001b[0m\u001b[0m\n\u001b[1;32m     68\u001b[0m         \u001b[0;31m# Each call can return costs for multiple plans:\u001b[0m\u001b[0;34m\u001b[0m\u001b[0;34m\u001b[0m\u001b[0m\n\u001b[0;32m---> 69\u001b[0;31m         \u001b[0mcosts\u001b[0m \u001b[0;34m=\u001b[0m \u001b[0mpool\u001b[0m\u001b[0;34m.\u001b[0m\u001b[0mmap\u001b[0m\u001b[0;34m(\u001b[0m\u001b[0;32mlambda\u001b[0m \u001b[0muid\u001b[0m\u001b[0;34m:\u001b[0m \u001b[0mself\u001b[0m\u001b[0;34m.\u001b[0m\u001b[0m_get_one_breakdown\u001b[0m\u001b[0;34m(\u001b[0m\u001b[0muid\u001b[0m\u001b[0;34m,\u001b[0m \u001b[0mpids\u001b[0m\u001b[0;34m,\u001b[0m \u001b[0mmonth\u001b[0m\u001b[0;34m)\u001b[0m\u001b[0;34m,\u001b[0m \u001b[0muids\u001b[0m\u001b[0;34m)\u001b[0m\u001b[0;34m\u001b[0m\u001b[0m\n\u001b[0m\u001b[1;32m     70\u001b[0m \u001b[0;34m\u001b[0m\u001b[0m\n\u001b[1;32m     71\u001b[0m         \u001b[0;31m# Combine all costs and return:\u001b[0m\u001b[0;34m\u001b[0m\u001b[0;34m\u001b[0m\u001b[0m\n",
      "\u001b[0;32m/Library/Frameworks/Python.framework/Versions/2.7/lib/python2.7/multiprocessing/pool.pyc\u001b[0m in \u001b[0;36mmap\u001b[0;34m(self, func, iterable, chunksize)\u001b[0m\n\u001b[1;32m    249\u001b[0m         '''\n\u001b[1;32m    250\u001b[0m         \u001b[0;32massert\u001b[0m \u001b[0mself\u001b[0m\u001b[0;34m.\u001b[0m\u001b[0m_state\u001b[0m \u001b[0;34m==\u001b[0m \u001b[0mRUN\u001b[0m\u001b[0;34m\u001b[0m\u001b[0m\n\u001b[0;32m--> 251\u001b[0;31m         \u001b[0;32mreturn\u001b[0m \u001b[0mself\u001b[0m\u001b[0;34m.\u001b[0m\u001b[0mmap_async\u001b[0m\u001b[0;34m(\u001b[0m\u001b[0mfunc\u001b[0m\u001b[0;34m,\u001b[0m \u001b[0miterable\u001b[0m\u001b[0;34m,\u001b[0m \u001b[0mchunksize\u001b[0m\u001b[0;34m)\u001b[0m\u001b[0;34m.\u001b[0m\u001b[0mget\u001b[0m\u001b[0;34m(\u001b[0m\u001b[0;34m)\u001b[0m\u001b[0;34m\u001b[0m\u001b[0m\n\u001b[0m\u001b[1;32m    252\u001b[0m \u001b[0;34m\u001b[0m\u001b[0m\n\u001b[1;32m    253\u001b[0m     \u001b[0;32mdef\u001b[0m \u001b[0mimap\u001b[0m\u001b[0;34m(\u001b[0m\u001b[0mself\u001b[0m\u001b[0;34m,\u001b[0m \u001b[0mfunc\u001b[0m\u001b[0;34m,\u001b[0m \u001b[0miterable\u001b[0m\u001b[0;34m,\u001b[0m \u001b[0mchunksize\u001b[0m\u001b[0;34m=\u001b[0m\u001b[0;36m1\u001b[0m\u001b[0;34m)\u001b[0m\u001b[0;34m:\u001b[0m\u001b[0;34m\u001b[0m\u001b[0m\n",
      "\u001b[0;32m/Library/Frameworks/Python.framework/Versions/2.7/lib/python2.7/multiprocessing/pool.pyc\u001b[0m in \u001b[0;36mget\u001b[0;34m(self, timeout)\u001b[0m\n\u001b[1;32m    565\u001b[0m             \u001b[0;32mreturn\u001b[0m \u001b[0mself\u001b[0m\u001b[0;34m.\u001b[0m\u001b[0m_value\u001b[0m\u001b[0;34m\u001b[0m\u001b[0m\n\u001b[1;32m    566\u001b[0m         \u001b[0;32melse\u001b[0m\u001b[0;34m:\u001b[0m\u001b[0;34m\u001b[0m\u001b[0m\n\u001b[0;32m--> 567\u001b[0;31m             \u001b[0;32mraise\u001b[0m \u001b[0mself\u001b[0m\u001b[0;34m.\u001b[0m\u001b[0m_value\u001b[0m\u001b[0;34m\u001b[0m\u001b[0m\n\u001b[0m\u001b[1;32m    568\u001b[0m \u001b[0;34m\u001b[0m\u001b[0m\n\u001b[1;32m    569\u001b[0m     \u001b[0;32mdef\u001b[0m \u001b[0m_set\u001b[0m\u001b[0;34m(\u001b[0m\u001b[0mself\u001b[0m\u001b[0;34m,\u001b[0m \u001b[0mi\u001b[0m\u001b[0;34m,\u001b[0m \u001b[0mobj\u001b[0m\u001b[0;34m)\u001b[0m\u001b[0;34m:\u001b[0m\u001b[0;34m\u001b[0m\u001b[0m\n",
      "\u001b[0;31mKeyError\u001b[0m: 'StatusCode'"
     ]
    },
    {
     "name": "stdout",
     "output_type": "stream",
     "text": [
      "time: 6.37 s\n"
     ]
    }
   ],
   "source": [
    "# Let's try something larger:\n",
    "responses = client.get_breakdown(uids, pids)\n",
    "\n",
    "print '{} responses returned'.format(len(responses))"
   ]
  },
  {
   "cell_type": "code",
   "execution_count": 29,
   "metadata": {
    "collapsed": false
   },
   "outputs": [
    {
     "name": "stdout",
     "output_type": "stream",
     "text": [
      "2000 costs calculated\n",
      "time: 2min 50s\n"
     ]
    }
   ],
   "source": [
    "# Run calculcations locally for comparison:\n",
    "from lambda_package.calc.calculator import calculate_oop\n",
    "\n",
    "claims_client = ClaimsClient(aws_info)\n",
    "people = claims_client.get(uids)\n",
    "\n",
    "benefits_client = BenefitsClient(aws_info)\n",
    "plans = benefits_client.get_by_pid(pids)\n",
    "\n",
    "costs = []\n",
    "for person in people:\n",
    "    claims = person['medical_claims']\n",
    "    \n",
    "    for plan in plans:\n",
    "        cost = calculate_oop(claims, plan)\n",
    "        cost.update({\n",
    "            'uid': person['uid'],\n",
    "            'picwell_id': str(plan['picwell_id']),\n",
    "        })\n",
    "        \n",
    "        costs.append(cost)\n",
    "        \n",
    "print '{} costs calculated'.format(len(costs))"
   ]
  },
  {
   "cell_type": "markdown",
   "metadata": {},
   "source": [
    "# Test Batch Calculation"
   ]
  },
  {
   "cell_type": "code",
   "execution_count": null,
   "metadata": {
    "collapsed": false
   },
   "outputs": [],
   "source": [
    "# uids = s3.read_json('s3n://picwell.sandbox.medicare/samples/philadelphia-2015')\n",
    "\n",
    "# print '{} uids read'.format(len(uids))"
   ]
  },
  {
   "cell_type": "code",
   "execution_count": null,
   "metadata": {
    "collapsed": false
   },
   "outputs": [],
   "source": [
    "# uids[:10]"
   ]
  },
  {
   "cell_type": "code",
   "execution_count": null,
   "metadata": {
    "collapsed": false
   },
   "outputs": [],
   "source": [
    "# requests_per_second = 100\n",
    "\n",
    "# for uid in uids:\n",
    "# #     client.calculate_async(uid, months=['01'])\n",
    "#     client.calculate_async(uid)\n",
    "#     time.sleep(1.0/requests_per_second)  "
   ]
  },
  {
   "cell_type": "code",
   "execution_count": null,
   "metadata": {
    "collapsed": true
   },
   "outputs": [],
   "source": []
  },
  {
   "cell_type": "code",
   "execution_count": null,
   "metadata": {
    "collapsed": true
   },
   "outputs": [],
   "source": []
  }
 ],
 "metadata": {
  "kernelspec": {
   "display_name": "Python 2",
   "language": "python",
   "name": "python2"
  },
  "language_info": {
   "codemirror_mode": {
    "name": "ipython",
    "version": 2
   },
   "file_extension": ".py",
   "mimetype": "text/x-python",
   "name": "python",
   "nbconvert_exporter": "python",
   "pygments_lexer": "ipython2",
   "version": "2.7.10"
  }
 },
 "nbformat": 4,
 "nbformat_minor": 0
}
