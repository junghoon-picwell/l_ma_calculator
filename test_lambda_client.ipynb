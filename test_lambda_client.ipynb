{
 "cells": [
  {
   "cell_type": "code",
   "execution_count": 1,
   "metadata": {
    "collapsed": false
   },
   "outputs": [],
   "source": [
    "%load_ext autotime"
   ]
  },
  {
   "cell_type": "code",
   "execution_count": 2,
   "metadata": {
    "collapsed": false
   },
   "outputs": [
    {
     "data": {
      "text/plain": [
       "<module 'logging' from '/Library/Frameworks/Python.framework/Versions/2.7/lib/python2.7/logging/__init__.pyc'>"
      ]
     },
     "execution_count": 2,
     "metadata": {},
     "output_type": "execute_result"
    },
    {
     "name": "stdout",
     "output_type": "stream",
     "text": [
      "time: 512 ms\n"
     ]
    }
   ],
   "source": [
    "import boto3\n",
    "import datetime\n",
    "import logging\n",
    "import json\n",
    "import pickle\n",
    "import pytest\n",
    "import sys\n",
    "import time\n",
    "\n",
    "from etltools import s3\n",
    "\n",
    "from lambda_client import (\n",
    "    ClaimsClient,\n",
    "    BenefitsClient,\n",
    "    CalculatorClient,\n",
    ")\n",
    "\n",
    "reload(logging)  # get around notebook problem"
   ]
  },
  {
   "cell_type": "code",
   "execution_count": 3,
   "metadata": {
    "collapsed": false
   },
   "outputs": [
    {
     "name": "stdout",
     "output_type": "stream",
     "text": [
      "time: 1.75 ms\n"
     ]
    }
   ],
   "source": [
    "logging.basicConfig(\n",
    "    level=logging.INFO, \n",
    "    format='[%(asctime)s] {%(filename)s:%(lineno)d} %(levelname)s - %(message)s',\n",
    "#     handlers=[\n",
    "#         logging.FileHandler(filename='mylog.log', mode='w'),\n",
    "#         logging.StreamHandler(sys.stdout),\n",
    "#     ]\n",
    ")"
   ]
  },
  {
   "cell_type": "code",
   "execution_count": 4,
   "metadata": {
    "collapsed": false
   },
   "outputs": [
    {
     "name": "stderr",
     "output_type": "stream",
     "text": [
      "[2018-01-14 21:14:09,170] {<ipython-input-4-efd2929c73d3>:3} INFO - TEST INFO\n"
     ]
    },
    {
     "name": "stdout",
     "output_type": "stream",
     "text": [
      "time: 1.96 ms\n"
     ]
    }
   ],
   "source": [
    "# Test whether logging works:\n",
    "logger = logging.getLogger()\n",
    "logger.info('TEST INFO')"
   ]
  },
  {
   "cell_type": "code",
   "execution_count": 5,
   "metadata": {
    "collapsed": false
   },
   "outputs": [
    {
     "name": "stdout",
     "output_type": "stream",
     "text": [
      "time: 248 ms\n"
     ]
    }
   ],
   "source": [
    "aws_info = {\n",
    "    'profile_name': 'sandbox',\n",
    "}\n",
    "\n",
    "uids = s3.read_json('s3://picwell.sandbox.medicare/samples/philadelphia-2015-1k-sample')\n",
    "pids = ['2820028008119', '2820088001036']"
   ]
  },
  {
   "cell_type": "markdown",
   "metadata": {},
   "source": [
    "# Test ConfigInfo"
   ]
  },
  {
   "cell_type": "code",
   "execution_count": null,
   "metadata": {
    "collapsed": false
   },
   "outputs": [],
   "source": [
    "from lambda_client.config_info import ConfigInfo\n",
    "\n",
    "configs = ConfigInfo('lambda_client/lambda.cfg')\n",
    "\n",
    "print configs.claims_bucket\n",
    "print configs.claims_path\n",
    "print\n",
    "print configs.benefits_bucket\n",
    "print configs.benefits_path\n",
    "print\n",
    "print configs.claims_table"
   ]
  },
  {
   "cell_type": "code",
   "execution_count": null,
   "metadata": {
    "collapsed": false
   },
   "outputs": [],
   "source": [
    "all_states = configs.all_states\n",
    "\n",
    "print '{} states'.format(len(all_states))\n",
    "print all_states"
   ]
  },
  {
   "cell_type": "markdown",
   "metadata": {},
   "source": [
    "# Test ClaimsClient"
   ]
  },
  {
   "cell_type": "code",
   "execution_count": null,
   "metadata": {
    "collapsed": false
   },
   "outputs": [],
   "source": [
    "# Test S3:\n",
    "client = ClaimsClient(aws_info, \n",
    "                      s3_bucket=configs.claims_bucket,\n",
    "                      s3_path=configs.claims_path)\n",
    "\n",
    "people = client.get(uids[:1])\n",
    "print 'claims of {} people retrieved'.format(len(people))"
   ]
  },
  {
   "cell_type": "code",
   "execution_count": null,
   "metadata": {
    "collapsed": false
   },
   "outputs": [],
   "source": [
    "person = people[0]\n",
    "print person.keys()\n",
    "{\n",
    "    'uid': person['uid'],\n",
    "    'medical_claims': person['medical_claims'][:5]\n",
    "}"
   ]
  },
  {
   "cell_type": "code",
   "execution_count": null,
   "metadata": {
    "collapsed": false
   },
   "outputs": [],
   "source": [
    "# Test DynamoDB:\n",
    "client = ClaimsClient(aws_info,\n",
    "                      table_name=configs.claims_table)\n",
    "\n",
    "people = client.get(uids[:1])\n",
    "print 'claims of {} people retrieved'.format(len(people))"
   ]
  },
  {
   "cell_type": "code",
   "execution_count": null,
   "metadata": {
    "collapsed": false
   },
   "outputs": [],
   "source": [
    "# Test configuration file and retrieving multiple people:\n",
    "client = ClaimsClient(aws_info)\n",
    "\n",
    "people = client.get(uids[:5])\n",
    "print 'claims of {} people retrieved'.format(len(people))"
   ]
  },
  {
   "cell_type": "code",
   "execution_count": null,
   "metadata": {
    "collapsed": false
   },
   "outputs": [],
   "source": [
    "# Let's try something larger:\n",
    "people = client.get(uids)\n",
    "print 'claims of {} people retrieved'.format(len(people))"
   ]
  },
  {
   "cell_type": "code",
   "execution_count": null,
   "metadata": {
    "collapsed": false
   },
   "outputs": [],
   "source": [
    "# The object should not be pickled.\n",
    "with pytest.raises(Exception, match='ClaimsClient object cannot be pickled.'):\n",
    "    pickle.dumps(client)"
   ]
  },
  {
   "cell_type": "markdown",
   "metadata": {},
   "source": [
    "# Test BenefitsClient"
   ]
  },
  {
   "cell_type": "code",
   "execution_count": null,
   "metadata": {
    "collapsed": false
   },
   "outputs": [],
   "source": [
    "client = BenefitsClient(aws_info)\n",
    "\n",
    "print client.all_states"
   ]
  },
  {
   "cell_type": "code",
   "execution_count": null,
   "metadata": {
    "collapsed": false
   },
   "outputs": [],
   "source": [
    "plans = client._get_one_state('01')\n",
    "print '{} plans read for state 01'.format(len(plans))\n",
    "\n",
    "plans = client._get_one_state('04')\n",
    "print '{} plans read for state 04'.format(len(plans))"
   ]
  },
  {
   "cell_type": "code",
   "execution_count": null,
   "metadata": {
    "collapsed": false
   },
   "outputs": [],
   "source": [
    "plans = client.get_by_state(['01', '04'])\n",
    "print '{} plans read'.format(len(plans))"
   ]
  },
  {
   "cell_type": "code",
   "execution_count": null,
   "metadata": {
    "collapsed": false
   },
   "outputs": [],
   "source": [
    "plans = client.get_all()\n",
    "print '{} plans read'.format(len(plans))"
   ]
  },
  {
   "cell_type": "code",
   "execution_count": null,
   "metadata": {
    "collapsed": false
   },
   "outputs": [],
   "source": [
    "# Compare the timing against reading the entire file:\n",
    "from lambda_client.shared_utils import _read_json\n",
    "\n",
    "session = boto3.Session(**aws_info)\n",
    "resource = session.resource('s3')"
   ]
  },
  {
   "cell_type": "code",
   "execution_count": null,
   "metadata": {
    "collapsed": false
   },
   "outputs": [],
   "source": [
    "all_plans = _read_json('picwell.sandbox.medicare', 'ma_benefits/cms_2018_pbps_20171005.json', resource)\n",
    "\n",
    "print '{} plans read'.format(len(plans))"
   ]
  },
  {
   "cell_type": "code",
   "execution_count": null,
   "metadata": {
    "collapsed": false
   },
   "outputs": [],
   "source": [
    "# Ensure that the same plans are read:\n",
    "sort_key = lambda plan: plan['picwell_id']\n",
    "assert sorted(all_plans, key=sort_key) == sorted(plans, key=sort_key)"
   ]
  },
  {
   "cell_type": "code",
   "execution_count": null,
   "metadata": {
    "collapsed": false
   },
   "outputs": [],
   "source": [
    "# The object should not be pickled.\n",
    "with pytest.raises(Exception, match='BenefitsClient object cannot be pickled.'):\n",
    "    pickle.dumps(client)"
   ]
  },
  {
   "cell_type": "markdown",
   "metadata": {},
   "source": [
    "# Test Cost Breakdown"
   ]
  },
  {
   "cell_type": "code",
   "execution_count": 6,
   "metadata": {
    "collapsed": false
   },
   "outputs": [
    {
     "name": "stdout",
     "output_type": "stream",
     "text": [
      "time: 882 µs\n"
     ]
    }
   ],
   "source": [
    "client = CalculatorClient(aws_info)"
   ]
  },
  {
   "cell_type": "code",
   "execution_count": 7,
   "metadata": {
    "collapsed": false
   },
   "outputs": [
    {
     "name": "stdout",
     "output_type": "stream",
     "text": [
      "hxn6uyCJ+JoFXwUG+0qQxkgHhRXikaxP04B2w0/C4k01cNJ5VDuNnOlsE1KBdsqmzAkLqj5RIMu3pMdkp54D9dzWECuDljxFzkZJTDrMf3SJdPN/8Ra0FVwmVCfQRVagYYZimW8JwUaCBcHd5axl5JTWWtncdrJYfa3cJqNEogT4ztJWMKN6Q8NIF\n",
      "\n",
      "host;x-amz-content-sha256;x-amz-date;x-amz-security-token\n",
      "e3b0c44298fc1c149afbf4c8996fb92427ae41e4649b934ca495991b7852b855\n",
      "[DEBUG]\t2018-01-15T02:14:21.722Z\tcbae26c3-f999-11e7-aa3b-a5be7356686b\tStringToSign:\n",
      "AWS4-HMAC-SHA256\n",
      "20180115T021421Z\n",
      "20180115/us-east-1/s3/aws4_request\n",
      "136d77f31234b59e8a615f0afb488acbfe151355686ceeb8e735e225a8293411\n",
      "[DEBUG]\t2018-01-15T02:14:21.722Z\tcbae26c3-f999-11e7-aa3b-a5be7356686b\tSignature:\n",
      "9a6ca68039acacceffd2367cf1ed63a639cdef1322913376813a018c11e94ea1\n",
      "[DEBUG]\t2018-01-15T02:14:21.722Z\tcbae26c3-f999-11e7-aa3b-a5be7356686b\tSending http request: <PreparedRequest [GET]>\n",
      "[INFO]\t2018-01-15T02:14:21.740Z\tcbae26c3-f999-11e7-aa3b-a5be7356686b\tStarting new HTTPS connection (1): s3.amazonaws.com\n",
      "[DEBUG]\t2018-01-15T02:14:22.75Z\tcbae26c3-f999-11e7-aa3b-a5be7356686b\t\"GET /picwell.sandbox.analytics/junghoon/lambda_calculator_benefits/19.json HTTP/1.1\" 200 145546\n",
      "[DEBUG]\t2018-01-15T02:14:22.76Z\tcbae26c3-f999-11e7-aa3b-a5be7356686b\tResponse headers: {'content-length': '145546', 'x-amz-id-2': '0xUHp0bCPJ8DOsQ2mNNGUdgsbgUGDYRJepmjtQo+4afyKMz48NbhgRKHgwLFFm92g0nFma26wk8=', 'accept-ranges': 'bytes', 'server': 'AmazonS3', 'last-modified': 'Thu, 04 Jan 2018 10:38:48 GMT', 'x-amz-request-id': '9DE687E423E59B90', 'etag': '\"bb2e35938c7e6bca78cee784d08f1538\"', 'date': 'Mon, 15 Jan 2018 02:14:23 GMT', 'x-amz-version-id': 'yNBoglqVTIasLPJvWbRL4ofdrOsjvPI5', 'content-type': 'application/json'}\n",
      "[DEBUG]\t2018-01-15T02:14:22.76Z\tcbae26c3-f999-11e7-aa3b-a5be7356686b\tResponse body:\n",
      "<botocore.response.StreamingBody object at 0x7f9b6d498810>\n",
      "[DEBUG]\t2018-01-15T02:14:22.77Z\tcbae26c3-f999-11e7-aa3b-a5be7356686b\tEvent needs-retry.s3.GetObject: calling handler <botocore.retryhandler.RetryHandler object at 0x7f9b67e9e790>\n",
      "[DEBUG]\t2018-01-15T02:14:22.77Z\tcbae26c3-f999-11e7-aa3b-a5be7356686b\tNo retry needed.\n",
      "[DEBUG]\t2018-01-15T02:14:22.77Z\tcbae26c3-f999-11e7-aa3b-a5be7356686b\tEvent needs-retry.s3.GetObject: calling handler <bound method S3RegionRedirector.redirect_from_error of <botocore.utils.S3RegionRedirector object at 0x7f9b67e9e810>>\n",
      "[DEBUG]\t2018-01-15T02:14:22.77Z\tcbae26c3-f999-11e7-aa3b-a5be7356686b\tResponse: {u'Body': <botocore.response.StreamingBody object at 0x7f9b6d498810>, u'AcceptRanges': 'bytes', u'ContentType': 'application/json', 'ResponseMetadata': {'HTTPStatusCode': 200, 'RetryAttempts': 0, 'HostId': '0xUHp0bCPJ8DOsQ2mNNGUdgsbgUGDYRJepmjtQo+4afyKMz48NbhgRKHgwLFFm92g0nFma26wk8=', 'RequestId': '9DE687E423E59B90', 'HTTPHeaders': {'content-length': '145546', 'x-amz-id-2': '0xUHp0bCPJ8DOsQ2mNNGUdgsbgUGDYRJepmjtQo+4afyKMz48NbhgRKHgwLFFm92g0nFma26wk8=', 'accept-ranges': 'bytes', 'server': 'AmazonS3', 'last-modified': 'Thu, 04 Jan 2018 10:38:48 GMT', 'x-amz-request-id': '9DE687E423E59B90', 'etag': '\"bb2e35938c7e6bca78cee784d08f1538\"', 'date': 'Mon, 15 Jan 2018 02:14:23 GMT', 'x-amz-version-id': 'yNBoglqVTIasLPJvWbRL4ofdrOsjvPI5', 'content-type': 'application/json'}}, u'LastModified': datetime.datetime(2018, 1, 4, 10, 38, 48, tzinfo=tzutc()), u'ContentLength': 145546, u'VersionId': 'yNBoglqVTIasLPJvWbRL4ofdrOsjvPI5', u'ETag': '\"bb2e35938c7e6bca78cee784d08f1538\"', u'Metadata': {}}\n",
      "[INFO]\t2018-01-15T02:14:22.101Z\tcbae26c3-f999-11e7-aa3b-a5be7356686b\tJoining all threads took 1.241397 seconds.\n",
      "[INFO]\t2018-01-15T02:14:22.101Z\tcbae26c3-f999-11e7-aa3b-a5be7356686b\tCombining all results took 3.2e-05 seconds.\n",
      "[INFO]\t2018-01-15T02:14:22.140Z\tcbae26c3-f999-11e7-aa3b-a5be7356686b\tBenefit retrieval took 1.376314 seconds.\n",
      "[INFO]\t2018-01-15T02:14:22.144Z\tcbae26c3-f999-11e7-aa3b-a5be7356686b\tCalculation took 0.004172 seconds.\n",
      "[INFO]\t2018-01-15T02:14:22.144Z\tcbae26c3-f999-11e7-aa3b-a5be7356686b\tClock stopped at 2018-01-15 02:14:22.144832 (elapsed: 1.799301 seconds)\n",
      "END RequestId: cbae26c3-f999-11e7-aa3b-a5be7356686b\n",
      "REPORT RequestId: cbae26c3-f999-11e7-aa3b-a5be7356686b\tDuration: 1800.18 ms\tBilled Duration: 1900 ms \tMemory Size: 512 MB\tMax Memory Used: 69 MB\t\n",
      "\n",
      "2 responses returned\n"
     ]
    },
    {
     "data": {
      "text/plain": [
       "{u'allowed': 26376.640000000003,\n",
       " u'covered_breakdown': {u'categories': {u'0': 0.0,\n",
       "   u'11': 186.33999999999997,\n",
       "   u'13': 13.23,\n",
       "   u'15': 30.79,\n",
       "   u'16': 0.0,\n",
       "   u'19': 80.0,\n",
       "   u'25': 1750.0,\n",
       "   u'30': 719.1700000000001,\n",
       "   u'31': 300.0,\n",
       "   u'44': 0.0,\n",
       "   u'49': 118.48800000000001,\n",
       "   u'7': 479.558},\n",
       "  u'composite': 3677.5759999999996,\n",
       "  u'in_network': 3677.5759999999996,\n",
       "  u'out_network': 0.0},\n",
       " u'deductible_breakdown': {u'categories': {u'0': 0.0,\n",
       "   u'11': 0.0,\n",
       "   u'13': 0.0,\n",
       "   u'15': 0.0,\n",
       "   u'16': 0.0,\n",
       "   u'19': 0.0,\n",
       "   u'25': 0.0,\n",
       "   u'30': 0.0,\n",
       "   u'31': 0.0,\n",
       "   u'44': 0.0,\n",
       "   u'49': 0.0,\n",
       "   u'7': 0.0},\n",
       "  u'composite': 0.0,\n",
       "  u'in_network': 0.0,\n",
       "  u'out_network': 0.0},\n",
       " u'oop': 3677.5759999999996,\n",
       " u'picwell_id': u'2820028008119',\n",
       " u'uid': u'1302895801',\n",
       " u'uncovered': 0.0,\n",
       " u'uncovered_breakdown': {u'categories': {u'0': 0.0,\n",
       "   u'11': 0.0,\n",
       "   u'13': 0.0,\n",
       "   u'15': 0.0,\n",
       "   u'16': 0.0,\n",
       "   u'19': 0.0,\n",
       "   u'25': 0.0,\n",
       "   u'30': 0.0,\n",
       "   u'31': 0.0,\n",
       "   u'44': 0.0,\n",
       "   u'49': 0.0,\n",
       "   u'7': 0.0},\n",
       "  u'composite': 0.0,\n",
       "  u'in_network': 0.0,\n",
       "  u'out_network': 0.0}}"
      ]
     },
     "execution_count": 7,
     "metadata": {},
     "output_type": "execute_result"
    },
    {
     "name": "stdout",
     "output_type": "stream",
     "text": [
      "time: 2.24 s\n"
     ]
    }
   ],
   "source": [
    "responses = client.get_breakdown(uids[:1], pids, verbose=True)\n",
    "\n",
    "print '{} responses returned'.format(len(responses))\n",
    "responses[0]"
   ]
  },
  {
   "cell_type": "code",
   "execution_count": 14,
   "metadata": {
    "collapsed": false
   },
   "outputs": [
    {
     "name": "stdout",
     "output_type": "stream",
     "text": [
      "START RequestId: b77f7522-f99b-11e7-a442-2f62625222a6 Version: $LATEST\n",
      "[INFO]\t2018-01-15T02:28:05.419Z\tb77f7522-f99b-11e7-a442-2f62625222a6\tClock started at 2018-01-15 02:28:05.419389.\n",
      "[INFO]\t2018-01-15T02:28:05.589Z\tb77f7522-f99b-11e7-a442-2f62625222a6\tFound credentials in environment variables.\n",
      "[INFO]\t2018-01-15T02:28:05.611Z\tb77f7522-f99b-11e7-a442-2f62625222a6\tFound credentials in environment variables.\n",
      "[INFO]\t2018-01-15T02:28:05.830Z\tb77f7522-f99b-11e7-a442-2f62625222a6\tFound credentials in environment variables.\n",
      "[INFO]\t2018-01-15T02:28:05.867Z\tb77f7522-f99b-11e7-a442-2f62625222a6\tFound credentials in environment variables.\n",
      "[INFO]\t2018-01-15T02:28:06.127Z\tb77f7522-f99b-11e7-a442-2f62625222a6\tFound credentials in environment variables.\n",
      "[INFO]\t2018-01-15T02:28:06.513Z\tb77f7522-f99b-11e7-a442-2f62625222a6\tFound credentials in environment variables.\n",
      "[INFO]\t2018-01-15T02:28:06.933Z\tb77f7522-f99b-11e7-a442-2f62625222a6\tFound credentials in environment variables.\n",
      "[INFO]\t2018-01-15T02:28:07.250Z\tb77f7522-f99b-11e7-a442-2f62625222a6\tFound credentials in environment variables.\n",
      "[INFO]\t2018-01-15T02:28:07.774Z\tb77f7522-f99b-11e7-a442-2f62625222a6\tFound credentials in environment variables.\n",
      "[INFO]\t2018-01-15T02:28:07.810Z\tb77f7522-f99b-11e7-a442-2f62625222a6\tFound credentials in environment variables.\n",
      "[INFO]\t2018-01-15T02:28:08.168Z\tb77f7522-f99b-11e7-a442-2f62625222a6\tStarting new HTTPS connection (1): s3.amazonaws.com\n",
      "[INFO]\t2018-01-15T02:28:08.273Z\tb77f7522-f99b-11e7-a442-2f62625222a6\tStarting new HTTPS connection (1): s3.amazonaws.com\n",
      "[INFO]\t2018-01-15T02:28:08.671Z\tb77f7522-f99b-11e7-a442-2f62625222a6\tStarting new HTTPS connection (1): s3.amazonaws.com\n",
      "[INFO]\t2018-01-15T02:28:09.170Z\tb77f7522-f99b-11e7-a442-2f62625222a6\tStarting new HTTPS connection (1): s3.amazonaws.com\n",
      "[INFO]\t2018-01-15T02:28:09.193Z\tb77f7522-f99b-11e7-a442-2f62625222a6\tStarting new HTTPS connection (1): s3.amazonaws.com\n",
      "[INFO]\t2018-01-15T02:28:09.448Z\tb77f7522-f99b-11e7-a442-2f62625222a6\tStarting new HTTPS connection (1): s3.amazonaws.com\n",
      "[INFO]\t2018-01-15T02:28:09.774Z\tb77f7522-f99b-11e7-a442-2f62625222a6\tStarting new HTTPS connection (1): s3.amazonaws.com\n",
      "[INFO]\t2018-01-15T02:28:10.30Z\tb77f7522-f99b-11e7-a442-2f62625222a6\tStarting new HTTPS connection (1): s3.amazonaws.com\n",
      "[INFO]\t2018-01-15T02:28:10.91Z\tb77f7522-f99b-11e7-a442-2f62625222a6\tStarting new HTTPS connection (1): s3.amazonaws.com\n",
      "[INFO]\t2018-01-15T02:28:10.167Z\tb77f7522-f99b-11e7-a442-2f62625222a6\tStarting new HTTPS connection (1): s3.amazonaws.com\n",
      "[INFO]\t2018-01-15T02:28:10.313Z\tb77f7522-f99b-11e7-a442-2f62625222a6\tClaim retrieval for [u'1302895801', u'3132439001', u'2294063501', u'1280937802', u'31812914701', u'2267213801', u'3630276701', u'31952448501', u'949212401', u'2460039701'] took 4.893131 seconds.\n",
      "[INFO]\t2018-01-15T02:28:10.388Z\tb77f7522-f99b-11e7-a442-2f62625222a6\tFound credentials in environment variables.\n",
      "[INFO]\t2018-01-15T02:28:10.489Z\tb77f7522-f99b-11e7-a442-2f62625222a6\tFound credentials in environment variables.\n",
      "[INFO]\t2018-01-15T02:28:11.670Z\tb77f7522-f99b-11e7-a442-2f62625222a6\tStarting new HTTPS connection (1): s3.amazonaws.com\n",
      "[INFO]\t2018-01-15T02:28:11.729Z\tb77f7522-f99b-11e7-a442-2f62625222a6\tStarting new HTTPS connection (1): s3.amazonaws.com\n",
      "[INFO]\t2018-01-15T02:28:12.151Z\tb77f7522-f99b-11e7-a442-2f62625222a6\tBenefit retrieval took 1.837944 seconds.\n",
      "[INFO]\t2018-01-15T02:28:12.191Z\tb77f7522-f99b-11e7-a442-2f62625222a6\tCalculation took 0.040548 seconds.\n",
      "[INFO]\t2018-01-15T02:28:12.192Z\tb77f7522-f99b-11e7-a442-2f62625222a6\tClock stopped at 2018-01-15 02:28:12.192223 (elapsed: 6.772839 seconds)\n",
      "END RequestId: b77f7522-f99b-11e7-a442-2f62625222a6\n",
      "REPORT RequestId: b77f7522-f99b-11e7-a442-2f62625222a6\tDuration: 6773.95 ms\tBilled Duration: 6800 ms \tMemory Size: 512 MB\tMax Memory Used: 124 MB\t\n",
      "\n",
      "20 responses returned\n",
      "time: 7.33 s\n"
     ]
    }
   ],
   "source": [
    "# Test recursive call:\n",
    "responses = client.get_breakdown(uids[:10], pids, max_calculated_uids=10, verbose=True)\n",
    "\n",
    "print '{} responses returned'.format(len(responses))"
   ]
  },
  {
   "cell_type": "code",
   "execution_count": 22,
   "metadata": {
    "collapsed": false
   },
   "outputs": [
    {
     "name": "stdout",
     "output_type": "stream",
     "text": [
      "START RequestId: b413934a-f99e-11e7-bb1a-779ece4c41ff Version: $LATEST\n",
      "[INFO]\t2018-01-15T02:49:28.213Z\tb413934a-f99e-11e7-bb1a-779ece4c41ff\tClock started at 2018-01-15 02:49:28.213821.\n",
      "[INFO]\t2018-01-15T02:49:28.214Z\tb413934a-f99e-11e7-bb1a-779ece4c41ff\t10 uids are broken into 2 groups\n",
      "[INFO]\t2018-01-15T02:49:28.214Z\tb413934a-f99e-11e7-bb1a-779ece4c41ff\tDistribution took 1.3e-05 seconds.\n",
      "[INFO]\t2018-01-15T02:49:28.230Z\tb413934a-f99e-11e7-bb1a-779ece4c41ff\tFound credentials in environment variables.\n",
      "[INFO]\t2018-01-15T02:49:28.549Z\tb413934a-f99e-11e7-bb1a-779ece4c41ff\tStarting new HTTPS connection (1): lambda.us-east-1.amazonaws.com\n",
      "[INFO]\t2018-01-15T02:49:28.549Z\tb413934a-f99e-11e7-bb1a-779ece4c41ff\tStarting new HTTPS connection (1): lambda.us-east-1.amazonaws.com\n",
      "[INFO]\t2018-01-15T02:49:34.441Z\tb413934a-f99e-11e7-bb1a-779ece4c41ff\tClock stopped at 2018-01-15 02:49:34.441748 (elapsed: 6.227932 seconds)\n",
      "END RequestId: b413934a-f99e-11e7-bb1a-779ece4c41ff\n",
      "REPORT RequestId: b413934a-f99e-11e7-bb1a-779ece4c41ff\tDuration: 6229.24 ms\tBilled Duration: 6300 ms \tMemory Size: 512 MB\tMax Memory Used: 35 MB\t\n",
      "\n",
      "20 responses returned\n",
      "time: 6.71 s\n"
     ]
    }
   ],
   "source": [
    "responses = client.get_breakdown(uids[:10], pids, max_lambda_calls=2, verbose=True)\n",
    "\n",
    "print '{} responses returned'.format(len(responses))"
   ]
  },
  {
   "cell_type": "code",
   "execution_count": 23,
   "metadata": {
    "collapsed": false
   },
   "outputs": [
    {
     "name": "stdout",
     "output_type": "stream",
     "text": [
      "20 responses returned\n",
      "time: 3.43 s\n"
     ]
    }
   ],
   "source": [
    "responses = client.get_breakdown(uids[:10], pids)\n",
    "\n",
    "print '{} responses returned'.format(len(responses))"
   ]
  },
  {
   "cell_type": "code",
   "execution_count": 25,
   "metadata": {
    "collapsed": false,
    "scrolled": true
   },
   "outputs": [
    {
     "name": "stdout",
     "output_type": "stream",
     "text": [
      "2000 responses returned\n",
      "time: 17.6 s\n"
     ]
    }
   ],
   "source": [
    "# Let's try something larger:\n",
    "responses = client.get_breakdown(uids, pids)\n",
    "\n",
    "print '{} responses returned'.format(len(responses))"
   ]
  },
  {
   "cell_type": "code",
   "execution_count": null,
   "metadata": {
    "collapsed": false
   },
   "outputs": [],
   "source": [
    "# unique_uids = {cost['uid'] for cost in responses}\n",
    "# len(unique_uids)"
   ]
  },
  {
   "cell_type": "code",
   "execution_count": null,
   "metadata": {
    "collapsed": false
   },
   "outputs": [],
   "source": [
    "# Run calculcations locally for comparison:\n",
    "from lambda_package.calc.calculator import calculate_oop\n",
    "\n",
    "claims_client = ClaimsClient(aws_info)\n",
    "people = claims_client.get(uids)\n",
    "\n",
    "benefits_client = BenefitsClient(aws_info)\n",
    "plans = benefits_client.get_by_pid(pids)\n",
    "\n",
    "costs = []\n",
    "for person in people:\n",
    "    claims = person['medical_claims']\n",
    "    \n",
    "    for plan in plans:\n",
    "        cost = calculate_oop(claims, plan)\n",
    "        cost.update({\n",
    "            'uid': person['uid'],\n",
    "            'picwell_id': str(plan['picwell_id']),\n",
    "        })\n",
    "        \n",
    "        costs.append(cost)\n",
    "        \n",
    "print '{} costs calculated'.format(len(costs))"
   ]
  },
  {
   "cell_type": "code",
   "execution_count": null,
   "metadata": {
    "collapsed": false
   },
   "outputs": [],
   "source": [
    "# benefits_client = BenefitsClient()\n",
    "# plans_CA = benefits_client.get_by_state(['06'])\n",
    "# pids_CA = [plan['picwell_id'] for plan in plans_CA]\n",
    "\n",
    "# print '{} plans identified'.format(len(pids_CA))"
   ]
  },
  {
   "cell_type": "code",
   "execution_count": null,
   "metadata": {
    "collapsed": false
   },
   "outputs": [],
   "source": [
    "# Try a sample size more relevant to commercial:\n",
    "responses = client.get_breakdown(uids[:300], pids)\n",
    "\n",
    "print '{} responses returned'.format(len(responses))"
   ]
  },
  {
   "cell_type": "markdown",
   "metadata": {},
   "source": [
    "# Test Batch Calculation"
   ]
  },
  {
   "cell_type": "code",
   "execution_count": null,
   "metadata": {
    "collapsed": false
   },
   "outputs": [],
   "source": [
    "# uids = s3.read_json('s3n://picwell.sandbox.medicare/samples/philadelphia-2015')\n",
    "\n",
    "# print '{} uids read'.format(len(uids))"
   ]
  },
  {
   "cell_type": "code",
   "execution_count": null,
   "metadata": {
    "collapsed": false
   },
   "outputs": [],
   "source": [
    "# uids[:10]"
   ]
  },
  {
   "cell_type": "code",
   "execution_count": null,
   "metadata": {
    "collapsed": false
   },
   "outputs": [],
   "source": [
    "# requests_per_second = 100\n",
    "\n",
    "# for uid in uids:\n",
    "# #     client.calculate_async(uid, months=['01'])\n",
    "#     client.calculate_async(uid)\n",
    "#     time.sleep(1.0/requests_per_second)  "
   ]
  },
  {
   "cell_type": "code",
   "execution_count": null,
   "metadata": {
    "collapsed": true
   },
   "outputs": [],
   "source": []
  }
 ],
 "metadata": {
  "kernelspec": {
   "display_name": "Python 2",
   "language": "python",
   "name": "python2"
  },
  "language_info": {
   "codemirror_mode": {
    "name": "ipython",
    "version": 2
   },
   "file_extension": ".py",
   "mimetype": "text/x-python",
   "name": "python",
   "nbconvert_exporter": "python",
   "pygments_lexer": "ipython2",
   "version": "2.7.10"
  }
 },
 "nbformat": 4,
 "nbformat_minor": 0
}
