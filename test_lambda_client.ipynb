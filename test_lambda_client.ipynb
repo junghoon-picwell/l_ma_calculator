{
 "cells": [
  {
   "cell_type": "code",
   "execution_count": 1,
   "metadata": {
    "collapsed": false
   },
   "outputs": [],
   "source": [
    "%load_ext autotime"
   ]
  },
  {
   "cell_type": "code",
   "execution_count": 2,
   "metadata": {
    "collapsed": false
   },
   "outputs": [
    {
     "data": {
      "text/plain": [
       "<module 'logging' from '/Library/Frameworks/Python.framework/Versions/2.7/lib/python2.7/logging/__init__.pyc'>"
      ]
     },
     "execution_count": 2,
     "metadata": {},
     "output_type": "execute_result"
    },
    {
     "name": "stdout",
     "output_type": "stream",
     "text": [
      "time: 529 ms\n"
     ]
    }
   ],
   "source": [
    "import boto3\n",
    "import datetime\n",
    "import logging\n",
    "import json\n",
    "import pickle\n",
    "import pytest\n",
    "import sys\n",
    "import time\n",
    "\n",
    "from etltools import s3\n",
    "\n",
    "from lambda_client import (\n",
    "    ClaimsClient,\n",
    "    BenefitsClient,\n",
    "    CalculatorClient,\n",
    "    run_batch_on_schedule,\n",
    ")\n",
    "from lambda_client.config_info import ConfigInfo\n",
    "\n",
    "reload(logging)  # get around notebook problem"
   ]
  },
  {
   "cell_type": "code",
   "execution_count": 3,
   "metadata": {
    "collapsed": false
   },
   "outputs": [
    {
     "name": "stdout",
     "output_type": "stream",
     "text": [
      "time: 1.43 ms\n"
     ]
    }
   ],
   "source": [
    "logging.basicConfig(\n",
    "    level=logging.INFO, \n",
    "    format='[%(asctime)s] {%(filename)s:%(lineno)d} %(levelname)s - %(message)s',\n",
    "#     handlers=[\n",
    "#         logging.FileHandler(filename='mylog.log', mode='w'),\n",
    "#         logging.StreamHandler(sys.stdout),\n",
    "#     ]\n",
    ")"
   ]
  },
  {
   "cell_type": "code",
   "execution_count": 4,
   "metadata": {
    "collapsed": false
   },
   "outputs": [
    {
     "name": "stderr",
     "output_type": "stream",
     "text": [
      "[2018-01-19 07:23:19,727] {<ipython-input-4-efd2929c73d3>:3} INFO - TEST INFO\n"
     ]
    },
    {
     "name": "stdout",
     "output_type": "stream",
     "text": [
      "time: 2.16 ms\n"
     ]
    }
   ],
   "source": [
    "# Test whether logging works:\n",
    "logger = logging.getLogger()\n",
    "logger.info('TEST INFO')"
   ]
  },
  {
   "cell_type": "code",
   "execution_count": 5,
   "metadata": {
    "collapsed": false
   },
   "outputs": [
    {
     "name": "stdout",
     "output_type": "stream",
     "text": [
      "time: 237 ms\n"
     ]
    }
   ],
   "source": [
    "aws_info = {\n",
    "    'profile_name': 'sandbox',\n",
    "}\n",
    "\n",
    "uids = s3.read_json('s3://picwell.sandbox.medicare/samples/philadelphia-2015-1k-sample')\n",
    "pids = ['2820028008119', '2820088001036']"
   ]
  },
  {
   "cell_type": "markdown",
   "metadata": {},
   "source": [
    "# Test ConfigInfo"
   ]
  },
  {
   "cell_type": "code",
   "execution_count": 6,
   "metadata": {
    "collapsed": false
   },
   "outputs": [
    {
     "name": "stdout",
     "output_type": "stream",
     "text": [
      "picwell.sandbox.analytics\n",
      "junghoon/lambda_calculator\n",
      "\n",
      "picwell.sandbox.analytics\n",
      "junghoon/lambda_calculator_benefits\n",
      "\n",
      "ma_claims\n",
      "time: 2.87 ms\n"
     ]
    }
   ],
   "source": [
    "configs = ConfigInfo('lambda_client/lambda.cfg')\n",
    "\n",
    "print configs.claims_bucket\n",
    "print configs.claims_path\n",
    "print\n",
    "print configs.benefits_bucket\n",
    "print configs.benefits_path\n",
    "print\n",
    "print configs.claims_table"
   ]
  },
  {
   "cell_type": "code",
   "execution_count": 7,
   "metadata": {
    "collapsed": false
   },
   "outputs": [
    {
     "name": "stdout",
     "output_type": "stream",
     "text": [
      "51 states\n",
      "['01', '04', '05', '06', '08', '09', '10', '11', '12', '13', '15', '16', '17', '18', '19', '20', '21', '22', '23', '24', '25', '26', '27', '28', '29', '30', '31', '32', '33', '34', '35', '36', '37', '38', '39', '40', '41', '42', '44', '45', '46', '47', '48', '49', '50', '51', '53', '54', '55', '56', '72']\n",
      "time: 1.19 ms\n"
     ]
    }
   ],
   "source": [
    "all_states = configs.all_states\n",
    "\n",
    "print '{} states'.format(len(all_states))\n",
    "print all_states"
   ]
  },
  {
   "cell_type": "markdown",
   "metadata": {},
   "source": [
    "# Test ClaimsClient"
   ]
  },
  {
   "cell_type": "code",
   "execution_count": 8,
   "metadata": {
    "collapsed": false
   },
   "outputs": [
    {
     "name": "stdout",
     "output_type": "stream",
     "text": [
      "claims of 1 people retrieved\n",
      "time: 324 ms\n"
     ]
    }
   ],
   "source": [
    "# Test S3:\n",
    "client = ClaimsClient(aws_info, \n",
    "                      s3_bucket=configs.claims_bucket,\n",
    "                      s3_path=configs.claims_path)\n",
    "\n",
    "people = client.get(uids[:1])\n",
    "print 'claims of {} people retrieved'.format(len(people))"
   ]
  },
  {
   "cell_type": "code",
   "execution_count": 9,
   "metadata": {
    "collapsed": false
   },
   "outputs": [
    {
     "name": "stdout",
     "output_type": "stream",
     "text": [
      "['medical_claims', 'uid']\n"
     ]
    },
    {
     "data": {
      "text/plain": [
       "{'medical_claims': [{'admitted': '2014-04-03',\n",
       "   'benefit_category': 16,\n",
       "   'cost': 148.0,\n",
       "   'discharged': '2014-04-03',\n",
       "   'length_of_stay': 1},\n",
       "  {'admitted': '2014-05-02',\n",
       "   'benefit_category': 16,\n",
       "   'cost': 74.55,\n",
       "   'discharged': '2014-05-02',\n",
       "   'length_of_stay': 1},\n",
       "  {'admitted': '2014-05-05',\n",
       "   'benefit_category': 16,\n",
       "   'cost': 104.39,\n",
       "   'discharged': '2014-05-05',\n",
       "   'length_of_stay': 1},\n",
       "  {'admitted': '2014-05-13',\n",
       "   'benefit_category': 16,\n",
       "   'cost': 210.12,\n",
       "   'discharged': '2014-05-13',\n",
       "   'length_of_stay': 1},\n",
       "  {'admitted': '2014-05-19',\n",
       "   'benefit_category': 11,\n",
       "   'cost': 442.2,\n",
       "   'discharged': '2014-05-19',\n",
       "   'length_of_stay': 1}],\n",
       " 'uid': '1302895801'}"
      ]
     },
     "execution_count": 9,
     "metadata": {},
     "output_type": "execute_result"
    },
    {
     "name": "stdout",
     "output_type": "stream",
     "text": [
      "time: 5.5 ms\n"
     ]
    }
   ],
   "source": [
    "person = people[0]\n",
    "print person.keys()\n",
    "{\n",
    "    'uid': person['uid'],\n",
    "    'medical_claims': person['medical_claims'][:5]\n",
    "}"
   ]
  },
  {
   "cell_type": "code",
   "execution_count": 10,
   "metadata": {
    "collapsed": false
   },
   "outputs": [
    {
     "name": "stdout",
     "output_type": "stream",
     "text": [
      "claims of 1000 people retrieved\n",
      "time: 2min 30s\n"
     ]
    }
   ],
   "source": [
    "# Let's try something larger:\n",
    "people = client.get(uids)\n",
    "print 'claims of {} people retrieved'.format(len(people))"
   ]
  },
  {
   "cell_type": "code",
   "execution_count": 11,
   "metadata": {
    "collapsed": false
   },
   "outputs": [
    {
     "name": "stdout",
     "output_type": "stream",
     "text": [
      "claims of 1 people retrieved\n",
      "time: 540 ms\n"
     ]
    }
   ],
   "source": [
    "# Test DynamoDB:\n",
    "client = ClaimsClient(aws_info,\n",
    "                      table_name=configs.claims_table)\n",
    "\n",
    "people = client.get(uids[:1])\n",
    "print 'claims of {} people retrieved'.format(len(people))"
   ]
  },
  {
   "cell_type": "code",
   "execution_count": 12,
   "metadata": {
    "collapsed": false
   },
   "outputs": [
    {
     "name": "stdout",
     "output_type": "stream",
     "text": [
      "['medical_claims', 'uid']\n"
     ]
    },
    {
     "data": {
      "text/plain": [
       "{'medical_claims': [{'admitted': '2014-04-03',\n",
       "   'benefit_category': 16,\n",
       "   'cost': 148.0,\n",
       "   'discharged': '2014-04-03',\n",
       "   'length_of_stay': 1},\n",
       "  {'admitted': '2014-05-02',\n",
       "   'benefit_category': 16,\n",
       "   'cost': 74.55,\n",
       "   'discharged': '2014-05-02',\n",
       "   'length_of_stay': 1},\n",
       "  {'admitted': '2014-05-05',\n",
       "   'benefit_category': 16,\n",
       "   'cost': 104.39,\n",
       "   'discharged': '2014-05-05',\n",
       "   'length_of_stay': 1},\n",
       "  {'admitted': '2014-05-13',\n",
       "   'benefit_category': 16,\n",
       "   'cost': 210.12,\n",
       "   'discharged': '2014-05-13',\n",
       "   'length_of_stay': 1},\n",
       "  {'admitted': '2014-05-19',\n",
       "   'benefit_category': 11,\n",
       "   'cost': 442.2,\n",
       "   'discharged': '2014-05-19',\n",
       "   'length_of_stay': 1}],\n",
       " 'uid': '1302895801'}"
      ]
     },
     "execution_count": 12,
     "metadata": {},
     "output_type": "execute_result"
    },
    {
     "name": "stdout",
     "output_type": "stream",
     "text": [
      "time: 4.84 ms\n"
     ]
    }
   ],
   "source": [
    "person = people[0]\n",
    "print person.keys()\n",
    "{\n",
    "    'uid': person['uid'],\n",
    "    'medical_claims': person['medical_claims'][:5]\n",
    "}"
   ]
  },
  {
   "cell_type": "code",
   "execution_count": 13,
   "metadata": {
    "collapsed": false
   },
   "outputs": [
    {
     "name": "stdout",
     "output_type": "stream",
     "text": [
      "claims of 1000 people retrieved\n",
      "time: 8.76 s\n"
     ]
    }
   ],
   "source": [
    "# Let's try something larger:\n",
    "people = client.get(uids)\n",
    "print 'claims of {} people retrieved'.format(len(people))"
   ]
  },
  {
   "cell_type": "code",
   "execution_count": 14,
   "metadata": {
    "collapsed": false
   },
   "outputs": [
    {
     "name": "stdout",
     "output_type": "stream",
     "text": [
      "claims of 5 people retrieved\n",
      "time: 707 ms\n"
     ]
    }
   ],
   "source": [
    "# Test configuration file and retrieving multiple people:\n",
    "client = ClaimsClient(aws_info)\n",
    "\n",
    "people = client.get(uids[:5])\n",
    "print 'claims of {} people retrieved'.format(len(people))"
   ]
  },
  {
   "cell_type": "code",
   "execution_count": 15,
   "metadata": {
    "collapsed": false
   },
   "outputs": [
    {
     "name": "stdout",
     "output_type": "stream",
     "text": [
      "time: 1.23 ms\n"
     ]
    }
   ],
   "source": [
    "# The object should not be pickled.\n",
    "with pytest.raises(Exception, match='ClaimsClient object cannot be pickled.'):\n",
    "    pickle.dumps(client)"
   ]
  },
  {
   "cell_type": "markdown",
   "metadata": {},
   "source": [
    "# Test BenefitsClient"
   ]
  },
  {
   "cell_type": "code",
   "execution_count": 16,
   "metadata": {
    "collapsed": false
   },
   "outputs": [
    {
     "name": "stdout",
     "output_type": "stream",
     "text": [
      "['01', '04', '05', '06', '08', '09', '10', '11', '12', '13', '15', '16', '17', '18', '19', '20', '21', '22', '23', '24', '25', '26', '27', '28', '29', '30', '31', '32', '33', '34', '35', '36', '37', '38', '39', '40', '41', '42', '44', '45', '46', '47', '48', '49', '50', '51', '53', '54', '55', '56', '72']\n",
      "time: 1.39 ms\n"
     ]
    }
   ],
   "source": [
    "client = BenefitsClient(aws_info)\n",
    "\n",
    "print client.all_states"
   ]
  },
  {
   "cell_type": "code",
   "execution_count": 17,
   "metadata": {
    "collapsed": false
   },
   "outputs": [
    {
     "name": "stdout",
     "output_type": "stream",
     "text": [
      "47 plans read for state 01\n",
      "75 plans read for state 04\n",
      "time: 778 ms\n"
     ]
    }
   ],
   "source": [
    "plans = client._get_one_state('01')\n",
    "print '{} plans read for state 01'.format(len(plans))\n",
    "\n",
    "plans = client._get_one_state('04')\n",
    "print '{} plans read for state 04'.format(len(plans))"
   ]
  },
  {
   "cell_type": "code",
   "execution_count": 18,
   "metadata": {
    "collapsed": false
   },
   "outputs": [
    {
     "name": "stdout",
     "output_type": "stream",
     "text": [
      "122 plans read\n",
      "time: 583 ms\n"
     ]
    }
   ],
   "source": [
    "plans = client.get_by_state(['01', '04'])\n",
    "print '{} plans read'.format(len(plans))"
   ]
  },
  {
   "cell_type": "code",
   "execution_count": 19,
   "metadata": {
    "collapsed": false
   },
   "outputs": [
    {
     "name": "stdout",
     "output_type": "stream",
     "text": [
      "3558 plans read\n",
      "time: 10 s\n"
     ]
    }
   ],
   "source": [
    "plans = client.get_all()\n",
    "print '{} plans read'.format(len(plans))"
   ]
  },
  {
   "cell_type": "code",
   "execution_count": 20,
   "metadata": {
    "collapsed": false
   },
   "outputs": [
    {
     "name": "stdout",
     "output_type": "stream",
     "text": [
      "time: 61.8 ms\n"
     ]
    }
   ],
   "source": [
    "# Compare the timing against reading the entire file:\n",
    "from lambda_client.shared_utils import _read_json\n",
    "\n",
    "session = boto3.Session(**aws_info)\n",
    "resource = session.resource('s3')"
   ]
  },
  {
   "cell_type": "code",
   "execution_count": 21,
   "metadata": {
    "collapsed": false
   },
   "outputs": [
    {
     "name": "stdout",
     "output_type": "stream",
     "text": [
      "3558 plans read\n",
      "time: 5.43 s\n"
     ]
    }
   ],
   "source": [
    "all_plans = _read_json('picwell.sandbox.medicare', 'ma_benefits/cms_2018_pbps_20171005.json', resource)\n",
    "\n",
    "print '{} plans read'.format(len(plans))"
   ]
  },
  {
   "cell_type": "code",
   "execution_count": 22,
   "metadata": {
    "collapsed": false
   },
   "outputs": [
    {
     "name": "stdout",
     "output_type": "stream",
     "text": [
      "time: 148 ms\n"
     ]
    }
   ],
   "source": [
    "# Ensure that the same plans are read:\n",
    "sort_key = lambda plan: plan['picwell_id']\n",
    "assert sorted(all_plans, key=sort_key) == sorted(plans, key=sort_key)"
   ]
  },
  {
   "cell_type": "code",
   "execution_count": 23,
   "metadata": {
    "collapsed": false
   },
   "outputs": [
    {
     "name": "stdout",
     "output_type": "stream",
     "text": [
      "time: 1.42 ms\n"
     ]
    }
   ],
   "source": [
    "# The object should not be pickled.\n",
    "with pytest.raises(Exception, match='BenefitsClient object cannot be pickled.'):\n",
    "    pickle.dumps(client)"
   ]
  },
  {
   "cell_type": "markdown",
   "metadata": {},
   "source": [
    "# Test Cost Breakdown"
   ]
  },
  {
   "cell_type": "code",
   "execution_count": 24,
   "metadata": {
    "collapsed": false
   },
   "outputs": [
    {
     "name": "stdout",
     "output_type": "stream",
     "text": [
      "time: 701 µs\n"
     ]
    }
   ],
   "source": [
    "client = CalculatorClient(aws_info)"
   ]
  },
  {
   "cell_type": "code",
   "execution_count": 25,
   "metadata": {
    "collapsed": false
   },
   "outputs": [
    {
     "name": "stdout",
     "output_type": "stream",
     "text": [
      "START RequestId: f2b84cf1-fd13-11e7-9775-3b9855aebe52 Version: $LATEST\n",
      "[INFO]\t2018-01-19T12:26:17.700Z\tf2b84cf1-fd13-11e7-9775-3b9855aebe52\tClock started at 2018-01-19 12:26:17.700797.\n",
      "[INFO]\t2018-01-19T12:26:17.772Z\tf2b84cf1-fd13-11e7-9775-3b9855aebe52\tThread initialization took 0.071103 seconds.\n",
      "[INFO]\t2018-01-19T12:26:17.834Z\tf2b84cf1-fd13-11e7-9775-3b9855aebe52\tFound credentials in environment variables.\n",
      "[INFO]\t2018-01-19T12:26:19.72Z\tf2b84cf1-fd13-11e7-9775-3b9855aebe52\tStarting new HTTPS connection (1): s3.amazonaws.com\n",
      "[INFO]\t2018-01-19T12:26:19.208Z\tf2b84cf1-fd13-11e7-9775-3b9855aebe52\tJoining all threads took 1.435514 seconds.\n",
      "[INFO]\t2018-01-19T12:26:19.208Z\tf2b84cf1-fd13-11e7-9775-3b9855aebe52\tCombining all results in order took 2.9e-05 seconds.\n",
      "[INFO]\t2018-01-19T12:26:19.208Z\tf2b84cf1-fd13-11e7-9775-3b9855aebe52\tClaim retrieval for [u'1302895801'] took 1.507642 seconds.\n",
      "[INFO]\t2018-01-19T12:26:19.272Z\tf2b84cf1-fd13-11e7-9775-3b9855aebe52\tThread initialization took 0.062931 seconds.\n",
      "[INFO]\t2018-01-19T12:26:19.434Z\tf2b84cf1-fd13-11e7-9775-3b9855aebe52\tFound credentials in environment variables.\n",
      "[INFO]\t2018-01-19T12:26:20.112Z\tf2b84cf1-fd13-11e7-9775-3b9855aebe52\tFound credentials in environment variables.\n",
      "[INFO]\t2018-01-19T12:26:20.255Z\tf2b84cf1-fd13-11e7-9775-3b9855aebe52\tStarting new HTTPS connection (1): s3.amazonaws.com\n",
      "[INFO]\t2018-01-19T12:26:20.813Z\tf2b84cf1-fd13-11e7-9775-3b9855aebe52\tStarting new HTTPS connection (1): s3.amazonaws.com\n",
      "[INFO]\t2018-01-19T12:26:22.455Z\tf2b84cf1-fd13-11e7-9775-3b9855aebe52\tJoining all threads took 3.183542 seconds.\n",
      "[INFO]\t2018-01-19T12:26:22.456Z\tf2b84cf1-fd13-11e7-9775-3b9855aebe52\tCombining all results in order took 3.3e-05 seconds.\n",
      "[INFO]\t2018-01-19T12:26:22.534Z\tf2b84cf1-fd13-11e7-9775-3b9855aebe52\tBenefit retrieval took 3.325502 seconds.\n",
      "[INFO]\t2018-01-19T12:26:22.573Z\tf2b84cf1-fd13-11e7-9775-3b9855aebe52\tCalculation took 0.039003 seconds.\n",
      "[INFO]\t2018-01-19T12:26:22.573Z\tf2b84cf1-fd13-11e7-9775-3b9855aebe52\tClock stopped at 2018-01-19 12:26:22.573929 (elapsed: 4.873138 seconds)\n",
      "END RequestId: f2b84cf1-fd13-11e7-9775-3b9855aebe52\n",
      "REPORT RequestId: f2b84cf1-fd13-11e7-9775-3b9855aebe52\tDuration: 4874.19 ms\tBilled Duration: 4900 ms \tMemory Size: 256 MB\tMax Memory Used: 214 MB\t\n",
      "\n",
      "2 responses returned\n"
     ]
    },
    {
     "data": {
      "text/plain": [
       "{u'allowed': 26376.640000000003,\n",
       " u'covered_breakdown': {u'categories': {u'0': 0.0,\n",
       "   u'11': 186.33999999999997,\n",
       "   u'13': 13.23,\n",
       "   u'15': 30.79,\n",
       "   u'16': 0.0,\n",
       "   u'19': 80.0,\n",
       "   u'25': 1750.0,\n",
       "   u'30': 719.1700000000001,\n",
       "   u'31': 300.0,\n",
       "   u'44': 0.0,\n",
       "   u'49': 118.48800000000001,\n",
       "   u'7': 479.558},\n",
       "  u'composite': 3677.5759999999996,\n",
       "  u'in_network': 3677.5759999999996,\n",
       "  u'out_network': 0.0},\n",
       " u'deductible_breakdown': {u'categories': {u'0': 0.0,\n",
       "   u'11': 0.0,\n",
       "   u'13': 0.0,\n",
       "   u'15': 0.0,\n",
       "   u'16': 0.0,\n",
       "   u'19': 0.0,\n",
       "   u'25': 0.0,\n",
       "   u'30': 0.0,\n",
       "   u'31': 0.0,\n",
       "   u'44': 0.0,\n",
       "   u'49': 0.0,\n",
       "   u'7': 0.0},\n",
       "  u'composite': 0.0,\n",
       "  u'in_network': 0.0,\n",
       "  u'out_network': 0.0},\n",
       " u'oop': 3677.5759999999996,\n",
       " u'picwell_id': u'2820028008119',\n",
       " u'uid': u'1302895801',\n",
       " u'uncovered': 0.0,\n",
       " u'uncovered_breakdown': {u'categories': {u'0': 0.0,\n",
       "   u'11': 0.0,\n",
       "   u'13': 0.0,\n",
       "   u'15': 0.0,\n",
       "   u'16': 0.0,\n",
       "   u'19': 0.0,\n",
       "   u'25': 0.0,\n",
       "   u'30': 0.0,\n",
       "   u'31': 0.0,\n",
       "   u'44': 0.0,\n",
       "   u'49': 0.0,\n",
       "   u'7': 0.0},\n",
       "  u'composite': 0.0,\n",
       "  u'in_network': 0.0,\n",
       "  u'out_network': 0.0}}"
      ]
     },
     "execution_count": 25,
     "metadata": {},
     "output_type": "execute_result"
    },
    {
     "name": "stdout",
     "output_type": "stream",
     "text": [
      "time: 5.18 s\n"
     ]
    }
   ],
   "source": [
    "responses = client.get_breakdown(uids[:1], pids, verbose=True)\n",
    "\n",
    "print '{} responses returned'.format(len(responses))\n",
    "responses[0]"
   ]
  },
  {
   "cell_type": "code",
   "execution_count": 26,
   "metadata": {
    "collapsed": false
   },
   "outputs": [
    {
     "name": "stdout",
     "output_type": "stream",
     "text": [
      "START RequestId: f5bb53e9-fd13-11e7-a20c-7507f01538b7 Version: $LATEST\n",
      "[INFO]\t2018-01-19T12:26:22.713Z\tf5bb53e9-fd13-11e7-a20c-7507f01538b7\tClock started at 2018-01-19 12:26:22.713818.\n",
      "[INFO]\t2018-01-19T12:26:22.732Z\tf5bb53e9-fd13-11e7-a20c-7507f01538b7\tThread initialization took 0.018263 seconds.\n",
      "[INFO]\t2018-01-19T12:26:22.772Z\tf5bb53e9-fd13-11e7-a20c-7507f01538b7\tFound credentials in environment variables.\n",
      "[INFO]\t2018-01-19T12:26:23.52Z\tf5bb53e9-fd13-11e7-a20c-7507f01538b7\tStarting new HTTPS connection (1): dynamodb.us-east-1.amazonaws.com\n",
      "[INFO]\t2018-01-19T12:26:23.215Z\tf5bb53e9-fd13-11e7-a20c-7507f01538b7\tJoining all threads took 0.482862 seconds.\n",
      "[INFO]\t2018-01-19T12:26:23.215Z\tf5bb53e9-fd13-11e7-a20c-7507f01538b7\tCombining all results in order took 2.7e-05 seconds.\n",
      "[INFO]\t2018-01-19T12:26:23.232Z\tf5bb53e9-fd13-11e7-a20c-7507f01538b7\tClaim retrieval for [u'1302895801'] took 0.518392 seconds.\n",
      "[INFO]\t2018-01-19T12:26:23.432Z\tf5bb53e9-fd13-11e7-a20c-7507f01538b7\tThread initialization took 0.19982 seconds.\n",
      "[INFO]\t2018-01-19T12:26:23.491Z\tf5bb53e9-fd13-11e7-a20c-7507f01538b7\tFound credentials in environment variables.\n",
      "[INFO]\t2018-01-19T12:26:23.492Z\tf5bb53e9-fd13-11e7-a20c-7507f01538b7\tFound credentials in environment variables.\n",
      "[INFO]\t2018-01-19T12:26:24.735Z\tf5bb53e9-fd13-11e7-a20c-7507f01538b7\tStarting new HTTPS connection (1): s3.amazonaws.com\n",
      "[INFO]\t2018-01-19T12:26:24.794Z\tf5bb53e9-fd13-11e7-a20c-7507f01538b7\tStarting new HTTPS connection (1): s3.amazonaws.com\n",
      "[INFO]\t2018-01-19T12:26:26.473Z\tf5bb53e9-fd13-11e7-a20c-7507f01538b7\tJoining all threads took 3.040242 seconds.\n",
      "[INFO]\t2018-01-19T12:26:26.473Z\tf5bb53e9-fd13-11e7-a20c-7507f01538b7\tCombining all results in order took 4.4e-05 seconds.\n",
      "[INFO]\t2018-01-19T12:26:26.552Z\tf5bb53e9-fd13-11e7-a20c-7507f01538b7\tBenefit retrieval took 3.319801 seconds.\n",
      "[INFO]\t2018-01-19T12:26:26.554Z\tf5bb53e9-fd13-11e7-a20c-7507f01538b7\tCalculation took 0.002107 seconds.\n",
      "[INFO]\t2018-01-19T12:26:26.555Z\tf5bb53e9-fd13-11e7-a20c-7507f01538b7\tClock stopped at 2018-01-19 12:26:26.555089 (elapsed: 3.841276 seconds)\n",
      "END RequestId: f5bb53e9-fd13-11e7-a20c-7507f01538b7\n",
      "REPORT RequestId: f5bb53e9-fd13-11e7-a20c-7507f01538b7\tDuration: 3842.25 ms\tBilled Duration: 3900 ms \tMemory Size: 256 MB\tMax Memory Used: 214 MB\t\n",
      "\n",
      "2 responses returned\n",
      "time: 3.98 s\n"
     ]
    }
   ],
   "source": [
    "responses = client.get_breakdown(uids[:1], pids, use_s3_for_claims=False, verbose=True)\n",
    "\n",
    "print '{} responses returned'.format(len(responses))"
   ]
  },
  {
   "cell_type": "code",
   "execution_count": 27,
   "metadata": {
    "collapsed": false
   },
   "outputs": [
    {
     "name": "stdout",
     "output_type": "stream",
     "text": [
      "20 responses returned\n",
      "time: 15.4 s\n"
     ]
    }
   ],
   "source": [
    "# Test recursive call:\n",
    "responses = client.get_breakdown(uids[:10], pids, max_calculated_uids=10)\n",
    "\n",
    "print '{} responses returned'.format(len(responses))"
   ]
  },
  {
   "cell_type": "code",
   "execution_count": 28,
   "metadata": {
    "collapsed": false
   },
   "outputs": [
    {
     "name": "stdout",
     "output_type": "stream",
     "text": [
      "20 responses returned\n",
      "time: 7.3 s\n"
     ]
    }
   ],
   "source": [
    "responses = client.get_breakdown(uids[:10], pids, max_lambda_calls=2)\n",
    "\n",
    "print '{} responses returned'.format(len(responses))"
   ]
  },
  {
   "cell_type": "code",
   "execution_count": 29,
   "metadata": {
    "collapsed": false
   },
   "outputs": [
    {
     "name": "stdout",
     "output_type": "stream",
     "text": [
      "20 responses returned\n",
      "time: 7.01 s\n"
     ]
    }
   ],
   "source": [
    "responses = client.get_breakdown(uids[:10], pids)\n",
    "\n",
    "print '{} responses returned'.format(len(responses))"
   ]
  },
  {
   "cell_type": "code",
   "execution_count": 30,
   "metadata": {
    "collapsed": false
   },
   "outputs": [
    {
     "name": "stdout",
     "output_type": "stream",
     "text": [
      "20 responses returned\n",
      "time: 5.83 s\n"
     ]
    }
   ],
   "source": [
    "# Check whether DynamoDB reduces latency:\n",
    "responses = client.get_breakdown(uids[:10], pids, use_s3_for_claims=False, max_calculated_uids=10)\n",
    "\n",
    "print '{} responses returned'.format(len(responses))"
   ]
  },
  {
   "cell_type": "code",
   "execution_count": 31,
   "metadata": {
    "collapsed": false,
    "scrolled": true
   },
   "outputs": [
    {
     "name": "stdout",
     "output_type": "stream",
     "text": [
      "2000 responses returned\n",
      "time: 21.6 s\n"
     ]
    }
   ],
   "source": [
    "# Let's try something larger:\n",
    "responses = client.get_breakdown(uids, pids)\n",
    "\n",
    "print '{} responses returned'.format(len(responses))"
   ]
  },
  {
   "cell_type": "code",
   "execution_count": 32,
   "metadata": {
    "collapsed": false
   },
   "outputs": [
    {
     "name": "stdout",
     "output_type": "stream",
     "text": [
      "2000 responses returned\n",
      "time: 24.9 s\n"
     ]
    }
   ],
   "source": [
    "responses = client.get_breakdown(uids, pids, use_s3_for_claims=False)\n",
    "\n",
    "print '{} responses returned'.format(len(responses))"
   ]
  },
  {
   "cell_type": "code",
   "execution_count": 33,
   "metadata": {
    "collapsed": false
   },
   "outputs": [
    {
     "name": "stdout",
     "output_type": "stream",
     "text": [
      "2000 responses returned\n",
      "time: 17.8 s\n"
     ]
    }
   ],
   "source": [
    "# Runs into memory issue if all 1000 people are calculated once:\n",
    "responses = client.get_breakdown(uids, pids, use_s3_for_claims=False, max_calculated_uids=100, max_lambda_calls=10)\n",
    "\n",
    "print '{} responses returned'.format(len(responses))"
   ]
  },
  {
   "cell_type": "code",
   "execution_count": 34,
   "metadata": {
    "collapsed": false
   },
   "outputs": [
    {
     "name": "stdout",
     "output_type": "stream",
     "text": [
      "time: 12.3 ms\n"
     ]
    }
   ],
   "source": [
    "from lambda_package.calc.calculator import calculate_oop\n",
    "\n",
    "def run_locally(people, plans, oop_only):\n",
    "    costs = []\n",
    "    \n",
    "    for person in people:\n",
    "        claims = person['medical_claims']\n",
    "    \n",
    "        for plan in plans:\n",
    "\n",
    "            cost = calculate_oop(claims, plan)\n",
    "            if oop_only:\n",
    "                cost = {\n",
    "                    'oop': cost['oop']\n",
    "                }\n",
    "\n",
    "            cost.update({\n",
    "                'uid': person['uid'],\n",
    "                'picwell_id': str(plan['picwell_id']),\n",
    "            })\n",
    "\n",
    "            costs.append(cost)\n",
    "    \n",
    "    return costs"
   ]
  },
  {
   "cell_type": "code",
   "execution_count": 35,
   "metadata": {
    "collapsed": false
   },
   "outputs": [
    {
     "name": "stdout",
     "output_type": "stream",
     "text": [
      "2000 costs calculated\n",
      "time: 11.3 s\n"
     ]
    }
   ],
   "source": [
    "# Run calculcations locally for comparison:\n",
    "# claims_client = ClaimsClient(aws_info, \n",
    "#                              s3_bucket=configs.claims_bucket,\n",
    "#                              s3_path=configs.claims_path)\n",
    "claims_client = ClaimsClient(aws_info, \n",
    "                             table_name=configs.claims_table)\n",
    "people = claims_client.get(uids)\n",
    "\n",
    "benefits_client = BenefitsClient(aws_info)\n",
    "plans = benefits_client.get_by_pid(pids)\n",
    "\n",
    "costs = run_locally(people, plans, False)\n",
    "\n",
    "print '{} costs calculated'.format(len(costs))"
   ]
  },
  {
   "cell_type": "code",
   "execution_count": 36,
   "metadata": {
    "collapsed": false
   },
   "outputs": [
    {
     "name": "stdout",
     "output_type": "stream",
     "text": [
      "268 plans identified\n",
      "time: 432 ms\n"
     ]
    }
   ],
   "source": [
    "# benefits_client = BenefitsClient()\n",
    "benefits_client = BenefitsClient(aws_info)\n",
    "plans_CA = benefits_client.get_by_state(['06'])\n",
    "pids_CA = [plan['picwell_id'] for plan in plans_CA]\n",
    "\n",
    "print '{} plans identified'.format(len(pids_CA))"
   ]
  },
  {
   "cell_type": "code",
   "execution_count": 37,
   "metadata": {
    "collapsed": false
   },
   "outputs": [
    {
     "name": "stdout",
     "output_type": "stream",
     "text": [
      "80400 responses returned\n",
      "time: 19.4 s\n"
     ]
    }
   ],
   "source": [
    "# Try a sample size more relevant to commercial:\n",
    "responses = client.get_oop(uids[:300], pids_CA)\n",
    "\n",
    "print '{} responses returned'.format(len(responses))"
   ]
  },
  {
   "cell_type": "code",
   "execution_count": 38,
   "metadata": {
    "collapsed": false
   },
   "outputs": [
    {
     "name": "stdout",
     "output_type": "stream",
     "text": [
      "80400 responses returned\n",
      "time: 15.8 s\n"
     ]
    }
   ],
   "source": [
    "responses = client.get_oop(uids[:300], pids_CA, use_s3_for_claims=False)\n",
    "\n",
    "print '{} responses returned'.format(len(responses))"
   ]
  },
  {
   "cell_type": "code",
   "execution_count": 39,
   "metadata": {
    "collapsed": false
   },
   "outputs": [
    {
     "name": "stdout",
     "output_type": "stream",
     "text": [
      "80400 responses returned\n",
      "time: 19.7 s\n"
     ]
    }
   ],
   "source": [
    "# Increasing the amount of computation at the terminal nodes increases the time. This is probably\n",
    "# because there are many plans.\n",
    "responses = client.get_oop(uids[:300], pids_CA, use_s3_for_claims=False, max_calculated_uids=3)\n",
    "\n",
    "print '{} responses returned'.format(len(responses))"
   ]
  },
  {
   "cell_type": "code",
   "execution_count": 40,
   "metadata": {
    "collapsed": false
   },
   "outputs": [
    {
     "name": "stdout",
     "output_type": "stream",
     "text": [
      "80400 costs calculated\n",
      "time: 1min 2s\n"
     ]
    }
   ],
   "source": [
    "claims_client = ClaimsClient(aws_info, \n",
    "                             table_name=configs.claims_table)\n",
    "people = claims_client.get(uids[:300])\n",
    "\n",
    "benefits_client = BenefitsClient(aws_info)\n",
    "plans = benefits_client.get_by_pid(pids_CA)\n",
    "\n",
    "costs = run_locally(people, plans, True)\n",
    "\n",
    "print '{} costs calculated'.format(len(costs))"
   ]
  },
  {
   "cell_type": "markdown",
   "metadata": {},
   "source": [
    "# Test Batch Calculation"
   ]
  },
  {
   "cell_type": "code",
   "execution_count": 41,
   "metadata": {
    "collapsed": false
   },
   "outputs": [
    {
     "name": "stdout",
     "output_type": "stream",
     "text": [
      "1352473 uids read\n",
      "time: 5.9 s\n"
     ]
    }
   ],
   "source": [
    "uids = s3.read_json('s3n://picwell.sandbox.medicare/samples/philadelphia-2015')\n",
    "\n",
    "print '{} uids read'.format(len(uids))"
   ]
  },
  {
   "cell_type": "code",
   "execution_count": 42,
   "metadata": {
    "collapsed": false
   },
   "outputs": [
    {
     "name": "stdout",
     "output_type": "stream",
     "text": [
      "51 states\n",
      "time: 2.31 ms\n"
     ]
    }
   ],
   "source": [
    "configs = ConfigInfo('lambda_client/lambda.cfg')\n",
    "all_states = configs.all_states\n",
    "\n",
    "print '{} states'.format(len(all_states))"
   ]
  },
  {
   "cell_type": "code",
   "execution_count": 43,
   "metadata": {
    "collapsed": false
   },
   "outputs": [
    {
     "name": "stdout",
     "output_type": "stream",
     "text": [
      "time: 820 µs\n"
     ]
    }
   ],
   "source": [
    "client = CalculatorClient(aws_info)"
   ]
  },
  {
   "cell_type": "code",
   "execution_count": 44,
   "metadata": {
    "collapsed": false
   },
   "outputs": [
    {
     "name": "stdout",
     "output_type": "stream",
     "text": [
      "START RequestId: 847ae8aa-fd14-11e7-b48a-4daabd806c86 Version: $LATEST\n",
      "[INFO]\t2018-01-19T12:30:22.267Z\t847ae8aa-fd14-11e7-b48a-4daabd806c86\tClock started at 2018-01-19 12:30:22.267031.\n",
      "[INFO]\t2018-01-19T12:30:22.286Z\t847ae8aa-fd14-11e7-b48a-4daabd806c86\tThread initialization took 0.018485 seconds.\n",
      "[INFO]\t2018-01-19T12:30:22.449Z\t847ae8aa-fd14-11e7-b48a-4daabd806c86\tFound credentials in environment variables.\n",
      "[INFO]\t2018-01-19T12:30:23.6Z\t847ae8aa-fd14-11e7-b48a-4daabd806c86\tStarting new HTTPS connection (1): s3.amazonaws.com\n",
      "[INFO]\t2018-01-19T12:30:23.184Z\t847ae8aa-fd14-11e7-b48a-4daabd806c86\tJoining all threads took 0.898056 seconds.\n",
      "[INFO]\t2018-01-19T12:30:23.184Z\t847ae8aa-fd14-11e7-b48a-4daabd806c86\tCombining all results in order took 2.6e-05 seconds.\n",
      "[INFO]\t2018-01-19T12:30:23.184Z\t847ae8aa-fd14-11e7-b48a-4daabd806c86\tClaim retrieval for [u'31970436701'] took 0.917279 seconds.\n",
      "[INFO]\t2018-01-19T12:30:23.185Z\t847ae8aa-fd14-11e7-b48a-4daabd806c86\tProcessing state 01:\n",
      "[INFO]\t2018-01-19T12:30:23.206Z\t847ae8aa-fd14-11e7-b48a-4daabd806c86\tThread initialization took 0.02109 seconds.\n",
      "[INFO]\t2018-01-19T12:30:23.269Z\t847ae8aa-fd14-11e7-b48a-4daabd806c86\tFound credentials in environment variables.\n",
      "[INFO]\t2018-01-19T12:30:23.968Z\t847ae8aa-fd14-11e7-b48a-4daabd806c86\tStarting new HTTPS connection (1): s3.amazonaws.com\n",
      "[INFO]\t2018-01-19T12:30:24.189Z\t847ae8aa-fd14-11e7-b48a-4daabd806c86\tJoining all threads took 0.983116 seconds.\n",
      "[INFO]\t2018-01-19T12:30:24.189Z\t847ae8aa-fd14-11e7-b48a-4daabd806c86\tCombining all results in order took 2.8e-05 seconds.\n",
      "[INFO]\t2018-01-19T12:30:24.189Z\t847ae8aa-fd14-11e7-b48a-4daabd806c86\tBenefit retrieval for 01 took 1.004675 seconds.\n",
      "[INFO]\t2018-01-19T12:30:25.629Z\t847ae8aa-fd14-11e7-b48a-4daabd806c86\tCalculation for 01 took 1.439711 seconds.\n",
      "[INFO]\t2018-01-19T12:30:25.629Z\t847ae8aa-fd14-11e7-b48a-4daabd806c86\tProcessing state 06:\n",
      "[INFO]\t2018-01-19T12:30:25.688Z\t847ae8aa-fd14-11e7-b48a-4daabd806c86\tThread initialization took 0.058407 seconds.\n",
      "[INFO]\t2018-01-19T12:30:25.787Z\t847ae8aa-fd14-11e7-b48a-4daabd806c86\tFound credentials in environment variables.\n",
      "[INFO]\t2018-01-19T12:30:26.307Z\t847ae8aa-fd14-11e7-b48a-4daabd806c86\tStarting new HTTPS connection (1): s3.amazonaws.com\n",
      "[INFO]\t2018-01-19T12:30:26.988Z\t847ae8aa-fd14-11e7-b48a-4daabd806c86\tJoining all threads took 1.299709 seconds.\n",
      "[INFO]\t2018-01-19T12:30:26.988Z\t847ae8aa-fd14-11e7-b48a-4daabd806c86\tCombining all results in order took 2.8e-05 seconds.\n",
      "[INFO]\t2018-01-19T12:30:26.989Z\t847ae8aa-fd14-11e7-b48a-4daabd806c86\tBenefit retrieval for 06 took 1.359794 seconds.\n",
      "[INFO]\t2018-01-19T12:30:35.567Z\t847ae8aa-fd14-11e7-b48a-4daabd806c86\tCalculation for 06 took 8.578202 seconds.\n",
      "[INFO]\t2018-01-19T12:30:35.627Z\t847ae8aa-fd14-11e7-b48a-4daabd806c86\tFound credentials in environment variables.\n",
      "[INFO]\t2018-01-19T12:30:36.189Z\t847ae8aa-fd14-11e7-b48a-4daabd806c86\tStarting new HTTPS connection (1): dynamodb.us-east-1.amazonaws.com\n",
      "[INFO]\t2018-01-19T12:30:36.306Z\t847ae8aa-fd14-11e7-b48a-4daabd806c86\tWrite to DynamoDB took 0.738386 seconds.\n",
      "[INFO]\t2018-01-19T12:30:36.328Z\t847ae8aa-fd14-11e7-b48a-4daabd806c86\tClock stopped at 2018-01-19 12:30:36.328739 (elapsed: 14.06172 seconds)\n",
      "END RequestId: 847ae8aa-fd14-11e7-b48a-4daabd806c86\n",
      "REPORT RequestId: 847ae8aa-fd14-11e7-b48a-4daabd806c86\tDuration: 14088.27 ms\tBilled Duration: 14100 ms \tMemory Size: 256 MB\tMax Memory Used: 179 MB\t\n",
      "\n",
      "[[u'31970436701', 6]]\n",
      "time: 14.3 s\n"
     ]
    }
   ],
   "source": [
    "response = client.run_batch(uids[:1], months=['01', '02', '03'], states=['01', '06'], verbose=True)\n",
    "\n",
    "print response"
   ]
  },
  {
   "cell_type": "code",
   "execution_count": 45,
   "metadata": {
    "collapsed": false
   },
   "outputs": [
    {
     "name": "stdout",
     "output_type": "stream",
     "text": [
      "[[u'31970436701', 36], [u'1674435601', 36]]\n",
      "time: 1min 57s\n"
     ]
    }
   ],
   "source": [
    "response = client.run_batch(uids[:2], states=['01', '06', '36'], max_calculated_uids=2)\n",
    "\n",
    "print response"
   ]
  },
  {
   "cell_type": "code",
   "execution_count": 46,
   "metadata": {
    "collapsed": false
   },
   "outputs": [
    {
     "name": "stdout",
     "output_type": "stream",
     "text": [
      "[[u'31970436701', 36], [u'1674435601', 36]]\n",
      "time: 42.3 s\n"
     ]
    }
   ],
   "source": [
    "# Test recursive call:\n",
    "response = client.run_batch(uids[:2], states=['01', '06', '36'])\n",
    "\n",
    "print response"
   ]
  },
  {
   "cell_type": "code",
   "execution_count": 47,
   "metadata": {
    "collapsed": false
   },
   "outputs": [
    {
     "name": "stdout",
     "output_type": "stream",
     "text": [
      "[[u'31970436701', 5], [u'1784327003', 5], [u'1674435601', 5], [u'246540301', 5], [u'3158762201', 5], [u'31917048601', 5], [u'204451602', 5], [u'3154052701', 5], [u'595989402', 5], [u'617921001', 5], [u'3170818001', 5], [u'894536502', 5], [u'30498125901', 5], [u'3182854701', 5], [u'3173810801', 5], [u'2225890201', 5], [u'1789308302', 5], [u'946101001', 5], [u'986282601', 5], [u'763956001', 5]]\n",
      "time: 17.6 s\n"
     ]
    }
   ],
   "source": [
    "# This only runs for large enough Lambda, e.g. 512 MB, and fails for 256 MB Lambda. \n",
    "# Memory determines how fast one can run.\n",
    "response = client.run_batch(uids[:20], months=['01'], states=all_states[:5])\n",
    "\n",
    "print response"
   ]
  },
  {
   "cell_type": "code",
   "execution_count": 48,
   "metadata": {
    "collapsed": false
   },
   "outputs": [
    {
     "name": "stdout",
     "output_type": "stream",
     "text": [
      "5e-06: issuing 4 UIDs for every 1.0 seconds (0 intervals, 9996 remaining)\n",
      "1.00899: issuing 4 UIDs for every 1.0 seconds (0 intervals, 9992 remaining)\n",
      "2.023712: issuing 4 UIDs for every 1.0 seconds (0 intervals, 9988 remaining)\n",
      "3.034808: issuing 4 UIDs for every 1.0 seconds (0 intervals, 9984 remaining)\n",
      "4.048788: issuing 4 UIDs for every 1.0 seconds (0 intervals, 9980 remaining)\n",
      "5.059888: issuing 4 UIDs for every 1.0 seconds (0 intervals, 9976 remaining)\n",
      "6.069375: issuing 4 UIDs for every 1.0 seconds (0 intervals, 9972 remaining)\n",
      "7.082176: issuing 4 UIDs for every 1.0 seconds (0 intervals, 9968 remaining)\n",
      "8.095552: issuing 4 UIDs for every 1.0 seconds (0 intervals, 9964 remaining)\n",
      "9.108687: issuing 4 UIDs for every 1.0 seconds (0 intervals, 9960 remaining)\n",
      "10.120677: issuing 4 UIDs for every 1.0 seconds (0 intervals, 9956 remaining)\n",
      "11.131586: issuing 4 UIDs for every 1.0 seconds (0 intervals, 9952 remaining)\n",
      "12.14171: issuing 4 UIDs for every 1.0 seconds (0 intervals, 9948 remaining)\n",
      "13.149573: issuing 4 UIDs for every 1.0 seconds (0 intervals, 9944 remaining)\n",
      "14.156415: issuing 4 UIDs for every 1.0 seconds (0 intervals, 9940 remaining)\n",
      "15.164194: issuing 4 UIDs for every 1.0 seconds (0 intervals, 9936 remaining)\n",
      "16.173979: issuing 4 UIDs for every 1.0 seconds (0 intervals, 9932 remaining)\n",
      "17.183194: issuing 4 UIDs for every 1.0 seconds (0 intervals, 9928 remaining)\n",
      "18.191013: issuing 4 UIDs for every 1.0 seconds (0 intervals, 9924 remaining)\n",
      "19.197732: issuing 4 UIDs for every 1.0 seconds (0 intervals, 9920 remaining)\n",
      "20.206587: issuing 4 UIDs for every 1.0 seconds (0 intervals, 9916 remaining)\n",
      "21.217111: issuing 4 UIDs for every 1.0 seconds (0 intervals, 9912 remaining)\n",
      "22.223987: issuing 4 UIDs for every 1.0 seconds (0 intervals, 9908 remaining)\n",
      "23.232419: issuing 4 UIDs for every 1.0 seconds (0 intervals, 9904 remaining)\n",
      "24.24087: issuing 4 UIDs for every 1.0 seconds (0 intervals, 9900 remaining)\n",
      "25.245669: issuing 4 UIDs for every 1.0 seconds (0 intervals, 9896 remaining)\n",
      "26.255079: issuing 4 UIDs for every 1.0 seconds (0 intervals, 9892 remaining)\n",
      "27.258618: issuing 4 UIDs for every 1.0 seconds (0 intervals, 9888 remaining)\n",
      "28.267704: issuing 4 UIDs for every 1.0 seconds (0 intervals, 9884 remaining)\n",
      "29.274743: issuing 4 UIDs for every 1.0 seconds (0 intervals, 9880 remaining)\n",
      "30.280025: issuing 4 UIDs for every 1.0 seconds (0 intervals, 9876 remaining)\n",
      "31.286805: issuing 4 UIDs for every 1.0 seconds (0 intervals, 9872 remaining)\n",
      "32.291767: issuing 4 UIDs for every 1.0 seconds (0 intervals, 9868 remaining)\n",
      "33.300381: issuing 4 UIDs for every 1.0 seconds (0 intervals, 9864 remaining)\n",
      "34.307681: issuing 4 UIDs for every 1.0 seconds (0 intervals, 9860 remaining)\n",
      "35.314768: issuing 4 UIDs for every 1.0 seconds (0 intervals, 9856 remaining)\n",
      "36.320219: issuing 4 UIDs for every 1.0 seconds (0 intervals, 9852 remaining)\n",
      "37.326097: issuing 4 UIDs for every 1.0 seconds (0 intervals, 9848 remaining)\n",
      "38.332877: issuing 4 UIDs for every 1.0 seconds (0 intervals, 9844 remaining)\n",
      "39.341044: issuing 4 UIDs for every 1.0 seconds (0 intervals, 9840 remaining)\n",
      "40.346881: issuing 4 UIDs for every 1.0 seconds (0 intervals, 9836 remaining)\n",
      "41.356626: issuing 4 UIDs for every 1.0 seconds (0 intervals, 9832 remaining)\n",
      "42.366678: issuing 4 UIDs for every 1.0 seconds (0 intervals, 9828 remaining)\n",
      "43.377056: issuing 4 UIDs for every 1.0 seconds (0 intervals, 9824 remaining)\n",
      "44.386163: issuing 4 UIDs for every 1.0 seconds (0 intervals, 9820 remaining)\n",
      "45.392217: issuing 4 UIDs for every 1.0 seconds (0 intervals, 9816 remaining)\n",
      "46.400064: issuing 4 UIDs for every 1.0 seconds (0 intervals, 9812 remaining)\n",
      "47.404135: issuing 4 UIDs for every 1.0 seconds (0 intervals, 9808 remaining)\n",
      "48.411322: issuing 4 UIDs for every 1.0 seconds (0 intervals, 9804 remaining)\n",
      "49.41787: issuing 4 UIDs for every 1.0 seconds (0 intervals, 9800 remaining)\n",
      "50.422122: issuing 4 UIDs for every 1.0 seconds (0 intervals, 9796 remaining)\n",
      "51.42998: issuing 4 UIDs for every 1.0 seconds (0 intervals, 9792 remaining)\n",
      "52.436009: issuing 4 UIDs for every 1.0 seconds (0 intervals, 9788 remaining)\n",
      "53.440065: issuing 4 UIDs for every 1.0 seconds (0 intervals, 9784 remaining)\n",
      "54.44746: issuing 4 UIDs for every 1.0 seconds (0 intervals, 9780 remaining)\n",
      "55.454011: issuing 4 UIDs for every 1.0 seconds (0 intervals, 9776 remaining)\n",
      "56.458057: issuing 4 UIDs for every 1.0 seconds (0 intervals, 9772 remaining)\n",
      "57.462174: issuing 4 UIDs for every 1.0 seconds (0 intervals, 9768 remaining)\n",
      "58.466275: issuing 4 UIDs for every 1.0 seconds (0 intervals, 9764 remaining)\n",
      "59.473717: issuing 4 UIDs for every 1.0 seconds (0 intervals, 9760 remaining)\n",
      "60.479503: issuing 4 UIDs for every 1.0 seconds (0 intervals, 9756 remaining)\n",
      "61.484125: issuing 4 UIDs for every 1.0 seconds (0 intervals, 9752 remaining)\n",
      "62.492112: issuing 4 UIDs for every 1.0 seconds (0 intervals, 9748 remaining)\n",
      "63.49815: issuing 4 UIDs for every 1.0 seconds (0 intervals, 9744 remaining)\n",
      "64.506169: issuing 4 UIDs for every 1.0 seconds (0 intervals, 9740 remaining)\n",
      "65.51453: issuing 4 UIDs for every 1.0 seconds (0 intervals, 9736 remaining)\n",
      "66.518259: issuing 4 UIDs for every 1.0 seconds (0 intervals, 9732 remaining)\n",
      "67.525942: issuing 4 UIDs for every 1.0 seconds (0 intervals, 9728 remaining)\n",
      "68.52996: issuing 4 UIDs for every 1.0 seconds (0 intervals, 9724 remaining)\n",
      "69.534064: issuing 4 UIDs for every 1.0 seconds (0 intervals, 9720 remaining)\n",
      "70.538085: issuing 4 UIDs for every 1.0 seconds (0 intervals, 9716 remaining)\n",
      "71.546017: issuing 4 UIDs for every 1.0 seconds (0 intervals, 9712 remaining)\n",
      "72.553675: issuing 4 UIDs for every 1.0 seconds (0 intervals, 9708 remaining)\n",
      "73.968135: issuing 4 UIDs for every 1.0 seconds (0 intervals, 9704 remaining)\n",
      "74.972906: issuing 4 UIDs for every 1.0 seconds (0 intervals, 9700 remaining)\n",
      "75.979248: issuing 4 UIDs for every 1.0 seconds (0 intervals, 9696 remaining)\n",
      "76.986104: issuing 4 UIDs for every 1.0 seconds (0 intervals, 9692 remaining)\n",
      "77.99403: issuing 4 UIDs for every 1.0 seconds (0 intervals, 9688 remaining)\n",
      "79.000019: issuing 4 UIDs for every 1.0 seconds (0 intervals, 9684 remaining)\n",
      "80.007283: issuing 4 UIDs for every 1.0 seconds (0 intervals, 9680 remaining)\n",
      "81.013931: issuing 4 UIDs for every 1.0 seconds (0 intervals, 9676 remaining)\n",
      "82.021151: issuing 4 UIDs for every 1.0 seconds (0 intervals, 9672 remaining)\n",
      "83.027571: issuing 4 UIDs for every 1.0 seconds (0 intervals, 9668 remaining)\n",
      "84.031915: issuing 4 UIDs for every 1.0 seconds (0 intervals, 9664 remaining)\n",
      "85.035913: issuing 4 UIDs for every 1.0 seconds (0 intervals, 9660 remaining)\n",
      "86.045616: issuing 4 UIDs for every 1.0 seconds (0 intervals, 9656 remaining)\n",
      "87.052217: issuing 4 UIDs for every 1.0 seconds (0 intervals, 9652 remaining)\n",
      "88.058899: issuing 4 UIDs for every 1.0 seconds (0 intervals, 9648 remaining)\n",
      "89.063692: issuing 4 UIDs for every 1.0 seconds (0 intervals, 9644 remaining)\n",
      "90.067905: issuing 5 UIDs for every 1.04166666667 seconds (1 intervals, 9639 remaining)\n",
      "91.11675: issuing 5 UIDs for every 1.04166666667 seconds (1 intervals, 9634 remaining)\n",
      "92.163031: issuing 5 UIDs for every 1.04166666667 seconds (1 intervals, 9629 remaining)\n",
      "93.208301: issuing 5 UIDs for every 1.04166666667 seconds (1 intervals, 9624 remaining)\n",
      "94.255146: issuing 5 UIDs for every 1.04166666667 seconds (1 intervals, 9619 remaining)\n",
      "95.302871: issuing 5 UIDs for every 1.04166666667 seconds (1 intervals, 9614 remaining)\n",
      "96.347307: issuing 5 UIDs for every 1.04166666667 seconds (1 intervals, 9609 remaining)\n",
      "97.396196: issuing 5 UIDs for every 1.04166666667 seconds (1 intervals, 9604 remaining)\n",
      "98.442141: issuing 5 UIDs for every 1.04166666667 seconds (1 intervals, 9599 remaining)\n",
      "99.490583: issuing 5 UIDs for every 1.04166666667 seconds (1 intervals, 9594 remaining)\n",
      "100.537488: issuing 5 UIDs for every 1.04166666667 seconds (1 intervals, 9589 remaining)\n",
      "101.60034: issuing 5 UIDs for every 1.04166666667 seconds (1 intervals, 9584 remaining)\n",
      "102.650626: issuing 5 UIDs for every 1.04166666667 seconds (1 intervals, 9579 remaining)\n",
      "103.70133: issuing 5 UIDs for every 1.04166666667 seconds (1 intervals, 9574 remaining)\n",
      "104.75114: issuing 5 UIDs for every 1.04166666667 seconds (1 intervals, 9569 remaining)\n",
      "105.802141: issuing 5 UIDs for every 1.04166666667 seconds (1 intervals, 9564 remaining)\n",
      "106.852801: issuing 5 UIDs for every 1.04166666667 seconds (1 intervals, 9559 remaining)\n",
      "107.903762: issuing 5 UIDs for every 1.04166666667 seconds (1 intervals, 9554 remaining)\n",
      "108.954707: issuing 5 UIDs for every 1.04166666667 seconds (1 intervals, 9549 remaining)\n",
      "110.004601: issuing 5 UIDs for every 1.04166666667 seconds (1 intervals, 9544 remaining)\n",
      "111.054629: issuing 5 UIDs for every 1.04166666667 seconds (1 intervals, 9539 remaining)\n",
      "112.104833: issuing 5 UIDs for every 1.04166666667 seconds (1 intervals, 9534 remaining)\n",
      "113.155488: issuing 5 UIDs for every 1.04166666667 seconds (1 intervals, 9529 remaining)\n",
      "114.206193: issuing 5 UIDs for every 1.04166666667 seconds (1 intervals, 9524 remaining)\n",
      "115.257204: issuing 5 UIDs for every 1.04166666667 seconds (1 intervals, 9519 remaining)\n",
      "116.310168: issuing 5 UIDs for every 1.04166666667 seconds (1 intervals, 9514 remaining)\n",
      "117.357478: issuing 5 UIDs for every 1.04166666667 seconds (1 intervals, 9509 remaining)\n",
      "118.40759: issuing 5 UIDs for every 1.04166666667 seconds (1 intervals, 9504 remaining)\n",
      "119.455409: issuing 5 UIDs for every 1.04166666667 seconds (1 intervals, 9499 remaining)\n",
      "120.505409: issuing 5 UIDs for every 1.04166666667 seconds (1 intervals, 9494 remaining)\n",
      "121.555239: issuing 5 UIDs for every 1.04166666667 seconds (1 intervals, 9489 remaining)\n",
      "122.604022: issuing 5 UIDs for every 1.04166666667 seconds (1 intervals, 9484 remaining)\n",
      "123.654558: issuing 5 UIDs for every 1.04166666667 seconds (1 intervals, 9479 remaining)\n",
      "124.705084: issuing 5 UIDs for every 1.04166666667 seconds (1 intervals, 9474 remaining)\n",
      "125.754947: issuing 5 UIDs for every 1.04166666667 seconds (1 intervals, 9469 remaining)\n",
      "126.801537: issuing 5 UIDs for every 1.04166666667 seconds (1 intervals, 9464 remaining)\n",
      "127.850277: issuing 5 UIDs for every 1.04166666667 seconds (1 intervals, 9459 remaining)\n",
      "128.89862: issuing 5 UIDs for every 1.04166666667 seconds (1 intervals, 9454 remaining)\n",
      "129.948564: issuing 5 UIDs for every 1.04166666667 seconds (1 intervals, 9449 remaining)\n",
      "130.999036: issuing 5 UIDs for every 1.04166666667 seconds (1 intervals, 9444 remaining)\n",
      "132.046964: issuing 5 UIDs for every 1.04166666667 seconds (1 intervals, 9439 remaining)\n",
      "133.097327: issuing 5 UIDs for every 1.04166666667 seconds (1 intervals, 9434 remaining)\n",
      "134.14779: issuing 5 UIDs for every 1.04166666667 seconds (1 intervals, 9429 remaining)\n",
      "135.198848: issuing 5 UIDs for every 1.04166666667 seconds (1 intervals, 9424 remaining)\n",
      "136.248993: issuing 5 UIDs for every 1.04166666667 seconds (1 intervals, 9419 remaining)\n",
      "137.299308: issuing 5 UIDs for every 1.04166666667 seconds (1 intervals, 9414 remaining)\n",
      "138.349462: issuing 5 UIDs for every 1.04166666667 seconds (1 intervals, 9409 remaining)\n",
      "139.400151: issuing 5 UIDs for every 1.04166666667 seconds (1 intervals, 9404 remaining)\n",
      "140.450964: issuing 5 UIDs for every 1.04166666667 seconds (1 intervals, 9399 remaining)\n",
      "141.50113: issuing 5 UIDs for every 1.04166666667 seconds (1 intervals, 9394 remaining)\n",
      "142.549904: issuing 5 UIDs for every 1.04166666667 seconds (1 intervals, 9389 remaining)\n",
      "143.596619: issuing 5 UIDs for every 1.04166666667 seconds (1 intervals, 9384 remaining)\n",
      "144.646919: issuing 5 UIDs for every 1.04166666667 seconds (1 intervals, 9379 remaining)\n",
      "145.697389: issuing 5 UIDs for every 1.04166666667 seconds (1 intervals, 9374 remaining)\n",
      "146.747879: issuing 5 UIDs for every 1.04166666667 seconds (1 intervals, 9369 remaining)\n",
      "147.798567: issuing 5 UIDs for every 1.04166666667 seconds (1 intervals, 9364 remaining)\n",
      "148.848817: issuing 5 UIDs for every 1.04166666667 seconds (1 intervals, 9359 remaining)\n",
      "149.899408: issuing 5 UIDs for every 1.04166666667 seconds (1 intervals, 9354 remaining)\n",
      "150.949883: issuing 5 UIDs for every 1.04166666667 seconds (1 intervals, 9349 remaining)\n",
      "152.000217: issuing 5 UIDs for every 1.04166666667 seconds (1 intervals, 9344 remaining)\n",
      "153.050814: issuing 5 UIDs for every 1.04166666667 seconds (1 intervals, 9339 remaining)\n",
      "154.101147: issuing 5 UIDs for every 1.04166666667 seconds (1 intervals, 9334 remaining)\n",
      "155.155398: issuing 5 UIDs for every 1.04166666667 seconds (1 intervals, 9329 remaining)\n",
      "156.202267: issuing 5 UIDs for every 1.04166666667 seconds (1 intervals, 9324 remaining)\n",
      "157.252771: issuing 5 UIDs for every 1.04166666667 seconds (1 intervals, 9319 remaining)\n",
      "158.303242: issuing 5 UIDs for every 1.04166666667 seconds (1 intervals, 9314 remaining)\n",
      "159.353739: issuing 5 UIDs for every 1.04166666667 seconds (1 intervals, 9309 remaining)\n",
      "160.403904: issuing 5 UIDs for every 1.04166666667 seconds (1 intervals, 9304 remaining)\n",
      "161.454559: issuing 5 UIDs for every 1.04166666667 seconds (1 intervals, 9299 remaining)\n",
      "162.504938: issuing 5 UIDs for every 1.04166666667 seconds (1 intervals, 9294 remaining)\n",
      "163.555714: issuing 5 UIDs for every 1.04166666667 seconds (1 intervals, 9289 remaining)\n",
      "164.606128: issuing 5 UIDs for every 1.04166666667 seconds (1 intervals, 9284 remaining)\n",
      "165.656648: issuing 5 UIDs for every 1.04166666667 seconds (1 intervals, 9279 remaining)\n",
      "166.707165: issuing 5 UIDs for every 1.04166666667 seconds (1 intervals, 9274 remaining)\n",
      "167.757842: issuing 5 UIDs for every 1.04166666667 seconds (1 intervals, 9269 remaining)\n",
      "168.808132: issuing 5 UIDs for every 1.04166666667 seconds (1 intervals, 9264 remaining)\n",
      "169.858696: issuing 5 UIDs for every 1.04166666667 seconds (1 intervals, 9259 remaining)\n",
      "170.908713: issuing 5 UIDs for every 1.04166666667 seconds (1 intervals, 9254 remaining)\n",
      "171.959434: issuing 5 UIDs for every 1.04166666667 seconds (1 intervals, 9249 remaining)\n",
      "173.010067: issuing 5 UIDs for every 1.04166666667 seconds (1 intervals, 9244 remaining)\n",
      "174.060094: issuing 5 UIDs for every 1.04166666667 seconds (1 intervals, 9239 remaining)\n",
      "175.111012: issuing 5 UIDs for every 1.04166666667 seconds (1 intervals, 9234 remaining)\n",
      "176.162169: issuing 5 UIDs for every 1.04166666667 seconds (1 intervals, 9229 remaining)\n",
      "177.211946: issuing 5 UIDs for every 1.04166666667 seconds (1 intervals, 9224 remaining)\n",
      "178.262705: issuing 5 UIDs for every 1.04166666667 seconds (1 intervals, 9219 remaining)\n",
      "179.312982: issuing 5 UIDs for every 1.04166666667 seconds (1 intervals, 9214 remaining)\n",
      "180.357777: issuing 6 UIDs for every 1.04166666667 seconds (2 intervals, 9208 remaining)\n",
      "181.407647: issuing 6 UIDs for every 1.04166666667 seconds (2 intervals, 9202 remaining)\n",
      "182.458689: issuing 6 UIDs for every 1.04166666667 seconds (2 intervals, 9196 remaining)\n",
      "183.509353: issuing 6 UIDs for every 1.04166666667 seconds (2 intervals, 9190 remaining)\n",
      "184.559658: issuing 6 UIDs for every 1.04166666667 seconds (2 intervals, 9184 remaining)\n",
      "185.610748: issuing 6 UIDs for every 1.04166666667 seconds (2 intervals, 9178 remaining)\n",
      "186.66201: issuing 6 UIDs for every 1.04166666667 seconds (2 intervals, 9172 remaining)\n",
      "187.712032: issuing 6 UIDs for every 1.04166666667 seconds (2 intervals, 9166 remaining)\n",
      "188.761656: issuing 6 UIDs for every 1.04166666667 seconds (2 intervals, 9160 remaining)\n",
      "189.810212: issuing 6 UIDs for every 1.04166666667 seconds (2 intervals, 9154 remaining)\n",
      "190.856875: issuing 6 UIDs for every 1.04166666667 seconds (2 intervals, 9148 remaining)\n",
      "191.907977: issuing 6 UIDs for every 1.04166666667 seconds (2 intervals, 9142 remaining)\n",
      "192.957743: issuing 6 UIDs for every 1.04166666667 seconds (2 intervals, 9136 remaining)\n",
      "194.00819: issuing 6 UIDs for every 1.04166666667 seconds (2 intervals, 9130 remaining)\n",
      "195.056266: issuing 6 UIDs for every 1.04166666667 seconds (2 intervals, 9124 remaining)\n",
      "196.104344: issuing 6 UIDs for every 1.04166666667 seconds (2 intervals, 9118 remaining)\n",
      "197.15391: issuing 6 UIDs for every 1.04166666667 seconds (2 intervals, 9112 remaining)\n",
      "198.205563: issuing 6 UIDs for every 1.04166666667 seconds (2 intervals, 9106 remaining)\n",
      "199.255634: issuing 6 UIDs for every 1.04166666667 seconds (2 intervals, 9100 remaining)\n",
      "200.305326: issuing 6 UIDs for every 1.04166666667 seconds (2 intervals, 9094 remaining)\n",
      "201.352671: issuing 6 UIDs for every 1.04166666667 seconds (2 intervals, 9088 remaining)\n",
      "202.400315: issuing 6 UIDs for every 1.04166666667 seconds (2 intervals, 9082 remaining)\n",
      "203.445469: issuing 6 UIDs for every 1.04166666667 seconds (2 intervals, 9076 remaining)\n",
      "204.497512: issuing 6 UIDs for every 1.04166666667 seconds (2 intervals, 9070 remaining)\n",
      "205.547738: issuing 6 UIDs for every 1.04166666667 seconds (2 intervals, 9064 remaining)\n",
      "206.596636: issuing 6 UIDs for every 1.04166666667 seconds (2 intervals, 9058 remaining)\n",
      "207.644829: issuing 6 UIDs for every 1.04166666667 seconds (2 intervals, 9052 remaining)\n",
      "208.695472: issuing 6 UIDs for every 1.04166666667 seconds (2 intervals, 9046 remaining)\n",
      "209.748308: issuing 6 UIDs for every 1.04166666667 seconds (2 intervals, 9040 remaining)\n",
      "210.798253: issuing 6 UIDs for every 1.04166666667 seconds (2 intervals, 9034 remaining)\n",
      "211.849907: issuing 6 UIDs for every 1.04166666667 seconds (2 intervals, 9028 remaining)\n",
      "212.899619: issuing 6 UIDs for every 1.04166666667 seconds (2 intervals, 9022 remaining)\n",
      "213.950101: issuing 6 UIDs for every 1.04166666667 seconds (2 intervals, 9016 remaining)\n",
      "215.001292: issuing 6 UIDs for every 1.04166666667 seconds (2 intervals, 9010 remaining)\n",
      "216.051031: issuing 6 UIDs for every 1.04166666667 seconds (2 intervals, 9004 remaining)\n",
      "217.10167: issuing 6 UIDs for every 1.04166666667 seconds (2 intervals, 8998 remaining)\n",
      "218.152036: issuing 6 UIDs for every 1.04166666667 seconds (2 intervals, 8992 remaining)\n",
      "219.201958: issuing 6 UIDs for every 1.04166666667 seconds (2 intervals, 8986 remaining)\n",
      "220.253068: issuing 6 UIDs for every 1.04166666667 seconds (2 intervals, 8980 remaining)\n",
      "221.303038: issuing 6 UIDs for every 1.04166666667 seconds (2 intervals, 8974 remaining)\n",
      "222.354023: issuing 6 UIDs for every 1.04166666667 seconds (2 intervals, 8968 remaining)\n",
      "223.405168: issuing 6 UIDs for every 1.04166666667 seconds (2 intervals, 8962 remaining)\n",
      "224.454953: issuing 6 UIDs for every 1.04166666667 seconds (2 intervals, 8956 remaining)\n",
      "225.506184: issuing 6 UIDs for every 1.04166666667 seconds (2 intervals, 8950 remaining)\n",
      "226.555969: issuing 6 UIDs for every 1.04166666667 seconds (2 intervals, 8944 remaining)\n",
      "227.606463: issuing 6 UIDs for every 1.04166666667 seconds (2 intervals, 8938 remaining)\n",
      "228.656914: issuing 6 UIDs for every 1.04166666667 seconds (2 intervals, 8932 remaining)\n",
      "229.707823: issuing 6 UIDs for every 1.04166666667 seconds (2 intervals, 8926 remaining)\n",
      "230.757914: issuing 6 UIDs for every 1.04166666667 seconds (2 intervals, 8920 remaining)\n",
      "231.809104: issuing 6 UIDs for every 1.04166666667 seconds (2 intervals, 8914 remaining)\n",
      "232.858863: issuing 6 UIDs for every 1.04166666667 seconds (2 intervals, 8908 remaining)\n",
      "233.90931: issuing 6 UIDs for every 1.04166666667 seconds (2 intervals, 8902 remaining)\n",
      "234.959816: issuing 6 UIDs for every 1.04166666667 seconds (2 intervals, 8896 remaining)\n",
      "236.010298: issuing 6 UIDs for every 1.04166666667 seconds (2 intervals, 8890 remaining)\n",
      "237.060827: issuing 6 UIDs for every 1.04166666667 seconds (2 intervals, 8884 remaining)\n",
      "238.111344: issuing 6 UIDs for every 1.04166666667 seconds (2 intervals, 8878 remaining)\n",
      "239.161793: issuing 6 UIDs for every 1.04166666667 seconds (2 intervals, 8872 remaining)\n",
      "240.212425: issuing 6 UIDs for every 1.04166666667 seconds (2 intervals, 8866 remaining)\n",
      "241.262708: issuing 6 UIDs for every 1.04166666667 seconds (2 intervals, 8860 remaining)\n",
      "242.31053: issuing 6 UIDs for every 1.04166666667 seconds (2 intervals, 8854 remaining)\n",
      "243.357842: issuing 6 UIDs for every 1.04166666667 seconds (2 intervals, 8848 remaining)\n",
      "244.407892: issuing 6 UIDs for every 1.04166666667 seconds (2 intervals, 8842 remaining)\n",
      "245.454128: issuing 6 UIDs for every 1.04166666667 seconds (2 intervals, 8836 remaining)\n",
      "246.503502: issuing 6 UIDs for every 1.04166666667 seconds (2 intervals, 8830 remaining)\n",
      "247.551351: issuing 6 UIDs for every 1.04166666667 seconds (2 intervals, 8824 remaining)\n",
      "248.598736: issuing 6 UIDs for every 1.04166666667 seconds (2 intervals, 8818 remaining)\n",
      "249.645712: issuing 6 UIDs for every 1.04166666667 seconds (2 intervals, 8812 remaining)\n",
      "250.695193: issuing 6 UIDs for every 1.04166666667 seconds (2 intervals, 8806 remaining)\n",
      "251.744324: issuing 6 UIDs for every 1.04166666667 seconds (2 intervals, 8800 remaining)\n",
      "252.788862: issuing 6 UIDs for every 1.04166666667 seconds (2 intervals, 8794 remaining)\n",
      "253.835857: issuing 6 UIDs for every 1.04166666667 seconds (2 intervals, 8788 remaining)\n",
      "254.884048: issuing 6 UIDs for every 1.04166666667 seconds (2 intervals, 8782 remaining)\n",
      "255.934765: issuing 6 UIDs for every 1.04166666667 seconds (2 intervals, 8776 remaining)\n",
      "256.979153: issuing 6 UIDs for every 1.04166666667 seconds (2 intervals, 8770 remaining)\n",
      "258.029845: issuing 6 UIDs for every 1.04166666667 seconds (2 intervals, 8764 remaining)\n",
      "259.080324: issuing 6 UIDs for every 1.04166666667 seconds (2 intervals, 8758 remaining)\n",
      "260.125093: issuing 6 UIDs for every 1.04166666667 seconds (2 intervals, 8752 remaining)\n",
      "261.1733: issuing 6 UIDs for every 1.04166666667 seconds (2 intervals, 8746 remaining)\n",
      "262.223132: issuing 6 UIDs for every 1.04166666667 seconds (2 intervals, 8740 remaining)\n",
      "263.273303: issuing 6 UIDs for every 1.04166666667 seconds (2 intervals, 8734 remaining)\n",
      "264.320987: issuing 6 UIDs for every 1.04166666667 seconds (2 intervals, 8728 remaining)\n",
      "265.372043: issuing 6 UIDs for every 1.04166666667 seconds (2 intervals, 8722 remaining)\n",
      "266.422267: issuing 6 UIDs for every 1.04166666667 seconds (2 intervals, 8716 remaining)\n",
      "267.472781: issuing 6 UIDs for every 1.04166666667 seconds (2 intervals, 8710 remaining)\n",
      "268.523304: issuing 6 UIDs for every 1.04166666667 seconds (2 intervals, 8704 remaining)\n",
      "269.573724: issuing 6 UIDs for every 1.04166666667 seconds (2 intervals, 8698 remaining)\n",
      "270.624344: issuing 7 UIDs for every 1.01273148148 seconds (3 intervals, 8691 remaining)\n",
      "271.645644: issuing 7 UIDs for every 1.01273148148 seconds (3 intervals, 8684 remaining)\n",
      "272.667238: issuing 7 UIDs for every 1.01273148148 seconds (3 intervals, 8677 remaining)\n",
      "273.688084: issuing 7 UIDs for every 1.01273148148 seconds (3 intervals, 8670 remaining)\n",
      "274.710099: issuing 7 UIDs for every 1.01273148148 seconds (3 intervals, 8663 remaining)\n",
      "275.73152: issuing 7 UIDs for every 1.01273148148 seconds (3 intervals, 8656 remaining)\n",
      "276.752973: issuing 7 UIDs for every 1.01273148148 seconds (3 intervals, 8649 remaining)\n",
      "277.77446: issuing 7 UIDs for every 1.01273148148 seconds (3 intervals, 8642 remaining)\n",
      "278.795926: issuing 7 UIDs for every 1.01273148148 seconds (3 intervals, 8635 remaining)\n",
      "279.817479: issuing 7 UIDs for every 1.01273148148 seconds (3 intervals, 8628 remaining)\n",
      "280.838944: issuing 7 UIDs for every 1.01273148148 seconds (3 intervals, 8621 remaining)\n",
      "281.860427: issuing 7 UIDs for every 1.01273148148 seconds (3 intervals, 8614 remaining)\n",
      "282.881827: issuing 7 UIDs for every 1.01273148148 seconds (3 intervals, 8607 remaining)\n",
      "283.903521: issuing 7 UIDs for every 1.01273148148 seconds (3 intervals, 8600 remaining)\n",
      "284.924775: issuing 7 UIDs for every 1.01273148148 seconds (3 intervals, 8593 remaining)\n",
      "285.946439: issuing 7 UIDs for every 1.01273148148 seconds (3 intervals, 8586 remaining)\n",
      "286.969058: issuing 7 UIDs for every 1.01273148148 seconds (3 intervals, 8579 remaining)\n",
      "287.98681: issuing 7 UIDs for every 1.01273148148 seconds (3 intervals, 8572 remaining)\n",
      "289.006208: issuing 7 UIDs for every 1.01273148148 seconds (3 intervals, 8565 remaining)\n",
      "290.02647: issuing 7 UIDs for every 1.01273148148 seconds (3 intervals, 8558 remaining)\n",
      "291.047779: issuing 7 UIDs for every 1.01273148148 seconds (3 intervals, 8551 remaining)\n",
      "292.069263: issuing 7 UIDs for every 1.01273148148 seconds (3 intervals, 8544 remaining)\n",
      "293.090667: issuing 7 UIDs for every 1.01273148148 seconds (3 intervals, 8537 remaining)\n",
      "294.112178: issuing 7 UIDs for every 1.01273148148 seconds (3 intervals, 8530 remaining)\n",
      "295.130562: issuing 7 UIDs for every 1.01273148148 seconds (3 intervals, 8523 remaining)\n",
      "296.149396: issuing 7 UIDs for every 1.01273148148 seconds (3 intervals, 8516 remaining)\n",
      "297.171962: issuing 7 UIDs for every 1.01273148148 seconds (3 intervals, 8509 remaining)\n",
      "298.192272: issuing 7 UIDs for every 1.01273148148 seconds (3 intervals, 8502 remaining)\n",
      "299.213798: issuing 7 UIDs for every 1.01273148148 seconds (3 intervals, 8495 remaining)\n",
      "300.235205: issuing 7 UIDs for every 1.01273148148 seconds (3 intervals, 8488 remaining)\n",
      "301.256729: issuing 7 UIDs for every 1.01273148148 seconds (3 intervals, 8481 remaining)\n",
      "302.278208: issuing 7 UIDs for every 1.01273148148 seconds (3 intervals, 8474 remaining)\n",
      "303.300325: issuing 7 UIDs for every 1.01273148148 seconds (3 intervals, 8467 remaining)\n",
      "304.321249: issuing 7 UIDs for every 1.01273148148 seconds (3 intervals, 8460 remaining)\n",
      "305.34253: issuing 7 UIDs for every 1.01273148148 seconds (3 intervals, 8453 remaining)\n",
      "306.363837: issuing 7 UIDs for every 1.01273148148 seconds (3 intervals, 8446 remaining)\n",
      "307.38155: issuing 7 UIDs for every 1.01273148148 seconds (3 intervals, 8439 remaining)\n",
      "308.401145: issuing 7 UIDs for every 1.01273148148 seconds (3 intervals, 8432 remaining)\n",
      "309.422577: issuing 7 UIDs for every 1.01273148148 seconds (3 intervals, 8425 remaining)\n",
      "310.444163: issuing 7 UIDs for every 1.01273148148 seconds (3 intervals, 8418 remaining)\n",
      "311.465603: issuing 7 UIDs for every 1.01273148148 seconds (3 intervals, 8411 remaining)\n",
      "312.48703: issuing 7 UIDs for every 1.01273148148 seconds (3 intervals, 8404 remaining)\n",
      "313.508547: issuing 7 UIDs for every 1.01273148148 seconds (3 intervals, 8397 remaining)\n",
      "314.529916: issuing 7 UIDs for every 1.01273148148 seconds (3 intervals, 8390 remaining)\n",
      "315.551364: issuing 7 UIDs for every 1.01273148148 seconds (3 intervals, 8383 remaining)\n",
      "316.57283: issuing 7 UIDs for every 1.01273148148 seconds (3 intervals, 8376 remaining)\n",
      "317.5939: issuing 7 UIDs for every 1.01273148148 seconds (3 intervals, 8369 remaining)\n",
      "318.615665: issuing 7 UIDs for every 1.01273148148 seconds (3 intervals, 8362 remaining)\n",
      "319.63685: issuing 7 UIDs for every 1.01273148148 seconds (3 intervals, 8355 remaining)\n",
      "320.654026: issuing 7 UIDs for every 1.01273148148 seconds (3 intervals, 8348 remaining)\n",
      "321.674179: issuing 7 UIDs for every 1.01273148148 seconds (3 intervals, 8341 remaining)\n",
      "322.69542: issuing 7 UIDs for every 1.01273148148 seconds (3 intervals, 8334 remaining)\n",
      "323.716821: issuing 7 UIDs for every 1.01273148148 seconds (3 intervals, 8327 remaining)\n",
      "324.738224: issuing 7 UIDs for every 1.01273148148 seconds (3 intervals, 8320 remaining)\n",
      "325.759434: issuing 7 UIDs for every 1.01273148148 seconds (3 intervals, 8313 remaining)\n",
      "326.781084: issuing 7 UIDs for every 1.01273148148 seconds (3 intervals, 8306 remaining)\n",
      "327.802696: issuing 7 UIDs for every 1.01273148148 seconds (3 intervals, 8299 remaining)\n",
      "328.823946: issuing 7 UIDs for every 1.01273148148 seconds (3 intervals, 8292 remaining)\n",
      "329.845384: issuing 7 UIDs for every 1.01273148148 seconds (3 intervals, 8285 remaining)\n",
      "330.866819: issuing 7 UIDs for every 1.01273148148 seconds (3 intervals, 8278 remaining)\n",
      "331.88829: issuing 7 UIDs for every 1.01273148148 seconds (3 intervals, 8271 remaining)\n",
      "332.909716: issuing 7 UIDs for every 1.01273148148 seconds (3 intervals, 8264 remaining)\n",
      "333.931171: issuing 7 UIDs for every 1.01273148148 seconds (3 intervals, 8257 remaining)\n",
      "334.953937: issuing 7 UIDs for every 1.01273148148 seconds (3 intervals, 8250 remaining)\n",
      "335.973263: issuing 7 UIDs for every 1.01273148148 seconds (3 intervals, 8243 remaining)\n",
      "336.995083: issuing 7 UIDs for every 1.01273148148 seconds (3 intervals, 8236 remaining)\n",
      "338.016948: issuing 7 UIDs for every 1.01273148148 seconds (3 intervals, 8229 remaining)\n",
      "339.038369: issuing 7 UIDs for every 1.01273148148 seconds (3 intervals, 8222 remaining)\n",
      "340.060008: issuing 7 UIDs for every 1.01273148148 seconds (3 intervals, 8215 remaining)\n",
      "341.081288: issuing 7 UIDs for every 1.01273148148 seconds (3 intervals, 8208 remaining)\n",
      "342.102947: issuing 7 UIDs for every 1.01273148148 seconds (3 intervals, 8201 remaining)\n",
      "343.12436: issuing 7 UIDs for every 1.01273148148 seconds (3 intervals, 8194 remaining)\n",
      "344.145654: issuing 7 UIDs for every 1.01273148148 seconds (3 intervals, 8187 remaining)\n",
      "345.16712: issuing 7 UIDs for every 1.01273148148 seconds (3 intervals, 8180 remaining)\n",
      "346.188268: issuing 7 UIDs for every 1.01273148148 seconds (3 intervals, 8173 remaining)\n",
      "347.210016: issuing 7 UIDs for every 1.01273148148 seconds (3 intervals, 8166 remaining)\n",
      "348.23148: issuing 7 UIDs for every 1.01273148148 seconds (3 intervals, 8159 remaining)\n",
      "349.252443: issuing 7 UIDs for every 1.01273148148 seconds (3 intervals, 8152 remaining)\n",
      "350.274417: issuing 7 UIDs for every 1.01273148148 seconds (3 intervals, 8145 remaining)\n",
      "351.295815: issuing 7 UIDs for every 1.01273148148 seconds (3 intervals, 8138 remaining)\n",
      "352.318957: issuing 7 UIDs for every 1.01273148148 seconds (3 intervals, 8131 remaining)\n",
      "353.340955: issuing 7 UIDs for every 1.01273148148 seconds (3 intervals, 8124 remaining)\n",
      "354.360445: issuing 7 UIDs for every 1.01273148148 seconds (3 intervals, 8117 remaining)\n",
      "355.381688: issuing 7 UIDs for every 1.01273148148 seconds (3 intervals, 8110 remaining)\n",
      "356.403203: issuing 7 UIDs for every 1.01273148148 seconds (3 intervals, 8103 remaining)\n",
      "357.424821: issuing 7 UIDs for every 1.01273148148 seconds (3 intervals, 8096 remaining)\n",
      "358.446902: issuing 7 UIDs for every 1.01273148148 seconds (3 intervals, 8089 remaining)\n",
      "359.464861: issuing 7 UIDs for every 1.01273148148 seconds (3 intervals, 8082 remaining)\n",
      "360.483864: issuing 8 UIDs for every 0.96450617284 seconds (4 intervals, 8074 remaining)\n",
      "361.458176: issuing 8 UIDs for every 0.96450617284 seconds (4 intervals, 8066 remaining)\n",
      "362.43209: issuing 8 UIDs for every 0.96450617284 seconds (4 intervals, 8058 remaining)\n",
      "363.405868: issuing 8 UIDs for every 0.96450617284 seconds (4 intervals, 8050 remaining)\n",
      "364.379914: issuing 8 UIDs for every 0.96450617284 seconds (4 intervals, 8042 remaining)\n",
      "365.349948: issuing 8 UIDs for every 0.96450617284 seconds (4 intervals, 8034 remaining)\n",
      "366.321725: issuing 8 UIDs for every 0.96450617284 seconds (4 intervals, 8026 remaining)\n",
      "367.293152: issuing 8 UIDs for every 0.96450617284 seconds (4 intervals, 8018 remaining)\n",
      "368.266238: issuing 8 UIDs for every 0.96450617284 seconds (4 intervals, 8010 remaining)\n",
      "369.235033: issuing 8 UIDs for every 0.96450617284 seconds (4 intervals, 8002 remaining)\n",
      "370.204695: issuing 8 UIDs for every 0.96450617284 seconds (4 intervals, 7994 remaining)\n",
      "371.176224: issuing 8 UIDs for every 0.96450617284 seconds (4 intervals, 7986 remaining)\n",
      "372.14511: issuing 8 UIDs for every 0.96450617284 seconds (4 intervals, 7978 remaining)\n",
      "373.117793: issuing 8 UIDs for every 0.96450617284 seconds (4 intervals, 7970 remaining)\n",
      "374.091436: issuing 8 UIDs for every 0.96450617284 seconds (4 intervals, 7962 remaining)\n",
      "375.062867: issuing 8 UIDs for every 0.96450617284 seconds (4 intervals, 7954 remaining)\n",
      "376.032907: issuing 8 UIDs for every 0.96450617284 seconds (4 intervals, 7946 remaining)\n",
      "377.00374: issuing 8 UIDs for every 0.96450617284 seconds (4 intervals, 7938 remaining)\n",
      "377.975843: issuing 8 UIDs for every 0.96450617284 seconds (4 intervals, 7930 remaining)\n",
      "378.950582: issuing 8 UIDs for every 0.96450617284 seconds (4 intervals, 7922 remaining)\n",
      "379.923247: issuing 8 UIDs for every 0.96450617284 seconds (4 intervals, 7914 remaining)\n",
      "380.895477: issuing 8 UIDs for every 0.96450617284 seconds (4 intervals, 7906 remaining)\n",
      "381.869095: issuing 8 UIDs for every 0.96450617284 seconds (4 intervals, 7898 remaining)\n",
      "382.839393: issuing 8 UIDs for every 0.96450617284 seconds (4 intervals, 7890 remaining)\n",
      "383.811703: issuing 8 UIDs for every 0.96450617284 seconds (4 intervals, 7882 remaining)\n",
      "384.783646: issuing 8 UIDs for every 0.96450617284 seconds (4 intervals, 7874 remaining)\n",
      "385.757164: issuing 8 UIDs for every 0.96450617284 seconds (4 intervals, 7866 remaining)\n",
      "386.73157: issuing 8 UIDs for every 0.96450617284 seconds (4 intervals, 7858 remaining)\n",
      "387.704537: issuing 8 UIDs for every 0.96450617284 seconds (4 intervals, 7850 remaining)\n",
      "388.67707: issuing 8 UIDs for every 0.96450617284 seconds (4 intervals, 7842 remaining)\n",
      "389.651397: issuing 8 UIDs for every 0.96450617284 seconds (4 intervals, 7834 remaining)\n",
      "390.62585: issuing 8 UIDs for every 0.96450617284 seconds (4 intervals, 7826 remaining)\n",
      "391.602978: issuing 8 UIDs for every 0.96450617284 seconds (4 intervals, 7818 remaining)\n",
      "392.575615: issuing 8 UIDs for every 0.96450617284 seconds (4 intervals, 7810 remaining)\n",
      "393.551036: issuing 8 UIDs for every 0.96450617284 seconds (4 intervals, 7802 remaining)\n",
      "394.522394: issuing 8 UIDs for every 0.96450617284 seconds (4 intervals, 7794 remaining)\n",
      "395.495808: issuing 8 UIDs for every 0.96450617284 seconds (4 intervals, 7786 remaining)\n",
      "396.46673: issuing 8 UIDs for every 0.96450617284 seconds (4 intervals, 7778 remaining)\n",
      "397.440054: issuing 8 UIDs for every 0.96450617284 seconds (4 intervals, 7770 remaining)\n",
      "398.410984: issuing 8 UIDs for every 0.96450617284 seconds (4 intervals, 7762 remaining)\n",
      "399.382117: issuing 8 UIDs for every 0.96450617284 seconds (4 intervals, 7754 remaining)\n",
      "400.355156: issuing 8 UIDs for every 0.96450617284 seconds (4 intervals, 7746 remaining)\n",
      "401.330022: issuing 8 UIDs for every 0.96450617284 seconds (4 intervals, 7738 remaining)\n",
      "402.299681: issuing 8 UIDs for every 0.96450617284 seconds (4 intervals, 7730 remaining)\n",
      "403.273057: issuing 8 UIDs for every 0.96450617284 seconds (4 intervals, 7722 remaining)\n",
      "404.24376: issuing 8 UIDs for every 0.96450617284 seconds (4 intervals, 7714 remaining)\n",
      "405.214277: issuing 8 UIDs for every 0.96450617284 seconds (4 intervals, 7706 remaining)\n",
      "406.187978: issuing 8 UIDs for every 0.96450617284 seconds (4 intervals, 7698 remaining)\n",
      "407.157307: issuing 8 UIDs for every 0.96450617284 seconds (4 intervals, 7690 remaining)\n",
      "408.130998: issuing 8 UIDs for every 0.96450617284 seconds (4 intervals, 7682 remaining)\n",
      "409.101615: issuing 8 UIDs for every 0.96450617284 seconds (4 intervals, 7674 remaining)\n",
      "410.073436: issuing 8 UIDs for every 0.96450617284 seconds (4 intervals, 7666 remaining)\n",
      "411.045863: issuing 8 UIDs for every 0.96450617284 seconds (4 intervals, 7658 remaining)\n",
      "412.018589: issuing 8 UIDs for every 0.96450617284 seconds (4 intervals, 7650 remaining)\n",
      "412.989569: issuing 8 UIDs for every 0.96450617284 seconds (4 intervals, 7642 remaining)\n",
      "413.965369: issuing 8 UIDs for every 0.96450617284 seconds (4 intervals, 7634 remaining)\n",
      "414.940218: issuing 8 UIDs for every 0.96450617284 seconds (4 intervals, 7626 remaining)\n",
      "415.911023: issuing 8 UIDs for every 0.96450617284 seconds (4 intervals, 7618 remaining)\n",
      "416.884463: issuing 8 UIDs for every 0.96450617284 seconds (4 intervals, 7610 remaining)\n",
      "417.855985: issuing 8 UIDs for every 0.96450617284 seconds (4 intervals, 7602 remaining)\n",
      "418.828482: issuing 8 UIDs for every 0.96450617284 seconds (4 intervals, 7594 remaining)\n",
      "419.798036: issuing 8 UIDs for every 0.96450617284 seconds (4 intervals, 7586 remaining)\n",
      "420.76725: issuing 8 UIDs for every 0.96450617284 seconds (4 intervals, 7578 remaining)\n",
      "421.737906: issuing 8 UIDs for every 0.96450617284 seconds (4 intervals, 7570 remaining)\n",
      "422.709951: issuing 8 UIDs for every 0.96450617284 seconds (4 intervals, 7562 remaining)\n",
      "423.683847: issuing 8 UIDs for every 0.96450617284 seconds (4 intervals, 7554 remaining)\n",
      "424.655729: issuing 8 UIDs for every 0.96450617284 seconds (4 intervals, 7546 remaining)\n",
      "425.630166: issuing 8 UIDs for every 0.96450617284 seconds (4 intervals, 7538 remaining)\n",
      "426.601485: issuing 8 UIDs for every 0.96450617284 seconds (4 intervals, 7530 remaining)\n",
      "427.569138: issuing 8 UIDs for every 0.96450617284 seconds (4 intervals, 7522 remaining)\n",
      "428.540256: issuing 8 UIDs for every 0.96450617284 seconds (4 intervals, 7514 remaining)\n",
      "429.511104: issuing 8 UIDs for every 0.96450617284 seconds (4 intervals, 7506 remaining)\n",
      "430.482646: issuing 8 UIDs for every 0.96450617284 seconds (4 intervals, 7498 remaining)\n",
      "431.453062: issuing 8 UIDs for every 0.96450617284 seconds (4 intervals, 7490 remaining)\n",
      "432.421746: issuing 8 UIDs for every 0.96450617284 seconds (4 intervals, 7482 remaining)\n",
      "433.389702: issuing 8 UIDs for every 0.96450617284 seconds (4 intervals, 7474 remaining)\n",
      "434.359591: issuing 8 UIDs for every 0.96450617284 seconds (4 intervals, 7466 remaining)\n",
      "435.328428: issuing 8 UIDs for every 0.96450617284 seconds (4 intervals, 7458 remaining)\n",
      "436.30072: issuing 8 UIDs for every 0.96450617284 seconds (4 intervals, 7450 remaining)\n",
      "437.273111: issuing 8 UIDs for every 0.96450617284 seconds (4 intervals, 7442 remaining)\n",
      "438.243823: issuing 8 UIDs for every 0.96450617284 seconds (4 intervals, 7434 remaining)\n",
      "439.214848: issuing 8 UIDs for every 0.96450617284 seconds (4 intervals, 7426 remaining)\n",
      "440.186598: issuing 8 UIDs for every 0.96450617284 seconds (4 intervals, 7418 remaining)\n",
      "441.158028: issuing 8 UIDs for every 0.96450617284 seconds (4 intervals, 7410 remaining)\n",
      "442.130328: issuing 8 UIDs for every 0.96450617284 seconds (4 intervals, 7402 remaining)\n",
      "443.100202: issuing 8 UIDs for every 0.96450617284 seconds (4 intervals, 7394 remaining)\n",
      "444.072185: issuing 8 UIDs for every 0.96450617284 seconds (4 intervals, 7386 remaining)\n",
      "445.044372: issuing 8 UIDs for every 0.96450617284 seconds (4 intervals, 7378 remaining)\n",
      "446.015551: issuing 8 UIDs for every 0.96450617284 seconds (4 intervals, 7370 remaining)\n",
      "446.985892: issuing 8 UIDs for every 0.96450617284 seconds (4 intervals, 7362 remaining)\n",
      "447.957886: issuing 8 UIDs for every 0.96450617284 seconds (4 intervals, 7354 remaining)\n",
      "448.928612: issuing 8 UIDs for every 0.96450617284 seconds (4 intervals, 7346 remaining)\n",
      "449.900255: issuing 8 UIDs for every 0.96450617284 seconds (4 intervals, 7338 remaining)\n",
      "450.871052: issuing 10 UIDs for every 1.00469393004 seconds (5 intervals, 7328 remaining)\n",
      "451.881238: issuing 10 UIDs for every 1.00469393004 seconds (5 intervals, 7318 remaining)\n",
      "452.891128: issuing 10 UIDs for every 1.00469393004 seconds (5 intervals, 7308 remaining)\n",
      "453.900974: issuing 10 UIDs for every 1.00469393004 seconds (5 intervals, 7298 remaining)\n",
      "454.911907: issuing 10 UIDs for every 1.00469393004 seconds (5 intervals, 7288 remaining)\n",
      "455.920681: issuing 10 UIDs for every 1.00469393004 seconds (5 intervals, 7278 remaining)\n",
      "456.931992: issuing 10 UIDs for every 1.00469393004 seconds (5 intervals, 7268 remaining)\n",
      "457.942017: issuing 10 UIDs for every 1.00469393004 seconds (5 intervals, 7258 remaining)\n",
      "458.950381: issuing 10 UIDs for every 1.00469393004 seconds (5 intervals, 7248 remaining)\n",
      "459.960552: issuing 10 UIDs for every 1.00469393004 seconds (5 intervals, 7238 remaining)\n",
      "460.972904: issuing 10 UIDs for every 1.00469393004 seconds (5 intervals, 7228 remaining)\n",
      "461.985638: issuing 10 UIDs for every 1.00469393004 seconds (5 intervals, 7218 remaining)\n",
      "462.995557: issuing 10 UIDs for every 1.00469393004 seconds (5 intervals, 7208 remaining)\n",
      "464.008504: issuing 10 UIDs for every 1.00469393004 seconds (5 intervals, 7198 remaining)\n",
      "465.022112: issuing 10 UIDs for every 1.00469393004 seconds (5 intervals, 7188 remaining)\n",
      "466.034884: issuing 10 UIDs for every 1.00469393004 seconds (5 intervals, 7178 remaining)\n",
      "467.046573: issuing 10 UIDs for every 1.00469393004 seconds (5 intervals, 7168 remaining)\n",
      "468.056916: issuing 10 UIDs for every 1.00469393004 seconds (5 intervals, 7158 remaining)\n",
      "469.069431: issuing 10 UIDs for every 1.00469393004 seconds (5 intervals, 7148 remaining)\n",
      "470.078638: issuing 10 UIDs for every 1.00469393004 seconds (5 intervals, 7138 remaining)\n",
      "471.091333: issuing 10 UIDs for every 1.00469393004 seconds (5 intervals, 7128 remaining)\n",
      "472.101686: issuing 10 UIDs for every 1.00469393004 seconds (5 intervals, 7118 remaining)\n",
      "473.114663: issuing 10 UIDs for every 1.00469393004 seconds (5 intervals, 7108 remaining)\n",
      "474.127318: issuing 10 UIDs for every 1.00469393004 seconds (5 intervals, 7098 remaining)\n",
      "475.136745: issuing 10 UIDs for every 1.00469393004 seconds (5 intervals, 7088 remaining)\n",
      "476.147452: issuing 10 UIDs for every 1.00469393004 seconds (5 intervals, 7078 remaining)\n",
      "477.159933: issuing 10 UIDs for every 1.00469393004 seconds (5 intervals, 7068 remaining)\n",
      "478.169147: issuing 10 UIDs for every 1.00469393004 seconds (5 intervals, 7058 remaining)\n",
      "479.176533: issuing 10 UIDs for every 1.00469393004 seconds (5 intervals, 7048 remaining)\n",
      "480.187425: issuing 10 UIDs for every 1.00469393004 seconds (5 intervals, 7038 remaining)\n",
      "481.195869: issuing 10 UIDs for every 1.00469393004 seconds (5 intervals, 7028 remaining)\n",
      "482.206094: issuing 10 UIDs for every 1.00469393004 seconds (5 intervals, 7018 remaining)\n",
      "483.216004: issuing 10 UIDs for every 1.00469393004 seconds (5 intervals, 7008 remaining)\n",
      "484.228125: issuing 10 UIDs for every 1.00469393004 seconds (5 intervals, 6998 remaining)\n",
      "485.241833: issuing 10 UIDs for every 1.00469393004 seconds (5 intervals, 6988 remaining)\n",
      "486.253935: issuing 10 UIDs for every 1.00469393004 seconds (5 intervals, 6978 remaining)\n",
      "487.263194: issuing 10 UIDs for every 1.00469393004 seconds (5 intervals, 6968 remaining)\n",
      "488.27494: issuing 10 UIDs for every 1.00469393004 seconds (5 intervals, 6958 remaining)\n",
      "489.287944: issuing 10 UIDs for every 1.00469393004 seconds (5 intervals, 6948 remaining)\n",
      "490.296614: issuing 10 UIDs for every 1.00469393004 seconds (5 intervals, 6938 remaining)\n",
      "491.306452: issuing 10 UIDs for every 1.00469393004 seconds (5 intervals, 6928 remaining)\n",
      "492.319065: issuing 10 UIDs for every 1.00469393004 seconds (5 intervals, 6918 remaining)\n",
      "493.331155: issuing 10 UIDs for every 1.00469393004 seconds (5 intervals, 6908 remaining)\n",
      "494.341849: issuing 10 UIDs for every 1.00469393004 seconds (5 intervals, 6898 remaining)\n",
      "495.351711: issuing 10 UIDs for every 1.00469393004 seconds (5 intervals, 6888 remaining)\n",
      "496.367364: issuing 10 UIDs for every 1.00469393004 seconds (5 intervals, 6878 remaining)\n",
      "497.377798: issuing 10 UIDs for every 1.00469393004 seconds (5 intervals, 6868 remaining)\n",
      "498.391013: issuing 10 UIDs for every 1.00469393004 seconds (5 intervals, 6858 remaining)\n",
      "499.402772: issuing 10 UIDs for every 1.00469393004 seconds (5 intervals, 6848 remaining)\n",
      "500.412636: issuing 10 UIDs for every 1.00469393004 seconds (5 intervals, 6838 remaining)\n",
      "501.425596: issuing 10 UIDs for every 1.00469393004 seconds (5 intervals, 6828 remaining)\n",
      "502.438169: issuing 10 UIDs for every 1.00469393004 seconds (5 intervals, 6818 remaining)\n",
      "503.447971: issuing 10 UIDs for every 1.00469393004 seconds (5 intervals, 6808 remaining)\n",
      "504.460518: issuing 10 UIDs for every 1.00469393004 seconds (5 intervals, 6798 remaining)\n",
      "505.473562: issuing 10 UIDs for every 1.00469393004 seconds (5 intervals, 6788 remaining)\n",
      "506.483439: issuing 10 UIDs for every 1.00469393004 seconds (5 intervals, 6778 remaining)\n",
      "507.493248: issuing 10 UIDs for every 1.00469393004 seconds (5 intervals, 6768 remaining)\n",
      "508.505023: issuing 10 UIDs for every 1.00469393004 seconds (5 intervals, 6758 remaining)\n",
      "509.515607: issuing 10 UIDs for every 1.00469393004 seconds (5 intervals, 6748 remaining)\n",
      "510.527448: issuing 10 UIDs for every 1.00469393004 seconds (5 intervals, 6738 remaining)\n",
      "511.538486: issuing 10 UIDs for every 1.00469393004 seconds (5 intervals, 6728 remaining)\n",
      "512.548539: issuing 10 UIDs for every 1.00469393004 seconds (5 intervals, 6718 remaining)\n",
      "513.558684: issuing 10 UIDs for every 1.00469393004 seconds (5 intervals, 6708 remaining)\n",
      "514.568184: issuing 10 UIDs for every 1.00469393004 seconds (5 intervals, 6698 remaining)\n",
      "515.581312: issuing 10 UIDs for every 1.00469393004 seconds (5 intervals, 6688 remaining)\n",
      "516.593775: issuing 10 UIDs for every 1.00469393004 seconds (5 intervals, 6678 remaining)\n",
      "517.603745: issuing 10 UIDs for every 1.00469393004 seconds (5 intervals, 6668 remaining)\n",
      "518.615667: issuing 10 UIDs for every 1.00469393004 seconds (5 intervals, 6658 remaining)\n",
      "519.628362: issuing 10 UIDs for every 1.00469393004 seconds (5 intervals, 6648 remaining)\n",
      "520.642143: issuing 10 UIDs for every 1.00469393004 seconds (5 intervals, 6638 remaining)\n",
      "521.654623: issuing 10 UIDs for every 1.00469393004 seconds (5 intervals, 6628 remaining)\n",
      "522.666779: issuing 10 UIDs for every 1.00469393004 seconds (5 intervals, 6618 remaining)\n",
      "523.680132: issuing 10 UIDs for every 1.00469393004 seconds (5 intervals, 6608 remaining)\n",
      "524.691972: issuing 10 UIDs for every 1.00469393004 seconds (5 intervals, 6598 remaining)\n",
      "525.70567: issuing 10 UIDs for every 1.00469393004 seconds (5 intervals, 6588 remaining)\n",
      "526.719176: issuing 10 UIDs for every 1.00469393004 seconds (5 intervals, 6578 remaining)\n",
      "527.731195: issuing 10 UIDs for every 1.00469393004 seconds (5 intervals, 6568 remaining)\n",
      "528.744448: issuing 10 UIDs for every 1.00469393004 seconds (5 intervals, 6558 remaining)\n",
      "529.756721: issuing 10 UIDs for every 1.00469393004 seconds (5 intervals, 6548 remaining)\n",
      "530.770338: issuing 10 UIDs for every 1.00469393004 seconds (5 intervals, 6538 remaining)\n",
      "532.274961: issuing 10 UIDs for every 1.00469393004 seconds (5 intervals, 6528 remaining)\n",
      "533.297046: issuing 10 UIDs for every 1.00469393004 seconds (5 intervals, 6518 remaining)\n",
      "534.311642: issuing 10 UIDs for every 1.00469393004 seconds (5 intervals, 6508 remaining)\n",
      "535.324907: issuing 10 UIDs for every 1.00469393004 seconds (5 intervals, 6498 remaining)\n",
      "536.338355: issuing 10 UIDs for every 1.00469393004 seconds (5 intervals, 6488 remaining)\n",
      "537.351061: issuing 10 UIDs for every 1.00469393004 seconds (5 intervals, 6478 remaining)\n",
      "538.363686: issuing 10 UIDs for every 1.00469393004 seconds (5 intervals, 6468 remaining)\n",
      "539.3793: issuing 10 UIDs for every 1.00469393004 seconds (5 intervals, 6458 remaining)\n",
      "540.389296: issuing 12 UIDs for every 1.00469393004 seconds (6 intervals, 6446 remaining)\n",
      "541.39914: issuing 12 UIDs for every 1.00469393004 seconds (6 intervals, 6434 remaining)\n",
      "542.413108: issuing 12 UIDs for every 1.00469393004 seconds (6 intervals, 6422 remaining)\n",
      "543.424666: issuing 12 UIDs for every 1.00469393004 seconds (6 intervals, 6410 remaining)\n",
      "544.437672: issuing 12 UIDs for every 1.00469393004 seconds (6 intervals, 6398 remaining)\n",
      "545.45179: issuing 12 UIDs for every 1.00469393004 seconds (6 intervals, 6386 remaining)\n",
      "546.465922: issuing 12 UIDs for every 1.00469393004 seconds (6 intervals, 6374 remaining)\n",
      "547.475832: issuing 12 UIDs for every 1.00469393004 seconds (6 intervals, 6362 remaining)\n",
      "548.491352: issuing 12 UIDs for every 1.00469393004 seconds (6 intervals, 6350 remaining)\n",
      "549.501318: issuing 12 UIDs for every 1.00469393004 seconds (6 intervals, 6338 remaining)\n",
      "550.514053: issuing 12 UIDs for every 1.00469393004 seconds (6 intervals, 6326 remaining)\n",
      "551.526838: issuing 12 UIDs for every 1.00469393004 seconds (6 intervals, 6314 remaining)\n",
      "552.536694: issuing 12 UIDs for every 1.00469393004 seconds (6 intervals, 6302 remaining)\n",
      "553.552242: issuing 12 UIDs for every 1.00469393004 seconds (6 intervals, 6290 remaining)\n",
      "554.562395: issuing 12 UIDs for every 1.00469393004 seconds (6 intervals, 6278 remaining)\n",
      "555.572051: issuing 12 UIDs for every 1.00469393004 seconds (6 intervals, 6266 remaining)\n",
      "556.581904: issuing 12 UIDs for every 1.00469393004 seconds (6 intervals, 6254 remaining)\n",
      "557.593682: issuing 12 UIDs for every 1.00469393004 seconds (6 intervals, 6242 remaining)\n",
      "558.607386: issuing 12 UIDs for every 1.00469393004 seconds (6 intervals, 6230 remaining)\n",
      "559.620883: issuing 12 UIDs for every 1.00469393004 seconds (6 intervals, 6218 remaining)\n",
      "560.632912: issuing 12 UIDs for every 1.00469393004 seconds (6 intervals, 6206 remaining)\n",
      "561.643: issuing 12 UIDs for every 1.00469393004 seconds (6 intervals, 6194 remaining)\n",
      "562.652838: issuing 12 UIDs for every 1.00469393004 seconds (6 intervals, 6182 remaining)\n",
      "563.666944: issuing 12 UIDs for every 1.00469393004 seconds (6 intervals, 6170 remaining)\n",
      "564.678334: issuing 12 UIDs for every 1.00469393004 seconds (6 intervals, 6158 remaining)\n",
      "565.68823: issuing 12 UIDs for every 1.00469393004 seconds (6 intervals, 6146 remaining)\n",
      "566.699063: issuing 12 UIDs for every 1.00469393004 seconds (6 intervals, 6134 remaining)\n",
      "567.713477: issuing 12 UIDs for every 1.00469393004 seconds (6 intervals, 6122 remaining)\n",
      "568.723793: issuing 12 UIDs for every 1.00469393004 seconds (6 intervals, 6110 remaining)\n",
      "569.73664: issuing 12 UIDs for every 1.00469393004 seconds (6 intervals, 6098 remaining)\n",
      "570.74895: issuing 12 UIDs for every 1.00469393004 seconds (6 intervals, 6086 remaining)\n",
      "571.762116: issuing 12 UIDs for every 1.00469393004 seconds (6 intervals, 6074 remaining)\n",
      "572.774616: issuing 12 UIDs for every 1.00469393004 seconds (6 intervals, 6062 remaining)\n",
      "573.784396: issuing 12 UIDs for every 1.00469393004 seconds (6 intervals, 6050 remaining)\n",
      "574.795474: issuing 12 UIDs for every 1.00469393004 seconds (6 intervals, 6038 remaining)\n",
      "575.809836: issuing 12 UIDs for every 1.00469393004 seconds (6 intervals, 6026 remaining)\n",
      "576.820299: issuing 12 UIDs for every 1.00469393004 seconds (6 intervals, 6014 remaining)\n",
      "577.833055: issuing 12 UIDs for every 1.00469393004 seconds (6 intervals, 6002 remaining)\n",
      "578.84524: issuing 12 UIDs for every 1.00469393004 seconds (6 intervals, 5990 remaining)\n",
      "579.858331: issuing 12 UIDs for every 1.00469393004 seconds (6 intervals, 5978 remaining)\n",
      "580.870771: issuing 12 UIDs for every 1.00469393004 seconds (6 intervals, 5966 remaining)\n",
      "581.884244: issuing 12 UIDs for every 1.00469393004 seconds (6 intervals, 5954 remaining)\n",
      "582.896287: issuing 12 UIDs for every 1.00469393004 seconds (6 intervals, 5942 remaining)\n",
      "583.906951: issuing 12 UIDs for every 1.00469393004 seconds (6 intervals, 5930 remaining)\n",
      "584.921835: issuing 12 UIDs for every 1.00469393004 seconds (6 intervals, 5918 remaining)\n",
      "585.934102: issuing 12 UIDs for every 1.00469393004 seconds (6 intervals, 5906 remaining)\n",
      "586.947322: issuing 12 UIDs for every 1.00469393004 seconds (6 intervals, 5894 remaining)\n",
      "587.957243: issuing 12 UIDs for every 1.00469393004 seconds (6 intervals, 5882 remaining)\n",
      "588.967312: issuing 12 UIDs for every 1.00469393004 seconds (6 intervals, 5870 remaining)\n",
      "589.979996: issuing 12 UIDs for every 1.00469393004 seconds (6 intervals, 5858 remaining)\n",
      "590.990435: issuing 12 UIDs for every 1.00469393004 seconds (6 intervals, 5846 remaining)\n",
      "592.002406: issuing 12 UIDs for every 1.00469393004 seconds (6 intervals, 5834 remaining)\n",
      "593.015926: issuing 12 UIDs for every 1.00469393004 seconds (6 intervals, 5822 remaining)\n",
      "594.028068: issuing 12 UIDs for every 1.00469393004 seconds (6 intervals, 5810 remaining)\n",
      "595.042269: issuing 12 UIDs for every 1.00469393004 seconds (6 intervals, 5798 remaining)\n",
      "596.053566: issuing 12 UIDs for every 1.00469393004 seconds (6 intervals, 5786 remaining)\n",
      "597.0669: issuing 12 UIDs for every 1.00469393004 seconds (6 intervals, 5774 remaining)\n",
      "598.079043: issuing 12 UIDs for every 1.00469393004 seconds (6 intervals, 5762 remaining)\n",
      "599.088889: issuing 12 UIDs for every 1.00469393004 seconds (6 intervals, 5750 remaining)\n",
      "600.102341: issuing 12 UIDs for every 1.00469393004 seconds (6 intervals, 5738 remaining)\n",
      "601.114415: issuing 12 UIDs for every 1.00469393004 seconds (6 intervals, 5726 remaining)\n",
      "602.127385: issuing 12 UIDs for every 1.00469393004 seconds (6 intervals, 5714 remaining)\n",
      "603.141977: issuing 12 UIDs for every 1.00469393004 seconds (6 intervals, 5702 remaining)\n",
      "604.153937: issuing 12 UIDs for every 1.00469393004 seconds (6 intervals, 5690 remaining)\n",
      "605.169617: issuing 12 UIDs for every 1.00469393004 seconds (6 intervals, 5678 remaining)\n",
      "606.183892: issuing 12 UIDs for every 1.00469393004 seconds (6 intervals, 5666 remaining)\n",
      "607.196809: issuing 12 UIDs for every 1.00469393004 seconds (6 intervals, 5654 remaining)\n",
      "608.210778: issuing 12 UIDs for every 1.00469393004 seconds (6 intervals, 5642 remaining)\n",
      "609.222321: issuing 12 UIDs for every 1.00469393004 seconds (6 intervals, 5630 remaining)\n",
      "610.232872: issuing 12 UIDs for every 1.00469393004 seconds (6 intervals, 5618 remaining)\n",
      "611.242917: issuing 12 UIDs for every 1.00469393004 seconds (6 intervals, 5606 remaining)\n",
      "612.252637: issuing 12 UIDs for every 1.00469393004 seconds (6 intervals, 5594 remaining)\n",
      "613.263421: issuing 12 UIDs for every 1.00469393004 seconds (6 intervals, 5582 remaining)\n",
      "614.276858: issuing 12 UIDs for every 1.00469393004 seconds (6 intervals, 5570 remaining)\n",
      "615.290887: issuing 12 UIDs for every 1.00469393004 seconds (6 intervals, 5558 remaining)\n",
      "616.302927: issuing 12 UIDs for every 1.00469393004 seconds (6 intervals, 5546 remaining)\n",
      "617.312808: issuing 12 UIDs for every 1.00469393004 seconds (6 intervals, 5534 remaining)\n",
      "618.325316: issuing 12 UIDs for every 1.00469393004 seconds (6 intervals, 5522 remaining)\n",
      "619.337693: issuing 12 UIDs for every 1.00469393004 seconds (6 intervals, 5510 remaining)\n",
      "620.348095: issuing 12 UIDs for every 1.00469393004 seconds (6 intervals, 5498 remaining)\n",
      "621.357948: issuing 12 UIDs for every 1.00469393004 seconds (6 intervals, 5486 remaining)\n",
      "622.368317: issuing 12 UIDs for every 1.00469393004 seconds (6 intervals, 5474 remaining)\n",
      "623.37818: issuing 12 UIDs for every 1.00469393004 seconds (6 intervals, 5462 remaining)\n",
      "624.387534: issuing 12 UIDs for every 1.00469393004 seconds (6 intervals, 5450 remaining)\n",
      "625.397484: issuing 12 UIDs for every 1.00469393004 seconds (6 intervals, 5438 remaining)\n",
      "626.407272: issuing 12 UIDs for every 1.00469393004 seconds (6 intervals, 5426 remaining)\n",
      "627.41711: issuing 12 UIDs for every 1.00469393004 seconds (6 intervals, 5414 remaining)\n",
      "628.426971: issuing 12 UIDs for every 1.00469393004 seconds (6 intervals, 5402 remaining)\n",
      "629.436844: issuing 12 UIDs for every 1.00469393004 seconds (6 intervals, 5390 remaining)\n",
      "630.446696: issuing 14 UIDs for every 0.976785765318 seconds (7 intervals, 5376 remaining)\n",
      "631.42833: issuing 14 UIDs for every 0.976785765318 seconds (7 intervals, 5362 remaining)\n",
      "632.412414: issuing 14 UIDs for every 0.976785765318 seconds (7 intervals, 5348 remaining)\n",
      "633.39579: issuing 14 UIDs for every 0.976785765318 seconds (7 intervals, 5334 remaining)\n",
      "634.381835: issuing 14 UIDs for every 0.976785765318 seconds (7 intervals, 5320 remaining)\n",
      "635.36849: issuing 14 UIDs for every 0.976785765318 seconds (7 intervals, 5306 remaining)\n",
      "636.352843: issuing 14 UIDs for every 0.976785765318 seconds (7 intervals, 5292 remaining)\n",
      "637.335831: issuing 14 UIDs for every 0.976785765318 seconds (7 intervals, 5278 remaining)\n",
      "638.316767: issuing 14 UIDs for every 0.976785765318 seconds (7 intervals, 5264 remaining)\n",
      "639.303389: issuing 14 UIDs for every 0.976785765318 seconds (7 intervals, 5250 remaining)\n",
      "640.287449: issuing 14 UIDs for every 0.976785765318 seconds (7 intervals, 5236 remaining)\n",
      "641.275678: issuing 14 UIDs for every 0.976785765318 seconds (7 intervals, 5222 remaining)\n",
      "642.261076: issuing 14 UIDs for every 0.976785765318 seconds (7 intervals, 5208 remaining)\n",
      "643.244181: issuing 14 UIDs for every 0.976785765318 seconds (7 intervals, 5194 remaining)\n",
      "644.230756: issuing 14 UIDs for every 0.976785765318 seconds (7 intervals, 5180 remaining)\n",
      "645.217468: issuing 14 UIDs for every 0.976785765318 seconds (7 intervals, 5166 remaining)\n",
      "646.200402: issuing 14 UIDs for every 0.976785765318 seconds (7 intervals, 5152 remaining)\n",
      "647.185638: issuing 14 UIDs for every 0.976785765318 seconds (7 intervals, 5138 remaining)\n",
      "648.171583: issuing 14 UIDs for every 0.976785765318 seconds (7 intervals, 5124 remaining)\n",
      "649.159507: issuing 14 UIDs for every 0.976785765318 seconds (7 intervals, 5110 remaining)\n",
      "650.144895: issuing 14 UIDs for every 0.976785765318 seconds (7 intervals, 5096 remaining)\n",
      "651.131735: issuing 14 UIDs for every 0.976785765318 seconds (7 intervals, 5082 remaining)\n",
      "652.118177: issuing 14 UIDs for every 0.976785765318 seconds (7 intervals, 5068 remaining)\n",
      "653.104414: issuing 14 UIDs for every 0.976785765318 seconds (7 intervals, 5054 remaining)\n",
      "654.086597: issuing 14 UIDs for every 0.976785765318 seconds (7 intervals, 5040 remaining)\n",
      "655.071891: issuing 14 UIDs for every 0.976785765318 seconds (7 intervals, 5026 remaining)\n",
      "656.058838: issuing 14 UIDs for every 0.976785765318 seconds (7 intervals, 5012 remaining)\n",
      "657.042776: issuing 14 UIDs for every 0.976785765318 seconds (7 intervals, 4998 remaining)\n",
      "658.030469: issuing 14 UIDs for every 0.976785765318 seconds (7 intervals, 4984 remaining)\n",
      "659.013091: issuing 14 UIDs for every 0.976785765318 seconds (7 intervals, 4970 remaining)\n",
      "659.999789: issuing 14 UIDs for every 0.976785765318 seconds (7 intervals, 4956 remaining)\n",
      "660.986551: issuing 14 UIDs for every 0.976785765318 seconds (7 intervals, 4942 remaining)\n",
      "661.9695: issuing 14 UIDs for every 0.976785765318 seconds (7 intervals, 4928 remaining)\n",
      "662.95387: issuing 14 UIDs for every 0.976785765318 seconds (7 intervals, 4914 remaining)\n",
      "663.936694: issuing 14 UIDs for every 0.976785765318 seconds (7 intervals, 4900 remaining)\n",
      "664.921429: issuing 14 UIDs for every 0.976785765318 seconds (7 intervals, 4886 remaining)\n",
      "665.907995: issuing 14 UIDs for every 0.976785765318 seconds (7 intervals, 4872 remaining)\n",
      "666.894168: issuing 14 UIDs for every 0.976785765318 seconds (7 intervals, 4858 remaining)\n",
      "667.879746: issuing 14 UIDs for every 0.976785765318 seconds (7 intervals, 4844 remaining)\n",
      "668.864811: issuing 14 UIDs for every 0.976785765318 seconds (7 intervals, 4830 remaining)\n",
      "669.848772: issuing 14 UIDs for every 0.976785765318 seconds (7 intervals, 4816 remaining)\n",
      "670.832283: issuing 14 UIDs for every 0.976785765318 seconds (7 intervals, 4802 remaining)\n",
      "671.816262: issuing 14 UIDs for every 0.976785765318 seconds (7 intervals, 4788 remaining)\n",
      "672.802738: issuing 14 UIDs for every 0.976785765318 seconds (7 intervals, 4774 remaining)\n",
      "673.790236: issuing 14 UIDs for every 0.976785765318 seconds (7 intervals, 4760 remaining)\n",
      "674.776733: issuing 14 UIDs for every 0.976785765318 seconds (7 intervals, 4746 remaining)\n",
      "675.765586: issuing 14 UIDs for every 0.976785765318 seconds (7 intervals, 4732 remaining)\n",
      "676.754753: issuing 14 UIDs for every 0.976785765318 seconds (7 intervals, 4718 remaining)\n",
      "677.745663: issuing 14 UIDs for every 0.976785765318 seconds (7 intervals, 4704 remaining)\n",
      "678.729118: issuing 14 UIDs for every 0.976785765318 seconds (7 intervals, 4690 remaining)\n",
      "679.720856: issuing 14 UIDs for every 0.976785765318 seconds (7 intervals, 4676 remaining)\n",
      "680.708437: issuing 14 UIDs for every 0.976785765318 seconds (7 intervals, 4662 remaining)\n",
      "681.700565: issuing 14 UIDs for every 0.976785765318 seconds (7 intervals, 4648 remaining)\n",
      "682.69096: issuing 14 UIDs for every 0.976785765318 seconds (7 intervals, 4634 remaining)\n",
      "683.673864: issuing 14 UIDs for every 0.976785765318 seconds (7 intervals, 4620 remaining)\n",
      "684.662525: issuing 14 UIDs for every 0.976785765318 seconds (7 intervals, 4606 remaining)\n",
      "685.653023: issuing 14 UIDs for every 0.976785765318 seconds (7 intervals, 4592 remaining)\n",
      "686.644916: issuing 14 UIDs for every 0.976785765318 seconds (7 intervals, 4578 remaining)\n",
      "687.627927: issuing 14 UIDs for every 0.976785765318 seconds (7 intervals, 4564 remaining)\n",
      "688.613204: issuing 14 UIDs for every 0.976785765318 seconds (7 intervals, 4550 remaining)\n",
      "689.608725: issuing 14 UIDs for every 0.976785765318 seconds (7 intervals, 4536 remaining)\n",
      "690.597126: issuing 14 UIDs for every 0.976785765318 seconds (7 intervals, 4522 remaining)\n",
      "691.584608: issuing 14 UIDs for every 0.976785765318 seconds (7 intervals, 4508 remaining)\n",
      "692.572598: issuing 14 UIDs for every 0.976785765318 seconds (7 intervals, 4494 remaining)\n",
      "693.562564: issuing 14 UIDs for every 0.976785765318 seconds (7 intervals, 4480 remaining)\n",
      "694.55628: issuing 14 UIDs for every 0.976785765318 seconds (7 intervals, 4466 remaining)\n",
      "695.542637: issuing 14 UIDs for every 0.976785765318 seconds (7 intervals, 4452 remaining)\n",
      "696.52944: issuing 14 UIDs for every 0.976785765318 seconds (7 intervals, 4438 remaining)\n",
      "697.515386: issuing 14 UIDs for every 0.976785765318 seconds (7 intervals, 4424 remaining)\n",
      "698.501979: issuing 14 UIDs for every 0.976785765318 seconds (7 intervals, 4410 remaining)\n",
      "699.488952: issuing 14 UIDs for every 0.976785765318 seconds (7 intervals, 4396 remaining)\n",
      "700.480468: issuing 14 UIDs for every 0.976785765318 seconds (7 intervals, 4382 remaining)\n",
      "701.462236: issuing 14 UIDs for every 0.976785765318 seconds (7 intervals, 4368 remaining)\n",
      "702.445147: issuing 14 UIDs for every 0.976785765318 seconds (7 intervals, 4354 remaining)\n",
      "703.435824: issuing 14 UIDs for every 0.976785765318 seconds (7 intervals, 4340 remaining)\n",
      "704.42611: issuing 14 UIDs for every 0.976785765318 seconds (7 intervals, 4326 remaining)\n",
      "705.414054: issuing 14 UIDs for every 0.976785765318 seconds (7 intervals, 4312 remaining)\n",
      "706.401592: issuing 14 UIDs for every 0.976785765318 seconds (7 intervals, 4298 remaining)\n",
      "707.38845: issuing 14 UIDs for every 0.976785765318 seconds (7 intervals, 4284 remaining)\n",
      "708.374992: issuing 14 UIDs for every 0.976785765318 seconds (7 intervals, 4270 remaining)\n",
      "709.362072: issuing 14 UIDs for every 0.976785765318 seconds (7 intervals, 4256 remaining)\n",
      "710.353049: issuing 14 UIDs for every 0.976785765318 seconds (7 intervals, 4242 remaining)\n",
      "711.344397: issuing 14 UIDs for every 0.976785765318 seconds (7 intervals, 4228 remaining)\n",
      "712.332797: issuing 14 UIDs for every 0.976785765318 seconds (7 intervals, 4214 remaining)\n",
      "713.321039: issuing 14 UIDs for every 0.976785765318 seconds (7 intervals, 4200 remaining)\n",
      "714.311012: issuing 14 UIDs for every 0.976785765318 seconds (7 intervals, 4186 remaining)\n",
      "715.300095: issuing 14 UIDs for every 0.976785765318 seconds (7 intervals, 4172 remaining)\n",
      "716.291203: issuing 14 UIDs for every 0.976785765318 seconds (7 intervals, 4158 remaining)\n",
      "717.283812: issuing 14 UIDs for every 0.976785765318 seconds (7 intervals, 4144 remaining)\n",
      "718.270875: issuing 14 UIDs for every 0.976785765318 seconds (7 intervals, 4130 remaining)\n",
      "719.259702: issuing 14 UIDs for every 0.976785765318 seconds (7 intervals, 4116 remaining)\n",
      "720.249035: issuing 17 UIDs for every 0.988414167286 seconds (8 intervals, 4099 remaining)\n",
      "721.24787: issuing 17 UIDs for every 0.988414167286 seconds (8 intervals, 4082 remaining)\n",
      "722.251188: issuing 17 UIDs for every 0.988414167286 seconds (8 intervals, 4065 remaining)\n",
      "723.251952: issuing 17 UIDs for every 0.988414167286 seconds (8 intervals, 4048 remaining)\n",
      "724.254334: issuing 17 UIDs for every 0.988414167286 seconds (8 intervals, 4031 remaining)\n",
      "725.25039: issuing 17 UIDs for every 0.988414167286 seconds (8 intervals, 4014 remaining)\n",
      "726.250644: issuing 17 UIDs for every 0.988414167286 seconds (8 intervals, 3997 remaining)\n",
      "727.249133: issuing 17 UIDs for every 0.988414167286 seconds (8 intervals, 3980 remaining)\n",
      "728.248671: issuing 17 UIDs for every 0.988414167286 seconds (8 intervals, 3963 remaining)\n",
      "729.250245: issuing 17 UIDs for every 0.988414167286 seconds (8 intervals, 3946 remaining)\n",
      "730.243591: issuing 17 UIDs for every 0.988414167286 seconds (8 intervals, 3929 remaining)\n",
      "731.247662: issuing 17 UIDs for every 0.988414167286 seconds (8 intervals, 3912 remaining)\n",
      "732.243885: issuing 17 UIDs for every 0.988414167286 seconds (8 intervals, 3895 remaining)\n",
      "733.238518: issuing 17 UIDs for every 0.988414167286 seconds (8 intervals, 3878 remaining)\n",
      "734.240878: issuing 17 UIDs for every 0.988414167286 seconds (8 intervals, 3861 remaining)\n",
      "735.243156: issuing 17 UIDs for every 0.988414167286 seconds (8 intervals, 3844 remaining)\n",
      "736.244875: issuing 17 UIDs for every 0.988414167286 seconds (8 intervals, 3827 remaining)\n",
      "737.247167: issuing 17 UIDs for every 0.988414167286 seconds (8 intervals, 3810 remaining)\n",
      "738.249429: issuing 17 UIDs for every 0.988414167286 seconds (8 intervals, 3793 remaining)\n",
      "739.250209: issuing 17 UIDs for every 0.988414167286 seconds (8 intervals, 3776 remaining)\n",
      "740.253455: issuing 17 UIDs for every 0.988414167286 seconds (8 intervals, 3759 remaining)\n",
      "741.252762: issuing 17 UIDs for every 0.988414167286 seconds (8 intervals, 3742 remaining)\n",
      "742.2533: issuing 17 UIDs for every 0.988414167286 seconds (8 intervals, 3725 remaining)\n",
      "743.253555: issuing 17 UIDs for every 0.988414167286 seconds (8 intervals, 3708 remaining)\n",
      "744.253894: issuing 17 UIDs for every 0.988414167286 seconds (8 intervals, 3691 remaining)\n",
      "745.25472: issuing 17 UIDs for every 0.988414167286 seconds (8 intervals, 3674 remaining)\n",
      "746.256388: issuing 17 UIDs for every 0.988414167286 seconds (8 intervals, 3657 remaining)\n",
      "747.257807: issuing 17 UIDs for every 0.988414167286 seconds (8 intervals, 3640 remaining)\n",
      "748.260166: issuing 17 UIDs for every 0.988414167286 seconds (8 intervals, 3623 remaining)\n",
      "749.262221: issuing 17 UIDs for every 0.988414167286 seconds (8 intervals, 3606 remaining)\n",
      "750.264882: issuing 17 UIDs for every 0.988414167286 seconds (8 intervals, 3589 remaining)\n",
      "751.264883: issuing 17 UIDs for every 0.988414167286 seconds (8 intervals, 3572 remaining)\n",
      "752.266643: issuing 17 UIDs for every 0.988414167286 seconds (8 intervals, 3555 remaining)\n",
      "753.267731: issuing 17 UIDs for every 0.988414167286 seconds (8 intervals, 3538 remaining)\n",
      "754.271579: issuing 17 UIDs for every 0.988414167286 seconds (8 intervals, 3521 remaining)\n",
      "755.269124: issuing 17 UIDs for every 0.988414167286 seconds (8 intervals, 3504 remaining)\n",
      "756.271173: issuing 17 UIDs for every 0.988414167286 seconds (8 intervals, 3487 remaining)\n",
      "757.271928: issuing 17 UIDs for every 0.988414167286 seconds (8 intervals, 3470 remaining)\n",
      "758.274271: issuing 17 UIDs for every 0.988414167286 seconds (8 intervals, 3453 remaining)\n",
      "759.279502: issuing 17 UIDs for every 0.988414167286 seconds (8 intervals, 3436 remaining)\n",
      "760.27896: issuing 17 UIDs for every 0.988414167286 seconds (8 intervals, 3419 remaining)\n",
      "761.279243: issuing 17 UIDs for every 0.988414167286 seconds (8 intervals, 3402 remaining)\n",
      "762.280249: issuing 17 UIDs for every 0.988414167286 seconds (8 intervals, 3385 remaining)\n",
      "763.278152: issuing 17 UIDs for every 0.988414167286 seconds (8 intervals, 3368 remaining)\n",
      "764.280215: issuing 17 UIDs for every 0.988414167286 seconds (8 intervals, 3351 remaining)\n",
      "765.28133: issuing 17 UIDs for every 0.988414167286 seconds (8 intervals, 3334 remaining)\n",
      "766.283591: issuing 17 UIDs for every 0.988414167286 seconds (8 intervals, 3317 remaining)\n",
      "767.286004: issuing 17 UIDs for every 0.988414167286 seconds (8 intervals, 3300 remaining)\n",
      "768.286981: issuing 17 UIDs for every 0.988414167286 seconds (8 intervals, 3283 remaining)\n",
      "769.289303: issuing 17 UIDs for every 0.988414167286 seconds (8 intervals, 3266 remaining)\n",
      "770.29133: issuing 17 UIDs for every 0.988414167286 seconds (8 intervals, 3249 remaining)\n",
      "771.293085: issuing 17 UIDs for every 0.988414167286 seconds (8 intervals, 3232 remaining)\n",
      "772.295369: issuing 17 UIDs for every 0.988414167286 seconds (8 intervals, 3215 remaining)\n",
      "773.29583: issuing 17 UIDs for every 0.988414167286 seconds (8 intervals, 3198 remaining)\n",
      "774.297921: issuing 17 UIDs for every 0.988414167286 seconds (8 intervals, 3181 remaining)\n",
      "775.298911: issuing 17 UIDs for every 0.988414167286 seconds (8 intervals, 3164 remaining)\n",
      "776.30065: issuing 17 UIDs for every 0.988414167286 seconds (8 intervals, 3147 remaining)\n",
      "777.301709: issuing 17 UIDs for every 0.988414167286 seconds (8 intervals, 3130 remaining)\n",
      "778.303842: issuing 17 UIDs for every 0.988414167286 seconds (8 intervals, 3113 remaining)\n",
      "779.306291: issuing 17 UIDs for every 0.988414167286 seconds (8 intervals, 3096 remaining)\n",
      "780.306466: issuing 17 UIDs for every 0.988414167286 seconds (8 intervals, 3079 remaining)\n",
      "781.308505: issuing 17 UIDs for every 0.988414167286 seconds (8 intervals, 3062 remaining)\n",
      "782.311546: issuing 17 UIDs for every 0.988414167286 seconds (8 intervals, 3045 remaining)\n",
      "783.313503: issuing 17 UIDs for every 0.988414167286 seconds (8 intervals, 3028 remaining)\n",
      "784.313114: issuing 17 UIDs for every 0.988414167286 seconds (8 intervals, 3011 remaining)\n",
      "785.315915: issuing 17 UIDs for every 0.988414167286 seconds (8 intervals, 2994 remaining)\n",
      "786.316607: issuing 17 UIDs for every 0.988414167286 seconds (8 intervals, 2977 remaining)\n",
      "787.31836: issuing 17 UIDs for every 0.988414167286 seconds (8 intervals, 2960 remaining)\n",
      "788.320693: issuing 17 UIDs for every 0.988414167286 seconds (8 intervals, 2943 remaining)\n",
      "789.322405: issuing 17 UIDs for every 0.988414167286 seconds (8 intervals, 2926 remaining)\n",
      "790.322186: issuing 17 UIDs for every 0.988414167286 seconds (8 intervals, 2909 remaining)\n",
      "791.321565: issuing 17 UIDs for every 0.988414167286 seconds (8 intervals, 2892 remaining)\n",
      "792.320935: issuing 17 UIDs for every 0.988414167286 seconds (8 intervals, 2875 remaining)\n",
      "793.318439: issuing 17 UIDs for every 0.988414167286 seconds (8 intervals, 2858 remaining)\n",
      "794.317441: issuing 17 UIDs for every 0.988414167286 seconds (8 intervals, 2841 remaining)\n",
      "795.316534: issuing 17 UIDs for every 0.988414167286 seconds (8 intervals, 2824 remaining)\n",
      "796.313931: issuing 17 UIDs for every 0.988414167286 seconds (8 intervals, 2807 remaining)\n",
      "797.312139: issuing 17 UIDs for every 0.988414167286 seconds (8 intervals, 2790 remaining)\n",
      "798.304031: issuing 17 UIDs for every 0.988414167286 seconds (8 intervals, 2773 remaining)\n",
      "799.305223: issuing 17 UIDs for every 0.988414167286 seconds (8 intervals, 2756 remaining)\n",
      "800.306939: issuing 17 UIDs for every 0.988414167286 seconds (8 intervals, 2739 remaining)\n",
      "801.305343: issuing 17 UIDs for every 0.988414167286 seconds (8 intervals, 2722 remaining)\n",
      "802.297672: issuing 17 UIDs for every 0.988414167286 seconds (8 intervals, 2705 remaining)\n",
      "803.298017: issuing 17 UIDs for every 0.988414167286 seconds (8 intervals, 2688 remaining)\n",
      "804.298779: issuing 17 UIDs for every 0.988414167286 seconds (8 intervals, 2671 remaining)\n",
      "805.29239: issuing 17 UIDs for every 0.988414167286 seconds (8 intervals, 2654 remaining)\n",
      "806.290657: issuing 17 UIDs for every 0.988414167286 seconds (8 intervals, 2637 remaining)\n",
      "807.289009: issuing 17 UIDs for every 0.988414167286 seconds (8 intervals, 2620 remaining)\n",
      "808.287099: issuing 17 UIDs for every 0.988414167286 seconds (8 intervals, 2603 remaining)\n",
      "809.284746: issuing 17 UIDs for every 0.988414167286 seconds (8 intervals, 2586 remaining)\n",
      "810.283961: issuing 21 UIDs for every 1.01748517221 seconds (9 intervals, 2565 remaining)\n",
      "811.308393: issuing 21 UIDs for every 1.01748517221 seconds (9 intervals, 2544 remaining)\n",
      "812.338226: issuing 21 UIDs for every 1.01748517221 seconds (9 intervals, 2523 remaining)\n",
      "813.367247: issuing 21 UIDs for every 1.01748517221 seconds (9 intervals, 2502 remaining)\n",
      "814.39616: issuing 21 UIDs for every 1.01748517221 seconds (9 intervals, 2481 remaining)\n",
      "815.425386: issuing 21 UIDs for every 1.01748517221 seconds (9 intervals, 2460 remaining)\n",
      "816.45396: issuing 21 UIDs for every 1.01748517221 seconds (9 intervals, 2439 remaining)\n",
      "817.477106: issuing 21 UIDs for every 1.01748517221 seconds (9 intervals, 2418 remaining)\n",
      "818.50488: issuing 21 UIDs for every 1.01748517221 seconds (9 intervals, 2397 remaining)\n",
      "819.52914: issuing 21 UIDs for every 1.01748517221 seconds (9 intervals, 2376 remaining)\n",
      "820.557933: issuing 21 UIDs for every 1.01748517221 seconds (9 intervals, 2355 remaining)\n",
      "821.582898: issuing 21 UIDs for every 1.01748517221 seconds (9 intervals, 2334 remaining)\n",
      "822.606785: issuing 21 UIDs for every 1.01748517221 seconds (9 intervals, 2313 remaining)\n",
      "823.634719: issuing 21 UIDs for every 1.01748517221 seconds (9 intervals, 2292 remaining)\n",
      "824.659305: issuing 21 UIDs for every 1.01748517221 seconds (9 intervals, 2271 remaining)\n",
      "825.683629: issuing 21 UIDs for every 1.01748517221 seconds (9 intervals, 2250 remaining)\n",
      "826.70986: issuing 21 UIDs for every 1.01748517221 seconds (9 intervals, 2229 remaining)\n",
      "827.735165: issuing 21 UIDs for every 1.01748517221 seconds (9 intervals, 2208 remaining)\n",
      "828.756279: issuing 21 UIDs for every 1.01748517221 seconds (9 intervals, 2187 remaining)\n",
      "829.778784: issuing 21 UIDs for every 1.01748517221 seconds (9 intervals, 2166 remaining)\n",
      "830.803464: issuing 21 UIDs for every 1.01748517221 seconds (9 intervals, 2145 remaining)\n",
      "831.828457: issuing 21 UIDs for every 1.01748517221 seconds (9 intervals, 2124 remaining)\n",
      "832.853227: issuing 21 UIDs for every 1.01748517221 seconds (9 intervals, 2103 remaining)\n",
      "833.875341: issuing 21 UIDs for every 1.01748517221 seconds (9 intervals, 2082 remaining)\n",
      "834.900281: issuing 21 UIDs for every 1.01748517221 seconds (9 intervals, 2061 remaining)\n",
      "835.925863: issuing 21 UIDs for every 1.01748517221 seconds (9 intervals, 2040 remaining)\n",
      "836.946693: issuing 21 UIDs for every 1.01748517221 seconds (9 intervals, 2019 remaining)\n",
      "837.970491: issuing 21 UIDs for every 1.01748517221 seconds (9 intervals, 1998 remaining)\n",
      "838.994556: issuing 21 UIDs for every 1.01748517221 seconds (9 intervals, 1977 remaining)\n",
      "840.01607: issuing 21 UIDs for every 1.01748517221 seconds (9 intervals, 1956 remaining)\n",
      "841.040135: issuing 21 UIDs for every 1.01748517221 seconds (9 intervals, 1935 remaining)\n",
      "842.064778: issuing 21 UIDs for every 1.01748517221 seconds (9 intervals, 1914 remaining)\n",
      "843.087905: issuing 21 UIDs for every 1.01748517221 seconds (9 intervals, 1893 remaining)\n",
      "844.113612: issuing 21 UIDs for every 1.01748517221 seconds (9 intervals, 1872 remaining)\n",
      "845.13784: issuing 21 UIDs for every 1.01748517221 seconds (9 intervals, 1851 remaining)\n",
      "846.163214: issuing 21 UIDs for every 1.01748517221 seconds (9 intervals, 1830 remaining)\n",
      "847.187735: issuing 21 UIDs for every 1.01748517221 seconds (9 intervals, 1809 remaining)\n",
      "848.210731: issuing 21 UIDs for every 1.01748517221 seconds (9 intervals, 1788 remaining)\n",
      "849.235559: issuing 21 UIDs for every 1.01748517221 seconds (9 intervals, 1767 remaining)\n",
      "850.2598: issuing 21 UIDs for every 1.01748517221 seconds (9 intervals, 1746 remaining)\n",
      "851.283588: issuing 21 UIDs for every 1.01748517221 seconds (9 intervals, 1725 remaining)\n",
      "852.308579: issuing 21 UIDs for every 1.01748517221 seconds (9 intervals, 1704 remaining)\n",
      "853.330596: issuing 21 UIDs for every 1.01748517221 seconds (9 intervals, 1683 remaining)\n",
      "854.355376: issuing 21 UIDs for every 1.01748517221 seconds (9 intervals, 1662 remaining)\n",
      "855.378188: issuing 21 UIDs for every 1.01748517221 seconds (9 intervals, 1641 remaining)\n",
      "856.400145: issuing 21 UIDs for every 1.01748517221 seconds (9 intervals, 1620 remaining)\n",
      "857.422135: issuing 21 UIDs for every 1.01748517221 seconds (9 intervals, 1599 remaining)\n",
      "858.447031: issuing 21 UIDs for every 1.01748517221 seconds (9 intervals, 1578 remaining)\n",
      "859.471714: issuing 21 UIDs for every 1.01748517221 seconds (9 intervals, 1557 remaining)\n",
      "860.496955: issuing 21 UIDs for every 1.01748517221 seconds (9 intervals, 1536 remaining)\n",
      "861.520642: issuing 21 UIDs for every 1.01748517221 seconds (9 intervals, 1515 remaining)\n",
      "862.54296: issuing 21 UIDs for every 1.01748517221 seconds (9 intervals, 1494 remaining)\n",
      "863.567832: issuing 21 UIDs for every 1.01748517221 seconds (9 intervals, 1473 remaining)\n",
      "864.589296: issuing 21 UIDs for every 1.01748517221 seconds (9 intervals, 1452 remaining)\n",
      "865.610773: issuing 21 UIDs for every 1.01748517221 seconds (9 intervals, 1431 remaining)\n",
      "866.636052: issuing 21 UIDs for every 1.01748517221 seconds (9 intervals, 1410 remaining)\n",
      "867.659561: issuing 21 UIDs for every 1.01748517221 seconds (9 intervals, 1389 remaining)\n",
      "868.684127: issuing 21 UIDs for every 1.01748517221 seconds (9 intervals, 1368 remaining)\n",
      "869.708254: issuing 21 UIDs for every 1.01748517221 seconds (9 intervals, 1347 remaining)\n",
      "870.729847: issuing 21 UIDs for every 1.01748517221 seconds (9 intervals, 1326 remaining)\n",
      "871.757025: issuing 21 UIDs for every 1.01748517221 seconds (9 intervals, 1305 remaining)\n",
      "872.780719: issuing 21 UIDs for every 1.01748517221 seconds (9 intervals, 1284 remaining)\n",
      "873.805738: issuing 21 UIDs for every 1.01748517221 seconds (9 intervals, 1263 remaining)\n",
      "874.830572: issuing 21 UIDs for every 1.01748517221 seconds (9 intervals, 1242 remaining)\n",
      "875.854541: issuing 21 UIDs for every 1.01748517221 seconds (9 intervals, 1221 remaining)\n",
      "876.881907: issuing 21 UIDs for every 1.01748517221 seconds (9 intervals, 1200 remaining)\n",
      "877.908709: issuing 21 UIDs for every 1.01748517221 seconds (9 intervals, 1179 remaining)\n",
      "878.936007: issuing 21 UIDs for every 1.01748517221 seconds (9 intervals, 1158 remaining)\n",
      "879.962381: issuing 21 UIDs for every 1.01748517221 seconds (9 intervals, 1137 remaining)\n",
      "880.986728: issuing 21 UIDs for every 1.01748517221 seconds (9 intervals, 1116 remaining)\n",
      "882.01245: issuing 21 UIDs for every 1.01748517221 seconds (9 intervals, 1095 remaining)\n",
      "883.039334: issuing 21 UIDs for every 1.01748517221 seconds (9 intervals, 1074 remaining)\n",
      "884.064583: issuing 21 UIDs for every 1.01748517221 seconds (9 intervals, 1053 remaining)\n",
      "885.092095: issuing 21 UIDs for every 1.01748517221 seconds (9 intervals, 1032 remaining)\n",
      "886.118912: issuing 21 UIDs for every 1.01748517221 seconds (9 intervals, 1011 remaining)\n",
      "887.145074: issuing 21 UIDs for every 1.01748517221 seconds (9 intervals, 990 remaining)\n",
      "888.170228: issuing 21 UIDs for every 1.01748517221 seconds (9 intervals, 969 remaining)\n",
      "889.197487: issuing 21 UIDs for every 1.01748517221 seconds (9 intervals, 948 remaining)\n",
      "890.223081: issuing 21 UIDs for every 1.01748517221 seconds (9 intervals, 927 remaining)\n",
      "891.249295: issuing 21 UIDs for every 1.01748517221 seconds (9 intervals, 906 remaining)\n",
      "892.273559: issuing 21 UIDs for every 1.01748517221 seconds (9 intervals, 885 remaining)\n",
      "893.300806: issuing 21 UIDs for every 1.01748517221 seconds (9 intervals, 864 remaining)\n",
      "894.328041: issuing 21 UIDs for every 1.01748517221 seconds (9 intervals, 843 remaining)\n",
      "895.355047: issuing 21 UIDs for every 1.01748517221 seconds (9 intervals, 822 remaining)\n",
      "896.378421: issuing 21 UIDs for every 1.01748517221 seconds (9 intervals, 801 remaining)\n",
      "897.404293: issuing 21 UIDs for every 1.01748517221 seconds (9 intervals, 780 remaining)\n",
      "898.432004: issuing 21 UIDs for every 1.01748517221 seconds (9 intervals, 759 remaining)\n",
      "899.458258: issuing 21 UIDs for every 1.01748517221 seconds (9 intervals, 738 remaining)\n",
      "900.481066: issuing 25 UIDs for every 1.00940989306 seconds (10 intervals, 713 remaining)\n",
      "901.495715: issuing 25 UIDs for every 1.00940989306 seconds (10 intervals, 688 remaining)\n",
      "902.511489: issuing 25 UIDs for every 1.00940989306 seconds (10 intervals, 663 remaining)\n",
      "903.527144: issuing 25 UIDs for every 1.00940989306 seconds (10 intervals, 638 remaining)\n",
      "904.542763: issuing 25 UIDs for every 1.00940989306 seconds (10 intervals, 613 remaining)\n",
      "905.558448: issuing 25 UIDs for every 1.00940989306 seconds (10 intervals, 588 remaining)\n",
      "906.576123: issuing 25 UIDs for every 1.00940989306 seconds (10 intervals, 563 remaining)\n",
      "907.594024: issuing 25 UIDs for every 1.00940989306 seconds (10 intervals, 538 remaining)\n",
      "908.611241: issuing 25 UIDs for every 1.00940989306 seconds (10 intervals, 513 remaining)\n",
      "909.626065: issuing 25 UIDs for every 1.00940989306 seconds (10 intervals, 488 remaining)\n",
      "910.642601: issuing 25 UIDs for every 1.00940989306 seconds (10 intervals, 463 remaining)\n",
      "911.658202: issuing 25 UIDs for every 1.00940989306 seconds (10 intervals, 438 remaining)\n",
      "912.67396: issuing 25 UIDs for every 1.00940989306 seconds (10 intervals, 413 remaining)\n",
      "913.689526: issuing 25 UIDs for every 1.00940989306 seconds (10 intervals, 388 remaining)\n",
      "914.708732: issuing 25 UIDs for every 1.00940989306 seconds (10 intervals, 363 remaining)\n",
      "915.726681: issuing 25 UIDs for every 1.00940989306 seconds (10 intervals, 338 remaining)\n",
      "916.745998: issuing 25 UIDs for every 1.00940989306 seconds (10 intervals, 313 remaining)\n",
      "917.763821: issuing 25 UIDs for every 1.00940989306 seconds (10 intervals, 288 remaining)\n",
      "918.782653: issuing 25 UIDs for every 1.00940989306 seconds (10 intervals, 263 remaining)\n",
      "919.80032: issuing 25 UIDs for every 1.00940989306 seconds (10 intervals, 238 remaining)\n",
      "920.816609: issuing 25 UIDs for every 1.00940989306 seconds (10 intervals, 213 remaining)\n",
      "921.833027: issuing 25 UIDs for every 1.00940989306 seconds (10 intervals, 188 remaining)\n",
      "922.851113: issuing 25 UIDs for every 1.00940989306 seconds (10 intervals, 163 remaining)\n",
      "923.869365: issuing 25 UIDs for every 1.00940989306 seconds (10 intervals, 138 remaining)\n",
      "924.888822: issuing 25 UIDs for every 1.00940989306 seconds (10 intervals, 113 remaining)\n",
      "925.90653: issuing 25 UIDs for every 1.00940989306 seconds (10 intervals, 88 remaining)\n",
      "926.922238: issuing 25 UIDs for every 1.00940989306 seconds (10 intervals, 63 remaining)\n",
      "927.938492: issuing 25 UIDs for every 1.00940989306 seconds (10 intervals, 38 remaining)\n",
      "928.953549: issuing 25 UIDs for every 1.00940989306 seconds (10 intervals, 13 remaining)\n",
      "929.969088: issuing 25 UIDs for every 1.00940989306 seconds (10 intervals, 0 remaining)\n",
      "time: 15min 54s\n"
     ]
    }
   ],
   "source": [
    "# Not sure why an adjustment factor is needed:\n",
    "factor = 6\n",
    "\n",
    "responses = run_batch_on_schedule(lambda uids: client.run_batch(uids, months=['01'], states=all_states[:5]),\n",
    "                                  uids[:10000], num_writes_per_uid=5, mean_runtime=30, \n",
    "                                  min_writes=100*factor, max_writes=10000*factor, verbose=True)"
   ]
  },
  {
   "cell_type": "code",
   "execution_count": 49,
   "metadata": {
    "collapsed": false
   },
   "outputs": [
    {
     "name": "stdout",
     "output_type": "stream",
     "text": [
      "number of responses: 10000\n",
      "number of writes: 50000\n",
      "time: 6.18 ms\n"
     ]
    }
   ],
   "source": [
    "print 'number of responses: {}'.format(len(responses))\n",
    "\n",
    "writes = 0\n",
    "for response in responses:\n",
    "    writes += response[1]\n",
    "print 'number of writes: {}'.format(writes)"
   ]
  },
  {
   "cell_type": "code",
   "execution_count": null,
   "metadata": {
    "collapsed": true
   },
   "outputs": [],
   "source": []
  }
 ],
 "metadata": {
  "kernelspec": {
   "display_name": "Python 2",
   "language": "python",
   "name": "python2"
  },
  "language_info": {
   "codemirror_mode": {
    "name": "ipython",
    "version": 2
   },
   "file_extension": ".py",
   "mimetype": "text/x-python",
   "name": "python",
   "nbconvert_exporter": "python",
   "pygments_lexer": "ipython2",
   "version": "2.7.10"
  }
 },
 "nbformat": 4,
 "nbformat_minor": 0
}
