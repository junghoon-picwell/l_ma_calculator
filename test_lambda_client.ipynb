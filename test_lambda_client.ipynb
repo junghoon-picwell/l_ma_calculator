{
 "cells": [
  {
   "cell_type": "code",
   "execution_count": 1,
   "metadata": {
    "collapsed": false
   },
   "outputs": [],
   "source": [
    "%load_ext autotime"
   ]
  },
  {
   "cell_type": "code",
   "execution_count": 2,
   "metadata": {
    "collapsed": false
   },
   "outputs": [
    {
     "data": {
      "text/plain": [
       "<module 'logging' from '/Library/Frameworks/Python.framework/Versions/2.7/lib/python2.7/logging/__init__.pyc'>"
      ]
     },
     "execution_count": 2,
     "metadata": {},
     "output_type": "execute_result"
    },
    {
     "name": "stdout",
     "output_type": "stream",
     "text": [
      "time: 1.41 s\n"
     ]
    }
   ],
   "source": [
    "import boto3\n",
    "import datetime\n",
    "import logging\n",
    "import json\n",
    "import pickle\n",
    "import pytest\n",
    "import sys\n",
    "import time\n",
    "\n",
    "from etltools import s3\n",
    "\n",
    "reload(logging)  # get around notebook problem"
   ]
  },
  {
   "cell_type": "code",
   "execution_count": 3,
   "metadata": {
    "collapsed": false
   },
   "outputs": [
    {
     "name": "stdout",
     "output_type": "stream",
     "text": [
      "time: 1.25 ms\n"
     ]
    }
   ],
   "source": [
    "logging.basicConfig(\n",
    "    level=logging.INFO, \n",
    "    format='[%(asctime)s] {%(filename)s:%(lineno)d} %(levelname)s - %(message)s',\n",
    "#     handlers=[\n",
    "#         logging.FileHandler(filename='mylog.log', mode='w'),\n",
    "#         logging.StreamHandler(sys.stdout),\n",
    "#     ]\n",
    ")"
   ]
  },
  {
   "cell_type": "code",
   "execution_count": 4,
   "metadata": {
    "collapsed": false
   },
   "outputs": [
    {
     "name": "stderr",
     "output_type": "stream",
     "text": [
      "[2018-01-11 18:31:24,372] {<ipython-input-4-efd2929c73d3>:3} INFO - TEST INFO\n"
     ]
    },
    {
     "name": "stdout",
     "output_type": "stream",
     "text": [
      "time: 1.53 ms\n"
     ]
    }
   ],
   "source": [
    "# Test whether logging works:\n",
    "logger = logging.getLogger()\n",
    "logger.info('TEST INFO')"
   ]
  },
  {
   "cell_type": "code",
   "execution_count": 5,
   "metadata": {
    "collapsed": false
   },
   "outputs": [
    {
     "name": "stdout",
     "output_type": "stream",
     "text": [
      "time: 274 ms\n"
     ]
    }
   ],
   "source": [
    "aws_info = {\n",
    "    'profile_name': 'sandbox',\n",
    "}\n",
    "\n",
    "uids = s3.read_json('s3://picwell.sandbox.medicare/samples/philadelphia-2015-1k-sample')\n",
    "pids = ['2820028008119', '2820088001036']"
   ]
  },
  {
   "cell_type": "markdown",
   "metadata": {},
   "source": [
    "# Test ConfigInfo"
   ]
  },
  {
   "cell_type": "code",
   "execution_count": null,
   "metadata": {
    "collapsed": false
   },
   "outputs": [],
   "source": [
    "from lambda_client.config_info import ConfigInfo\n",
    "\n",
    "configs = ConfigInfo('lambda_client/lambda.cfg')\n",
    "\n",
    "print configs.claims_bucket\n",
    "print configs.claims_path\n",
    "print\n",
    "print configs.benefits_bucket\n",
    "print configs.benefits_path\n",
    "print\n",
    "print configs.claims_table"
   ]
  },
  {
   "cell_type": "code",
   "execution_count": null,
   "metadata": {
    "collapsed": false
   },
   "outputs": [],
   "source": [
    "all_states = configs.all_states\n",
    "\n",
    "print '{} states'.format(len(all_states))\n",
    "print all_states"
   ]
  },
  {
   "cell_type": "markdown",
   "metadata": {},
   "source": [
    "# Test ClaimsClient"
   ]
  },
  {
   "cell_type": "code",
   "execution_count": null,
   "metadata": {
    "collapsed": false
   },
   "outputs": [],
   "source": [
    "from lambda_client import ClaimsClient"
   ]
  },
  {
   "cell_type": "code",
   "execution_count": null,
   "metadata": {
    "collapsed": false
   },
   "outputs": [],
   "source": [
    "# Test S3:\n",
    "client = ClaimsClient(aws_info, \n",
    "                      s3_bucket=configs.claims_bucket,\n",
    "                      s3_path=configs.claims_path)\n",
    "\n",
    "people = client.get(uids[:1])\n",
    "print 'claims of {} people retrieved'.format(len(people))"
   ]
  },
  {
   "cell_type": "code",
   "execution_count": null,
   "metadata": {
    "collapsed": false
   },
   "outputs": [],
   "source": [
    "person = people[0]\n",
    "print person.keys()\n",
    "{\n",
    "    'uid': person['uid'],\n",
    "    'medical_claims': person['medical_claims'][:5]\n",
    "}"
   ]
  },
  {
   "cell_type": "code",
   "execution_count": null,
   "metadata": {
    "collapsed": false
   },
   "outputs": [],
   "source": [
    "# Test DynamoDB:\n",
    "client = ClaimsClient(aws_info,\n",
    "                      table_name=configs.claims_table)\n",
    "\n",
    "people = client.get(uids[:1])\n",
    "print 'claims of {} people retrieved'.format(len(people))"
   ]
  },
  {
   "cell_type": "code",
   "execution_count": null,
   "metadata": {
    "collapsed": false
   },
   "outputs": [],
   "source": [
    "# Test configuration file and retrieving multiple people:\n",
    "client = ClaimsClient(aws_info)\n",
    "\n",
    "people = client.get(uids[:5])\n",
    "print 'claims of {} people retrieved'.format(len(people))"
   ]
  },
  {
   "cell_type": "code",
   "execution_count": null,
   "metadata": {
    "collapsed": false
   },
   "outputs": [],
   "source": [
    "# Let's try something larger:\n",
    "people = client.get(uids)\n",
    "print 'claims of {} people retrieved'.format(len(people))"
   ]
  },
  {
   "cell_type": "code",
   "execution_count": null,
   "metadata": {
    "collapsed": false
   },
   "outputs": [],
   "source": [
    "# The object should not be pickled.\n",
    "with pytest.raises(Exception, match='ClaimsClient object cannot be pickled.'):\n",
    "    pickle.dumps(client)"
   ]
  },
  {
   "cell_type": "markdown",
   "metadata": {},
   "source": [
    "# Test BenefitsClient"
   ]
  },
  {
   "cell_type": "code",
   "execution_count": null,
   "metadata": {
    "collapsed": false
   },
   "outputs": [],
   "source": [
    "from lambda_client import BenefitsClient"
   ]
  },
  {
   "cell_type": "code",
   "execution_count": null,
   "metadata": {
    "collapsed": false
   },
   "outputs": [],
   "source": [
    "client = BenefitsClient(aws_info)\n",
    "\n",
    "print client.all_states"
   ]
  },
  {
   "cell_type": "code",
   "execution_count": null,
   "metadata": {
    "collapsed": false
   },
   "outputs": [],
   "source": [
    "plans = client._get_one_state('01')\n",
    "print '{} plans read for state 01'.format(len(plans))\n",
    "\n",
    "plans = client._get_one_state('04')\n",
    "print '{} plans read for state 04'.format(len(plans))"
   ]
  },
  {
   "cell_type": "code",
   "execution_count": null,
   "metadata": {
    "collapsed": false
   },
   "outputs": [],
   "source": [
    "plans = client.get_by_state(['01', '04'])\n",
    "print '{} plans read'.format(len(plans))"
   ]
  },
  {
   "cell_type": "code",
   "execution_count": null,
   "metadata": {
    "collapsed": false
   },
   "outputs": [],
   "source": [
    "plans = client.get_all()\n",
    "print '{} plans read'.format(len(plans))"
   ]
  },
  {
   "cell_type": "code",
   "execution_count": null,
   "metadata": {
    "collapsed": false
   },
   "outputs": [],
   "source": [
    "# Compare the timing against reading the entire file:\n",
    "from lambda_client.shared_utils import _read_json\n",
    "\n",
    "session = boto3.Session(**aws_info)\n",
    "resource = session.resource('s3')"
   ]
  },
  {
   "cell_type": "code",
   "execution_count": null,
   "metadata": {
    "collapsed": false
   },
   "outputs": [],
   "source": [
    "all_plans = _read_json('picwell.sandbox.medicare', 'ma_benefits/cms_2018_pbps_20171005.json', resource)\n",
    "\n",
    "print '{} plans read'.format(len(plans))"
   ]
  },
  {
   "cell_type": "code",
   "execution_count": null,
   "metadata": {
    "collapsed": false
   },
   "outputs": [],
   "source": [
    "# Ensure that the same plans are read:\n",
    "sort_key = lambda plan: plan['picwell_id']\n",
    "assert sorted(all_plans, key=sort_key) == sorted(plans, key=sort_key)"
   ]
  },
  {
   "cell_type": "code",
   "execution_count": null,
   "metadata": {
    "collapsed": false
   },
   "outputs": [],
   "source": [
    "# The object should not be pickled.\n",
    "with pytest.raises(Exception, match='BenefitsClient object cannot be pickled.'):\n",
    "    pickle.dumps(client)"
   ]
  },
  {
   "cell_type": "markdown",
   "metadata": {},
   "source": [
    "# Test Cost Breakdown"
   ]
  },
  {
   "cell_type": "code",
   "execution_count": 6,
   "metadata": {
    "collapsed": false
   },
   "outputs": [
    {
     "name": "stdout",
     "output_type": "stream",
     "text": [
      "time: 6.39 ms\n"
     ]
    }
   ],
   "source": [
    "from lambda_client import CalculatorClient\n",
    "\n",
    "client = CalculatorClient(aws_info)"
   ]
  },
  {
   "cell_type": "code",
   "execution_count": 8,
   "metadata": {
    "collapsed": false
   },
   "outputs": [
    {
     "name": "stdout",
     "output_type": "stream",
     "text": [
      "Cost breakdown complete (elapsed: 5.719041 seconds).\n",
      "2 responses returned\n"
     ]
    },
    {
     "data": {
      "text/plain": [
       "{u'allowed': 26376.640000000003,\n",
       " u'covered_breakdown': {u'categories': {u'0': 0.0,\n",
       "   u'11': 186.33999999999997,\n",
       "   u'13': 13.23,\n",
       "   u'15': 30.79,\n",
       "   u'16': 0.0,\n",
       "   u'19': 80.0,\n",
       "   u'25': 1750.0,\n",
       "   u'30': 719.1700000000001,\n",
       "   u'31': 300.0,\n",
       "   u'44': 0.0,\n",
       "   u'49': 118.48800000000001,\n",
       "   u'7': 479.558},\n",
       "  u'composite': 3677.5759999999996,\n",
       "  u'in_network': 3677.5759999999996,\n",
       "  u'out_network': 0.0},\n",
       " u'deductible_breakdown': {u'categories': {u'0': 0.0,\n",
       "   u'11': 0.0,\n",
       "   u'13': 0.0,\n",
       "   u'15': 0.0,\n",
       "   u'16': 0.0,\n",
       "   u'19': 0.0,\n",
       "   u'25': 0.0,\n",
       "   u'30': 0.0,\n",
       "   u'31': 0.0,\n",
       "   u'44': 0.0,\n",
       "   u'49': 0.0,\n",
       "   u'7': 0.0},\n",
       "  u'composite': 0.0,\n",
       "  u'in_network': 0.0,\n",
       "  u'out_network': 0.0},\n",
       " u'oop': 3677.5759999999996,\n",
       " u'picwell_id': u'2820028008119',\n",
       " u'uid': u'1302895801',\n",
       " u'uncovered': 0.0,\n",
       " u'uncovered_breakdown': {u'categories': {u'0': 0.0,\n",
       "   u'11': 0.0,\n",
       "   u'13': 0.0,\n",
       "   u'15': 0.0,\n",
       "   u'16': 0.0,\n",
       "   u'19': 0.0,\n",
       "   u'25': 0.0,\n",
       "   u'30': 0.0,\n",
       "   u'31': 0.0,\n",
       "   u'44': 0.0,\n",
       "   u'49': 0.0,\n",
       "   u'7': 0.0},\n",
       "  u'composite': 0.0,\n",
       "  u'in_network': 0.0,\n",
       "  u'out_network': 0.0}}"
      ]
     },
     "execution_count": 8,
     "metadata": {},
     "output_type": "execute_result"
    },
    {
     "name": "stdout",
     "output_type": "stream",
     "text": [
      "time: 5.9 s\n"
     ]
    }
   ],
   "source": [
    "responses = client.get_breakdown(uids[:1], pids, verbose=True)\n",
    "\n",
    "print '{} responses returned'.format(len(responses))\n",
    "responses[0]"
   ]
  },
  {
   "cell_type": "code",
   "execution_count": null,
   "metadata": {
    "collapsed": false
   },
   "outputs": [],
   "source": [
    "# It seems like\n",
    "#\n",
    "# (a) the time it takes to issue threads increases linearly; and\n",
    "# (b) the time it takes for the last thread to finish is about 5 seconds all the time. \n",
    "for num_people in range(2, 15):\n",
    "    start = datetime.datetime.now()\n",
    "    responses = client.get_breakdown(uids[:num_people], pids)\n",
    "    elapsed = (datetime.datetime.now() - start).total_seconds()\n",
    "\n",
    "    print '{} responses returned ({} seconds)'.format(len(responses), elapsed)"
   ]
  },
  {
   "cell_type": "code",
   "execution_count": 9,
   "metadata": {
    "collapsed": false
   },
   "outputs": [
    {
     "name": "stdout",
     "output_type": "stream",
     "text": [
      "Cost breakdown complete (elapsed: 26.209013 seconds).\n",
      "20 responses returned\n",
      "time: 26.5 s\n"
     ]
    }
   ],
   "source": [
    "# Test recursive call:\n",
    "responses = client.get_breakdown(uids[:10], pids, max_uids_to_calculate=10, verbose=True)\n",
    "\n",
    "print '{} responses returned'.format(len(responses))"
   ]
  },
  {
   "cell_type": "code",
   "execution_count": 14,
   "metadata": {
    "collapsed": false
   },
   "outputs": [
    {
     "name": "stdout",
     "output_type": "stream",
     "text": [
      "Cost breakdown complete (elapsed: 8.262491 seconds).\n",
      "20 responses returned\n",
      "time: 8.54 s\n"
     ]
    }
   ],
   "source": [
    "responses = client.get_breakdown(uids[:10], pids, max_uids_to_calculate=1, max_lambda_calls=3, verbose=True)\n",
    "\n",
    "print '{} responses returned'.format(len(responses))"
   ]
  },
  {
   "cell_type": "code",
   "execution_count": 27,
   "metadata": {
    "collapsed": false,
    "scrolled": true
   },
   "outputs": [
    {
     "name": "stdout",
     "output_type": "stream",
     "text": [
      "1988 responses returned\n",
      "time: 16.4 s\n"
     ]
    }
   ],
   "source": [
    "# Let's try something larger:\n",
    "responses = client.get_breakdown(uids, pids, max_uids_to_calculate=1, max_lambda_calls=10)\n",
    "\n",
    "print '{} responses returned'.format(len(responses))"
   ]
  },
  {
   "cell_type": "code",
   "execution_count": null,
   "metadata": {
    "collapsed": false
   },
   "outputs": [],
   "source": [
    "# Run calculcations locally for comparison:\n",
    "from lambda_package.calc.calculator import calculate_oop\n",
    "\n",
    "claims_client = ClaimsClient(aws_info)\n",
    "people = claims_client.get(uids)\n",
    "\n",
    "benefits_client = BenefitsClient(aws_info)\n",
    "plans = benefits_client.get_by_pid(pids)\n",
    "\n",
    "costs = []\n",
    "for person in people:\n",
    "    claims = person['medical_claims']\n",
    "    \n",
    "    for plan in plans:\n",
    "        cost = calculate_oop(claims, plan)\n",
    "        cost.update({\n",
    "            'uid': person['uid'],\n",
    "            'picwell_id': str(plan['picwell_id']),\n",
    "        })\n",
    "        \n",
    "        costs.append(cost)\n",
    "        \n",
    "print '{} costs calculated'.format(len(costs))"
   ]
  },
  {
   "cell_type": "code",
   "execution_count": 38,
   "metadata": {
    "collapsed": false
   },
   "outputs": [
    {
     "name": "stdout",
     "output_type": "stream",
     "text": [
      "584 responses returned\n",
      "time: 12.9 s\n"
     ]
    }
   ],
   "source": [
    "# Try a sample size more relevant to commercial:\n",
    "responses = client.get_breakdown(uids[:300], pids, max_uids_to_calculate=1, max_lambda_calls=10)\n",
    "\n",
    "print '{} responses returned'.format(len(responses))"
   ]
  },
  {
   "cell_type": "markdown",
   "metadata": {},
   "source": [
    "# Test Batch Calculation"
   ]
  },
  {
   "cell_type": "code",
   "execution_count": null,
   "metadata": {
    "collapsed": false
   },
   "outputs": [],
   "source": [
    "# uids = s3.read_json('s3n://picwell.sandbox.medicare/samples/philadelphia-2015')\n",
    "\n",
    "# print '{} uids read'.format(len(uids))"
   ]
  },
  {
   "cell_type": "code",
   "execution_count": null,
   "metadata": {
    "collapsed": false
   },
   "outputs": [],
   "source": [
    "# uids[:10]"
   ]
  },
  {
   "cell_type": "code",
   "execution_count": null,
   "metadata": {
    "collapsed": false
   },
   "outputs": [],
   "source": [
    "# requests_per_second = 100\n",
    "\n",
    "# for uid in uids:\n",
    "# #     client.calculate_async(uid, months=['01'])\n",
    "#     client.calculate_async(uid)\n",
    "#     time.sleep(1.0/requests_per_second)  "
   ]
  },
  {
   "cell_type": "code",
   "execution_count": null,
   "metadata": {
    "collapsed": true
   },
   "outputs": [],
   "source": []
  }
 ],
 "metadata": {
  "kernelspec": {
   "display_name": "Python 2",
   "language": "python",
   "name": "python2"
  },
  "language_info": {
   "codemirror_mode": {
    "name": "ipython",
    "version": 2
   },
   "file_extension": ".py",
   "mimetype": "text/x-python",
   "name": "python",
   "nbconvert_exporter": "python",
   "pygments_lexer": "ipython2",
   "version": "2.7.10"
  }
 },
 "nbformat": 4,
 "nbformat_minor": 0
}
