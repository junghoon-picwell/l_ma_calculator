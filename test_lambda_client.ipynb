{
 "cells": [
  {
   "cell_type": "code",
   "execution_count": 1,
   "metadata": {
    "collapsed": false
   },
   "outputs": [],
   "source": [
    "%load_ext autotime"
   ]
  },
  {
   "cell_type": "code",
   "execution_count": 2,
   "metadata": {
    "collapsed": false
   },
   "outputs": [
    {
     "data": {
      "text/plain": [
       "<module 'logging' from '/Library/Frameworks/Python.framework/Versions/2.7/lib/python2.7/logging/__init__.pyc'>"
      ]
     },
     "execution_count": 2,
     "metadata": {},
     "output_type": "execute_result"
    },
    {
     "name": "stdout",
     "output_type": "stream",
     "text": [
      "time: 837 ms\n"
     ]
    }
   ],
   "source": [
    "import boto3\n",
    "import logging\n",
    "import json\n",
    "import pickle\n",
    "import pytest\n",
    "import sys\n",
    "import time\n",
    "\n",
    "from etltools import s3\n",
    "\n",
    "reload(logging)  # get around notebook problem"
   ]
  },
  {
   "cell_type": "code",
   "execution_count": 3,
   "metadata": {
    "collapsed": false
   },
   "outputs": [
    {
     "name": "stdout",
     "output_type": "stream",
     "text": [
      "time: 1.37 ms\n"
     ]
    }
   ],
   "source": [
    "logging.basicConfig(\n",
    "    level=logging.INFO, \n",
    "    format='[%(asctime)s] {%(filename)s:%(lineno)d} %(levelname)s - %(message)s',\n",
    "#     handlers=[\n",
    "#         logging.FileHandler(filename='mylog.log', mode='w'),\n",
    "#         logging.StreamHandler(sys.stdout),\n",
    "#     ]\n",
    ")"
   ]
  },
  {
   "cell_type": "code",
   "execution_count": 4,
   "metadata": {
    "collapsed": false
   },
   "outputs": [
    {
     "name": "stderr",
     "output_type": "stream",
     "text": [
      "[2018-01-07 19:20:16,933] {<ipython-input-4-efd2929c73d3>:3} INFO - TEST INFO\n"
     ]
    },
    {
     "name": "stdout",
     "output_type": "stream",
     "text": [
      "time: 1.66 ms\n"
     ]
    }
   ],
   "source": [
    "# Test whether logging works:\n",
    "logger = logging.getLogger()\n",
    "logger.info('TEST INFO')"
   ]
  },
  {
   "cell_type": "code",
   "execution_count": 5,
   "metadata": {
    "collapsed": false
   },
   "outputs": [
    {
     "name": "stdout",
     "output_type": "stream",
     "text": [
      "time: 771 ms\n"
     ]
    }
   ],
   "source": [
    "aws_info = {\n",
    "    'profile_name': 'sandbox',\n",
    "}\n",
    "\n",
    "uids = s3.read_json('s3://picwell.sandbox.medicare/samples/philadelphia-2015-1k-sample')\n",
    "pids = ['2820028008119', '2820088001036']"
   ]
  },
  {
   "cell_type": "markdown",
   "metadata": {},
   "source": [
    "# Test ConfigInfo"
   ]
  },
  {
   "cell_type": "code",
   "execution_count": 6,
   "metadata": {
    "collapsed": false
   },
   "outputs": [
    {
     "name": "stdout",
     "output_type": "stream",
     "text": [
      "picwell.sandbox.analytics\n",
      "junghoon/lambda_calculator\n",
      "\n",
      "picwell.sandbox.analytics\n",
      "junghoon/lambda_calculator_benefits\n",
      "\n",
      "ma_claims\n",
      "time: 8.52 ms\n"
     ]
    }
   ],
   "source": [
    "from lambda_client.config_info import ConfigInfo\n",
    "\n",
    "configs = ConfigInfo('lambda_client/lambda.cfg')\n",
    "\n",
    "print configs.claims_bucket\n",
    "print configs.claims_path\n",
    "print\n",
    "print configs.benefits_bucket\n",
    "print configs.benefits_path\n",
    "print\n",
    "print configs.claims_table"
   ]
  },
  {
   "cell_type": "code",
   "execution_count": 7,
   "metadata": {
    "collapsed": false
   },
   "outputs": [
    {
     "name": "stdout",
     "output_type": "stream",
     "text": [
      "51 states\n",
      "['01', '04', '05', '06', '08', '09', '10', '11', '12', '13', '15', '16', '17', '18', '19', '20', '21', '22', '23', '24', '25', '26', '27', '28', '29', '30', '31', '32', '33', '34', '35', '36', '37', '38', '39', '40', '41', '42', '44', '45', '46', '47', '48', '49', '50', '51', '53', '54', '55', '56', '72']\n",
      "time: 1.16 ms\n"
     ]
    }
   ],
   "source": [
    "all_states = configs.all_states\n",
    "\n",
    "print '{} states'.format(len(all_states))\n",
    "print all_states"
   ]
  },
  {
   "cell_type": "markdown",
   "metadata": {},
   "source": [
    "# Test ClaimsClient"
   ]
  },
  {
   "cell_type": "code",
   "execution_count": 8,
   "metadata": {
    "collapsed": false
   },
   "outputs": [
    {
     "name": "stdout",
     "output_type": "stream",
     "text": [
      "time: 513 µs\n"
     ]
    }
   ],
   "source": [
    "from lambda_client import ClaimsClient"
   ]
  },
  {
   "cell_type": "code",
   "execution_count": 9,
   "metadata": {
    "collapsed": false
   },
   "outputs": [
    {
     "data": {
      "text/plain": [
       "{u'medical_claims': [{u'admitted': u'2014-04-03',\n",
       "   u'benefit_category': 16,\n",
       "   u'cost': u'148.0',\n",
       "   u'discharged': u'2014-04-03',\n",
       "   u'length_of_stay': 1},\n",
       "  {u'admitted': u'2014-05-02',\n",
       "   u'benefit_category': 16,\n",
       "   u'cost': u'74.55',\n",
       "   u'discharged': u'2014-05-02',\n",
       "   u'length_of_stay': 1},\n",
       "  {u'admitted': u'2014-05-05',\n",
       "   u'benefit_category': 16,\n",
       "   u'cost': u'104.39',\n",
       "   u'discharged': u'2014-05-05',\n",
       "   u'length_of_stay': 1},\n",
       "  {u'admitted': u'2014-05-13',\n",
       "   u'benefit_category': 16,\n",
       "   u'cost': u'210.12',\n",
       "   u'discharged': u'2014-05-13',\n",
       "   u'length_of_stay': 1},\n",
       "  {u'admitted': u'2014-05-19',\n",
       "   u'benefit_category': 11,\n",
       "   u'cost': u'442.2',\n",
       "   u'discharged': u'2014-05-19',\n",
       "   u'length_of_stay': 1},\n",
       "  {u'admitted': u'2014-06-10',\n",
       "   u'benefit_category': 11,\n",
       "   u'cost': u'16.92',\n",
       "   u'discharged': u'2014-06-10',\n",
       "   u'length_of_stay': 1},\n",
       "  {u'admitted': u'2014-06-10',\n",
       "   u'benefit_category': 16,\n",
       "   u'cost': u'207.11',\n",
       "   u'discharged': u'2014-06-10',\n",
       "   u'length_of_stay': 1},\n",
       "  {u'admitted': u'2014-06-19',\n",
       "   u'benefit_category': 11,\n",
       "   u'cost': u'195.28',\n",
       "   u'discharged': u'2014-06-19',\n",
       "   u'length_of_stay': 1},\n",
       "  {u'admitted': u'2014-06-24',\n",
       "   u'benefit_category': 11,\n",
       "   u'cost': u'227.63',\n",
       "   u'discharged': u'2014-06-24',\n",
       "   u'length_of_stay': 1},\n",
       "  {u'admitted': u'2014-07-29',\n",
       "   u'benefit_category': 15,\n",
       "   u'cost': u'31.52',\n",
       "   u'discharged': u'2014-07-29',\n",
       "   u'length_of_stay': 1},\n",
       "  {u'admitted': u'2014-07-29',\n",
       "   u'benefit_category': 16,\n",
       "   u'cost': u'144.79',\n",
       "   u'discharged': u'2014-07-29',\n",
       "   u'length_of_stay': 1},\n",
       "  {u'admitted': u'2014-08-14',\n",
       "   u'benefit_category': 7,\n",
       "   u'cost': u'0.0',\n",
       "   u'discharged': u'2014-08-14',\n",
       "   u'length_of_stay': 1},\n",
       "  {u'admitted': u'2014-08-14',\n",
       "   u'benefit_category': 11,\n",
       "   u'cost': u'3129.27',\n",
       "   u'discharged': u'2014-08-14',\n",
       "   u'length_of_stay': 1},\n",
       "  {u'admitted': u'2014-08-14',\n",
       "   u'benefit_category': 16,\n",
       "   u'cost': u'113.31',\n",
       "   u'discharged': u'2014-08-14',\n",
       "   u'length_of_stay': 1},\n",
       "  {u'admitted': u'2014-08-14',\n",
       "   u'benefit_category': 32,\n",
       "   u'cost': u'0.0',\n",
       "   u'discharged': u'2014-08-14',\n",
       "   u'length_of_stay': 1},\n",
       "  {u'admitted': u'2014-08-14',\n",
       "   u'benefit_category': 49,\n",
       "   u'cost': u'0.0',\n",
       "   u'discharged': u'2014-08-14',\n",
       "   u'length_of_stay': 1},\n",
       "  {u'admitted': u'2014-08-19',\n",
       "   u'benefit_category': 16,\n",
       "   u'cost': u'80.21',\n",
       "   u'discharged': u'2014-08-19',\n",
       "   u'length_of_stay': 1},\n",
       "  {u'admitted': u'2014-09-09',\n",
       "   u'benefit_category': 11,\n",
       "   u'cost': u'30.82',\n",
       "   u'discharged': u'2014-09-09',\n",
       "   u'length_of_stay': 1},\n",
       "  {u'admitted': u'2014-09-09',\n",
       "   u'benefit_category': 15,\n",
       "   u'cost': u'11.26',\n",
       "   u'discharged': u'2014-09-09',\n",
       "   u'length_of_stay': 1},\n",
       "  {u'admitted': u'2014-09-09',\n",
       "   u'benefit_category': 25,\n",
       "   u'cost': u'37533.64',\n",
       "   u'discharged': u'2014-09-15',\n",
       "   u'length_of_stay': 6},\n",
       "  {u'admitted': u'2014-09-16',\n",
       "   u'benefit_category': 44,\n",
       "   u'cost': u'171.03',\n",
       "   u'discharged': u'2014-09-16',\n",
       "   u'length_of_stay': 1},\n",
       "  {u'admitted': u'2014-09-24',\n",
       "   u'benefit_category': 44,\n",
       "   u'cost': u'106.98',\n",
       "   u'discharged': u'2014-09-24',\n",
       "   u'length_of_stay': 1},\n",
       "  {u'admitted': u'2014-10-01',\n",
       "   u'benefit_category': 11,\n",
       "   u'cost': u'17.2',\n",
       "   u'discharged': u'2014-10-01',\n",
       "   u'length_of_stay': 1},\n",
       "  {u'admitted': u'2014-10-01',\n",
       "   u'benefit_category': 16,\n",
       "   u'cost': u'109.95',\n",
       "   u'discharged': u'2014-10-01',\n",
       "   u'length_of_stay': 1},\n",
       "  {u'admitted': u'2014-10-08',\n",
       "   u'benefit_category': 11,\n",
       "   u'cost': u'236.48',\n",
       "   u'discharged': u'2014-10-08',\n",
       "   u'length_of_stay': 1},\n",
       "  {u'admitted': u'2014-10-17',\n",
       "   u'benefit_category': 16,\n",
       "   u'cost': u'25.34',\n",
       "   u'discharged': u'2014-10-17',\n",
       "   u'length_of_stay': 1},\n",
       "  {u'admitted': u'2014-10-20',\n",
       "   u'benefit_category': 16,\n",
       "   u'cost': u'25.34',\n",
       "   u'discharged': u'2014-10-20',\n",
       "   u'length_of_stay': 1},\n",
       "  {u'admitted': u'2014-10-22',\n",
       "   u'benefit_category': 16,\n",
       "   u'cost': u'25.34',\n",
       "   u'discharged': u'2014-10-22',\n",
       "   u'length_of_stay': 1},\n",
       "  {u'admitted': u'2014-10-24',\n",
       "   u'benefit_category': 16,\n",
       "   u'cost': u'25.34',\n",
       "   u'discharged': u'2014-10-24',\n",
       "   u'length_of_stay': 1},\n",
       "  {u'admitted': u'2014-10-27',\n",
       "   u'benefit_category': 16,\n",
       "   u'cost': u'25.34',\n",
       "   u'discharged': u'2014-10-27',\n",
       "   u'length_of_stay': 1},\n",
       "  {u'admitted': u'2014-10-29',\n",
       "   u'benefit_category': 11,\n",
       "   u'cost': u'77.96',\n",
       "   u'discharged': u'2014-10-29',\n",
       "   u'length_of_stay': 1},\n",
       "  {u'admitted': u'2014-10-31',\n",
       "   u'benefit_category': 16,\n",
       "   u'cost': u'25.34',\n",
       "   u'discharged': u'2014-10-31',\n",
       "   u'length_of_stay': 1},\n",
       "  {u'admitted': u'2014-11-03',\n",
       "   u'benefit_category': 16,\n",
       "   u'cost': u'25.34',\n",
       "   u'discharged': u'2014-11-03',\n",
       "   u'length_of_stay': 1},\n",
       "  {u'admitted': u'2014-11-05',\n",
       "   u'benefit_category': 16,\n",
       "   u'cost': u'25.34',\n",
       "   u'discharged': u'2014-11-05',\n",
       "   u'length_of_stay': 1},\n",
       "  {u'admitted': u'2014-11-07',\n",
       "   u'benefit_category': 16,\n",
       "   u'cost': u'25.34',\n",
       "   u'discharged': u'2014-11-07',\n",
       "   u'length_of_stay': 1},\n",
       "  {u'admitted': u'2014-11-10',\n",
       "   u'benefit_category': 16,\n",
       "   u'cost': u'25.34',\n",
       "   u'discharged': u'2014-11-10',\n",
       "   u'length_of_stay': 1},\n",
       "  {u'admitted': u'2014-11-12',\n",
       "   u'benefit_category': 16,\n",
       "   u'cost': u'25.34',\n",
       "   u'discharged': u'2014-11-12',\n",
       "   u'length_of_stay': 1},\n",
       "  {u'admitted': u'2014-11-14',\n",
       "   u'benefit_category': 16,\n",
       "   u'cost': u'25.34',\n",
       "   u'discharged': u'2014-11-14',\n",
       "   u'length_of_stay': 1},\n",
       "  {u'admitted': u'2014-11-17',\n",
       "   u'benefit_category': 16,\n",
       "   u'cost': u'25.34',\n",
       "   u'discharged': u'2014-11-17',\n",
       "   u'length_of_stay': 1},\n",
       "  {u'admitted': u'2014-11-19',\n",
       "   u'benefit_category': 16,\n",
       "   u'cost': u'25.34',\n",
       "   u'discharged': u'2014-11-19',\n",
       "   u'length_of_stay': 1},\n",
       "  {u'admitted': u'2014-11-21',\n",
       "   u'benefit_category': 16,\n",
       "   u'cost': u'25.34',\n",
       "   u'discharged': u'2014-11-21',\n",
       "   u'length_of_stay': 1},\n",
       "  {u'admitted': u'2014-12-03',\n",
       "   u'benefit_category': 16,\n",
       "   u'cost': u'25.34',\n",
       "   u'discharged': u'2014-12-03',\n",
       "   u'length_of_stay': 1},\n",
       "  {u'admitted': u'2014-12-05',\n",
       "   u'benefit_category': 16,\n",
       "   u'cost': u'25.34',\n",
       "   u'discharged': u'2014-12-05',\n",
       "   u'length_of_stay': 1},\n",
       "  {u'admitted': u'2014-12-08',\n",
       "   u'benefit_category': 16,\n",
       "   u'cost': u'25.34',\n",
       "   u'discharged': u'2014-12-08',\n",
       "   u'length_of_stay': 1},\n",
       "  {u'admitted': u'2014-12-10',\n",
       "   u'benefit_category': 16,\n",
       "   u'cost': u'25.34',\n",
       "   u'discharged': u'2014-12-10',\n",
       "   u'length_of_stay': 1},\n",
       "  {u'admitted': u'2014-12-12',\n",
       "   u'benefit_category': 16,\n",
       "   u'cost': u'25.34',\n",
       "   u'discharged': u'2014-12-12',\n",
       "   u'length_of_stay': 1},\n",
       "  {u'admitted': u'2014-12-15',\n",
       "   u'benefit_category': 16,\n",
       "   u'cost': u'25.34',\n",
       "   u'discharged': u'2014-12-15',\n",
       "   u'length_of_stay': 1},\n",
       "  {u'admitted': u'2014-12-17',\n",
       "   u'benefit_category': 16,\n",
       "   u'cost': u'25.34',\n",
       "   u'discharged': u'2014-12-17',\n",
       "   u'length_of_stay': 1},\n",
       "  {u'admitted': u'2014-12-19',\n",
       "   u'benefit_category': 16,\n",
       "   u'cost': u'25.34',\n",
       "   u'discharged': u'2014-12-19',\n",
       "   u'length_of_stay': 1},\n",
       "  {u'admitted': u'2014-12-29',\n",
       "   u'benefit_category': 16,\n",
       "   u'cost': u'25.34',\n",
       "   u'discharged': u'2014-12-29',\n",
       "   u'length_of_stay': 1},\n",
       "  {u'admitted': u'2014-12-30',\n",
       "   u'benefit_category': 16,\n",
       "   u'cost': u'25.34',\n",
       "   u'discharged': u'2014-12-30',\n",
       "   u'length_of_stay': 1},\n",
       "  {u'admitted': u'2015-01-02',\n",
       "   u'benefit_category': 16,\n",
       "   u'cost': u'26.02',\n",
       "   u'discharged': u'2015-01-02',\n",
       "   u'length_of_stay': 1},\n",
       "  {u'admitted': u'2015-01-05',\n",
       "   u'benefit_category': 16,\n",
       "   u'cost': u'26.02',\n",
       "   u'discharged': u'2015-01-05',\n",
       "   u'length_of_stay': 1},\n",
       "  {u'admitted': u'2015-01-07',\n",
       "   u'benefit_category': 16,\n",
       "   u'cost': u'26.02',\n",
       "   u'discharged': u'2015-01-07',\n",
       "   u'length_of_stay': 1},\n",
       "  {u'admitted': u'2015-01-09',\n",
       "   u'benefit_category': 11,\n",
       "   u'cost': u'78.82',\n",
       "   u'discharged': u'2015-01-09',\n",
       "   u'length_of_stay': 1},\n",
       "  {u'admitted': u'2015-01-12',\n",
       "   u'benefit_category': 16,\n",
       "   u'cost': u'26.02',\n",
       "   u'discharged': u'2015-01-12',\n",
       "   u'length_of_stay': 1},\n",
       "  {u'admitted': u'2015-01-14',\n",
       "   u'benefit_category': 16,\n",
       "   u'cost': u'26.02',\n",
       "   u'discharged': u'2015-01-14',\n",
       "   u'length_of_stay': 1},\n",
       "  {u'admitted': u'2015-01-16',\n",
       "   u'benefit_category': 16,\n",
       "   u'cost': u'26.02',\n",
       "   u'discharged': u'2015-01-16',\n",
       "   u'length_of_stay': 1},\n",
       "  {u'admitted': u'2015-01-19',\n",
       "   u'benefit_category': 16,\n",
       "   u'cost': u'26.02',\n",
       "   u'discharged': u'2015-01-19',\n",
       "   u'length_of_stay': 1},\n",
       "  {u'admitted': u'2015-01-21',\n",
       "   u'benefit_category': 16,\n",
       "   u'cost': u'26.02',\n",
       "   u'discharged': u'2015-01-21',\n",
       "   u'length_of_stay': 1},\n",
       "  {u'admitted': u'2015-01-23',\n",
       "   u'benefit_category': 16,\n",
       "   u'cost': u'26.02',\n",
       "   u'discharged': u'2015-01-23',\n",
       "   u'length_of_stay': 1},\n",
       "  {u'admitted': u'2015-01-28',\n",
       "   u'benefit_category': 16,\n",
       "   u'cost': u'110.86',\n",
       "   u'discharged': u'2015-01-28',\n",
       "   u'length_of_stay': 1},\n",
       "  {u'admitted': u'2015-05-14',\n",
       "   u'benefit_category': 15,\n",
       "   u'cost': u'30.79',\n",
       "   u'discharged': u'2015-05-14',\n",
       "   u'length_of_stay': 1},\n",
       "  {u'admitted': u'2015-05-14',\n",
       "   u'benefit_category': 16,\n",
       "   u'cost': u'110.07',\n",
       "   u'discharged': u'2015-05-14',\n",
       "   u'length_of_stay': 1},\n",
       "  {u'admitted': u'2015-05-15',\n",
       "   u'benefit_category': 16,\n",
       "   u'cost': u'17.46',\n",
       "   u'discharged': u'2015-05-15',\n",
       "   u'length_of_stay': 1},\n",
       "  {u'admitted': u'2015-05-19',\n",
       "   u'benefit_category': 11,\n",
       "   u'cost': u'89.82',\n",
       "   u'discharged': u'2015-05-19',\n",
       "   u'length_of_stay': 1},\n",
       "  {u'admitted': u'2015-06-02',\n",
       "   u'benefit_category': 31,\n",
       "   u'cost': u'2665.45',\n",
       "   u'discharged': u'2015-06-02',\n",
       "   u'length_of_stay': 1},\n",
       "  {u'admitted': u'2015-06-08',\n",
       "   u'benefit_category': 7,\n",
       "   u'cost': u'230.27',\n",
       "   u'discharged': u'2015-06-08',\n",
       "   u'length_of_stay': 1},\n",
       "  {u'admitted': u'2015-06-08',\n",
       "   u'benefit_category': 30,\n",
       "   u'cost': u'39.17',\n",
       "   u'discharged': u'2015-06-08',\n",
       "   u'length_of_stay': 1},\n",
       "  {u'admitted': u'2015-06-16',\n",
       "   u'benefit_category': 16,\n",
       "   u'cost': u'0.0',\n",
       "   u'discharged': u'2015-06-16',\n",
       "   u'length_of_stay': 1},\n",
       "  {u'admitted': u'2015-06-16',\n",
       "   u'benefit_category': 30,\n",
       "   u'cost': u'161.39',\n",
       "   u'discharged': u'2015-06-16',\n",
       "   u'length_of_stay': 1},\n",
       "  {u'admitted': u'2015-06-18',\n",
       "   u'benefit_category': 30,\n",
       "   u'cost': u'82.85',\n",
       "   u'discharged': u'2015-06-18',\n",
       "   u'length_of_stay': 1},\n",
       "  {u'admitted': u'2015-06-19',\n",
       "   u'benefit_category': 30,\n",
       "   u'cost': u'82.85',\n",
       "   u'discharged': u'2015-06-19',\n",
       "   u'length_of_stay': 1},\n",
       "  {u'admitted': u'2015-06-22',\n",
       "   u'benefit_category': 30,\n",
       "   u'cost': u'82.85',\n",
       "   u'discharged': u'2015-06-22',\n",
       "   u'length_of_stay': 1},\n",
       "  {u'admitted': u'2015-06-26',\n",
       "   u'benefit_category': 30,\n",
       "   u'cost': u'81.77',\n",
       "   u'discharged': u'2015-06-26',\n",
       "   u'length_of_stay': 1},\n",
       "  {u'admitted': u'2015-06-29',\n",
       "   u'benefit_category': 30,\n",
       "   u'cost': u'81.77',\n",
       "   u'discharged': u'2015-06-29',\n",
       "   u'length_of_stay': 1},\n",
       "  {u'admitted': u'2015-06-30',\n",
       "   u'benefit_category': 30,\n",
       "   u'cost': u'81.77',\n",
       "   u'discharged': u'2015-06-30',\n",
       "   u'length_of_stay': 1},\n",
       "  {u'admitted': u'2015-07-02',\n",
       "   u'benefit_category': 30,\n",
       "   u'cost': u'82.17',\n",
       "   u'discharged': u'2015-07-02',\n",
       "   u'length_of_stay': 1},\n",
       "  {u'admitted': u'2015-07-07',\n",
       "   u'benefit_category': 16,\n",
       "   u'cost': u'0.0',\n",
       "   u'discharged': u'2015-07-07',\n",
       "   u'length_of_stay': 1},\n",
       "  {u'admitted': u'2015-07-07',\n",
       "   u'benefit_category': 30,\n",
       "   u'cost': u'82.17',\n",
       "   u'discharged': u'2015-07-07',\n",
       "   u'length_of_stay': 1},\n",
       "  {u'admitted': u'2015-07-09',\n",
       "   u'benefit_category': 30,\n",
       "   u'cost': u'82.17',\n",
       "   u'discharged': u'2015-07-09',\n",
       "   u'length_of_stay': 1},\n",
       "  {u'admitted': u'2015-07-13',\n",
       "   u'benefit_category': 30,\n",
       "   u'cost': u'82.17',\n",
       "   u'discharged': u'2015-07-13',\n",
       "   u'length_of_stay': 1},\n",
       "  {u'admitted': u'2015-07-16',\n",
       "   u'benefit_category': 30,\n",
       "   u'cost': u'82.17',\n",
       "   u'discharged': u'2015-07-16',\n",
       "   u'length_of_stay': 1},\n",
       "  {u'admitted': u'2015-07-20',\n",
       "   u'benefit_category': 30,\n",
       "   u'cost': u'82.17',\n",
       "   u'discharged': u'2015-07-20',\n",
       "   u'length_of_stay': 1},\n",
       "  {u'admitted': u'2015-07-23',\n",
       "   u'benefit_category': 30,\n",
       "   u'cost': u'82.17',\n",
       "   u'discharged': u'2015-07-23',\n",
       "   u'length_of_stay': 1},\n",
       "  {u'admitted': u'2015-07-27',\n",
       "   u'benefit_category': 30,\n",
       "   u'cost': u'82.17',\n",
       "   u'discharged': u'2015-07-27',\n",
       "   u'length_of_stay': 1},\n",
       "  {u'admitted': u'2015-07-30',\n",
       "   u'benefit_category': 30,\n",
       "   u'cost': u'82.17',\n",
       "   u'discharged': u'2015-07-30',\n",
       "   u'length_of_stay': 1},\n",
       "  {u'admitted': u'2015-08-03',\n",
       "   u'benefit_category': 16,\n",
       "   u'cost': u'0.0',\n",
       "   u'discharged': u'2015-08-03',\n",
       "   u'length_of_stay': 1},\n",
       "  {u'admitted': u'2015-08-03',\n",
       "   u'benefit_category': 30,\n",
       "   u'cost': u'84.75',\n",
       "   u'discharged': u'2015-08-03',\n",
       "   u'length_of_stay': 1},\n",
       "  {u'admitted': u'2015-08-10',\n",
       "   u'benefit_category': 16,\n",
       "   u'cost': u'310.78',\n",
       "   u'discharged': u'2015-08-10',\n",
       "   u'length_of_stay': 1},\n",
       "  {u'admitted': u'2015-09-01',\n",
       "   u'benefit_category': 16,\n",
       "   u'cost': u'124.5',\n",
       "   u'discharged': u'2015-09-01',\n",
       "   u'length_of_stay': 1},\n",
       "  {u'admitted': u'2015-10-16',\n",
       "   u'benefit_category': 25,\n",
       "   u'cost': u'16670.85',\n",
       "   u'discharged': u'2015-10-27',\n",
       "   u'length_of_stay': 11},\n",
       "  {u'admitted': u'2015-10-27',\n",
       "   u'benefit_category': 7,\n",
       "   u'cost': u'167.52',\n",
       "   u'discharged': u'2015-10-27',\n",
       "   u'length_of_stay': 1},\n",
       "  {u'admitted': u'2015-10-29',\n",
       "   u'benefit_category': 11,\n",
       "   u'cost': u'17.7',\n",
       "   u'discharged': u'2015-10-29',\n",
       "   u'length_of_stay': 1},\n",
       "  {u'admitted': u'2015-10-29',\n",
       "   u'benefit_category': 13,\n",
       "   u'cost': u'3.23',\n",
       "   u'discharged': u'2015-10-29',\n",
       "   u'length_of_stay': 1},\n",
       "  {u'admitted': u'2015-10-29',\n",
       "   u'benefit_category': 16,\n",
       "   u'cost': u'239.08',\n",
       "   u'discharged': u'2015-10-29',\n",
       "   u'length_of_stay': 1},\n",
       "  {u'admitted': u'2015-10-29',\n",
       "   u'benefit_category': 18,\n",
       "   u'cost': u'122.07',\n",
       "   u'discharged': u'2015-10-29',\n",
       "   u'length_of_stay': 1},\n",
       "  {u'admitted': u'2015-10-29',\n",
       "   u'benefit_category': 44,\n",
       "   u'cost': u'658.33',\n",
       "   u'discharged': u'2015-11-02',\n",
       "   u'length_of_stay': 4},\n",
       "  {u'admitted': u'2015-11-03',\n",
       "   u'benefit_category': 16,\n",
       "   u'cost': u'150.38',\n",
       "   u'discharged': u'2015-11-03',\n",
       "   u'length_of_stay': 1},\n",
       "  {u'admitted': u'2015-11-10',\n",
       "   u'benefit_category': 49,\n",
       "   u'cost': u'592.44',\n",
       "   u'discharged': u'2015-11-10',\n",
       "   u'length_of_stay': 1},\n",
       "  {u'admitted': u'2015-12-03',\n",
       "   u'benefit_category': 13,\n",
       "   u'cost': u'233.34',\n",
       "   u'discharged': u'2015-12-03',\n",
       "   u'length_of_stay': 1},\n",
       "  {u'admitted': u'2015-12-21',\n",
       "   u'benefit_category': 0,\n",
       "   u'cost': u'0.0',\n",
       "   u'discharged': u'2015-12-21',\n",
       "   u'length_of_stay': 1},\n",
       "  {u'admitted': u'2015-12-21',\n",
       "   u'benefit_category': 7,\n",
       "   u'cost': u'2000.0',\n",
       "   u'discharged': u'2015-12-21',\n",
       "   u'length_of_stay': 1}],\n",
       " u'uid': u'1302895801'}"
      ]
     },
     "execution_count": 9,
     "metadata": {},
     "output_type": "execute_result"
    },
    {
     "name": "stdout",
     "output_type": "stream",
     "text": [
      "time: 319 ms\n"
     ]
    }
   ],
   "source": [
    "# Test S3:\n",
    "client = ClaimsClient(aws_info, \n",
    "                      s3_bucket=configs.claims_bucket,\n",
    "                      s3_path=configs.claims_path)\n",
    "\n",
    "client.get(uids[0])"
   ]
  },
  {
   "cell_type": "code",
   "execution_count": 10,
   "metadata": {
    "collapsed": false
   },
   "outputs": [
    {
     "data": {
      "text/plain": [
       "{u'medical_claims': [{u'admitted': u'2014-04-03',\n",
       "   u'benefit_category': Decimal('16'),\n",
       "   u'cost': u'148.0',\n",
       "   u'discharged': u'2014-04-03',\n",
       "   u'length_of_stay': Decimal('1')},\n",
       "  {u'admitted': u'2014-05-02',\n",
       "   u'benefit_category': Decimal('16'),\n",
       "   u'cost': u'74.55',\n",
       "   u'discharged': u'2014-05-02',\n",
       "   u'length_of_stay': Decimal('1')},\n",
       "  {u'admitted': u'2014-05-05',\n",
       "   u'benefit_category': Decimal('16'),\n",
       "   u'cost': u'104.39',\n",
       "   u'discharged': u'2014-05-05',\n",
       "   u'length_of_stay': Decimal('1')},\n",
       "  {u'admitted': u'2014-05-13',\n",
       "   u'benefit_category': Decimal('16'),\n",
       "   u'cost': u'210.12',\n",
       "   u'discharged': u'2014-05-13',\n",
       "   u'length_of_stay': Decimal('1')},\n",
       "  {u'admitted': u'2014-05-19',\n",
       "   u'benefit_category': Decimal('11'),\n",
       "   u'cost': u'442.2',\n",
       "   u'discharged': u'2014-05-19',\n",
       "   u'length_of_stay': Decimal('1')},\n",
       "  {u'admitted': u'2014-06-10',\n",
       "   u'benefit_category': Decimal('11'),\n",
       "   u'cost': u'16.92',\n",
       "   u'discharged': u'2014-06-10',\n",
       "   u'length_of_stay': Decimal('1')},\n",
       "  {u'admitted': u'2014-06-10',\n",
       "   u'benefit_category': Decimal('16'),\n",
       "   u'cost': u'207.11',\n",
       "   u'discharged': u'2014-06-10',\n",
       "   u'length_of_stay': Decimal('1')},\n",
       "  {u'admitted': u'2014-06-19',\n",
       "   u'benefit_category': Decimal('11'),\n",
       "   u'cost': u'195.28',\n",
       "   u'discharged': u'2014-06-19',\n",
       "   u'length_of_stay': Decimal('1')},\n",
       "  {u'admitted': u'2014-06-24',\n",
       "   u'benefit_category': Decimal('11'),\n",
       "   u'cost': u'227.63',\n",
       "   u'discharged': u'2014-06-24',\n",
       "   u'length_of_stay': Decimal('1')},\n",
       "  {u'admitted': u'2014-07-29',\n",
       "   u'benefit_category': Decimal('15'),\n",
       "   u'cost': u'31.52',\n",
       "   u'discharged': u'2014-07-29',\n",
       "   u'length_of_stay': Decimal('1')},\n",
       "  {u'admitted': u'2014-07-29',\n",
       "   u'benefit_category': Decimal('16'),\n",
       "   u'cost': u'144.79',\n",
       "   u'discharged': u'2014-07-29',\n",
       "   u'length_of_stay': Decimal('1')},\n",
       "  {u'admitted': u'2014-08-14',\n",
       "   u'benefit_category': Decimal('7'),\n",
       "   u'cost': u'0.0',\n",
       "   u'discharged': u'2014-08-14',\n",
       "   u'length_of_stay': Decimal('1')},\n",
       "  {u'admitted': u'2014-08-14',\n",
       "   u'benefit_category': Decimal('11'),\n",
       "   u'cost': u'3129.27',\n",
       "   u'discharged': u'2014-08-14',\n",
       "   u'length_of_stay': Decimal('1')},\n",
       "  {u'admitted': u'2014-08-14',\n",
       "   u'benefit_category': Decimal('16'),\n",
       "   u'cost': u'113.31',\n",
       "   u'discharged': u'2014-08-14',\n",
       "   u'length_of_stay': Decimal('1')},\n",
       "  {u'admitted': u'2014-08-14',\n",
       "   u'benefit_category': Decimal('32'),\n",
       "   u'cost': u'0.0',\n",
       "   u'discharged': u'2014-08-14',\n",
       "   u'length_of_stay': Decimal('1')},\n",
       "  {u'admitted': u'2014-08-14',\n",
       "   u'benefit_category': Decimal('49'),\n",
       "   u'cost': u'0.0',\n",
       "   u'discharged': u'2014-08-14',\n",
       "   u'length_of_stay': Decimal('1')},\n",
       "  {u'admitted': u'2014-08-19',\n",
       "   u'benefit_category': Decimal('16'),\n",
       "   u'cost': u'80.21',\n",
       "   u'discharged': u'2014-08-19',\n",
       "   u'length_of_stay': Decimal('1')},\n",
       "  {u'admitted': u'2014-09-09',\n",
       "   u'benefit_category': Decimal('11'),\n",
       "   u'cost': u'30.82',\n",
       "   u'discharged': u'2014-09-09',\n",
       "   u'length_of_stay': Decimal('1')},\n",
       "  {u'admitted': u'2014-09-09',\n",
       "   u'benefit_category': Decimal('15'),\n",
       "   u'cost': u'11.26',\n",
       "   u'discharged': u'2014-09-09',\n",
       "   u'length_of_stay': Decimal('1')},\n",
       "  {u'admitted': u'2014-09-09',\n",
       "   u'benefit_category': Decimal('25'),\n",
       "   u'cost': u'37533.64',\n",
       "   u'discharged': u'2014-09-15',\n",
       "   u'length_of_stay': Decimal('6')},\n",
       "  {u'admitted': u'2014-09-16',\n",
       "   u'benefit_category': Decimal('44'),\n",
       "   u'cost': u'171.03',\n",
       "   u'discharged': u'2014-09-16',\n",
       "   u'length_of_stay': Decimal('1')},\n",
       "  {u'admitted': u'2014-09-24',\n",
       "   u'benefit_category': Decimal('44'),\n",
       "   u'cost': u'106.98',\n",
       "   u'discharged': u'2014-09-24',\n",
       "   u'length_of_stay': Decimal('1')},\n",
       "  {u'admitted': u'2014-10-01',\n",
       "   u'benefit_category': Decimal('11'),\n",
       "   u'cost': u'17.2',\n",
       "   u'discharged': u'2014-10-01',\n",
       "   u'length_of_stay': Decimal('1')},\n",
       "  {u'admitted': u'2014-10-01',\n",
       "   u'benefit_category': Decimal('16'),\n",
       "   u'cost': u'109.95',\n",
       "   u'discharged': u'2014-10-01',\n",
       "   u'length_of_stay': Decimal('1')},\n",
       "  {u'admitted': u'2014-10-08',\n",
       "   u'benefit_category': Decimal('11'),\n",
       "   u'cost': u'236.48',\n",
       "   u'discharged': u'2014-10-08',\n",
       "   u'length_of_stay': Decimal('1')},\n",
       "  {u'admitted': u'2014-10-17',\n",
       "   u'benefit_category': Decimal('16'),\n",
       "   u'cost': u'25.34',\n",
       "   u'discharged': u'2014-10-17',\n",
       "   u'length_of_stay': Decimal('1')},\n",
       "  {u'admitted': u'2014-10-20',\n",
       "   u'benefit_category': Decimal('16'),\n",
       "   u'cost': u'25.34',\n",
       "   u'discharged': u'2014-10-20',\n",
       "   u'length_of_stay': Decimal('1')},\n",
       "  {u'admitted': u'2014-10-22',\n",
       "   u'benefit_category': Decimal('16'),\n",
       "   u'cost': u'25.34',\n",
       "   u'discharged': u'2014-10-22',\n",
       "   u'length_of_stay': Decimal('1')},\n",
       "  {u'admitted': u'2014-10-24',\n",
       "   u'benefit_category': Decimal('16'),\n",
       "   u'cost': u'25.34',\n",
       "   u'discharged': u'2014-10-24',\n",
       "   u'length_of_stay': Decimal('1')},\n",
       "  {u'admitted': u'2014-10-27',\n",
       "   u'benefit_category': Decimal('16'),\n",
       "   u'cost': u'25.34',\n",
       "   u'discharged': u'2014-10-27',\n",
       "   u'length_of_stay': Decimal('1')},\n",
       "  {u'admitted': u'2014-10-29',\n",
       "   u'benefit_category': Decimal('11'),\n",
       "   u'cost': u'77.96',\n",
       "   u'discharged': u'2014-10-29',\n",
       "   u'length_of_stay': Decimal('1')},\n",
       "  {u'admitted': u'2014-10-31',\n",
       "   u'benefit_category': Decimal('16'),\n",
       "   u'cost': u'25.34',\n",
       "   u'discharged': u'2014-10-31',\n",
       "   u'length_of_stay': Decimal('1')},\n",
       "  {u'admitted': u'2014-11-03',\n",
       "   u'benefit_category': Decimal('16'),\n",
       "   u'cost': u'25.34',\n",
       "   u'discharged': u'2014-11-03',\n",
       "   u'length_of_stay': Decimal('1')},\n",
       "  {u'admitted': u'2014-11-05',\n",
       "   u'benefit_category': Decimal('16'),\n",
       "   u'cost': u'25.34',\n",
       "   u'discharged': u'2014-11-05',\n",
       "   u'length_of_stay': Decimal('1')},\n",
       "  {u'admitted': u'2014-11-07',\n",
       "   u'benefit_category': Decimal('16'),\n",
       "   u'cost': u'25.34',\n",
       "   u'discharged': u'2014-11-07',\n",
       "   u'length_of_stay': Decimal('1')},\n",
       "  {u'admitted': u'2014-11-10',\n",
       "   u'benefit_category': Decimal('16'),\n",
       "   u'cost': u'25.34',\n",
       "   u'discharged': u'2014-11-10',\n",
       "   u'length_of_stay': Decimal('1')},\n",
       "  {u'admitted': u'2014-11-12',\n",
       "   u'benefit_category': Decimal('16'),\n",
       "   u'cost': u'25.34',\n",
       "   u'discharged': u'2014-11-12',\n",
       "   u'length_of_stay': Decimal('1')},\n",
       "  {u'admitted': u'2014-11-14',\n",
       "   u'benefit_category': Decimal('16'),\n",
       "   u'cost': u'25.34',\n",
       "   u'discharged': u'2014-11-14',\n",
       "   u'length_of_stay': Decimal('1')},\n",
       "  {u'admitted': u'2014-11-17',\n",
       "   u'benefit_category': Decimal('16'),\n",
       "   u'cost': u'25.34',\n",
       "   u'discharged': u'2014-11-17',\n",
       "   u'length_of_stay': Decimal('1')},\n",
       "  {u'admitted': u'2014-11-19',\n",
       "   u'benefit_category': Decimal('16'),\n",
       "   u'cost': u'25.34',\n",
       "   u'discharged': u'2014-11-19',\n",
       "   u'length_of_stay': Decimal('1')},\n",
       "  {u'admitted': u'2014-11-21',\n",
       "   u'benefit_category': Decimal('16'),\n",
       "   u'cost': u'25.34',\n",
       "   u'discharged': u'2014-11-21',\n",
       "   u'length_of_stay': Decimal('1')},\n",
       "  {u'admitted': u'2014-12-03',\n",
       "   u'benefit_category': Decimal('16'),\n",
       "   u'cost': u'25.34',\n",
       "   u'discharged': u'2014-12-03',\n",
       "   u'length_of_stay': Decimal('1')},\n",
       "  {u'admitted': u'2014-12-05',\n",
       "   u'benefit_category': Decimal('16'),\n",
       "   u'cost': u'25.34',\n",
       "   u'discharged': u'2014-12-05',\n",
       "   u'length_of_stay': Decimal('1')},\n",
       "  {u'admitted': u'2014-12-08',\n",
       "   u'benefit_category': Decimal('16'),\n",
       "   u'cost': u'25.34',\n",
       "   u'discharged': u'2014-12-08',\n",
       "   u'length_of_stay': Decimal('1')},\n",
       "  {u'admitted': u'2014-12-10',\n",
       "   u'benefit_category': Decimal('16'),\n",
       "   u'cost': u'25.34',\n",
       "   u'discharged': u'2014-12-10',\n",
       "   u'length_of_stay': Decimal('1')},\n",
       "  {u'admitted': u'2014-12-12',\n",
       "   u'benefit_category': Decimal('16'),\n",
       "   u'cost': u'25.34',\n",
       "   u'discharged': u'2014-12-12',\n",
       "   u'length_of_stay': Decimal('1')},\n",
       "  {u'admitted': u'2014-12-15',\n",
       "   u'benefit_category': Decimal('16'),\n",
       "   u'cost': u'25.34',\n",
       "   u'discharged': u'2014-12-15',\n",
       "   u'length_of_stay': Decimal('1')},\n",
       "  {u'admitted': u'2014-12-17',\n",
       "   u'benefit_category': Decimal('16'),\n",
       "   u'cost': u'25.34',\n",
       "   u'discharged': u'2014-12-17',\n",
       "   u'length_of_stay': Decimal('1')},\n",
       "  {u'admitted': u'2014-12-19',\n",
       "   u'benefit_category': Decimal('16'),\n",
       "   u'cost': u'25.34',\n",
       "   u'discharged': u'2014-12-19',\n",
       "   u'length_of_stay': Decimal('1')},\n",
       "  {u'admitted': u'2014-12-29',\n",
       "   u'benefit_category': Decimal('16'),\n",
       "   u'cost': u'25.34',\n",
       "   u'discharged': u'2014-12-29',\n",
       "   u'length_of_stay': Decimal('1')},\n",
       "  {u'admitted': u'2014-12-30',\n",
       "   u'benefit_category': Decimal('16'),\n",
       "   u'cost': u'25.34',\n",
       "   u'discharged': u'2014-12-30',\n",
       "   u'length_of_stay': Decimal('1')},\n",
       "  {u'admitted': u'2015-01-02',\n",
       "   u'benefit_category': Decimal('16'),\n",
       "   u'cost': u'26.02',\n",
       "   u'discharged': u'2015-01-02',\n",
       "   u'length_of_stay': Decimal('1')},\n",
       "  {u'admitted': u'2015-01-05',\n",
       "   u'benefit_category': Decimal('16'),\n",
       "   u'cost': u'26.02',\n",
       "   u'discharged': u'2015-01-05',\n",
       "   u'length_of_stay': Decimal('1')},\n",
       "  {u'admitted': u'2015-01-07',\n",
       "   u'benefit_category': Decimal('16'),\n",
       "   u'cost': u'26.02',\n",
       "   u'discharged': u'2015-01-07',\n",
       "   u'length_of_stay': Decimal('1')},\n",
       "  {u'admitted': u'2015-01-09',\n",
       "   u'benefit_category': Decimal('11'),\n",
       "   u'cost': u'78.82',\n",
       "   u'discharged': u'2015-01-09',\n",
       "   u'length_of_stay': Decimal('1')},\n",
       "  {u'admitted': u'2015-01-12',\n",
       "   u'benefit_category': Decimal('16'),\n",
       "   u'cost': u'26.02',\n",
       "   u'discharged': u'2015-01-12',\n",
       "   u'length_of_stay': Decimal('1')},\n",
       "  {u'admitted': u'2015-01-14',\n",
       "   u'benefit_category': Decimal('16'),\n",
       "   u'cost': u'26.02',\n",
       "   u'discharged': u'2015-01-14',\n",
       "   u'length_of_stay': Decimal('1')},\n",
       "  {u'admitted': u'2015-01-16',\n",
       "   u'benefit_category': Decimal('16'),\n",
       "   u'cost': u'26.02',\n",
       "   u'discharged': u'2015-01-16',\n",
       "   u'length_of_stay': Decimal('1')},\n",
       "  {u'admitted': u'2015-01-19',\n",
       "   u'benefit_category': Decimal('16'),\n",
       "   u'cost': u'26.02',\n",
       "   u'discharged': u'2015-01-19',\n",
       "   u'length_of_stay': Decimal('1')},\n",
       "  {u'admitted': u'2015-01-21',\n",
       "   u'benefit_category': Decimal('16'),\n",
       "   u'cost': u'26.02',\n",
       "   u'discharged': u'2015-01-21',\n",
       "   u'length_of_stay': Decimal('1')},\n",
       "  {u'admitted': u'2015-01-23',\n",
       "   u'benefit_category': Decimal('16'),\n",
       "   u'cost': u'26.02',\n",
       "   u'discharged': u'2015-01-23',\n",
       "   u'length_of_stay': Decimal('1')},\n",
       "  {u'admitted': u'2015-01-28',\n",
       "   u'benefit_category': Decimal('16'),\n",
       "   u'cost': u'110.86',\n",
       "   u'discharged': u'2015-01-28',\n",
       "   u'length_of_stay': Decimal('1')},\n",
       "  {u'admitted': u'2015-05-14',\n",
       "   u'benefit_category': Decimal('15'),\n",
       "   u'cost': u'30.79',\n",
       "   u'discharged': u'2015-05-14',\n",
       "   u'length_of_stay': Decimal('1')},\n",
       "  {u'admitted': u'2015-05-14',\n",
       "   u'benefit_category': Decimal('16'),\n",
       "   u'cost': u'110.07',\n",
       "   u'discharged': u'2015-05-14',\n",
       "   u'length_of_stay': Decimal('1')},\n",
       "  {u'admitted': u'2015-05-15',\n",
       "   u'benefit_category': Decimal('16'),\n",
       "   u'cost': u'17.46',\n",
       "   u'discharged': u'2015-05-15',\n",
       "   u'length_of_stay': Decimal('1')},\n",
       "  {u'admitted': u'2015-05-19',\n",
       "   u'benefit_category': Decimal('11'),\n",
       "   u'cost': u'89.82',\n",
       "   u'discharged': u'2015-05-19',\n",
       "   u'length_of_stay': Decimal('1')},\n",
       "  {u'admitted': u'2015-06-02',\n",
       "   u'benefit_category': Decimal('31'),\n",
       "   u'cost': u'2665.45',\n",
       "   u'discharged': u'2015-06-02',\n",
       "   u'length_of_stay': Decimal('1')},\n",
       "  {u'admitted': u'2015-06-08',\n",
       "   u'benefit_category': Decimal('7'),\n",
       "   u'cost': u'230.27',\n",
       "   u'discharged': u'2015-06-08',\n",
       "   u'length_of_stay': Decimal('1')},\n",
       "  {u'admitted': u'2015-06-08',\n",
       "   u'benefit_category': Decimal('30'),\n",
       "   u'cost': u'39.17',\n",
       "   u'discharged': u'2015-06-08',\n",
       "   u'length_of_stay': Decimal('1')},\n",
       "  {u'admitted': u'2015-06-16',\n",
       "   u'benefit_category': Decimal('16'),\n",
       "   u'cost': u'0.0',\n",
       "   u'discharged': u'2015-06-16',\n",
       "   u'length_of_stay': Decimal('1')},\n",
       "  {u'admitted': u'2015-06-16',\n",
       "   u'benefit_category': Decimal('30'),\n",
       "   u'cost': u'161.39',\n",
       "   u'discharged': u'2015-06-16',\n",
       "   u'length_of_stay': Decimal('1')},\n",
       "  {u'admitted': u'2015-06-18',\n",
       "   u'benefit_category': Decimal('30'),\n",
       "   u'cost': u'82.85',\n",
       "   u'discharged': u'2015-06-18',\n",
       "   u'length_of_stay': Decimal('1')},\n",
       "  {u'admitted': u'2015-06-19',\n",
       "   u'benefit_category': Decimal('30'),\n",
       "   u'cost': u'82.85',\n",
       "   u'discharged': u'2015-06-19',\n",
       "   u'length_of_stay': Decimal('1')},\n",
       "  {u'admitted': u'2015-06-22',\n",
       "   u'benefit_category': Decimal('30'),\n",
       "   u'cost': u'82.85',\n",
       "   u'discharged': u'2015-06-22',\n",
       "   u'length_of_stay': Decimal('1')},\n",
       "  {u'admitted': u'2015-06-26',\n",
       "   u'benefit_category': Decimal('30'),\n",
       "   u'cost': u'81.77',\n",
       "   u'discharged': u'2015-06-26',\n",
       "   u'length_of_stay': Decimal('1')},\n",
       "  {u'admitted': u'2015-06-29',\n",
       "   u'benefit_category': Decimal('30'),\n",
       "   u'cost': u'81.77',\n",
       "   u'discharged': u'2015-06-29',\n",
       "   u'length_of_stay': Decimal('1')},\n",
       "  {u'admitted': u'2015-06-30',\n",
       "   u'benefit_category': Decimal('30'),\n",
       "   u'cost': u'81.77',\n",
       "   u'discharged': u'2015-06-30',\n",
       "   u'length_of_stay': Decimal('1')},\n",
       "  {u'admitted': u'2015-07-02',\n",
       "   u'benefit_category': Decimal('30'),\n",
       "   u'cost': u'82.17',\n",
       "   u'discharged': u'2015-07-02',\n",
       "   u'length_of_stay': Decimal('1')},\n",
       "  {u'admitted': u'2015-07-07',\n",
       "   u'benefit_category': Decimal('16'),\n",
       "   u'cost': u'0.0',\n",
       "   u'discharged': u'2015-07-07',\n",
       "   u'length_of_stay': Decimal('1')},\n",
       "  {u'admitted': u'2015-07-07',\n",
       "   u'benefit_category': Decimal('30'),\n",
       "   u'cost': u'82.17',\n",
       "   u'discharged': u'2015-07-07',\n",
       "   u'length_of_stay': Decimal('1')},\n",
       "  {u'admitted': u'2015-07-09',\n",
       "   u'benefit_category': Decimal('30'),\n",
       "   u'cost': u'82.17',\n",
       "   u'discharged': u'2015-07-09',\n",
       "   u'length_of_stay': Decimal('1')},\n",
       "  {u'admitted': u'2015-07-13',\n",
       "   u'benefit_category': Decimal('30'),\n",
       "   u'cost': u'82.17',\n",
       "   u'discharged': u'2015-07-13',\n",
       "   u'length_of_stay': Decimal('1')},\n",
       "  {u'admitted': u'2015-07-16',\n",
       "   u'benefit_category': Decimal('30'),\n",
       "   u'cost': u'82.17',\n",
       "   u'discharged': u'2015-07-16',\n",
       "   u'length_of_stay': Decimal('1')},\n",
       "  {u'admitted': u'2015-07-20',\n",
       "   u'benefit_category': Decimal('30'),\n",
       "   u'cost': u'82.17',\n",
       "   u'discharged': u'2015-07-20',\n",
       "   u'length_of_stay': Decimal('1')},\n",
       "  {u'admitted': u'2015-07-23',\n",
       "   u'benefit_category': Decimal('30'),\n",
       "   u'cost': u'82.17',\n",
       "   u'discharged': u'2015-07-23',\n",
       "   u'length_of_stay': Decimal('1')},\n",
       "  {u'admitted': u'2015-07-27',\n",
       "   u'benefit_category': Decimal('30'),\n",
       "   u'cost': u'82.17',\n",
       "   u'discharged': u'2015-07-27',\n",
       "   u'length_of_stay': Decimal('1')},\n",
       "  {u'admitted': u'2015-07-30',\n",
       "   u'benefit_category': Decimal('30'),\n",
       "   u'cost': u'82.17',\n",
       "   u'discharged': u'2015-07-30',\n",
       "   u'length_of_stay': Decimal('1')},\n",
       "  {u'admitted': u'2015-08-03',\n",
       "   u'benefit_category': Decimal('16'),\n",
       "   u'cost': u'0.0',\n",
       "   u'discharged': u'2015-08-03',\n",
       "   u'length_of_stay': Decimal('1')},\n",
       "  {u'admitted': u'2015-08-03',\n",
       "   u'benefit_category': Decimal('30'),\n",
       "   u'cost': u'84.75',\n",
       "   u'discharged': u'2015-08-03',\n",
       "   u'length_of_stay': Decimal('1')},\n",
       "  {u'admitted': u'2015-08-10',\n",
       "   u'benefit_category': Decimal('16'),\n",
       "   u'cost': u'310.78',\n",
       "   u'discharged': u'2015-08-10',\n",
       "   u'length_of_stay': Decimal('1')},\n",
       "  {u'admitted': u'2015-09-01',\n",
       "   u'benefit_category': Decimal('16'),\n",
       "   u'cost': u'124.5',\n",
       "   u'discharged': u'2015-09-01',\n",
       "   u'length_of_stay': Decimal('1')},\n",
       "  {u'admitted': u'2015-10-16',\n",
       "   u'benefit_category': Decimal('25'),\n",
       "   u'cost': u'16670.85',\n",
       "   u'discharged': u'2015-10-27',\n",
       "   u'length_of_stay': Decimal('11')},\n",
       "  {u'admitted': u'2015-10-27',\n",
       "   u'benefit_category': Decimal('7'),\n",
       "   u'cost': u'167.52',\n",
       "   u'discharged': u'2015-10-27',\n",
       "   u'length_of_stay': Decimal('1')},\n",
       "  {u'admitted': u'2015-10-29',\n",
       "   u'benefit_category': Decimal('11'),\n",
       "   u'cost': u'17.7',\n",
       "   u'discharged': u'2015-10-29',\n",
       "   u'length_of_stay': Decimal('1')},\n",
       "  {u'admitted': u'2015-10-29',\n",
       "   u'benefit_category': Decimal('13'),\n",
       "   u'cost': u'3.23',\n",
       "   u'discharged': u'2015-10-29',\n",
       "   u'length_of_stay': Decimal('1')},\n",
       "  {u'admitted': u'2015-10-29',\n",
       "   u'benefit_category': Decimal('16'),\n",
       "   u'cost': u'239.08',\n",
       "   u'discharged': u'2015-10-29',\n",
       "   u'length_of_stay': Decimal('1')},\n",
       "  {u'admitted': u'2015-10-29',\n",
       "   u'benefit_category': Decimal('18'),\n",
       "   u'cost': u'122.07',\n",
       "   u'discharged': u'2015-10-29',\n",
       "   u'length_of_stay': Decimal('1')},\n",
       "  {u'admitted': u'2015-10-29',\n",
       "   u'benefit_category': Decimal('44'),\n",
       "   u'cost': u'658.33',\n",
       "   u'discharged': u'2015-11-02',\n",
       "   u'length_of_stay': Decimal('4')},\n",
       "  {u'admitted': u'2015-11-03',\n",
       "   u'benefit_category': Decimal('16'),\n",
       "   u'cost': u'150.38',\n",
       "   u'discharged': u'2015-11-03',\n",
       "   u'length_of_stay': Decimal('1')},\n",
       "  {u'admitted': u'2015-11-10',\n",
       "   u'benefit_category': Decimal('49'),\n",
       "   u'cost': u'592.44',\n",
       "   u'discharged': u'2015-11-10',\n",
       "   u'length_of_stay': Decimal('1')},\n",
       "  {u'admitted': u'2015-12-03',\n",
       "   u'benefit_category': Decimal('13'),\n",
       "   u'cost': u'233.34',\n",
       "   u'discharged': u'2015-12-03',\n",
       "   u'length_of_stay': Decimal('1')},\n",
       "  {u'admitted': u'2015-12-21',\n",
       "   u'benefit_category': Decimal('0'),\n",
       "   u'cost': u'0.0',\n",
       "   u'discharged': u'2015-12-21',\n",
       "   u'length_of_stay': Decimal('1')},\n",
       "  {u'admitted': u'2015-12-21',\n",
       "   u'benefit_category': Decimal('7'),\n",
       "   u'cost': u'2000.0',\n",
       "   u'discharged': u'2015-12-21',\n",
       "   u'length_of_stay': Decimal('1')}],\n",
       " u'uid': u'1302895801'}"
      ]
     },
     "execution_count": 10,
     "metadata": {},
     "output_type": "execute_result"
    },
    {
     "name": "stdout",
     "output_type": "stream",
     "text": [
      "time: 256 ms\n"
     ]
    }
   ],
   "source": [
    "# Test DynamoDB:\n",
    "client = ClaimsClient(aws_info,\n",
    "                      table_name=configs.claims_table)\n",
    "\n",
    "client.get(uids[0])"
   ]
  },
  {
   "cell_type": "code",
   "execution_count": 11,
   "metadata": {
    "collapsed": false
   },
   "outputs": [
    {
     "data": {
      "text/plain": [
       "{u'medical_claims': [{u'admitted': u'2014-04-03',\n",
       "   u'benefit_category': 16,\n",
       "   u'cost': u'148.0',\n",
       "   u'discharged': u'2014-04-03',\n",
       "   u'length_of_stay': 1},\n",
       "  {u'admitted': u'2014-05-02',\n",
       "   u'benefit_category': 16,\n",
       "   u'cost': u'74.55',\n",
       "   u'discharged': u'2014-05-02',\n",
       "   u'length_of_stay': 1},\n",
       "  {u'admitted': u'2014-05-05',\n",
       "   u'benefit_category': 16,\n",
       "   u'cost': u'104.39',\n",
       "   u'discharged': u'2014-05-05',\n",
       "   u'length_of_stay': 1},\n",
       "  {u'admitted': u'2014-05-13',\n",
       "   u'benefit_category': 16,\n",
       "   u'cost': u'210.12',\n",
       "   u'discharged': u'2014-05-13',\n",
       "   u'length_of_stay': 1},\n",
       "  {u'admitted': u'2014-05-19',\n",
       "   u'benefit_category': 11,\n",
       "   u'cost': u'442.2',\n",
       "   u'discharged': u'2014-05-19',\n",
       "   u'length_of_stay': 1},\n",
       "  {u'admitted': u'2014-06-10',\n",
       "   u'benefit_category': 11,\n",
       "   u'cost': u'16.92',\n",
       "   u'discharged': u'2014-06-10',\n",
       "   u'length_of_stay': 1},\n",
       "  {u'admitted': u'2014-06-10',\n",
       "   u'benefit_category': 16,\n",
       "   u'cost': u'207.11',\n",
       "   u'discharged': u'2014-06-10',\n",
       "   u'length_of_stay': 1},\n",
       "  {u'admitted': u'2014-06-19',\n",
       "   u'benefit_category': 11,\n",
       "   u'cost': u'195.28',\n",
       "   u'discharged': u'2014-06-19',\n",
       "   u'length_of_stay': 1},\n",
       "  {u'admitted': u'2014-06-24',\n",
       "   u'benefit_category': 11,\n",
       "   u'cost': u'227.63',\n",
       "   u'discharged': u'2014-06-24',\n",
       "   u'length_of_stay': 1},\n",
       "  {u'admitted': u'2014-07-29',\n",
       "   u'benefit_category': 15,\n",
       "   u'cost': u'31.52',\n",
       "   u'discharged': u'2014-07-29',\n",
       "   u'length_of_stay': 1},\n",
       "  {u'admitted': u'2014-07-29',\n",
       "   u'benefit_category': 16,\n",
       "   u'cost': u'144.79',\n",
       "   u'discharged': u'2014-07-29',\n",
       "   u'length_of_stay': 1},\n",
       "  {u'admitted': u'2014-08-14',\n",
       "   u'benefit_category': 7,\n",
       "   u'cost': u'0.0',\n",
       "   u'discharged': u'2014-08-14',\n",
       "   u'length_of_stay': 1},\n",
       "  {u'admitted': u'2014-08-14',\n",
       "   u'benefit_category': 11,\n",
       "   u'cost': u'3129.27',\n",
       "   u'discharged': u'2014-08-14',\n",
       "   u'length_of_stay': 1},\n",
       "  {u'admitted': u'2014-08-14',\n",
       "   u'benefit_category': 16,\n",
       "   u'cost': u'113.31',\n",
       "   u'discharged': u'2014-08-14',\n",
       "   u'length_of_stay': 1},\n",
       "  {u'admitted': u'2014-08-14',\n",
       "   u'benefit_category': 32,\n",
       "   u'cost': u'0.0',\n",
       "   u'discharged': u'2014-08-14',\n",
       "   u'length_of_stay': 1},\n",
       "  {u'admitted': u'2014-08-14',\n",
       "   u'benefit_category': 49,\n",
       "   u'cost': u'0.0',\n",
       "   u'discharged': u'2014-08-14',\n",
       "   u'length_of_stay': 1},\n",
       "  {u'admitted': u'2014-08-19',\n",
       "   u'benefit_category': 16,\n",
       "   u'cost': u'80.21',\n",
       "   u'discharged': u'2014-08-19',\n",
       "   u'length_of_stay': 1},\n",
       "  {u'admitted': u'2014-09-09',\n",
       "   u'benefit_category': 11,\n",
       "   u'cost': u'30.82',\n",
       "   u'discharged': u'2014-09-09',\n",
       "   u'length_of_stay': 1},\n",
       "  {u'admitted': u'2014-09-09',\n",
       "   u'benefit_category': 15,\n",
       "   u'cost': u'11.26',\n",
       "   u'discharged': u'2014-09-09',\n",
       "   u'length_of_stay': 1},\n",
       "  {u'admitted': u'2014-09-09',\n",
       "   u'benefit_category': 25,\n",
       "   u'cost': u'37533.64',\n",
       "   u'discharged': u'2014-09-15',\n",
       "   u'length_of_stay': 6},\n",
       "  {u'admitted': u'2014-09-16',\n",
       "   u'benefit_category': 44,\n",
       "   u'cost': u'171.03',\n",
       "   u'discharged': u'2014-09-16',\n",
       "   u'length_of_stay': 1},\n",
       "  {u'admitted': u'2014-09-24',\n",
       "   u'benefit_category': 44,\n",
       "   u'cost': u'106.98',\n",
       "   u'discharged': u'2014-09-24',\n",
       "   u'length_of_stay': 1},\n",
       "  {u'admitted': u'2014-10-01',\n",
       "   u'benefit_category': 11,\n",
       "   u'cost': u'17.2',\n",
       "   u'discharged': u'2014-10-01',\n",
       "   u'length_of_stay': 1},\n",
       "  {u'admitted': u'2014-10-01',\n",
       "   u'benefit_category': 16,\n",
       "   u'cost': u'109.95',\n",
       "   u'discharged': u'2014-10-01',\n",
       "   u'length_of_stay': 1},\n",
       "  {u'admitted': u'2014-10-08',\n",
       "   u'benefit_category': 11,\n",
       "   u'cost': u'236.48',\n",
       "   u'discharged': u'2014-10-08',\n",
       "   u'length_of_stay': 1},\n",
       "  {u'admitted': u'2014-10-17',\n",
       "   u'benefit_category': 16,\n",
       "   u'cost': u'25.34',\n",
       "   u'discharged': u'2014-10-17',\n",
       "   u'length_of_stay': 1},\n",
       "  {u'admitted': u'2014-10-20',\n",
       "   u'benefit_category': 16,\n",
       "   u'cost': u'25.34',\n",
       "   u'discharged': u'2014-10-20',\n",
       "   u'length_of_stay': 1},\n",
       "  {u'admitted': u'2014-10-22',\n",
       "   u'benefit_category': 16,\n",
       "   u'cost': u'25.34',\n",
       "   u'discharged': u'2014-10-22',\n",
       "   u'length_of_stay': 1},\n",
       "  {u'admitted': u'2014-10-24',\n",
       "   u'benefit_category': 16,\n",
       "   u'cost': u'25.34',\n",
       "   u'discharged': u'2014-10-24',\n",
       "   u'length_of_stay': 1},\n",
       "  {u'admitted': u'2014-10-27',\n",
       "   u'benefit_category': 16,\n",
       "   u'cost': u'25.34',\n",
       "   u'discharged': u'2014-10-27',\n",
       "   u'length_of_stay': 1},\n",
       "  {u'admitted': u'2014-10-29',\n",
       "   u'benefit_category': 11,\n",
       "   u'cost': u'77.96',\n",
       "   u'discharged': u'2014-10-29',\n",
       "   u'length_of_stay': 1},\n",
       "  {u'admitted': u'2014-10-31',\n",
       "   u'benefit_category': 16,\n",
       "   u'cost': u'25.34',\n",
       "   u'discharged': u'2014-10-31',\n",
       "   u'length_of_stay': 1},\n",
       "  {u'admitted': u'2014-11-03',\n",
       "   u'benefit_category': 16,\n",
       "   u'cost': u'25.34',\n",
       "   u'discharged': u'2014-11-03',\n",
       "   u'length_of_stay': 1},\n",
       "  {u'admitted': u'2014-11-05',\n",
       "   u'benefit_category': 16,\n",
       "   u'cost': u'25.34',\n",
       "   u'discharged': u'2014-11-05',\n",
       "   u'length_of_stay': 1},\n",
       "  {u'admitted': u'2014-11-07',\n",
       "   u'benefit_category': 16,\n",
       "   u'cost': u'25.34',\n",
       "   u'discharged': u'2014-11-07',\n",
       "   u'length_of_stay': 1},\n",
       "  {u'admitted': u'2014-11-10',\n",
       "   u'benefit_category': 16,\n",
       "   u'cost': u'25.34',\n",
       "   u'discharged': u'2014-11-10',\n",
       "   u'length_of_stay': 1},\n",
       "  {u'admitted': u'2014-11-12',\n",
       "   u'benefit_category': 16,\n",
       "   u'cost': u'25.34',\n",
       "   u'discharged': u'2014-11-12',\n",
       "   u'length_of_stay': 1},\n",
       "  {u'admitted': u'2014-11-14',\n",
       "   u'benefit_category': 16,\n",
       "   u'cost': u'25.34',\n",
       "   u'discharged': u'2014-11-14',\n",
       "   u'length_of_stay': 1},\n",
       "  {u'admitted': u'2014-11-17',\n",
       "   u'benefit_category': 16,\n",
       "   u'cost': u'25.34',\n",
       "   u'discharged': u'2014-11-17',\n",
       "   u'length_of_stay': 1},\n",
       "  {u'admitted': u'2014-11-19',\n",
       "   u'benefit_category': 16,\n",
       "   u'cost': u'25.34',\n",
       "   u'discharged': u'2014-11-19',\n",
       "   u'length_of_stay': 1},\n",
       "  {u'admitted': u'2014-11-21',\n",
       "   u'benefit_category': 16,\n",
       "   u'cost': u'25.34',\n",
       "   u'discharged': u'2014-11-21',\n",
       "   u'length_of_stay': 1},\n",
       "  {u'admitted': u'2014-12-03',\n",
       "   u'benefit_category': 16,\n",
       "   u'cost': u'25.34',\n",
       "   u'discharged': u'2014-12-03',\n",
       "   u'length_of_stay': 1},\n",
       "  {u'admitted': u'2014-12-05',\n",
       "   u'benefit_category': 16,\n",
       "   u'cost': u'25.34',\n",
       "   u'discharged': u'2014-12-05',\n",
       "   u'length_of_stay': 1},\n",
       "  {u'admitted': u'2014-12-08',\n",
       "   u'benefit_category': 16,\n",
       "   u'cost': u'25.34',\n",
       "   u'discharged': u'2014-12-08',\n",
       "   u'length_of_stay': 1},\n",
       "  {u'admitted': u'2014-12-10',\n",
       "   u'benefit_category': 16,\n",
       "   u'cost': u'25.34',\n",
       "   u'discharged': u'2014-12-10',\n",
       "   u'length_of_stay': 1},\n",
       "  {u'admitted': u'2014-12-12',\n",
       "   u'benefit_category': 16,\n",
       "   u'cost': u'25.34',\n",
       "   u'discharged': u'2014-12-12',\n",
       "   u'length_of_stay': 1},\n",
       "  {u'admitted': u'2014-12-15',\n",
       "   u'benefit_category': 16,\n",
       "   u'cost': u'25.34',\n",
       "   u'discharged': u'2014-12-15',\n",
       "   u'length_of_stay': 1},\n",
       "  {u'admitted': u'2014-12-17',\n",
       "   u'benefit_category': 16,\n",
       "   u'cost': u'25.34',\n",
       "   u'discharged': u'2014-12-17',\n",
       "   u'length_of_stay': 1},\n",
       "  {u'admitted': u'2014-12-19',\n",
       "   u'benefit_category': 16,\n",
       "   u'cost': u'25.34',\n",
       "   u'discharged': u'2014-12-19',\n",
       "   u'length_of_stay': 1},\n",
       "  {u'admitted': u'2014-12-29',\n",
       "   u'benefit_category': 16,\n",
       "   u'cost': u'25.34',\n",
       "   u'discharged': u'2014-12-29',\n",
       "   u'length_of_stay': 1},\n",
       "  {u'admitted': u'2014-12-30',\n",
       "   u'benefit_category': 16,\n",
       "   u'cost': u'25.34',\n",
       "   u'discharged': u'2014-12-30',\n",
       "   u'length_of_stay': 1},\n",
       "  {u'admitted': u'2015-01-02',\n",
       "   u'benefit_category': 16,\n",
       "   u'cost': u'26.02',\n",
       "   u'discharged': u'2015-01-02',\n",
       "   u'length_of_stay': 1},\n",
       "  {u'admitted': u'2015-01-05',\n",
       "   u'benefit_category': 16,\n",
       "   u'cost': u'26.02',\n",
       "   u'discharged': u'2015-01-05',\n",
       "   u'length_of_stay': 1},\n",
       "  {u'admitted': u'2015-01-07',\n",
       "   u'benefit_category': 16,\n",
       "   u'cost': u'26.02',\n",
       "   u'discharged': u'2015-01-07',\n",
       "   u'length_of_stay': 1},\n",
       "  {u'admitted': u'2015-01-09',\n",
       "   u'benefit_category': 11,\n",
       "   u'cost': u'78.82',\n",
       "   u'discharged': u'2015-01-09',\n",
       "   u'length_of_stay': 1},\n",
       "  {u'admitted': u'2015-01-12',\n",
       "   u'benefit_category': 16,\n",
       "   u'cost': u'26.02',\n",
       "   u'discharged': u'2015-01-12',\n",
       "   u'length_of_stay': 1},\n",
       "  {u'admitted': u'2015-01-14',\n",
       "   u'benefit_category': 16,\n",
       "   u'cost': u'26.02',\n",
       "   u'discharged': u'2015-01-14',\n",
       "   u'length_of_stay': 1},\n",
       "  {u'admitted': u'2015-01-16',\n",
       "   u'benefit_category': 16,\n",
       "   u'cost': u'26.02',\n",
       "   u'discharged': u'2015-01-16',\n",
       "   u'length_of_stay': 1},\n",
       "  {u'admitted': u'2015-01-19',\n",
       "   u'benefit_category': 16,\n",
       "   u'cost': u'26.02',\n",
       "   u'discharged': u'2015-01-19',\n",
       "   u'length_of_stay': 1},\n",
       "  {u'admitted': u'2015-01-21',\n",
       "   u'benefit_category': 16,\n",
       "   u'cost': u'26.02',\n",
       "   u'discharged': u'2015-01-21',\n",
       "   u'length_of_stay': 1},\n",
       "  {u'admitted': u'2015-01-23',\n",
       "   u'benefit_category': 16,\n",
       "   u'cost': u'26.02',\n",
       "   u'discharged': u'2015-01-23',\n",
       "   u'length_of_stay': 1},\n",
       "  {u'admitted': u'2015-01-28',\n",
       "   u'benefit_category': 16,\n",
       "   u'cost': u'110.86',\n",
       "   u'discharged': u'2015-01-28',\n",
       "   u'length_of_stay': 1},\n",
       "  {u'admitted': u'2015-05-14',\n",
       "   u'benefit_category': 15,\n",
       "   u'cost': u'30.79',\n",
       "   u'discharged': u'2015-05-14',\n",
       "   u'length_of_stay': 1},\n",
       "  {u'admitted': u'2015-05-14',\n",
       "   u'benefit_category': 16,\n",
       "   u'cost': u'110.07',\n",
       "   u'discharged': u'2015-05-14',\n",
       "   u'length_of_stay': 1},\n",
       "  {u'admitted': u'2015-05-15',\n",
       "   u'benefit_category': 16,\n",
       "   u'cost': u'17.46',\n",
       "   u'discharged': u'2015-05-15',\n",
       "   u'length_of_stay': 1},\n",
       "  {u'admitted': u'2015-05-19',\n",
       "   u'benefit_category': 11,\n",
       "   u'cost': u'89.82',\n",
       "   u'discharged': u'2015-05-19',\n",
       "   u'length_of_stay': 1},\n",
       "  {u'admitted': u'2015-06-02',\n",
       "   u'benefit_category': 31,\n",
       "   u'cost': u'2665.45',\n",
       "   u'discharged': u'2015-06-02',\n",
       "   u'length_of_stay': 1},\n",
       "  {u'admitted': u'2015-06-08',\n",
       "   u'benefit_category': 7,\n",
       "   u'cost': u'230.27',\n",
       "   u'discharged': u'2015-06-08',\n",
       "   u'length_of_stay': 1},\n",
       "  {u'admitted': u'2015-06-08',\n",
       "   u'benefit_category': 30,\n",
       "   u'cost': u'39.17',\n",
       "   u'discharged': u'2015-06-08',\n",
       "   u'length_of_stay': 1},\n",
       "  {u'admitted': u'2015-06-16',\n",
       "   u'benefit_category': 16,\n",
       "   u'cost': u'0.0',\n",
       "   u'discharged': u'2015-06-16',\n",
       "   u'length_of_stay': 1},\n",
       "  {u'admitted': u'2015-06-16',\n",
       "   u'benefit_category': 30,\n",
       "   u'cost': u'161.39',\n",
       "   u'discharged': u'2015-06-16',\n",
       "   u'length_of_stay': 1},\n",
       "  {u'admitted': u'2015-06-18',\n",
       "   u'benefit_category': 30,\n",
       "   u'cost': u'82.85',\n",
       "   u'discharged': u'2015-06-18',\n",
       "   u'length_of_stay': 1},\n",
       "  {u'admitted': u'2015-06-19',\n",
       "   u'benefit_category': 30,\n",
       "   u'cost': u'82.85',\n",
       "   u'discharged': u'2015-06-19',\n",
       "   u'length_of_stay': 1},\n",
       "  {u'admitted': u'2015-06-22',\n",
       "   u'benefit_category': 30,\n",
       "   u'cost': u'82.85',\n",
       "   u'discharged': u'2015-06-22',\n",
       "   u'length_of_stay': 1},\n",
       "  {u'admitted': u'2015-06-26',\n",
       "   u'benefit_category': 30,\n",
       "   u'cost': u'81.77',\n",
       "   u'discharged': u'2015-06-26',\n",
       "   u'length_of_stay': 1},\n",
       "  {u'admitted': u'2015-06-29',\n",
       "   u'benefit_category': 30,\n",
       "   u'cost': u'81.77',\n",
       "   u'discharged': u'2015-06-29',\n",
       "   u'length_of_stay': 1},\n",
       "  {u'admitted': u'2015-06-30',\n",
       "   u'benefit_category': 30,\n",
       "   u'cost': u'81.77',\n",
       "   u'discharged': u'2015-06-30',\n",
       "   u'length_of_stay': 1},\n",
       "  {u'admitted': u'2015-07-02',\n",
       "   u'benefit_category': 30,\n",
       "   u'cost': u'82.17',\n",
       "   u'discharged': u'2015-07-02',\n",
       "   u'length_of_stay': 1},\n",
       "  {u'admitted': u'2015-07-07',\n",
       "   u'benefit_category': 16,\n",
       "   u'cost': u'0.0',\n",
       "   u'discharged': u'2015-07-07',\n",
       "   u'length_of_stay': 1},\n",
       "  {u'admitted': u'2015-07-07',\n",
       "   u'benefit_category': 30,\n",
       "   u'cost': u'82.17',\n",
       "   u'discharged': u'2015-07-07',\n",
       "   u'length_of_stay': 1},\n",
       "  {u'admitted': u'2015-07-09',\n",
       "   u'benefit_category': 30,\n",
       "   u'cost': u'82.17',\n",
       "   u'discharged': u'2015-07-09',\n",
       "   u'length_of_stay': 1},\n",
       "  {u'admitted': u'2015-07-13',\n",
       "   u'benefit_category': 30,\n",
       "   u'cost': u'82.17',\n",
       "   u'discharged': u'2015-07-13',\n",
       "   u'length_of_stay': 1},\n",
       "  {u'admitted': u'2015-07-16',\n",
       "   u'benefit_category': 30,\n",
       "   u'cost': u'82.17',\n",
       "   u'discharged': u'2015-07-16',\n",
       "   u'length_of_stay': 1},\n",
       "  {u'admitted': u'2015-07-20',\n",
       "   u'benefit_category': 30,\n",
       "   u'cost': u'82.17',\n",
       "   u'discharged': u'2015-07-20',\n",
       "   u'length_of_stay': 1},\n",
       "  {u'admitted': u'2015-07-23',\n",
       "   u'benefit_category': 30,\n",
       "   u'cost': u'82.17',\n",
       "   u'discharged': u'2015-07-23',\n",
       "   u'length_of_stay': 1},\n",
       "  {u'admitted': u'2015-07-27',\n",
       "   u'benefit_category': 30,\n",
       "   u'cost': u'82.17',\n",
       "   u'discharged': u'2015-07-27',\n",
       "   u'length_of_stay': 1},\n",
       "  {u'admitted': u'2015-07-30',\n",
       "   u'benefit_category': 30,\n",
       "   u'cost': u'82.17',\n",
       "   u'discharged': u'2015-07-30',\n",
       "   u'length_of_stay': 1},\n",
       "  {u'admitted': u'2015-08-03',\n",
       "   u'benefit_category': 16,\n",
       "   u'cost': u'0.0',\n",
       "   u'discharged': u'2015-08-03',\n",
       "   u'length_of_stay': 1},\n",
       "  {u'admitted': u'2015-08-03',\n",
       "   u'benefit_category': 30,\n",
       "   u'cost': u'84.75',\n",
       "   u'discharged': u'2015-08-03',\n",
       "   u'length_of_stay': 1},\n",
       "  {u'admitted': u'2015-08-10',\n",
       "   u'benefit_category': 16,\n",
       "   u'cost': u'310.78',\n",
       "   u'discharged': u'2015-08-10',\n",
       "   u'length_of_stay': 1},\n",
       "  {u'admitted': u'2015-09-01',\n",
       "   u'benefit_category': 16,\n",
       "   u'cost': u'124.5',\n",
       "   u'discharged': u'2015-09-01',\n",
       "   u'length_of_stay': 1},\n",
       "  {u'admitted': u'2015-10-16',\n",
       "   u'benefit_category': 25,\n",
       "   u'cost': u'16670.85',\n",
       "   u'discharged': u'2015-10-27',\n",
       "   u'length_of_stay': 11},\n",
       "  {u'admitted': u'2015-10-27',\n",
       "   u'benefit_category': 7,\n",
       "   u'cost': u'167.52',\n",
       "   u'discharged': u'2015-10-27',\n",
       "   u'length_of_stay': 1},\n",
       "  {u'admitted': u'2015-10-29',\n",
       "   u'benefit_category': 11,\n",
       "   u'cost': u'17.7',\n",
       "   u'discharged': u'2015-10-29',\n",
       "   u'length_of_stay': 1},\n",
       "  {u'admitted': u'2015-10-29',\n",
       "   u'benefit_category': 13,\n",
       "   u'cost': u'3.23',\n",
       "   u'discharged': u'2015-10-29',\n",
       "   u'length_of_stay': 1},\n",
       "  {u'admitted': u'2015-10-29',\n",
       "   u'benefit_category': 16,\n",
       "   u'cost': u'239.08',\n",
       "   u'discharged': u'2015-10-29',\n",
       "   u'length_of_stay': 1},\n",
       "  {u'admitted': u'2015-10-29',\n",
       "   u'benefit_category': 18,\n",
       "   u'cost': u'122.07',\n",
       "   u'discharged': u'2015-10-29',\n",
       "   u'length_of_stay': 1},\n",
       "  {u'admitted': u'2015-10-29',\n",
       "   u'benefit_category': 44,\n",
       "   u'cost': u'658.33',\n",
       "   u'discharged': u'2015-11-02',\n",
       "   u'length_of_stay': 4},\n",
       "  {u'admitted': u'2015-11-03',\n",
       "   u'benefit_category': 16,\n",
       "   u'cost': u'150.38',\n",
       "   u'discharged': u'2015-11-03',\n",
       "   u'length_of_stay': 1},\n",
       "  {u'admitted': u'2015-11-10',\n",
       "   u'benefit_category': 49,\n",
       "   u'cost': u'592.44',\n",
       "   u'discharged': u'2015-11-10',\n",
       "   u'length_of_stay': 1},\n",
       "  {u'admitted': u'2015-12-03',\n",
       "   u'benefit_category': 13,\n",
       "   u'cost': u'233.34',\n",
       "   u'discharged': u'2015-12-03',\n",
       "   u'length_of_stay': 1},\n",
       "  {u'admitted': u'2015-12-21',\n",
       "   u'benefit_category': 0,\n",
       "   u'cost': u'0.0',\n",
       "   u'discharged': u'2015-12-21',\n",
       "   u'length_of_stay': 1},\n",
       "  {u'admitted': u'2015-12-21',\n",
       "   u'benefit_category': 7,\n",
       "   u'cost': u'2000.0',\n",
       "   u'discharged': u'2015-12-21',\n",
       "   u'length_of_stay': 1}],\n",
       " u'uid': u'1302895801'}"
      ]
     },
     "execution_count": 11,
     "metadata": {},
     "output_type": "execute_result"
    },
    {
     "name": "stdout",
     "output_type": "stream",
     "text": [
      "time: 216 ms\n"
     ]
    }
   ],
   "source": [
    "# Test configuration file:\n",
    "client = ClaimsClient(aws_info)\n",
    "\n",
    "client.get(uids[0])"
   ]
  },
  {
   "cell_type": "code",
   "execution_count": 12,
   "metadata": {
    "collapsed": false
   },
   "outputs": [
    {
     "name": "stdout",
     "output_type": "stream",
     "text": [
      "time: 1.38 ms\n"
     ]
    }
   ],
   "source": [
    "# The object should not be pickled.\n",
    "with pytest.raises(Exception, match='ClaimsClient object cannot be pickled.'):\n",
    "    pickle.dumps(client)"
   ]
  },
  {
   "cell_type": "markdown",
   "metadata": {},
   "source": [
    "# Test BenefitsClient"
   ]
  },
  {
   "cell_type": "code",
   "execution_count": 13,
   "metadata": {
    "collapsed": false
   },
   "outputs": [
    {
     "name": "stdout",
     "output_type": "stream",
     "text": [
      "time: 2.53 ms\n"
     ]
    }
   ],
   "source": [
    "from lambda_client import BenefitsClient"
   ]
  },
  {
   "cell_type": "code",
   "execution_count": 14,
   "metadata": {
    "collapsed": false
   },
   "outputs": [
    {
     "name": "stdout",
     "output_type": "stream",
     "text": [
      "['01', '04', '05', '06', '08', '09', '10', '11', '12', '13', '15', '16', '17', '18', '19', '20', '21', '22', '23', '24', '25', '26', '27', '28', '29', '30', '31', '32', '33', '34', '35', '36', '37', '38', '39', '40', '41', '42', '44', '45', '46', '47', '48', '49', '50', '51', '53', '54', '55', '56', '72']\n",
      "time: 1.34 ms\n"
     ]
    }
   ],
   "source": [
    "client = BenefitsClient(aws_info)\n",
    "\n",
    "print client.all_states"
   ]
  },
  {
   "cell_type": "code",
   "execution_count": 15,
   "metadata": {
    "collapsed": false
   },
   "outputs": [
    {
     "name": "stdout",
     "output_type": "stream",
     "text": [
      "47 plans read for state 01\n",
      "75 plans read for state 04\n",
      "time: 1.22 s\n"
     ]
    }
   ],
   "source": [
    "plans = client._get_one_state('01')\n",
    "print '{} plans read for state 01'.format(len(plans))\n",
    "\n",
    "plans = client._get_one_state('04')\n",
    "print '{} plans read for state 04'.format(len(plans))"
   ]
  },
  {
   "cell_type": "code",
   "execution_count": 16,
   "metadata": {
    "collapsed": false
   },
   "outputs": [
    {
     "name": "stderr",
     "output_type": "stream",
     "text": [
      "[2018-01-07 19:20:19,769] {storage_utils.py:164} INFO - 0.001792 seconds to start all threads for get_by_state().\n",
      "[2018-01-07 19:20:20,329] {storage_utils.py:173} INFO - 0.556546 seconds to join all threads for get_by_state().\n",
      "[2018-01-07 19:20:20,329] {storage_utils.py:183} INFO - 2.2e-05 seconds to combine results for get_by_state().\n"
     ]
    },
    {
     "name": "stdout",
     "output_type": "stream",
     "text": [
      "122 plans read\n",
      "time: 565 ms\n"
     ]
    }
   ],
   "source": [
    "plans = client.get_by_state(['01', '04'])\n",
    "print '{} plans read'.format(len(plans))"
   ]
  },
  {
   "cell_type": "code",
   "execution_count": 17,
   "metadata": {
    "collapsed": false
   },
   "outputs": [
    {
     "name": "stderr",
     "output_type": "stream",
     "text": [
      "[2018-01-07 19:20:20,536] {storage_utils.py:164} INFO - 0.200728 seconds to start all threads for get_by_state().\n",
      "[2018-01-07 19:20:29,600] {storage_utils.py:173} INFO - 9.057316 seconds to join all threads for get_by_state().\n",
      "[2018-01-07 19:20:29,601] {storage_utils.py:183} INFO - 0.00044 seconds to combine results for get_by_state().\n"
     ]
    },
    {
     "name": "stdout",
     "output_type": "stream",
     "text": [
      "3558 plans read\n",
      "time: 9.27 s\n"
     ]
    }
   ],
   "source": [
    "plans = client.get_all()\n",
    "print '{} plans read'.format(len(plans))"
   ]
  },
  {
   "cell_type": "code",
   "execution_count": 18,
   "metadata": {
    "collapsed": false
   },
   "outputs": [
    {
     "name": "stdout",
     "output_type": "stream",
     "text": [
      "time: 572 ms\n"
     ]
    }
   ],
   "source": [
    "# Compare the timing against reading the entire file:\n",
    "from lambda_client.storage_utils import _read_json\n",
    "\n",
    "session = boto3.Session(**aws_info)\n",
    "resource = session.resource('s3')"
   ]
  },
  {
   "cell_type": "code",
   "execution_count": 19,
   "metadata": {
    "collapsed": false
   },
   "outputs": [
    {
     "name": "stdout",
     "output_type": "stream",
     "text": [
      "3558 plans read\n",
      "time: 3.18 s\n"
     ]
    }
   ],
   "source": [
    "all_plans = _read_json('picwell.sandbox.medicare', 'ma_benefits/cms_2018_pbps_20171005.json', resource)\n",
    "\n",
    "print '{} plans read'.format(len(plans))"
   ]
  },
  {
   "cell_type": "code",
   "execution_count": 20,
   "metadata": {
    "collapsed": false
   },
   "outputs": [
    {
     "name": "stdout",
     "output_type": "stream",
     "text": [
      "time: 151 ms\n"
     ]
    }
   ],
   "source": [
    "# Ensure that the same plans are read:\n",
    "sort_key = lambda plan: plan['picwell_id']\n",
    "assert sorted(all_plans, key=sort_key) == sorted(plans, key=sort_key)"
   ]
  },
  {
   "cell_type": "code",
   "execution_count": 21,
   "metadata": {
    "collapsed": false
   },
   "outputs": [
    {
     "name": "stdout",
     "output_type": "stream",
     "text": [
      "time: 1.46 ms\n"
     ]
    }
   ],
   "source": [
    "# The object should not be pickled.\n",
    "with pytest.raises(Exception, match='BenefitsClient object cannot be pickled.'):\n",
    "    pickle.dumps(client)"
   ]
  },
  {
   "cell_type": "markdown",
   "metadata": {},
   "source": [
    "# Test Cost Breakdown"
   ]
  },
  {
   "cell_type": "code",
   "execution_count": 22,
   "metadata": {
    "collapsed": false
   },
   "outputs": [
    {
     "name": "stdout",
     "output_type": "stream",
     "text": [
      "time: 803 µs\n"
     ]
    }
   ],
   "source": [
    "from lambda_client import CalculatorClient\n",
    "\n",
    "client = CalculatorClient(aws_info)"
   ]
  },
  {
   "cell_type": "code",
   "execution_count": 23,
   "metadata": {
    "collapsed": false
   },
   "outputs": [
    {
     "name": "stdout",
     "output_type": "stream",
     "text": [
      "2 responses returned\n"
     ]
    },
    {
     "data": {
      "text/plain": [
       "{u'allowed': 26376.640000000003,\n",
       " u'covered_breakdown': {u'categories': {u'0': 0.0,\n",
       "   u'11': 167.7,\n",
       "   u'13': 53.23,\n",
       "   u'15': 30.79,\n",
       "   u'16': 392.46,\n",
       "   u'19': 80.0,\n",
       "   u'25': 1500.0,\n",
       "   u'30': 719.1700000000001,\n",
       "   u'31': 100.0,\n",
       "   u'44': 0.0,\n",
       "   u'49': 118.48800000000001,\n",
       "   u'7': 479.558},\n",
       "  u'composite': 3641.3959999999997,\n",
       "  u'in_network': 3641.3959999999997,\n",
       "  u'out_network': 0.0},\n",
       " u'deductible_breakdown': {u'categories': {u'0': 0.0,\n",
       "   u'11': 0.0,\n",
       "   u'13': 0.0,\n",
       "   u'15': 0.0,\n",
       "   u'16': 0.0,\n",
       "   u'19': 0.0,\n",
       "   u'25': 0.0,\n",
       "   u'30': 0.0,\n",
       "   u'31': 0.0,\n",
       "   u'44': 0.0,\n",
       "   u'49': 0.0,\n",
       "   u'7': 0.0},\n",
       "  u'composite': 0.0,\n",
       "  u'in_network': 0.0,\n",
       "  u'out_network': 0.0},\n",
       " u'oop': 3641.3959999999997,\n",
       " u'picwell_id': u'2820088001036',\n",
       " u'uid': u'1302895801',\n",
       " u'uncovered': 0.0,\n",
       " u'uncovered_breakdown': {u'categories': {u'0': 0.0,\n",
       "   u'11': 0.0,\n",
       "   u'13': 0.0,\n",
       "   u'15': 0.0,\n",
       "   u'16': 0.0,\n",
       "   u'19': 0.0,\n",
       "   u'25': 0.0,\n",
       "   u'30': 0.0,\n",
       "   u'31': 0.0,\n",
       "   u'44': 0.0,\n",
       "   u'49': 0.0,\n",
       "   u'7': 0.0},\n",
       "  u'composite': 0.0,\n",
       "  u'in_network': 0.0,\n",
       "  u'out_network': 0.0}}"
      ]
     },
     "execution_count": 23,
     "metadata": {},
     "output_type": "execute_result"
    },
    {
     "name": "stdout",
     "output_type": "stream",
     "text": [
      "time: 3.68 s\n"
     ]
    }
   ],
   "source": [
    "responses = client._get_one_breakdown(uids[0], pids, '01')\n",
    "\n",
    "print '{} responses returned'.format(len(responses))\n",
    "responses[0]"
   ]
  },
  {
   "cell_type": "code",
   "execution_count": 24,
   "metadata": {
    "collapsed": false
   },
   "outputs": [
    {
     "name": "stderr",
     "output_type": "stream",
     "text": [
      "[2018-01-07 19:20:37,206] {calculator_client.py:82} INFO - 0.000328 seconds to start all threads for get_breakdown().\n",
      "[2018-01-07 19:20:40,577] {calculator_client.py:91} INFO - 3.368112 seconds to join all threads for get_breakdown().\n",
      "[2018-01-07 19:20:40,577] {calculator_client.py:101} INFO - 1.8e-05 seconds to combine results for get_breakdown().\n"
     ]
    },
    {
     "name": "stdout",
     "output_type": "stream",
     "text": [
      "2 responses returned\n",
      "time: 3.37 s\n"
     ]
    }
   ],
   "source": [
    "responses = client.get_breakdown(uids[:1], pids)\n",
    "\n",
    "print '{} responses returned'.format(len(responses))"
   ]
  },
  {
   "cell_type": "code",
   "execution_count": 25,
   "metadata": {
    "collapsed": false
   },
   "outputs": [
    {
     "name": "stderr",
     "output_type": "stream",
     "text": [
      "[2018-01-07 19:20:40,586] {calculator_client.py:82} INFO - 0.003041 seconds to start all threads for get_breakdown().\n",
      "[2018-01-07 19:20:45,865] {calculator_client.py:91} INFO - 5.275641 seconds to join all threads for get_breakdown().\n",
      "[2018-01-07 19:20:45,865] {calculator_client.py:101} INFO - 1.8e-05 seconds to combine results for get_breakdown().\n",
      "[2018-01-07 19:20:45,869] {calculator_client.py:82} INFO - 0.002885 seconds to start all threads for get_breakdown().\n",
      "[2018-01-07 19:20:51,498] {calculator_client.py:91} INFO - 5.625238 seconds to join all threads for get_breakdown().\n",
      "[2018-01-07 19:20:51,499] {calculator_client.py:101} INFO - 2.7e-05 seconds to combine results for get_breakdown().\n"
     ]
    },
    {
     "name": "stdout",
     "output_type": "stream",
     "text": [
      "4 responses returned\n",
      "6 responses returned"
     ]
    },
    {
     "name": "stderr",
     "output_type": "stream",
     "text": [
      "[2018-01-07 19:20:51,939] {calculator_client.py:82} INFO - 0.43932 seconds to start all threads for get_breakdown().\n",
      "[2018-01-07 19:20:56,884] {calculator_client.py:91} INFO - 4.942295 seconds to join all threads for get_breakdown().\n",
      "[2018-01-07 19:20:56,885] {calculator_client.py:101} INFO - 3.2e-05 seconds to combine results for get_breakdown().\n"
     ]
    },
    {
     "name": "stdout",
     "output_type": "stream",
     "text": [
      "\n",
      "8 responses returned"
     ]
    },
    {
     "name": "stderr",
     "output_type": "stream",
     "text": [
      "[2018-01-07 19:20:56,896] {calculator_client.py:82} INFO - 0.010163 seconds to start all threads for get_breakdown().\n",
      "[2018-01-07 19:21:01,573] {calculator_client.py:91} INFO - 4.673962 seconds to join all threads for get_breakdown().\n",
      "[2018-01-07 19:21:01,574] {calculator_client.py:101} INFO - 3.2e-05 seconds to combine results for get_breakdown().\n"
     ]
    },
    {
     "name": "stdout",
     "output_type": "stream",
     "text": [
      "\n",
      "10 responses returned"
     ]
    },
    {
     "name": "stderr",
     "output_type": "stream",
     "text": [
      "[2018-01-07 19:21:01,590] {calculator_client.py:82} INFO - 0.014881 seconds to start all threads for get_breakdown().\n",
      "[2018-01-07 19:21:07,620] {calculator_client.py:91} INFO - 6.026273 seconds to join all threads for get_breakdown().\n",
      "[2018-01-07 19:21:07,621] {calculator_client.py:101} INFO - 4.1e-05 seconds to combine results for get_breakdown().\n"
     ]
    },
    {
     "name": "stdout",
     "output_type": "stream",
     "text": [
      "\n",
      "12 responses returned"
     ]
    },
    {
     "name": "stderr",
     "output_type": "stream",
     "text": [
      "[2018-01-07 19:21:07,641] {calculator_client.py:82} INFO - 0.01966 seconds to start all threads for get_breakdown().\n",
      "[2018-01-07 19:21:14,223] {calculator_client.py:91} INFO - 6.579422 seconds to join all threads for get_breakdown().\n",
      "[2018-01-07 19:21:14,224] {calculator_client.py:101} INFO - 4.9e-05 seconds to combine results for get_breakdown().\n"
     ]
    },
    {
     "name": "stdout",
     "output_type": "stream",
     "text": [
      "\n",
      "14 responses returned"
     ]
    },
    {
     "name": "stderr",
     "output_type": "stream",
     "text": [
      "[2018-01-07 19:21:14,252] {calculator_client.py:82} INFO - 0.027609 seconds to start all threads for get_breakdown().\n",
      "[2018-01-07 19:21:21,783] {calculator_client.py:91} INFO - 7.516233 seconds to join all threads for get_breakdown().\n",
      "[2018-01-07 19:21:21,783] {calculator_client.py:101} INFO - 6.8e-05 seconds to combine results for get_breakdown().\n"
     ]
    },
    {
     "name": "stdout",
     "output_type": "stream",
     "text": [
      "\n",
      "16 responses returned"
     ]
    },
    {
     "name": "stderr",
     "output_type": "stream",
     "text": [
      "[2018-01-07 19:21:21,828] {calculator_client.py:82} INFO - 0.04384 seconds to start all threads for get_breakdown().\n",
      "[2018-01-07 19:21:28,739] {calculator_client.py:91} INFO - 6.858876 seconds to join all threads for get_breakdown().\n",
      "[2018-01-07 19:21:28,740] {calculator_client.py:101} INFO - 6.1e-05 seconds to combine results for get_breakdown().\n"
     ]
    },
    {
     "name": "stdout",
     "output_type": "stream",
     "text": [
      "\n",
      "18 responses returned"
     ]
    },
    {
     "name": "stderr",
     "output_type": "stream",
     "text": [
      "[2018-01-07 19:21:28,768] {calculator_client.py:82} INFO - 0.027342 seconds to start all threads for get_breakdown().\n",
      "[2018-01-07 19:21:35,262] {calculator_client.py:91} INFO - 6.447226 seconds to join all threads for get_breakdown().\n",
      "[2018-01-07 19:21:35,263] {calculator_client.py:101} INFO - 6.3e-05 seconds to combine results for get_breakdown().\n"
     ]
    },
    {
     "name": "stdout",
     "output_type": "stream",
     "text": [
      "\n",
      "20 responses returned"
     ]
    },
    {
     "name": "stderr",
     "output_type": "stream",
     "text": [
      "[2018-01-07 19:21:35,351] {calculator_client.py:82} INFO - 0.087269 seconds to start all threads for get_breakdown().\n",
      "[2018-01-07 19:21:42,338] {calculator_client.py:91} INFO - 6.946862 seconds to join all threads for get_breakdown().\n",
      "[2018-01-07 19:21:42,339] {calculator_client.py:101} INFO - 5.7e-05 seconds to combine results for get_breakdown().\n"
     ]
    },
    {
     "name": "stdout",
     "output_type": "stream",
     "text": [
      "\n",
      "22 responses returned"
     ]
    },
    {
     "name": "stderr",
     "output_type": "stream",
     "text": [
      "[2018-01-07 19:21:42,421] {calculator_client.py:82} INFO - 0.081062 seconds to start all threads for get_breakdown().\n",
      "[2018-01-07 19:21:48,929] {calculator_client.py:91} INFO - 6.490976 seconds to join all threads for get_breakdown().\n",
      "[2018-01-07 19:21:48,929] {calculator_client.py:101} INFO - 6.4e-05 seconds to combine results for get_breakdown().\n"
     ]
    },
    {
     "name": "stdout",
     "output_type": "stream",
     "text": [
      "\n",
      "24 responses returned"
     ]
    },
    {
     "name": "stderr",
     "output_type": "stream",
     "text": [
      "[2018-01-07 19:21:49,103] {calculator_client.py:82} INFO - 0.172411 seconds to start all threads for get_breakdown().\n",
      "[2018-01-07 19:21:55,346] {calculator_client.py:91} INFO - 6.208292 seconds to join all threads for get_breakdown().\n",
      "[2018-01-07 19:21:55,347] {calculator_client.py:101} INFO - 7.5e-05 seconds to combine results for get_breakdown().\n"
     ]
    },
    {
     "name": "stdout",
     "output_type": "stream",
     "text": [
      "\n",
      "26 responses returned"
     ]
    },
    {
     "name": "stderr",
     "output_type": "stream",
     "text": [
      "[2018-01-07 19:21:55,454] {calculator_client.py:82} INFO - 0.106128 seconds to start all threads for get_breakdown().\n",
      "[2018-01-07 19:22:02,403] {calculator_client.py:91} INFO - 6.899914 seconds to join all threads for get_breakdown().\n",
      "[2018-01-07 19:22:02,403] {calculator_client.py:101} INFO - 0.000124 seconds to combine results for get_breakdown().\n"
     ]
    },
    {
     "name": "stdout",
     "output_type": "stream",
     "text": [
      "\n",
      "28 responses returned\n",
      "time: 1min 21s\n"
     ]
    }
   ],
   "source": [
    "# It seems like\n",
    "#\n",
    "# (a) the time it takes to issue threads increases linearly; and\n",
    "# (b) the time it takes for the last thread to finish is about 5 seconds all the time. \n",
    "for num_people in range(2, 15):\n",
    "    responses = client.get_breakdown(uids[:num_people], pids)\n",
    "\n",
    "    print '{} responses returned'.format(len(responses))"
   ]
  },
  {
   "cell_type": "code",
   "execution_count": 26,
   "metadata": {
    "collapsed": false,
    "scrolled": true
   },
   "outputs": [
    {
     "name": "stderr",
     "output_type": "stream",
     "text": [
      "[2018-01-07 19:23:24,159] {calculator_client.py:82} INFO - 81.750385 seconds to start all threads for get_breakdown().\n",
      "[2018-01-07 19:23:31,654] {calculator_client.py:91} INFO - 7.470018 seconds to join all threads for get_breakdown().\n",
      "[2018-01-07 19:23:31,660] {calculator_client.py:101} INFO - 0.005322 seconds to combine results for get_breakdown().\n"
     ]
    },
    {
     "name": "stdout",
     "output_type": "stream",
     "text": [
      "2000 responses returned\n",
      "time: 1min 29s\n"
     ]
    }
   ],
   "source": [
    "# Let's try something larger:\n",
    "responses = client.get_breakdown(uids, pids)\n",
    "\n",
    "print '{} responses returned'.format(len(responses))"
   ]
  },
  {
   "cell_type": "markdown",
   "metadata": {},
   "source": [
    "# Test Batch Calculation"
   ]
  },
  {
   "cell_type": "code",
   "execution_count": 27,
   "metadata": {
    "collapsed": false
   },
   "outputs": [
    {
     "name": "stdout",
     "output_type": "stream",
     "text": [
      "time: 682 µs\n"
     ]
    }
   ],
   "source": [
    "# uids = s3.read_json('s3n://picwell.sandbox.medicare/samples/philadelphia-2015')\n",
    "\n",
    "# print '{} uids read'.format(len(uids))"
   ]
  },
  {
   "cell_type": "code",
   "execution_count": 28,
   "metadata": {
    "collapsed": false
   },
   "outputs": [
    {
     "name": "stdout",
     "output_type": "stream",
     "text": [
      "time: 1.05 ms\n"
     ]
    }
   ],
   "source": [
    "# uids[:10]"
   ]
  },
  {
   "cell_type": "code",
   "execution_count": 29,
   "metadata": {
    "collapsed": false
   },
   "outputs": [
    {
     "name": "stdout",
     "output_type": "stream",
     "text": [
      "time: 881 µs\n"
     ]
    }
   ],
   "source": [
    "# requests_per_second = 100\n",
    "\n",
    "# for uid in uids:\n",
    "# #     client.calculate_async(uid, months=['01'])\n",
    "#     client.calculate_async(uid)\n",
    "#     time.sleep(1.0/requests_per_second)  "
   ]
  },
  {
   "cell_type": "code",
   "execution_count": null,
   "metadata": {
    "collapsed": true
   },
   "outputs": [],
   "source": []
  }
 ],
 "metadata": {
  "kernelspec": {
   "display_name": "Python 2",
   "language": "python",
   "name": "python2"
  },
  "language_info": {
   "codemirror_mode": {
    "name": "ipython",
    "version": 2
   },
   "file_extension": ".py",
   "mimetype": "text/x-python",
   "name": "python",
   "nbconvert_exporter": "python",
   "pygments_lexer": "ipython2",
   "version": "2.7.10"
  }
 },
 "nbformat": 4,
 "nbformat_minor": 0
}
