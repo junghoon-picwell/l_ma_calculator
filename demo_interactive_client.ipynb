{
 "cells": [
  {
   "cell_type": "code",
   "execution_count": 1,
   "metadata": {
    "collapsed": true
   },
   "outputs": [],
   "source": [
    "%load_ext autotime"
   ]
  },
  {
   "cell_type": "code",
   "execution_count": 2,
   "metadata": {
    "collapsed": false
   },
   "outputs": [
    {
     "name": "stdout",
     "output_type": "stream",
     "text": [
      "time: 493 ms\n"
     ]
    }
   ],
   "source": [
    "from etltools import s3\n",
    "from lambda_client import (\n",
    "    ClaimsClient,\n",
    "    BenefitsClient,\n",
    "    CalculatorClient,\n",
    "    run_batch_on_schedule,\n",
    ")\n",
    "from lambda_client.config_info import ConfigInfo\n",
    "\n",
    "aws_info = {\n",
    "    'profile_name': 'sandbox',\n",
    "}"
   ]
  },
  {
   "cell_type": "code",
   "execution_count": 3,
   "metadata": {
    "collapsed": false
   },
   "outputs": [
    {
     "name": "stdout",
     "output_type": "stream",
     "text": [
      "1000 UIDs read\n",
      "time: 207 ms\n"
     ]
    }
   ],
   "source": [
    "uids = s3.read_json('s3://picwell.sandbox.medicare/samples/philadelphia-2015-1k-sample')\n",
    "\n",
    "print '{} UIDs read'.format(len(uids))"
   ]
  },
  {
   "cell_type": "code",
   "execution_count": 4,
   "metadata": {
    "collapsed": false
   },
   "outputs": [
    {
     "name": "stdout",
     "output_type": "stream",
     "text": [
      "268 plans identified\n",
      "time: 368 ms\n"
     ]
    }
   ],
   "source": [
    "benefits_client = BenefitsClient(aws_info)\n",
    "plans = benefits_client.get_by_state(['06'])  # CA\n",
    "pids = [plan['picwell_id'] for plan in plans]\n",
    "\n",
    "print '{} plans identified'.format(len(pids))"
   ]
  },
  {
   "cell_type": "code",
   "execution_count": 5,
   "metadata": {
    "collapsed": false
   },
   "outputs": [
    {
     "name": "stdout",
     "output_type": "stream",
     "text": [
      "time: 1.2 ms\n"
     ]
    }
   ],
   "source": [
    "configs = ConfigInfo('lambda_client/lambda.cfg')"
   ]
  },
  {
   "cell_type": "markdown",
   "metadata": {},
   "source": [
    "# Breakdown Demo"
   ]
  },
  {
   "cell_type": "code",
   "execution_count": 6,
   "metadata": {
    "collapsed": false
   },
   "outputs": [
    {
     "name": "stdout",
     "output_type": "stream",
     "text": [
      "time: 735 µs\n"
     ]
    }
   ],
   "source": [
    "client = CalculatorClient(aws_info)"
   ]
  },
  {
   "cell_type": "code",
   "execution_count": 7,
   "metadata": {
    "collapsed": false
   },
   "outputs": [
    {
     "name": "stdout",
     "output_type": "stream",
     "text": [
      "2000 responses returned\n",
      "time: 20.2 s\n"
     ]
    }
   ],
   "source": [
    "responses = client.get_breakdown(uids, pids[:2])\n",
    "\n",
    "print '{} responses returned'.format(len(responses))"
   ]
  },
  {
   "cell_type": "code",
   "execution_count": 8,
   "metadata": {
    "collapsed": false
   },
   "outputs": [
    {
     "name": "stdout",
     "output_type": "stream",
     "text": [
      "2000 responses returned\n",
      "time: 18 s\n"
     ]
    }
   ],
   "source": [
    "responses = client.get_breakdown(uids, pids[:2], use_s3_for_claims=False, max_calculated_uids=100)\n",
    "\n",
    "print '{} responses returned'.format(len(responses))"
   ]
  },
  {
   "cell_type": "markdown",
   "metadata": {},
   "source": [
    "# Scenario Similar to Commercial"
   ]
  },
  {
   "cell_type": "code",
   "execution_count": 9,
   "metadata": {
    "collapsed": false
   },
   "outputs": [
    {
     "name": "stdout",
     "output_type": "stream",
     "text": [
      "80400 responses returned\n",
      "time: 19.2 s\n"
     ]
    }
   ],
   "source": [
    "responses = client.get_oop(uids[:300], pids, use_s3_for_claims=False)\n",
    "\n",
    "print '{} responses returned'.format(len(responses))"
   ]
  },
  {
   "cell_type": "markdown",
   "metadata": {},
   "source": [
    "# S3 versus DynamoDB as Claims Storage"
   ]
  },
  {
   "cell_type": "code",
   "execution_count": 10,
   "metadata": {
    "collapsed": false
   },
   "outputs": [
    {
     "name": "stdout",
     "output_type": "stream",
     "text": [
      "claims for 300 people read\n",
      "time: 49.6 s\n"
     ]
    }
   ],
   "source": [
    "# Use S3:\n",
    "claims_client = ClaimsClient(aws_info, \n",
    "                             s3_bucket=configs.claims_bucket,\n",
    "                             s3_path=configs.claims_path)\n",
    "people = claims_client.get(uids[:300])\n",
    "\n",
    "print 'claims for {} people read'.format(len(people))"
   ]
  },
  {
   "cell_type": "code",
   "execution_count": 11,
   "metadata": {
    "collapsed": false
   },
   "outputs": [
    {
     "name": "stdout",
     "output_type": "stream",
     "text": [
      "['medical_claims', 'uid']\n"
     ]
    },
    {
     "data": {
      "text/plain": [
       "{'medical_claims': [{'admitted': '2014-04-03',\n",
       "   'benefit_category': 16,\n",
       "   'cost': 148.0,\n",
       "   'discharged': '2014-04-03',\n",
       "   'length_of_stay': 1},\n",
       "  {'admitted': '2014-05-02',\n",
       "   'benefit_category': 16,\n",
       "   'cost': 74.55,\n",
       "   'discharged': '2014-05-02',\n",
       "   'length_of_stay': 1},\n",
       "  {'admitted': '2014-05-05',\n",
       "   'benefit_category': 16,\n",
       "   'cost': 104.39,\n",
       "   'discharged': '2014-05-05',\n",
       "   'length_of_stay': 1},\n",
       "  {'admitted': '2014-05-13',\n",
       "   'benefit_category': 16,\n",
       "   'cost': 210.12,\n",
       "   'discharged': '2014-05-13',\n",
       "   'length_of_stay': 1},\n",
       "  {'admitted': '2014-05-19',\n",
       "   'benefit_category': 11,\n",
       "   'cost': 442.2,\n",
       "   'discharged': '2014-05-19',\n",
       "   'length_of_stay': 1}],\n",
       " 'uid': '1302895801'}"
      ]
     },
     "execution_count": 11,
     "metadata": {},
     "output_type": "execute_result"
    },
    {
     "name": "stdout",
     "output_type": "stream",
     "text": [
      "time: 14.9 ms\n"
     ]
    }
   ],
   "source": [
    "person = people[0]\n",
    "print person.keys()\n",
    "{\n",
    "    'uid': person['uid'],\n",
    "    'medical_claims': person['medical_claims'][:5]\n",
    "}"
   ]
  },
  {
   "cell_type": "code",
   "execution_count": 12,
   "metadata": {
    "collapsed": false
   },
   "outputs": [
    {
     "name": "stdout",
     "output_type": "stream",
     "text": [
      "claims for 300 people read\n",
      "time: 3.16 s\n"
     ]
    }
   ],
   "source": [
    "# Use DynamoDB:\n",
    "claims_client = ClaimsClient(aws_info, \n",
    "                             table_name=configs.claims_table)\n",
    "people = claims_client.get(uids[:300])\n",
    "\n",
    "print 'claims for {} people read'.format(len(people))"
   ]
  },
  {
   "cell_type": "code",
   "execution_count": null,
   "metadata": {
    "collapsed": true
   },
   "outputs": [],
   "source": []
  }
 ],
 "metadata": {
  "kernelspec": {
   "display_name": "Python 2",
   "language": "python",
   "name": "python2"
  },
  "language_info": {
   "codemirror_mode": {
    "name": "ipython",
    "version": 2
   },
   "file_extension": ".py",
   "mimetype": "text/x-python",
   "name": "python",
   "nbconvert_exporter": "python",
   "pygments_lexer": "ipython2",
   "version": "2.7.10"
  }
 },
 "nbformat": 4,
 "nbformat_minor": 0
}
